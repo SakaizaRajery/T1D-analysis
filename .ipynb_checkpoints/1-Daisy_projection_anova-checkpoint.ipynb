{
 "cells": [
  {
   "cell_type": "markdown",
   "metadata": {},
   "source": [
    "# DAISY RNAseq data projection\n",
    "\n",
    "This notebook project RNA sequencing data into a Latent Space representing gene modules that are co expressed given various conditions, cell types, ... \n",
    "\n",
    "Sakaiza Rasolofomanana Rajery\n",
    "\n",
    "12/19/2024"
   ]
  },
  {
   "cell_type": "markdown",
   "metadata": {},
   "source": [
    "## load packages"
   ]
  },
  {
   "cell_type": "code",
   "execution_count": 1,
   "metadata": {},
   "outputs": [
    {
     "name": "stderr",
     "output_type": "stream",
     "text": [
      "── \u001b[1mAttaching core tidyverse packages\u001b[22m ────────────────────────────────────────────────────────────────────────────────────────────────────────────────────────────────────────────────────────────── tidyverse 2.0.0 ──\n",
      "\u001b[32m✔\u001b[39m \u001b[34mdplyr    \u001b[39m 1.1.4     \u001b[32m✔\u001b[39m \u001b[34mreadr    \u001b[39m 2.1.5\n",
      "\u001b[32m✔\u001b[39m \u001b[34mforcats  \u001b[39m 1.0.0     \u001b[32m✔\u001b[39m \u001b[34mstringr  \u001b[39m 1.5.1\n",
      "\u001b[32m✔\u001b[39m \u001b[34mggplot2  \u001b[39m 3.5.1     \u001b[32m✔\u001b[39m \u001b[34mtibble   \u001b[39m 3.2.1\n",
      "\u001b[32m✔\u001b[39m \u001b[34mlubridate\u001b[39m 1.9.4     \u001b[32m✔\u001b[39m \u001b[34mtidyr    \u001b[39m 1.3.1\n",
      "\u001b[32m✔\u001b[39m \u001b[34mpurrr    \u001b[39m 1.0.2     \n",
      "── \u001b[1mConflicts\u001b[22m ──────────────────────────────────────────────────────────────────────────────────────────────────────────────────────────────────────────────────────────────────────────────── tidyverse_conflicts() ──\n",
      "\u001b[31m✖\u001b[39m \u001b[34mdplyr\u001b[39m::\u001b[32mfilter()\u001b[39m masks \u001b[34mstats\u001b[39m::filter()\n",
      "\u001b[31m✖\u001b[39m \u001b[34mdplyr\u001b[39m::\u001b[32mlag()\u001b[39m    masks \u001b[34mstats\u001b[39m::lag()\n",
      "\u001b[36mℹ\u001b[39m Use the conflicted package (\u001b[3m\u001b[34m<http://conflicted.r-lib.org/>\u001b[39m\u001b[23m) to force all conflicts to become errors\n",
      "Loading required package: usethis\n",
      "\n",
      "Loading required package: RColorBrewer\n",
      "\n",
      "Loading required package: gplots\n",
      "\n",
      "\n",
      "Attaching package: ‘gplots’\n",
      "\n",
      "\n",
      "The following object is masked from ‘package:stats’:\n",
      "\n",
      "    lowess\n",
      "\n",
      "\n",
      "Loading required package: pheatmap\n",
      "\n",
      "Loading required package: glmnet\n",
      "\n",
      "Loading required package: Matrix\n",
      "\n",
      "\n",
      "Attaching package: ‘Matrix’\n",
      "\n",
      "\n",
      "The following objects are masked from ‘package:tidyr’:\n",
      "\n",
      "    expand, pack, unpack\n",
      "\n",
      "\n",
      "Loaded glmnet 4.1-8\n",
      "\n",
      "Loading required package: knitr\n",
      "\n",
      "Loading required package: rsvd\n",
      "\n",
      "Loading required package: qvalue\n",
      "\n"
     ]
    }
   ],
   "source": [
    "library(tidyverse,warn.conflicts=FALSE)\n",
    "library(reticulate)\n",
    "library(MASS,warn.conflicts=FALSE)\n",
    "library(devtools,warn.conflicts=FALSE)\n",
    "library(PLIER,warn.conflicts=FALSE)\n",
    "#install_github(\"wgmao/PLIER\")"
   ]
  },
  {
   "cell_type": "code",
   "execution_count": 2,
   "metadata": {},
   "outputs": [],
   "source": [
    "# srouce plier_util to get function GetnewdataB \n",
    "source('scripts/plier_util.R')"
   ]
  },
  {
   "cell_type": "code",
   "execution_count": 3,
   "metadata": {},
   "outputs": [],
   "source": [
    "# use GetOrderedRowNormEM function from Marc to order matrices\n",
    "GetOrderedRowNormEM <- function(exprs.mat, plier.model) {\n",
    "\n",
    "    require(PLIER)\n",
    "    \n",
    "    # Z-score normalization\n",
    "    exprs.norm <- rowNorm(exprs.mat)\n",
    "    exprs.norm <- na.omit(exprs.norm)\n",
    "    \n",
    "    z.mat <- plier.model$Z\n",
    "    genes.in.model <- rownames(z.mat)\n",
    "    genes_in_exprs <- rownames(exprs.norm)\n",
    "    \n",
    "    # Find the common genes\n",
    "    common_genes <- intersect(genes_in_exprs, genes.in.model)\n",
    "    \n",
    "    # Filter the matrices based on the common genes\n",
    "    exprs.norm.filtered <- exprs.norm[common_genes, , drop = FALSE]\n",
    "    z.mat.filtered <- z.mat[common_genes, , drop = FALSE]\n",
    "        \n",
    "  # Update the plier.model with the new Z matrix\n",
    "  plier.model$Z <- z.mat.filtered\n",
    "\n",
    "  # Return the updated plier.model and the filtered exprs.norm\n",
    "  list(plier.model = plier.model, exprs.norm.filtered = exprs.norm.filtered)\n",
    "\n",
    "}"
   ]
  },
  {
   "cell_type": "markdown",
   "metadata": {},
   "source": [
    "## load data: RNA seq, Matrices, name to ID, metada"
   ]
  },
  {
   "cell_type": "markdown",
   "metadata": {},
   "source": [
    "### RNA_seq data"
   ]
  },
  {
   "cell_type": "code",
   "execution_count": 6,
   "metadata": {},
   "outputs": [
    {
     "ename": "ERROR",
     "evalue": "Error: object 'RNAseq_1_res' not found\n",
     "output_type": "error",
     "traceback": [
      "Error: object 'RNAseq_1_res' not found\nTraceback:\n",
      "1. .handleSimpleError(function (cnd) \n . {\n .     watcher$capture_plot_and_output()\n .     cnd <- sanitize_call(cnd)\n .     watcher$push(cnd)\n .     switch(on_error, continue = invokeRestart(\"eval_continue\"), \n .         stop = invokeRestart(\"eval_stop\"), error = invokeRestart(\"eval_error\", \n .             cnd))\n . }, \"object 'RNAseq_1_res' not found\", base::quote(eval(expr, \n .     envir)))"
     ]
    }
   ],
   "source": [
    "# path to rna dataset\n",
    "path_to_rna <- \"/Users/rasolofs/Library/CloudStorage/OneDrive-TheUniversityofColoradoDenver/DAISY RNA Phenoplier\"\n",
    "#raw value at visit 1 and 2\n",
    "#RNAseq_1_Raw <- readRDS(\"RNA_Visit_1.RDS\")\n",
    "#RNAseq_2_Raw <- readRDS(\"RNA_Visit_2.RDS\")\n",
    "\n",
    "#r-log adjusted for age, sex and ancestry at visit 1 and 2\n",
    "RNAseq_1_res <- as.matrix(readRDS(paste0(path_to_rna,\"/RNA_Visit_2_Residuals.RDS\")))\n",
    "#RNAseq_2_res <- as.matrix(readRDS(paste0(path_to_rna,\"/RNA_Visit_1_Residuals.RDS\")))\n",
    "\n",
    "#RNA_annot <- readRDS(\"Expression_Annotation.RDS\")\n",
    "#RNA_pheno <- read_csv(\"DAISY_RNASeq_Phenotype_Deidentified.csv\")\n",
    "\n",
    "str(RNAseq_1_res)\n",
    "head(RNAseq_1_res,5)\n",
    "dim(RNAseq_1_res)"
   ]
  },
  {
   "cell_type": "markdown",
   "metadata": {},
   "source": [
    "### name to ensemble_id file"
   ]
  },
  {
   "cell_type": "code",
   "execution_count": null,
   "metadata": {},
   "outputs": [],
   "source": [
    "#load pickle data to convert gene name to EnsemblID\n",
    "py_data <- py_load_object(\"data/input/genes_mapping_id_to_name.pkl\")\n",
    "data_t <- data.frame(t(data.frame(py_data)))\n",
    "colnames(data_t) <- \"gene\"\n",
    "name_to_ID <- rownames_to_column(data_t, var = \"EnsemblID\")\n",
    "head(name_to_ID,5)"
   ]
  },
  {
   "cell_type": "markdown",
   "metadata": {},
   "source": [
    "### metadata file"
   ]
  },
  {
   "cell_type": "code",
   "execution_count": null,
   "metadata": {},
   "outputs": [],
   "source": [
    "# Import model metadata file to re-build plier model\n",
    "metadata <- readRDS(\"data/input/multiplier_model_metadata.rds\")\n",
    "print(metadata)"
   ]
  },
  {
   "cell_type": "markdown",
   "metadata": {},
   "source": [
    "### Multiplier matrices"
   ]
  },
  {
   "cell_type": "code",
   "execution_count": null,
   "metadata": {},
   "outputs": [],
   "source": [
    "# load matrices to rebuild plier model\n",
    "# LV x samples\n",
    "b_model <- readRDS(\"data/input/multiplier_model_b.rds\")\n",
    "head(b_model,5)\n",
    "# gene x LV\n",
    "z_model <- readRDS(\"data/input/multiplier_model_z.rds\")\n",
    "head(z_model,5)"
   ]
  },
  {
   "cell_type": "markdown",
   "metadata": {},
   "source": [
    "## label z_matrix with ensemblID instead of gene name"
   ]
  },
  {
   "cell_type": "code",
   "execution_count": null,
   "metadata": {},
   "outputs": [],
   "source": [
    "# convert matrix to dataframe with gene as rownames\n",
    "z_df <- cbind(gene = rownames(z_model), as.data.frame(z_model))\n",
    "# merge dataframe with 'name_to_ID' (file containing name and ensembleID) by gene\n",
    "EnsID_df <- merge(z_df, name_to_ID, by = \"gene\")\n",
    "#set rownames of new dataframe to ensembleID\n",
    "rownames(EnsID_df) <- EnsID_df$EnsemblID\n",
    "#remove gene and ensembleID column\n",
    "z_matrix <- as.matrix(EnsID_df[, !(colnames(EnsID_df) %in% c(\"gene\", \"EnsemblID\"))])\n",
    "\n",
    "str(z_matrix)\n",
    "head(z_matrix,5)\n",
    "dim(z_matrix)"
   ]
  },
  {
   "cell_type": "code",
   "execution_count": null,
   "metadata": {},
   "outputs": [],
   "source": [
    "# rebuild plier model with z, b, L1, L2, L3\n",
    "plier.model <- list(Z = z_matrix, B =b_model, L1 = metadata$L1, L2 = metadata$L2, L3 = metadata$L3)"
   ]
  },
  {
   "cell_type": "code",
   "execution_count": null,
   "metadata": {},
   "outputs": [],
   "source": [
    "# Check all variables are loaded\n",
    "ls()"
   ]
  },
  {
   "cell_type": "code",
   "execution_count": null,
   "metadata": {},
   "outputs": [],
   "source": [
    "#order gene expression matrix to match plier model\n",
    "ordered_mat <- GetOrderedRowNormEM(RNAseq_1_res, plier.model)\n",
    "\n",
    "#extract gene_expressiom matrix\n",
    "ordered_DAISY_gen_expr <- ordered_mat$exprs.norm.filtered\n",
    "\n",
    "# extract plier model matrix\n",
    "ordered_model <- ordered_mat$plier.model"
   ]
  },
  {
   "cell_type": "code",
   "execution_count": null,
   "metadata": {},
   "outputs": [],
   "source": [
    "#project gen expression matrix into plier model\n",
    "projection <- GetNewDataB(ordered_DAISY_gen_expr,ordered_model)"
   ]
  },
  {
   "cell_type": "code",
   "execution_count": null,
   "metadata": {},
   "outputs": [],
   "source": [
    "#save projection\n",
    "df_projection  <- as.data.frame(projection)\n",
    "saveRDS(df_projection,\"output/projection_1.rds\")"
   ]
  },
  {
   "cell_type": "code",
   "execution_count": null,
   "metadata": {},
   "outputs": [],
   "source": [
    "dim(df_projection)"
   ]
  },
  {
   "cell_type": "code",
   "execution_count": null,
   "metadata": {},
   "outputs": [],
   "source": [
    "head(df_projection, 10)"
   ]
  }
 ],
 "metadata": {
  "kernelspec": {
   "display_name": "R [conda env:T1D_Pheno] *",
   "language": "R",
   "name": "conda-env-T1D_Pheno-r"
  },
  "language_info": {
   "codemirror_mode": "r",
   "file_extension": ".r",
   "mimetype": "text/x-r-source",
   "name": "R",
   "pygments_lexer": "r",
   "version": "4.4.2"
  }
 },
 "nbformat": 4,
 "nbformat_minor": 4
}
