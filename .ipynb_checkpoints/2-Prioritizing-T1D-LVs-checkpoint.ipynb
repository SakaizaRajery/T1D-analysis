{
 "cells": [
  {
   "cell_type": "markdown",
   "id": "b51f3e1c-bbbb-4a62-bf48-1ff51e89843e",
   "metadata": {},
   "source": [
    "# Analysis 1\n",
    "\n",
    "- *Isolate 17 LVs associate to T1D related traits*\n",
    "- What are these LVs telling us\n",
    "- *Look at 17 LVs are expressed in RNAseq from Whole blood* \n",
    "- Compute 17 daisy anova using LVs from UKbiobank and emerge\n",
    "- What are these LVs telling us in three group \n",
    "- Look at signatures from the three groups within LVs of interest \n",
    "- look at the boxplot for top 17 LVs (UK biobank)"
   ]
  },
  {
   "cell_type": "markdown",
   "id": "dd597d15-0182-497b-8eaa-b4dcd3ef9a1d",
   "metadata": {},
   "source": [
    "## load packages "
   ]
  },
  {
   "cell_type": "code",
   "execution_count": 1,
   "id": "924549cf-a0dd-4459-8435-bf0e2e9dab7d",
   "metadata": {},
   "outputs": [
    {
     "name": "stderr",
     "output_type": "stream",
     "text": [
      "── \u001b[1mAttaching core tidyverse packages\u001b[22m ──────────────────────── tidyverse 2.0.0 ──\n",
      "\u001b[32m✔\u001b[39m \u001b[34mdplyr    \u001b[39m 1.1.4     \u001b[32m✔\u001b[39m \u001b[34mreadr    \u001b[39m 2.1.5\n",
      "\u001b[32m✔\u001b[39m \u001b[34mforcats  \u001b[39m 1.0.0     \u001b[32m✔\u001b[39m \u001b[34mstringr  \u001b[39m 1.5.1\n",
      "\u001b[32m✔\u001b[39m \u001b[34mggplot2  \u001b[39m 3.5.1     \u001b[32m✔\u001b[39m \u001b[34mtibble   \u001b[39m 3.2.1\n",
      "\u001b[32m✔\u001b[39m \u001b[34mlubridate\u001b[39m 1.9.4     \u001b[32m✔\u001b[39m \u001b[34mtidyr    \u001b[39m 1.3.1\n",
      "\u001b[32m✔\u001b[39m \u001b[34mpurrr    \u001b[39m 1.0.2     \n",
      "── \u001b[1mConflicts\u001b[22m ────────────────────────────────────────── tidyverse_conflicts() ──\n",
      "\u001b[31m✖\u001b[39m \u001b[34mdplyr\u001b[39m::\u001b[32mfilter()\u001b[39m masks \u001b[34mstats\u001b[39m::filter()\n",
      "\u001b[31m✖\u001b[39m \u001b[34mdplyr\u001b[39m::\u001b[32mlag()\u001b[39m    masks \u001b[34mstats\u001b[39m::lag()\n",
      "\u001b[36mℹ\u001b[39m Use the conflicted package (\u001b[3m\u001b[34m<http://conflicted.r-lib.org/>\u001b[39m\u001b[23m) to force all conflicts to become errors\n",
      "\n",
      "Attaching package: ‘jsonlite’\n",
      "\n",
      "\n",
      "The following object is masked from ‘package:purrr’:\n",
      "\n",
      "    flatten\n",
      "\n",
      "\n"
     ]
    }
   ],
   "source": [
    "library(tidyverse, warn.conflicts=FALSE)\n",
    "library(\"ggpubr\")\n",
    "library(reticulate)\n",
    "library(jsonlite)"
   ]
  },
  {
   "cell_type": "markdown",
   "id": "5cf95bc7-59a8-461f-92b5-282e2e971170",
   "metadata": {},
   "source": [
    "## LV's expression in DAISY data grouped by IA progression pattern"
   ]
  },
  {
   "cell_type": "markdown",
   "id": "49a0bdd4-8219-4c9d-849f-d728b72cf3e2",
   "metadata": {},
   "source": [
    "### Importing Projected data at time point 1 and 2 and substracting LVs"
   ]
  },
  {
   "cell_type": "code",
   "execution_count": 11,
   "id": "15ce343e-f45a-41e7-949e-be51e15a56ee",
   "metadata": {},
   "outputs": [
    {
     "data": {
      "text/html": [
       "<table class=\"dataframe\">\n",
       "<caption>A data.frame: 5 × 989</caption>\n",
       "<thead>\n",
       "\t<tr><th></th><th scope=col>ID</th><th scope=col>LV1</th><th scope=col>LV2</th><th scope=col>LV3</th><th scope=col>LV4</th><th scope=col>LV5</th><th scope=col>LV6</th><th scope=col>LV7</th><th scope=col>LV8</th><th scope=col>LV9</th><th scope=col>⋯</th><th scope=col>LV979</th><th scope=col>LV980</th><th scope=col>LV981</th><th scope=col>LV982</th><th scope=col>LV983</th><th scope=col>LV984</th><th scope=col>LV985</th><th scope=col>LV986</th><th scope=col>LV987</th><th scope=col>Group</th></tr>\n",
       "\t<tr><th></th><th scope=col>&lt;chr&gt;</th><th scope=col>&lt;dbl&gt;</th><th scope=col>&lt;dbl&gt;</th><th scope=col>&lt;dbl&gt;</th><th scope=col>&lt;dbl&gt;</th><th scope=col>&lt;dbl&gt;</th><th scope=col>&lt;dbl&gt;</th><th scope=col>&lt;dbl&gt;</th><th scope=col>&lt;dbl&gt;</th><th scope=col>&lt;dbl&gt;</th><th scope=col>⋯</th><th scope=col>&lt;dbl&gt;</th><th scope=col>&lt;dbl&gt;</th><th scope=col>&lt;dbl&gt;</th><th scope=col>&lt;dbl&gt;</th><th scope=col>&lt;dbl&gt;</th><th scope=col>&lt;dbl&gt;</th><th scope=col>&lt;dbl&gt;</th><th scope=col>&lt;dbl&gt;</th><th scope=col>&lt;dbl&gt;</th><th scope=col>&lt;ord&gt;</th></tr>\n",
       "</thead>\n",
       "<tbody>\n",
       "\t<tr><th scope=row>1</th><td>00041-0</td><td> 0.11140203</td><td>-0.021818790</td><td>-0.0535675047</td><td>0.067776314</td><td>-0.004886417</td><td>-0.01349279</td><td>-0.21384901</td><td>-0.02506244</td><td>-0.02602336</td><td>⋯</td><td> 0.056442779</td><td> 0.031079155</td><td> 0.039551201</td><td>-0.003216641</td><td> 0.05876335</td><td>-0.1235162</td><td>-0.21851990</td><td> 0.002038538</td><td> 0.01719279</td><td>Maintainer</td></tr>\n",
       "\t<tr><th scope=row>2</th><td>00110-0</td><td>-0.07227066</td><td>-0.031820395</td><td>-0.0017124683</td><td>0.005697077</td><td> 0.001916463</td><td> 0.01898339</td><td> 0.20061505</td><td> 0.04795546</td><td> 0.01731360</td><td>⋯</td><td>-0.000887035</td><td>-0.040743388</td><td>-0.020157308</td><td>-0.009622277</td><td>-0.01772465</td><td>-0.2701976</td><td> 0.03313927</td><td> 0.022591122</td><td> 0.06483950</td><td>Reverter  </td></tr>\n",
       "\t<tr><th scope=row>3</th><td>00139-0</td><td>-0.06975536</td><td>-0.061082676</td><td>-0.0900765329</td><td>0.150849341</td><td>-0.078259462</td><td> 0.05815224</td><td>-0.03904118</td><td> 0.02301079</td><td>-0.06903941</td><td>⋯</td><td>-0.034678138</td><td>-0.005332622</td><td>-0.022895423</td><td> 0.014878154</td><td>-0.05049221</td><td>-0.1304244</td><td> 0.21384840</td><td> 0.008425512</td><td> 0.06776475</td><td>Reverter  </td></tr>\n",
       "\t<tr><th scope=row>4</th><td>00159-0</td><td>-0.07806625</td><td> 0.397310916</td><td>-0.0416671066</td><td>0.086283757</td><td> 0.015893750</td><td>-0.03211687</td><td> 0.09401872</td><td> 0.02830306</td><td>-0.06440271</td><td>⋯</td><td> 0.039194495</td><td>-0.006062143</td><td> 0.043149383</td><td> 0.048552636</td><td>-0.03130918</td><td>-0.4727951</td><td> 0.32350161</td><td>-0.087352049</td><td>-0.03400709</td><td>Maintainer</td></tr>\n",
       "\t<tr><th scope=row>5</th><td>00174-0</td><td>-0.06436926</td><td> 0.005807392</td><td>-0.0002256534</td><td>0.018971156</td><td>-0.014683138</td><td>-0.02381849</td><td>-0.08329137</td><td>-0.01727677</td><td> 0.00179197</td><td>⋯</td><td> 0.009958269</td><td>-0.016433316</td><td> 0.006428658</td><td>-0.008130357</td><td> 0.04461014</td><td> 0.1835539</td><td>-0.01664969</td><td> 0.010559217</td><td>-0.10689044</td><td>Progressor</td></tr>\n",
       "</tbody>\n",
       "</table>\n"
      ],
      "text/latex": [
       "A data.frame: 5 × 989\n",
       "\\begin{tabular}{r|lllllllllllllllllllll}\n",
       "  & ID & LV1 & LV2 & LV3 & LV4 & LV5 & LV6 & LV7 & LV8 & LV9 & ⋯ & LV979 & LV980 & LV981 & LV982 & LV983 & LV984 & LV985 & LV986 & LV987 & Group\\\\\n",
       "  & <chr> & <dbl> & <dbl> & <dbl> & <dbl> & <dbl> & <dbl> & <dbl> & <dbl> & <dbl> & ⋯ & <dbl> & <dbl> & <dbl> & <dbl> & <dbl> & <dbl> & <dbl> & <dbl> & <dbl> & <ord>\\\\\n",
       "\\hline\n",
       "\t1 & 00041-0 &  0.11140203 & -0.021818790 & -0.0535675047 & 0.067776314 & -0.004886417 & -0.01349279 & -0.21384901 & -0.02506244 & -0.02602336 & ⋯ &  0.056442779 &  0.031079155 &  0.039551201 & -0.003216641 &  0.05876335 & -0.1235162 & -0.21851990 &  0.002038538 &  0.01719279 & Maintainer\\\\\n",
       "\t2 & 00110-0 & -0.07227066 & -0.031820395 & -0.0017124683 & 0.005697077 &  0.001916463 &  0.01898339 &  0.20061505 &  0.04795546 &  0.01731360 & ⋯ & -0.000887035 & -0.040743388 & -0.020157308 & -0.009622277 & -0.01772465 & -0.2701976 &  0.03313927 &  0.022591122 &  0.06483950 & Reverter  \\\\\n",
       "\t3 & 00139-0 & -0.06975536 & -0.061082676 & -0.0900765329 & 0.150849341 & -0.078259462 &  0.05815224 & -0.03904118 &  0.02301079 & -0.06903941 & ⋯ & -0.034678138 & -0.005332622 & -0.022895423 &  0.014878154 & -0.05049221 & -0.1304244 &  0.21384840 &  0.008425512 &  0.06776475 & Reverter  \\\\\n",
       "\t4 & 00159-0 & -0.07806625 &  0.397310916 & -0.0416671066 & 0.086283757 &  0.015893750 & -0.03211687 &  0.09401872 &  0.02830306 & -0.06440271 & ⋯ &  0.039194495 & -0.006062143 &  0.043149383 &  0.048552636 & -0.03130918 & -0.4727951 &  0.32350161 & -0.087352049 & -0.03400709 & Maintainer\\\\\n",
       "\t5 & 00174-0 & -0.06436926 &  0.005807392 & -0.0002256534 & 0.018971156 & -0.014683138 & -0.02381849 & -0.08329137 & -0.01727677 &  0.00179197 & ⋯ &  0.009958269 & -0.016433316 &  0.006428658 & -0.008130357 &  0.04461014 &  0.1835539 & -0.01664969 &  0.010559217 & -0.10689044 & Progressor\\\\\n",
       "\\end{tabular}\n"
      ],
      "text/markdown": [
       "\n",
       "A data.frame: 5 × 989\n",
       "\n",
       "| <!--/--> | ID &lt;chr&gt; | LV1 &lt;dbl&gt; | LV2 &lt;dbl&gt; | LV3 &lt;dbl&gt; | LV4 &lt;dbl&gt; | LV5 &lt;dbl&gt; | LV6 &lt;dbl&gt; | LV7 &lt;dbl&gt; | LV8 &lt;dbl&gt; | LV9 &lt;dbl&gt; | ⋯ ⋯ | LV979 &lt;dbl&gt; | LV980 &lt;dbl&gt; | LV981 &lt;dbl&gt; | LV982 &lt;dbl&gt; | LV983 &lt;dbl&gt; | LV984 &lt;dbl&gt; | LV985 &lt;dbl&gt; | LV986 &lt;dbl&gt; | LV987 &lt;dbl&gt; | Group &lt;ord&gt; |\n",
       "|---|---|---|---|---|---|---|---|---|---|---|---|---|---|---|---|---|---|---|---|---|---|\n",
       "| 1 | 00041-0 |  0.11140203 | -0.021818790 | -0.0535675047 | 0.067776314 | -0.004886417 | -0.01349279 | -0.21384901 | -0.02506244 | -0.02602336 | ⋯ |  0.056442779 |  0.031079155 |  0.039551201 | -0.003216641 |  0.05876335 | -0.1235162 | -0.21851990 |  0.002038538 |  0.01719279 | Maintainer |\n",
       "| 2 | 00110-0 | -0.07227066 | -0.031820395 | -0.0017124683 | 0.005697077 |  0.001916463 |  0.01898339 |  0.20061505 |  0.04795546 |  0.01731360 | ⋯ | -0.000887035 | -0.040743388 | -0.020157308 | -0.009622277 | -0.01772465 | -0.2701976 |  0.03313927 |  0.022591122 |  0.06483950 | Reverter   |\n",
       "| 3 | 00139-0 | -0.06975536 | -0.061082676 | -0.0900765329 | 0.150849341 | -0.078259462 |  0.05815224 | -0.03904118 |  0.02301079 | -0.06903941 | ⋯ | -0.034678138 | -0.005332622 | -0.022895423 |  0.014878154 | -0.05049221 | -0.1304244 |  0.21384840 |  0.008425512 |  0.06776475 | Reverter   |\n",
       "| 4 | 00159-0 | -0.07806625 |  0.397310916 | -0.0416671066 | 0.086283757 |  0.015893750 | -0.03211687 |  0.09401872 |  0.02830306 | -0.06440271 | ⋯ |  0.039194495 | -0.006062143 |  0.043149383 |  0.048552636 | -0.03130918 | -0.4727951 |  0.32350161 | -0.087352049 | -0.03400709 | Maintainer |\n",
       "| 5 | 00174-0 | -0.06436926 |  0.005807392 | -0.0002256534 | 0.018971156 | -0.014683138 | -0.02381849 | -0.08329137 | -0.01727677 |  0.00179197 | ⋯ |  0.009958269 | -0.016433316 |  0.006428658 | -0.008130357 |  0.04461014 |  0.1835539 | -0.01664969 |  0.010559217 | -0.10689044 | Progressor |\n",
       "\n"
      ],
      "text/plain": [
       "  ID      LV1         LV2          LV3           LV4         LV5         \n",
       "1 00041-0  0.11140203 -0.021818790 -0.0535675047 0.067776314 -0.004886417\n",
       "2 00110-0 -0.07227066 -0.031820395 -0.0017124683 0.005697077  0.001916463\n",
       "3 00139-0 -0.06975536 -0.061082676 -0.0900765329 0.150849341 -0.078259462\n",
       "4 00159-0 -0.07806625  0.397310916 -0.0416671066 0.086283757  0.015893750\n",
       "5 00174-0 -0.06436926  0.005807392 -0.0002256534 0.018971156 -0.014683138\n",
       "  LV6         LV7         LV8         LV9         ⋯ LV979        LV980       \n",
       "1 -0.01349279 -0.21384901 -0.02506244 -0.02602336 ⋯  0.056442779  0.031079155\n",
       "2  0.01898339  0.20061505  0.04795546  0.01731360 ⋯ -0.000887035 -0.040743388\n",
       "3  0.05815224 -0.03904118  0.02301079 -0.06903941 ⋯ -0.034678138 -0.005332622\n",
       "4 -0.03211687  0.09401872  0.02830306 -0.06440271 ⋯  0.039194495 -0.006062143\n",
       "5 -0.02381849 -0.08329137 -0.01727677  0.00179197 ⋯  0.009958269 -0.016433316\n",
       "  LV981        LV982        LV983       LV984      LV985       LV986       \n",
       "1  0.039551201 -0.003216641  0.05876335 -0.1235162 -0.21851990  0.002038538\n",
       "2 -0.020157308 -0.009622277 -0.01772465 -0.2701976  0.03313927  0.022591122\n",
       "3 -0.022895423  0.014878154 -0.05049221 -0.1304244  0.21384840  0.008425512\n",
       "4  0.043149383  0.048552636 -0.03130918 -0.4727951  0.32350161 -0.087352049\n",
       "5  0.006428658 -0.008130357  0.04461014  0.1835539 -0.01664969  0.010559217\n",
       "  LV987       Group     \n",
       "1  0.01719279 Maintainer\n",
       "2  0.06483950 Reverter  \n",
       "3  0.06776475 Reverter  \n",
       "4 -0.03400709 Maintainer\n",
       "5 -0.10689044 Progressor"
      ]
     },
     "metadata": {},
     "output_type": "display_data"
    }
   ],
   "source": [
    "DAISY_diff_proj_1 <- readRDS(paste0(\"output/gp_RNA_proj_1.rds\"))\n",
    "DAISY_diff_proj_2 <- readRDS(paste0(\"output/gp_RNA_proj_2.rds\"))\n",
    "## difference between the two \n",
    "Daisy_diff <- DAISY_diff_proj_1[,2:988] - DAISY_diff_proj_2[,2:988]\n",
    "DAISY_LV_diff <- DAISY_diff_proj_1\n",
    "DAISY_LV_diff[,2:988] <- Daisy_diff\n",
    "head(DAISY_LV_diff,5)"
   ]
  },
  {
   "cell_type": "markdown",
   "id": "973cfd78-2532-40fb-8766-4aa75069971b",
   "metadata": {},
   "source": [
    "### Computing DAISY expression difference (tp2 - tp1), then project the difference into LV space  "
   ]
  },
  {
   "cell_type": "code",
   "execution_count": 6,
   "id": "136a07ef-09ed-48a2-beab-bd4a1ee1bb2f",
   "metadata": {
    "scrolled": true
   },
   "outputs": [
    {
     "data": {
      "text/html": [
       "<table class=\"dataframe\">\n",
       "<caption>A data.frame: 5 × 989</caption>\n",
       "<thead>\n",
       "\t<tr><th></th><th scope=col>ID</th><th scope=col>LV1</th><th scope=col>LV2</th><th scope=col>LV3</th><th scope=col>LV4</th><th scope=col>LV5</th><th scope=col>LV6</th><th scope=col>LV7</th><th scope=col>LV8</th><th scope=col>LV9</th><th scope=col>⋯</th><th scope=col>LV979</th><th scope=col>LV980</th><th scope=col>LV981</th><th scope=col>LV982</th><th scope=col>LV983</th><th scope=col>LV984</th><th scope=col>LV985</th><th scope=col>LV986</th><th scope=col>LV987</th><th scope=col>Group</th></tr>\n",
       "\t<tr><th></th><th scope=col>&lt;chr&gt;</th><th scope=col>&lt;dbl&gt;</th><th scope=col>&lt;dbl&gt;</th><th scope=col>&lt;dbl&gt;</th><th scope=col>&lt;dbl&gt;</th><th scope=col>&lt;dbl&gt;</th><th scope=col>&lt;dbl&gt;</th><th scope=col>&lt;dbl&gt;</th><th scope=col>&lt;dbl&gt;</th><th scope=col>&lt;dbl&gt;</th><th scope=col>⋯</th><th scope=col>&lt;dbl&gt;</th><th scope=col>&lt;dbl&gt;</th><th scope=col>&lt;dbl&gt;</th><th scope=col>&lt;dbl&gt;</th><th scope=col>&lt;dbl&gt;</th><th scope=col>&lt;dbl&gt;</th><th scope=col>&lt;dbl&gt;</th><th scope=col>&lt;dbl&gt;</th><th scope=col>&lt;dbl&gt;</th><th scope=col>&lt;ord&gt;</th></tr>\n",
       "</thead>\n",
       "<tbody>\n",
       "\t<tr><th scope=row>1</th><td>00041-0</td><td> 0.06533240</td><td>-0.011055519</td><td>-0.0287143635</td><td>0.036526145</td><td> 0.001051845</td><td>-0.004441117</td><td>-0.12540642</td><td>-0.01658177</td><td>-0.0173158695</td><td>⋯</td><td> 0.036741179</td><td> 0.023540136</td><td> 0.029886622</td><td>-0.002217311</td><td> 0.03846297</td><td>-0.06393674</td><td>-0.134816383</td><td> 0.002138531</td><td> 0.009733345</td><td>Maintainer</td></tr>\n",
       "\t<tr><th scope=row>2</th><td>00110-0</td><td>-0.04267481</td><td>-0.020391543</td><td>-0.0001745483</td><td>0.003682194</td><td>-0.002243756</td><td> 0.008158552</td><td> 0.11867353</td><td> 0.02813421</td><td> 0.0131125908</td><td>⋯</td><td>-0.003676397</td><td>-0.034794733</td><td>-0.010491055</td><td>-0.007721971</td><td>-0.01465504</td><td>-0.14834049</td><td> 0.008681795</td><td> 0.015668703</td><td> 0.035779363</td><td>Reverter  </td></tr>\n",
       "\t<tr><th scope=row>3</th><td>00139-0</td><td>-0.04162543</td><td>-0.036730092</td><td>-0.0469522326</td><td>0.089392721</td><td>-0.049189611</td><td> 0.032472113</td><td>-0.02172676</td><td> 0.01238158</td><td>-0.0403871139</td><td>⋯</td><td>-0.023873847</td><td> 0.002156358</td><td>-0.010940347</td><td> 0.010072032</td><td>-0.03348186</td><td>-0.08142656</td><td> 0.123767615</td><td> 0.001222313</td><td> 0.039788403</td><td>Reverter  </td></tr>\n",
       "\t<tr><th scope=row>4</th><td>00159-0</td><td>-0.04801535</td><td> 0.232065205</td><td>-0.0263503818</td><td>0.054358188</td><td> 0.010838359</td><td>-0.023821148</td><td> 0.05710884</td><td> 0.01861838</td><td>-0.0385121968</td><td>⋯</td><td> 0.023145471</td><td>-0.004236950</td><td> 0.022258250</td><td> 0.029260069</td><td>-0.02153985</td><td>-0.29057564</td><td> 0.194484202</td><td>-0.055334761</td><td>-0.026108705</td><td>Maintainer</td></tr>\n",
       "\t<tr><th scope=row>5</th><td>00174-0</td><td>-0.04422143</td><td> 0.005648297</td><td> 0.0019395758</td><td>0.012030349</td><td>-0.009526595</td><td>-0.011986414</td><td>-0.04859658</td><td>-0.01209706</td><td> 0.0006907144</td><td>⋯</td><td> 0.005872110</td><td>-0.009735373</td><td> 0.005824244</td><td>-0.007314493</td><td> 0.03117020</td><td> 0.11755467</td><td>-0.011915534</td><td> 0.009478003</td><td>-0.068822916</td><td>Progressor</td></tr>\n",
       "</tbody>\n",
       "</table>\n"
      ],
      "text/latex": [
       "A data.frame: 5 × 989\n",
       "\\begin{tabular}{r|lllllllllllllllllllll}\n",
       "  & ID & LV1 & LV2 & LV3 & LV4 & LV5 & LV6 & LV7 & LV8 & LV9 & ⋯ & LV979 & LV980 & LV981 & LV982 & LV983 & LV984 & LV985 & LV986 & LV987 & Group\\\\\n",
       "  & <chr> & <dbl> & <dbl> & <dbl> & <dbl> & <dbl> & <dbl> & <dbl> & <dbl> & <dbl> & ⋯ & <dbl> & <dbl> & <dbl> & <dbl> & <dbl> & <dbl> & <dbl> & <dbl> & <dbl> & <ord>\\\\\n",
       "\\hline\n",
       "\t1 & 00041-0 &  0.06533240 & -0.011055519 & -0.0287143635 & 0.036526145 &  0.001051845 & -0.004441117 & -0.12540642 & -0.01658177 & -0.0173158695 & ⋯ &  0.036741179 &  0.023540136 &  0.029886622 & -0.002217311 &  0.03846297 & -0.06393674 & -0.134816383 &  0.002138531 &  0.009733345 & Maintainer\\\\\n",
       "\t2 & 00110-0 & -0.04267481 & -0.020391543 & -0.0001745483 & 0.003682194 & -0.002243756 &  0.008158552 &  0.11867353 &  0.02813421 &  0.0131125908 & ⋯ & -0.003676397 & -0.034794733 & -0.010491055 & -0.007721971 & -0.01465504 & -0.14834049 &  0.008681795 &  0.015668703 &  0.035779363 & Reverter  \\\\\n",
       "\t3 & 00139-0 & -0.04162543 & -0.036730092 & -0.0469522326 & 0.089392721 & -0.049189611 &  0.032472113 & -0.02172676 &  0.01238158 & -0.0403871139 & ⋯ & -0.023873847 &  0.002156358 & -0.010940347 &  0.010072032 & -0.03348186 & -0.08142656 &  0.123767615 &  0.001222313 &  0.039788403 & Reverter  \\\\\n",
       "\t4 & 00159-0 & -0.04801535 &  0.232065205 & -0.0263503818 & 0.054358188 &  0.010838359 & -0.023821148 &  0.05710884 &  0.01861838 & -0.0385121968 & ⋯ &  0.023145471 & -0.004236950 &  0.022258250 &  0.029260069 & -0.02153985 & -0.29057564 &  0.194484202 & -0.055334761 & -0.026108705 & Maintainer\\\\\n",
       "\t5 & 00174-0 & -0.04422143 &  0.005648297 &  0.0019395758 & 0.012030349 & -0.009526595 & -0.011986414 & -0.04859658 & -0.01209706 &  0.0006907144 & ⋯ &  0.005872110 & -0.009735373 &  0.005824244 & -0.007314493 &  0.03117020 &  0.11755467 & -0.011915534 &  0.009478003 & -0.068822916 & Progressor\\\\\n",
       "\\end{tabular}\n"
      ],
      "text/markdown": [
       "\n",
       "A data.frame: 5 × 989\n",
       "\n",
       "| <!--/--> | ID &lt;chr&gt; | LV1 &lt;dbl&gt; | LV2 &lt;dbl&gt; | LV3 &lt;dbl&gt; | LV4 &lt;dbl&gt; | LV5 &lt;dbl&gt; | LV6 &lt;dbl&gt; | LV7 &lt;dbl&gt; | LV8 &lt;dbl&gt; | LV9 &lt;dbl&gt; | ⋯ ⋯ | LV979 &lt;dbl&gt; | LV980 &lt;dbl&gt; | LV981 &lt;dbl&gt; | LV982 &lt;dbl&gt; | LV983 &lt;dbl&gt; | LV984 &lt;dbl&gt; | LV985 &lt;dbl&gt; | LV986 &lt;dbl&gt; | LV987 &lt;dbl&gt; | Group &lt;ord&gt; |\n",
       "|---|---|---|---|---|---|---|---|---|---|---|---|---|---|---|---|---|---|---|---|---|---|\n",
       "| 1 | 00041-0 |  0.06533240 | -0.011055519 | -0.0287143635 | 0.036526145 |  0.001051845 | -0.004441117 | -0.12540642 | -0.01658177 | -0.0173158695 | ⋯ |  0.036741179 |  0.023540136 |  0.029886622 | -0.002217311 |  0.03846297 | -0.06393674 | -0.134816383 |  0.002138531 |  0.009733345 | Maintainer |\n",
       "| 2 | 00110-0 | -0.04267481 | -0.020391543 | -0.0001745483 | 0.003682194 | -0.002243756 |  0.008158552 |  0.11867353 |  0.02813421 |  0.0131125908 | ⋯ | -0.003676397 | -0.034794733 | -0.010491055 | -0.007721971 | -0.01465504 | -0.14834049 |  0.008681795 |  0.015668703 |  0.035779363 | Reverter   |\n",
       "| 3 | 00139-0 | -0.04162543 | -0.036730092 | -0.0469522326 | 0.089392721 | -0.049189611 |  0.032472113 | -0.02172676 |  0.01238158 | -0.0403871139 | ⋯ | -0.023873847 |  0.002156358 | -0.010940347 |  0.010072032 | -0.03348186 | -0.08142656 |  0.123767615 |  0.001222313 |  0.039788403 | Reverter   |\n",
       "| 4 | 00159-0 | -0.04801535 |  0.232065205 | -0.0263503818 | 0.054358188 |  0.010838359 | -0.023821148 |  0.05710884 |  0.01861838 | -0.0385121968 | ⋯ |  0.023145471 | -0.004236950 |  0.022258250 |  0.029260069 | -0.02153985 | -0.29057564 |  0.194484202 | -0.055334761 | -0.026108705 | Maintainer |\n",
       "| 5 | 00174-0 | -0.04422143 |  0.005648297 |  0.0019395758 | 0.012030349 | -0.009526595 | -0.011986414 | -0.04859658 | -0.01209706 |  0.0006907144 | ⋯ |  0.005872110 | -0.009735373 |  0.005824244 | -0.007314493 |  0.03117020 |  0.11755467 | -0.011915534 |  0.009478003 | -0.068822916 | Progressor |\n",
       "\n"
      ],
      "text/plain": [
       "  ID      LV1         LV2          LV3           LV4         LV5         \n",
       "1 00041-0  0.06533240 -0.011055519 -0.0287143635 0.036526145  0.001051845\n",
       "2 00110-0 -0.04267481 -0.020391543 -0.0001745483 0.003682194 -0.002243756\n",
       "3 00139-0 -0.04162543 -0.036730092 -0.0469522326 0.089392721 -0.049189611\n",
       "4 00159-0 -0.04801535  0.232065205 -0.0263503818 0.054358188  0.010838359\n",
       "5 00174-0 -0.04422143  0.005648297  0.0019395758 0.012030349 -0.009526595\n",
       "  LV6          LV7         LV8         LV9           ⋯ LV979       \n",
       "1 -0.004441117 -0.12540642 -0.01658177 -0.0173158695 ⋯  0.036741179\n",
       "2  0.008158552  0.11867353  0.02813421  0.0131125908 ⋯ -0.003676397\n",
       "3  0.032472113 -0.02172676  0.01238158 -0.0403871139 ⋯ -0.023873847\n",
       "4 -0.023821148  0.05710884  0.01861838 -0.0385121968 ⋯  0.023145471\n",
       "5 -0.011986414 -0.04859658 -0.01209706  0.0006907144 ⋯  0.005872110\n",
       "  LV980        LV981        LV982        LV983       LV984       LV985       \n",
       "1  0.023540136  0.029886622 -0.002217311  0.03846297 -0.06393674 -0.134816383\n",
       "2 -0.034794733 -0.010491055 -0.007721971 -0.01465504 -0.14834049  0.008681795\n",
       "3  0.002156358 -0.010940347  0.010072032 -0.03348186 -0.08142656  0.123767615\n",
       "4 -0.004236950  0.022258250  0.029260069 -0.02153985 -0.29057564  0.194484202\n",
       "5 -0.009735373  0.005824244 -0.007314493  0.03117020  0.11755467 -0.011915534\n",
       "  LV986        LV987        Group     \n",
       "1  0.002138531  0.009733345 Maintainer\n",
       "2  0.015668703  0.035779363 Reverter  \n",
       "3  0.001222313  0.039788403 Reverter  \n",
       "4 -0.055334761 -0.026108705 Maintainer\n",
       "5  0.009478003 -0.068822916 Progressor"
      ]
     },
     "metadata": {},
     "output_type": "display_data"
    }
   ],
   "source": [
    "#tp <- \"1\"\n",
    "#tp <- \"2\" \n",
    "tp <- \"diff\"\n",
    "\n",
    "DAISY_diff_proj <- readRDS(paste0(\"output/gp_RNA_proj_\",tp,\".rds\"))\n",
    "head(DAISY_diff_proj,5)"
   ]
  },
  {
   "cell_type": "markdown",
   "id": "aea50492-28eb-4343-9291-4396cd6a0700",
   "metadata": {},
   "source": [
    "## Prioritizing LVs associated with T1D in both UK Biobank and e-merge"
   ]
  },
  {
   "cell_type": "markdown",
   "id": "b96bcb9b-81aa-4a3c-a328-74c01a5aa4e3",
   "metadata": {},
   "source": [
    "### Importing data: UKBiobank and emerge LV, phenotype traits strings"
   ]
  },
  {
   "cell_type": "code",
   "execution_count": 13,
   "id": "e4ee2124-b584-456a-9dab-100c1056b841",
   "metadata": {},
   "outputs": [],
   "source": [
    "# Import data\n",
    "gls_phenomexcan <- readRDS(\"data/input/gls-summary-phenomexcan.rds\")\n",
    "gls_emerge <- readRDS(\"data/input/gls-summary-emerge.rds\")\n",
    "\n",
    "# Type 1 diabetes traits in dataset \n",
    "UK_biobank_traits <-  c('Type 1 diabetes with ketoacidosis','Type 1 diabetes', 'Non-cancer illness code, self-reported: type 1 diabetes', 'Type 1 diabetes without complications','Type 1 diabetes with ophthalmic complications')\n",
    "emerge_trait <- 'Type 1 diabetes'\n",
    "\n",
    "# setting threshold \n",
    "threshold <- 0.05"
   ]
  },
  {
   "cell_type": "markdown",
   "id": "05743a12-ff25-4c03-b661-5be651ce05bb",
   "metadata": {},
   "source": [
    "### LVs associated with T1D in phenomexcan and emerge at an FDR adjusted `threshold`"
   ]
  },
  {
   "cell_type": "code",
   "execution_count": 8,
   "id": "2d08a476-5d04-48b2-99b5-b2ae87ac299b",
   "metadata": {
    "scrolled": true
   },
   "outputs": [
    {
     "data": {
      "text/html": [
       "<table class=\"dataframe\">\n",
       "<caption>A data.frame: 11 × 7</caption>\n",
       "<thead>\n",
       "\t<tr><th scope=col>LV</th><th scope=col>UK-Bio-Pheno</th><th scope=col>UK-Bio-p-value</th><th scope=col>UK_Bio_fdr</th><th scope=col>emerge-pheno</th><th scope=col>emerge-p-value</th><th scope=col>emerge-fdr</th></tr>\n",
       "\t<tr><th scope=col>&lt;fct&gt;</th><th scope=col>&lt;fct&gt;</th><th scope=col>&lt;dbl&gt;</th><th scope=col>&lt;dbl&gt;</th><th scope=col>&lt;fct&gt;</th><th scope=col>&lt;dbl&gt;</th><th scope=col>&lt;dbl&gt;</th></tr>\n",
       "</thead>\n",
       "<tbody>\n",
       "\t<tr><td>LV293</td><td>Type 1 diabetes                                        </td><td>3.404989e-05</td><td>0.0137392187</td><td>Type 1 diabetes</td><td>1.405687e-04</td><td>0.023540275</td></tr>\n",
       "\t<tr><td>LV293</td><td>Type 1 diabetes without complications                  </td><td>7.722357e-05</td><td>0.0254065554</td><td>Type 1 diabetes</td><td>1.405687e-04</td><td>0.023540275</td></tr>\n",
       "\t<tr><td>LV45 </td><td>Type 1 diabetes with ketoacidosis                      </td><td>8.689770e-05</td><td>0.0268025084</td><td>Type 1 diabetes</td><td>2.955102e-04</td><td>0.041666938</td></tr>\n",
       "\t<tr><td>LV45 </td><td>Type 1 diabetes                                        </td><td>1.889049e-05</td><td>0.0093224579</td><td>Type 1 diabetes</td><td>2.955102e-04</td><td>0.041666938</td></tr>\n",
       "\t<tr><td>LV45 </td><td>Non-cancer illness code, self-reported: type 1 diabetes</td><td>1.225965e-06</td><td>0.0012100271</td><td>Type 1 diabetes</td><td>2.955102e-04</td><td>0.041666938</td></tr>\n",
       "\t<tr><td>LV45 </td><td>Type 1 diabetes without complications                  </td><td>1.516479e-05</td><td>0.0083153581</td><td>Type 1 diabetes</td><td>2.955102e-04</td><td>0.041666938</td></tr>\n",
       "\t<tr><td>LV71 </td><td>Type 1 diabetes with ketoacidosis                      </td><td>5.915115e-05</td><td>0.0208507802</td><td>Type 1 diabetes</td><td>8.541361e-05</td><td>0.021075809</td></tr>\n",
       "\t<tr><td>LV913</td><td>Type 1 diabetes with ketoacidosis                      </td><td>7.235450e-06</td><td>0.0044633680</td><td>Type 1 diabetes</td><td>3.166332e-06</td><td>0.001562585</td></tr>\n",
       "\t<tr><td>LV913</td><td>Type 1 diabetes                                        </td><td>6.869573e-06</td><td>0.0044633680</td><td>Type 1 diabetes</td><td>3.166332e-06</td><td>0.001562585</td></tr>\n",
       "\t<tr><td>LV913</td><td>Non-cancer illness code, self-reported: type 1 diabetes</td><td>1.069342e-07</td><td>0.0001759068</td><td>Type 1 diabetes</td><td>3.166332e-06</td><td>0.001562585</td></tr>\n",
       "\t<tr><td>LV913</td><td>Type 1 diabetes with ophthalmic complications          </td><td>1.949733e-04</td><td>0.0458187285</td><td>Type 1 diabetes</td><td>3.166332e-06</td><td>0.001562585</td></tr>\n",
       "</tbody>\n",
       "</table>\n"
      ],
      "text/latex": [
       "A data.frame: 11 × 7\n",
       "\\begin{tabular}{lllllll}\n",
       " LV & UK-Bio-Pheno & UK-Bio-p-value & UK\\_Bio\\_fdr & emerge-pheno & emerge-p-value & emerge-fdr\\\\\n",
       " <fct> & <fct> & <dbl> & <dbl> & <fct> & <dbl> & <dbl>\\\\\n",
       "\\hline\n",
       "\t LV293 & Type 1 diabetes                                         & 3.404989e-05 & 0.0137392187 & Type 1 diabetes & 1.405687e-04 & 0.023540275\\\\\n",
       "\t LV293 & Type 1 diabetes without complications                   & 7.722357e-05 & 0.0254065554 & Type 1 diabetes & 1.405687e-04 & 0.023540275\\\\\n",
       "\t LV45  & Type 1 diabetes with ketoacidosis                       & 8.689770e-05 & 0.0268025084 & Type 1 diabetes & 2.955102e-04 & 0.041666938\\\\\n",
       "\t LV45  & Type 1 diabetes                                         & 1.889049e-05 & 0.0093224579 & Type 1 diabetes & 2.955102e-04 & 0.041666938\\\\\n",
       "\t LV45  & Non-cancer illness code, self-reported: type 1 diabetes & 1.225965e-06 & 0.0012100271 & Type 1 diabetes & 2.955102e-04 & 0.041666938\\\\\n",
       "\t LV45  & Type 1 diabetes without complications                   & 1.516479e-05 & 0.0083153581 & Type 1 diabetes & 2.955102e-04 & 0.041666938\\\\\n",
       "\t LV71  & Type 1 diabetes with ketoacidosis                       & 5.915115e-05 & 0.0208507802 & Type 1 diabetes & 8.541361e-05 & 0.021075809\\\\\n",
       "\t LV913 & Type 1 diabetes with ketoacidosis                       & 7.235450e-06 & 0.0044633680 & Type 1 diabetes & 3.166332e-06 & 0.001562585\\\\\n",
       "\t LV913 & Type 1 diabetes                                         & 6.869573e-06 & 0.0044633680 & Type 1 diabetes & 3.166332e-06 & 0.001562585\\\\\n",
       "\t LV913 & Non-cancer illness code, self-reported: type 1 diabetes & 1.069342e-07 & 0.0001759068 & Type 1 diabetes & 3.166332e-06 & 0.001562585\\\\\n",
       "\t LV913 & Type 1 diabetes with ophthalmic complications           & 1.949733e-04 & 0.0458187285 & Type 1 diabetes & 3.166332e-06 & 0.001562585\\\\\n",
       "\\end{tabular}\n"
      ],
      "text/markdown": [
       "\n",
       "A data.frame: 11 × 7\n",
       "\n",
       "| LV &lt;fct&gt; | UK-Bio-Pheno &lt;fct&gt; | UK-Bio-p-value &lt;dbl&gt; | UK_Bio_fdr &lt;dbl&gt; | emerge-pheno &lt;fct&gt; | emerge-p-value &lt;dbl&gt; | emerge-fdr &lt;dbl&gt; |\n",
       "|---|---|---|---|---|---|---|\n",
       "| LV293 | Type 1 diabetes                                         | 3.404989e-05 | 0.0137392187 | Type 1 diabetes | 1.405687e-04 | 0.023540275 |\n",
       "| LV293 | Type 1 diabetes without complications                   | 7.722357e-05 | 0.0254065554 | Type 1 diabetes | 1.405687e-04 | 0.023540275 |\n",
       "| LV45  | Type 1 diabetes with ketoacidosis                       | 8.689770e-05 | 0.0268025084 | Type 1 diabetes | 2.955102e-04 | 0.041666938 |\n",
       "| LV45  | Type 1 diabetes                                         | 1.889049e-05 | 0.0093224579 | Type 1 diabetes | 2.955102e-04 | 0.041666938 |\n",
       "| LV45  | Non-cancer illness code, self-reported: type 1 diabetes | 1.225965e-06 | 0.0012100271 | Type 1 diabetes | 2.955102e-04 | 0.041666938 |\n",
       "| LV45  | Type 1 diabetes without complications                   | 1.516479e-05 | 0.0083153581 | Type 1 diabetes | 2.955102e-04 | 0.041666938 |\n",
       "| LV71  | Type 1 diabetes with ketoacidosis                       | 5.915115e-05 | 0.0208507802 | Type 1 diabetes | 8.541361e-05 | 0.021075809 |\n",
       "| LV913 | Type 1 diabetes with ketoacidosis                       | 7.235450e-06 | 0.0044633680 | Type 1 diabetes | 3.166332e-06 | 0.001562585 |\n",
       "| LV913 | Type 1 diabetes                                         | 6.869573e-06 | 0.0044633680 | Type 1 diabetes | 3.166332e-06 | 0.001562585 |\n",
       "| LV913 | Non-cancer illness code, self-reported: type 1 diabetes | 1.069342e-07 | 0.0001759068 | Type 1 diabetes | 3.166332e-06 | 0.001562585 |\n",
       "| LV913 | Type 1 diabetes with ophthalmic complications           | 1.949733e-04 | 0.0458187285 | Type 1 diabetes | 3.166332e-06 | 0.001562585 |\n",
       "\n"
      ],
      "text/plain": [
       "   LV    UK-Bio-Pheno                                            UK-Bio-p-value\n",
       "1  LV293 Type 1 diabetes                                         3.404989e-05  \n",
       "2  LV293 Type 1 diabetes without complications                   7.722357e-05  \n",
       "3  LV45  Type 1 diabetes with ketoacidosis                       8.689770e-05  \n",
       "4  LV45  Type 1 diabetes                                         1.889049e-05  \n",
       "5  LV45  Non-cancer illness code, self-reported: type 1 diabetes 1.225965e-06  \n",
       "6  LV45  Type 1 diabetes without complications                   1.516479e-05  \n",
       "7  LV71  Type 1 diabetes with ketoacidosis                       5.915115e-05  \n",
       "8  LV913 Type 1 diabetes with ketoacidosis                       7.235450e-06  \n",
       "9  LV913 Type 1 diabetes                                         6.869573e-06  \n",
       "10 LV913 Non-cancer illness code, self-reported: type 1 diabetes 1.069342e-07  \n",
       "11 LV913 Type 1 diabetes with ophthalmic complications           1.949733e-04  \n",
       "   UK_Bio_fdr   emerge-pheno    emerge-p-value emerge-fdr \n",
       "1  0.0137392187 Type 1 diabetes 1.405687e-04   0.023540275\n",
       "2  0.0254065554 Type 1 diabetes 1.405687e-04   0.023540275\n",
       "3  0.0268025084 Type 1 diabetes 2.955102e-04   0.041666938\n",
       "4  0.0093224579 Type 1 diabetes 2.955102e-04   0.041666938\n",
       "5  0.0012100271 Type 1 diabetes 2.955102e-04   0.041666938\n",
       "6  0.0083153581 Type 1 diabetes 2.955102e-04   0.041666938\n",
       "7  0.0208507802 Type 1 diabetes 8.541361e-05   0.021075809\n",
       "8  0.0044633680 Type 1 diabetes 3.166332e-06   0.001562585\n",
       "9  0.0044633680 Type 1 diabetes 3.166332e-06   0.001562585\n",
       "10 0.0001759068 Type 1 diabetes 3.166332e-06   0.001562585\n",
       "11 0.0458187285 Type 1 diabetes 3.166332e-06   0.001562585"
      ]
     },
     "metadata": {},
     "output_type": "display_data"
    }
   ],
   "source": [
    "## Phenomexcan\n",
    "phe_T1D_LVs <- gls_phenomexcan[gls_phenomexcan$phenotype_desc %in% UK_biobank_traits,]\n",
    "phe_T1D_LVs$new_fdr_UK <- p.adjust(phe_T1D_LVs$pvalue, method = \"BH\")\n",
    "phe_T1D_LVs_0.05_fdr <- phe_T1D_LVs[phe_T1D_LVs$new_fdr_UK < threshold,]\n",
    "\n",
    "## E-merge\n",
    "e_T1D_LVs <- gls_emerge[gls_emerge$phenotype_desc %in% emerge_trait,]\n",
    "e_T1D_LVs$new_fdr_e <- p.adjust(e_T1D_LVs$pvalue, method = \"BH\")\n",
    "e_T1D_LVs_0.05_fdr <- e_T1D_LVs[e_T1D_LVs$new_fdr_e < threshold,]\n",
    "\n",
    "## Joining Phenomexcana and E-merge\n",
    "phe_U_e_fdr_0.05 <- inner_join(phe_T1D_LVs_0.05_fdr,e_T1D_LVs_0.05_fdr, by = \"lv\")\n",
    "merged_cohort_T1D <- phe_U_e_fdr_0.05%>%\n",
    "arrange(lv)%>%\n",
    "select(c(3,2,4,6,8,9,11))\n",
    "colnames(merged_cohort_T1D) <- c(\"LV\",\"UK-Bio-Pheno\", \"UK-Bio-p-value\",\"UK_Bio_fdr\",\"emerge-pheno\",\"emerge-p-value\",\"emerge-fdr\")\n",
    "merged_cohort_T1D"
   ]
  },
  {
   "cell_type": "code",
   "execution_count": 12,
   "id": "c496a209-6992-47f9-8669-aedf68a924c6",
   "metadata": {},
   "outputs": [
    {
     "data": {
      "text/html": [
       "4"
      ],
      "text/latex": [
       "4"
      ],
      "text/markdown": [
       "4"
      ],
      "text/plain": [
       "[1] 4"
      ]
     },
     "metadata": {},
     "output_type": "display_data"
    },
    {
     "data": {
      "text/html": [
       "<style>\n",
       ".list-inline {list-style: none; margin:0; padding: 0}\n",
       ".list-inline>li {display: inline-block}\n",
       ".list-inline>li:not(:last-child)::after {content: \"\\00b7\"; padding: 0 .5ex}\n",
       "</style>\n",
       "<ol class=list-inline><li>'LV293'</li><li>'LV45'</li><li>'LV71'</li><li>'LV913'</li></ol>\n"
      ],
      "text/latex": [
       "\\begin{enumerate*}\n",
       "\\item 'LV293'\n",
       "\\item 'LV45'\n",
       "\\item 'LV71'\n",
       "\\item 'LV913'\n",
       "\\end{enumerate*}\n"
      ],
      "text/markdown": [
       "1. 'LV293'\n",
       "2. 'LV45'\n",
       "3. 'LV71'\n",
       "4. 'LV913'\n",
       "\n",
       "\n"
      ],
      "text/plain": [
       "[1] \"LV293\" \"LV45\"  \"LV71\"  \"LV913\""
      ]
     },
     "metadata": {},
     "output_type": "display_data"
    }
   ],
   "source": [
    "T1D_LV <- as.vector(unique(merged_cohort_T1D$LV))\n",
    "length(T1D_LV)\n",
    "T1D_LV"
   ]
  },
  {
   "cell_type": "markdown",
   "id": "73282266-3451-435f-bb1c-ef0ff6d63b6e",
   "metadata": {},
   "source": [
    "### Anova between three T1D progression groups using 4 LVs"
   ]
  },
  {
   "cell_type": "markdown",
   "id": "61542cdc-26fc-468f-ab97-e4f9c1bdf2fb",
   "metadata": {},
   "source": [
    "#### Anova using Daisy data 1"
   ]
  },
  {
   "cell_type": "code",
   "execution_count": 15,
   "id": "2a604ac9-4345-4679-ba4f-1f210f4c671d",
   "metadata": {
    "scrolled": true
   },
   "outputs": [
    {
     "data": {
      "text/html": [
       "<table class=\"dataframe\">\n",
       "<caption>A tibble: 4 × 3</caption>\n",
       "<thead>\n",
       "\t<tr><th scope=col>LV</th><th scope=col>DAISY_anova_p.val</th><th scope=col>DAISY_anova_fdr</th></tr>\n",
       "\t<tr><th scope=col>&lt;chr&gt;</th><th scope=col>&lt;dbl&gt;</th><th scope=col>&lt;dbl&gt;</th></tr>\n",
       "</thead>\n",
       "<tbody>\n",
       "\t<tr><td>LV293</td><td>0.70657858</td><td>0.7065786</td></tr>\n",
       "\t<tr><td>LV45 </td><td>0.07076396</td><td>0.2830558</td></tr>\n",
       "\t<tr><td>LV71 </td><td>0.33988821</td><td>0.5781957</td></tr>\n",
       "\t<tr><td>LV913</td><td>0.43364680</td><td>0.5781957</td></tr>\n",
       "</tbody>\n",
       "</table>\n"
      ],
      "text/latex": [
       "A tibble: 4 × 3\n",
       "\\begin{tabular}{lll}\n",
       " LV & DAISY\\_anova\\_p.val & DAISY\\_anova\\_fdr\\\\\n",
       " <chr> & <dbl> & <dbl>\\\\\n",
       "\\hline\n",
       "\t LV293 & 0.70657858 & 0.7065786\\\\\n",
       "\t LV45  & 0.07076396 & 0.2830558\\\\\n",
       "\t LV71  & 0.33988821 & 0.5781957\\\\\n",
       "\t LV913 & 0.43364680 & 0.5781957\\\\\n",
       "\\end{tabular}\n"
      ],
      "text/markdown": [
       "\n",
       "A tibble: 4 × 3\n",
       "\n",
       "| LV &lt;chr&gt; | DAISY_anova_p.val &lt;dbl&gt; | DAISY_anova_fdr &lt;dbl&gt; |\n",
       "|---|---|---|\n",
       "| LV293 | 0.70657858 | 0.7065786 |\n",
       "| LV45  | 0.07076396 | 0.2830558 |\n",
       "| LV71  | 0.33988821 | 0.5781957 |\n",
       "| LV913 | 0.43364680 | 0.5781957 |\n",
       "\n"
      ],
      "text/plain": [
       "  LV    DAISY_anova_p.val DAISY_anova_fdr\n",
       "1 LV293 0.70657858        0.7065786      \n",
       "2 LV45  0.07076396        0.2830558      \n",
       "3 LV71  0.33988821        0.5781957      \n",
       "4 LV913 0.43364680        0.5781957      "
      ]
     },
     "metadata": {},
     "output_type": "display_data"
    }
   ],
   "source": [
    "res <- data.frame(matrix(nrow = 0, ncol = 6))\n",
    "# compare between three groups using anova\n",
    "for (i in 1:length(T1D_LV)){\n",
    "    comp_i <- compare_means(as.formula(paste0(T1D_LV[i],\" ~ Group\")),  data = DAISY_diff_proj,\n",
    "                            method = \"anova\")\n",
    "    res <- rbind(res, comp_i)\n",
    "    }\n",
    "res_formated <- res[,c(1,2)]\n",
    "colnames(res_formated) <- c(\"LV\",\"DAISY_anova_p.val\")\n",
    "res_formated$DAISY_anova_fdr <- p.adjust(res_formated$DAISY_anova_p.val, method = \"BH\")\n",
    "res_formated\n",
    "\n",
    "#saveRDS(res_formated,paste0(\"output/anova_4-LV_\",tp,\".rds\"))"
   ]
  },
  {
   "cell_type": "markdown",
   "id": "408c93d0-4085-484e-84b3-4553ec68717f",
   "metadata": {},
   "source": [
    "##### Box plot for LVs"
   ]
  },
  {
   "cell_type": "code",
   "execution_count": 4,
   "id": "d6adfb37-0b1b-4ec2-9a37-5be549ede236",
   "metadata": {},
   "outputs": [
    {
     "ename": "ERROR",
     "evalue": "Error: object 'T1D_LV' not found\n",
     "output_type": "error",
     "traceback": [
      "Error: object 'T1D_LV' not found\nTraceback:\n"
     ]
    }
   ],
   "source": [
    "for (i in 1:length(T1D_LV)){\n",
    "    plot_i <- ggboxplot(DAISY_diff_proj, x = \"Group\", y = T1D_LV[i], color = \"Group\", \n",
    "          add = \"jitter\", legend = \"none\") +\n",
    "  rotate_x_text(angle = 45)+\n",
    "  geom_hline(yintercept = mean(DAISY_diff_proj[,T1D_LV[i]]), linetype = 2)+ # Add horizontal line at base mean\n",
    "  stat_compare_means(method = \"anova\", label.y = max(DAISY_diff_proj[,T1D_LV[i]])+ 0.01)       # Add global annova p-value \n",
    "    print(plot_i)\n",
    "    \n",
    "    #ggsave(paste0(\"LV_\",T1D_LV[i],\"_visit_\",tp,\".png\"),path = paste0(\"figures/visit_\",tp))\n",
    "    } \n",
    "    #dev.off()"
   ]
  },
  {
   "cell_type": "markdown",
   "id": "c3e3da1c-8cc6-4ae3-9614-9f7e7761fee5",
   "metadata": {},
   "source": [
    "#### Anova using Daisy data 2"
   ]
  },
  {
   "cell_type": "code",
   "execution_count": 14,
   "id": "f8cb474a-279a-481a-acad-ef97b3813912",
   "metadata": {},
   "outputs": [
    {
     "data": {
      "text/html": [
       "<table class=\"dataframe\">\n",
       "<caption>A tibble: 4 × 3</caption>\n",
       "<thead>\n",
       "\t<tr><th scope=col>LV</th><th scope=col>DAISY_anova_p.val</th><th scope=col>DAISY_anova_fdr</th></tr>\n",
       "\t<tr><th scope=col>&lt;chr&gt;</th><th scope=col>&lt;dbl&gt;</th><th scope=col>&lt;dbl&gt;</th></tr>\n",
       "</thead>\n",
       "<tbody>\n",
       "\t<tr><td>LV293</td><td>0.68806887</td><td>0.6880689</td></tr>\n",
       "\t<tr><td>LV45 </td><td>0.07729902</td><td>0.3091961</td></tr>\n",
       "\t<tr><td>LV71 </td><td>0.30974491</td><td>0.5943004</td></tr>\n",
       "\t<tr><td>LV913</td><td>0.44572527</td><td>0.5943004</td></tr>\n",
       "</tbody>\n",
       "</table>\n"
      ],
      "text/latex": [
       "A tibble: 4 × 3\n",
       "\\begin{tabular}{lll}\n",
       " LV & DAISY\\_anova\\_p.val & DAISY\\_anova\\_fdr\\\\\n",
       " <chr> & <dbl> & <dbl>\\\\\n",
       "\\hline\n",
       "\t LV293 & 0.68806887 & 0.6880689\\\\\n",
       "\t LV45  & 0.07729902 & 0.3091961\\\\\n",
       "\t LV71  & 0.30974491 & 0.5943004\\\\\n",
       "\t LV913 & 0.44572527 & 0.5943004\\\\\n",
       "\\end{tabular}\n"
      ],
      "text/markdown": [
       "\n",
       "A tibble: 4 × 3\n",
       "\n",
       "| LV &lt;chr&gt; | DAISY_anova_p.val &lt;dbl&gt; | DAISY_anova_fdr &lt;dbl&gt; |\n",
       "|---|---|---|\n",
       "| LV293 | 0.68806887 | 0.6880689 |\n",
       "| LV45  | 0.07729902 | 0.3091961 |\n",
       "| LV71  | 0.30974491 | 0.5943004 |\n",
       "| LV913 | 0.44572527 | 0.5943004 |\n",
       "\n"
      ],
      "text/plain": [
       "  LV    DAISY_anova_p.val DAISY_anova_fdr\n",
       "1 LV293 0.68806887        0.6880689      \n",
       "2 LV45  0.07729902        0.3091961      \n",
       "3 LV71  0.30974491        0.5943004      \n",
       "4 LV913 0.44572527        0.5943004      "
      ]
     },
     "metadata": {},
     "output_type": "display_data"
    }
   ],
   "source": [
    "res <- data.frame(matrix(nrow = 0, ncol = 6))\n",
    "# compare between three groups using anova\n",
    "for (i in 1:length(T1D_LV)){\n",
    "    comp_i <- compare_means(as.formula(paste0(T1D_LV[i],\" ~ Group\")),  data = DAISY_LV_diff,\n",
    "                            method = \"anova\")\n",
    "    res <- rbind(res, comp_i)\n",
    "    }\n",
    "res_formated <- res[,c(1,2)]\n",
    "colnames(res_formated) <- c(\"LV\",\"DAISY_anova_p.val\")\n",
    "res_formated$DAISY_anova_fdr <- p.adjust(res_formated$DAISY_anova_p.val, method = \"BH\")\n",
    "res_formated\n",
    "\n",
    "#saveRDS(res_formated,paste0(\"output/anova_4-LV_\",tp,\".rds\"))"
   ]
  },
  {
   "cell_type": "markdown",
   "id": "32ee0703-5baf-422c-8d4a-4e321b28e082",
   "metadata": {},
   "source": [
    "#### Box plot for LVs"
   ]
  },
  {
   "cell_type": "code",
   "execution_count": null,
   "id": "027739a0-fcea-42ba-b25c-298fb077d47d",
   "metadata": {},
   "outputs": [],
   "source": [
    "for (i in 1:length(T1D_LV)){\n",
    "    plot_i <- ggboxplot(DAISY_LV_diff, x = \"Group\", y = T1D_LV[i], color = \"Group\", \n",
    "          add = \"jitter\", legend = \"none\") +\n",
    "  rotate_x_text(angle = 45)+\n",
    "  geom_hline(yintercept = mean(DAISY_LV_diff[,T1D_LV[i]]), linetype = 2)+ # Add horizontal line at base mean\n",
    "  stat_compare_means(method = \"anova\", label.y = max(DAISY_LV_diff[,T1D_LV[i]])+ 0.01)       # Add global annova p-value \n",
    "    print(plot_i)\n",
    "    \n",
    "    #ggsave(paste0(\"LV_\",T1D_LV[i],\"_visit_\",tp,\".png\"),path = paste0(\"figures/visit_\",tp))\n",
    "    } \n",
    "    #dev.off()"
   ]
  },
  {
   "cell_type": "markdown",
   "id": "e284bf38-5baa-4193-b369-4376505c9f85",
   "metadata": {},
   "source": [
    "### Saving output as RDS and CSV"
   ]
  },
  {
   "cell_type": "code",
   "execution_count": null,
   "id": "75d29aa7-88c5-46d3-8e06-3bcfc25e7df9",
   "metadata": {},
   "outputs": [],
   "source": [
    "Analysis_1_df <- inner_join(merged_cohort_T1D, res_formated)\n",
    "dim(Analysis_1_df)\n",
    "Analysis_1_df"
   ]
  },
  {
   "cell_type": "code",
   "execution_count": null,
   "id": "56304423-09d1-4a3e-868f-1e49cab0aaee",
   "metadata": {},
   "outputs": [],
   "source": [
    "#saveRDS(analysis_1_df,paste0(\"output/Analysis_1_Top_17_LVs.rds\"))\n",
    "#write_csv(analysis_1_df,paste0(\"output/Analysis_1_Top_17_LVs.csv\"))"
   ]
  },
  {
   "cell_type": "markdown",
   "id": "68a1c7d8-a84c-4238-89d1-c470a1b4b5cf",
   "metadata": {},
   "source": [
    "#### UK Biobank Phenotype code description"
   ]
  },
  {
   "cell_type": "code",
   "execution_count": null,
   "id": "3cd8701f-c734-468e-8a01-ee05180dbfcc",
   "metadata": {},
   "outputs": [],
   "source": [
    "pheno_descr_code <- phe_T1D_LVs_nom_0.01 [,c('phenotype','phenotype_desc')]%>%\n",
    "distinct()\n",
    "\n",
    "pheno_descr_code"
   ]
  }
 ],
 "metadata": {
  "kernelspec": {
   "display_name": "R [conda env:T1D_Pheno] *",
   "language": "R",
   "name": "conda-env-T1D_Pheno-r"
  },
  "language_info": {
   "codemirror_mode": "r",
   "file_extension": ".r",
   "mimetype": "text/x-r-source",
   "name": "R",
   "pygments_lexer": "r",
   "version": "4.4.2"
  }
 },
 "nbformat": 4,
 "nbformat_minor": 5
}
