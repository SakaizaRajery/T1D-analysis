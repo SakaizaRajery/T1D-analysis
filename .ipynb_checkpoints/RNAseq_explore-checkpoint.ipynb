{
 "cells": [
  {
   "cell_type": "markdown",
   "metadata": {},
   "source": [
    "# DAISY RNAseq data projection\n",
    "\n",
    "Sakaiza Rasolofomanana Rajery\n",
    "\n",
    "12/19/2024"
   ]
  },
  {
   "cell_type": "markdown",
   "metadata": {},
   "source": [
    "## load packages"
   ]
  },
  {
   "cell_type": "code",
   "execution_count": 13,
   "metadata": {},
   "outputs": [
    {
     "name": "stderr",
     "output_type": "stream",
     "text": [
      "Loading required package: RColorBrewer\n",
      "\n",
      "Loading required package: gplots\n",
      "\n",
      "\n",
      "Attaching package: ‘gplots’\n",
      "\n",
      "\n",
      "The following object is masked from ‘package:stats’:\n",
      "\n",
      "    lowess\n",
      "\n",
      "\n",
      "Loading required package: pheatmap\n",
      "\n",
      "Loading required package: glmnet\n",
      "\n",
      "Loading required package: Matrix\n",
      "\n",
      "\n",
      "Attaching package: ‘Matrix’\n",
      "\n",
      "\n",
      "The following objects are masked from ‘package:tidyr’:\n",
      "\n",
      "    expand, pack, unpack\n",
      "\n",
      "\n",
      "Loaded glmnet 4.1-8\n",
      "\n",
      "Loading required package: knitr\n",
      "\n",
      "Loading required package: rsvd\n",
      "\n",
      "Loading required package: qvalue\n",
      "\n"
     ]
    }
   ],
   "source": [
    "library(tidyverse)\n",
    "library(reticulate)\n",
    "library(MASS)\n",
    "library(devtools)\n",
    "library(PLIER)\n",
    "#install_github(\"wgmao/PLIER\")"
   ]
  },
  {
   "cell_type": "code",
   "execution_count": 3,
   "metadata": {},
   "outputs": [],
   "source": [
    "source('scripts/plier_util.R')"
   ]
  },
  {
   "cell_type": "code",
   "execution_count": 4,
   "metadata": {},
   "outputs": [],
   "source": [
    "GetOrderedRowNormEM <- function(exprs.mat, plier.model) {\n",
    "\n",
    "    require(PLIER)\n",
    "    \n",
    "    # Z-score normalization\n",
    "    exprs.norm <- rowNorm(exprs.mat)\n",
    "    exprs.norm <- na.omit(exprs.norm)\n",
    "    \n",
    "    z.mat <- plier.model$Z\n",
    "    genes.in.model <- rownames(z.mat)\n",
    "    genes_in_exprs <- rownames(exprs.norm)\n",
    "    \n",
    "    # Find the common genes\n",
    "    common_genes <- intersect(genes_in_exprs, genes.in.model)\n",
    "    \n",
    "    # Filter the matrices based on the common genes\n",
    "    exprs.norm.filtered <- exprs.norm[common_genes, , drop = FALSE]\n",
    "    z.mat.filtered <- z.mat[common_genes, , drop = FALSE]\n",
    "        \n",
    "  # Update the plier.model with the new Z matrix\n",
    "  plier.model$Z <- z.mat.filtered\n",
    "\n",
    "  # Return the updated plier.model and the filtered exprs.norm\n",
    "  list(plier.model = plier.model, exprs.norm.filtered = exprs.norm.filtered)\n",
    "\n",
    "}"
   ]
  },
  {
   "cell_type": "markdown",
   "metadata": {},
   "source": [
    "## load data: RNA seq, Matrices, name to ID, metada"
   ]
  },
  {
   "cell_type": "markdown",
   "metadata": {},
   "source": [
    "### RNA_seq data"
   ]
  },
  {
   "cell_type": "code",
   "execution_count": 5,
   "metadata": {},
   "outputs": [
    {
     "name": "stdout",
     "output_type": "stream",
     "text": [
      " num [1:22236, 1:136] 0.031 -0.0478 -0.0553 0.0398 -0.1755 ...\n",
      " - attr(*, \"dimnames\")=List of 2\n",
      "  ..$ : chr [1:22236] \"ENSG00000000003\" \"ENSG00000000419\" \"ENSG00000000457\" \"ENSG00000000460\" ...\n",
      "  ..$ : chr [1:136] \"00041-0\" \"00110-0\" \"00139-0\" \"00159-0\" ...\n"
     ]
    },
    {
     "data": {
      "text/html": [
       "<table class=\"dataframe\">\n",
       "<caption>A matrix: 5 × 136 of type dbl</caption>\n",
       "<thead>\n",
       "\t<tr><th></th><th scope=col>00041-0</th><th scope=col>00110-0</th><th scope=col>00139-0</th><th scope=col>00159-0</th><th scope=col>00174-0</th><th scope=col>00177-0</th><th scope=col>00181-0</th><th scope=col>00234-0</th><th scope=col>00250-0</th><th scope=col>00266-0</th><th scope=col>⋯</th><th scope=col>39376-0</th><th scope=col>39390-0</th><th scope=col>50136-0</th><th scope=col>62291-0</th><th scope=col>81801-0</th><th scope=col>84002-0</th><th scope=col>84689-0</th><th scope=col>84731-0</th><th scope=col>84860-0</th><th scope=col>85365-0</th></tr>\n",
       "</thead>\n",
       "<tbody>\n",
       "\t<tr><th scope=row>ENSG00000000003</th><td> 0.03095809</td><td>-0.07856905</td><td> 0.1918862</td><td>-0.171697815</td><td>-0.05682264</td><td>-0.14436092</td><td>-0.15973690</td><td> 0.15962816</td><td> 0.04597725</td><td>-0.05037662</td><td>⋯</td><td> 0.03481634</td><td>-0.11353805</td><td>-0.07546308</td><td>-0.24782141</td><td>-0.181882227</td><td>-0.15831031</td><td> 0.042505051</td><td> 0.004158849</td><td>-0.04953921</td><td>-0.07543666</td></tr>\n",
       "\t<tr><th scope=row>ENSG00000000419</th><td>-0.04781262</td><td> 0.22526729</td><td> 0.1496638</td><td> 0.008030305</td><td> 0.07860273</td><td>-0.65566596</td><td>-0.07836598</td><td>-0.08440686</td><td>-0.07336101</td><td> 0.01694056</td><td>⋯</td><td> 0.03302391</td><td>-0.17723135</td><td>-0.20278517</td><td> 0.05153863</td><td> 0.027867915</td><td> 0.14438615</td><td> 0.181057380</td><td>-0.060171420</td><td> 0.02275410</td><td> 0.09297875</td></tr>\n",
       "\t<tr><th scope=row>ENSG00000000457</th><td>-0.05528318</td><td>-0.06535310</td><td> 0.1215783</td><td> 0.042311336</td><td>-0.13641096</td><td>-0.05600516</td><td>-0.11315866</td><td>-0.02458583</td><td> 0.17706909</td><td>-0.08072746</td><td>⋯</td><td>-0.05381721</td><td>-0.06526485</td><td> 0.06076460</td><td> 0.07453007</td><td> 0.118070226</td><td>-0.02070351</td><td>-0.071758383</td><td> 0.013581220</td><td>-0.08240612</td><td> 0.05418788</td></tr>\n",
       "\t<tr><th scope=row>ENSG00000000460</th><td> 0.03975773</td><td>-0.03598026</td><td> 0.1845973</td><td>-0.036771847</td><td> 0.11839537</td><td>-0.75807634</td><td>-0.07701233</td><td> 0.05610122</td><td>-0.20000546</td><td> 0.26409694</td><td>⋯</td><td> 0.08086216</td><td> 0.04937240</td><td>-0.06226473</td><td> 0.11234436</td><td> 0.116699931</td><td> 0.04048291</td><td> 0.318198228</td><td>-0.003560572</td><td> 0.09052353</td><td> 0.07681467</td></tr>\n",
       "\t<tr><th scope=row>ENSG00000000938</th><td>-0.17548539</td><td> 0.13802186</td><td>-0.1033869</td><td> 0.120510893</td><td>-0.11488039</td><td>-0.16473877</td><td>-0.11642225</td><td>-0.04561926</td><td>-0.01971724</td><td>-0.14657057</td><td>⋯</td><td>-0.08194073</td><td>-0.11987964</td><td>-0.04133224</td><td> 0.21522278</td><td> 0.006778182</td><td> 0.10912560</td><td>-0.009714053</td><td>-0.062825872</td><td>-0.17994881</td><td> 0.04227325</td></tr>\n",
       "</tbody>\n",
       "</table>\n"
      ],
      "text/latex": [
       "A matrix: 5 × 136 of type dbl\n",
       "\\begin{tabular}{r|lllllllllllllllllllll}\n",
       "  & 00041-0 & 00110-0 & 00139-0 & 00159-0 & 00174-0 & 00177-0 & 00181-0 & 00234-0 & 00250-0 & 00266-0 & ⋯ & 39376-0 & 39390-0 & 50136-0 & 62291-0 & 81801-0 & 84002-0 & 84689-0 & 84731-0 & 84860-0 & 85365-0\\\\\n",
       "\\hline\n",
       "\tENSG00000000003 &  0.03095809 & -0.07856905 &  0.1918862 & -0.171697815 & -0.05682264 & -0.14436092 & -0.15973690 &  0.15962816 &  0.04597725 & -0.05037662 & ⋯ &  0.03481634 & -0.11353805 & -0.07546308 & -0.24782141 & -0.181882227 & -0.15831031 &  0.042505051 &  0.004158849 & -0.04953921 & -0.07543666\\\\\n",
       "\tENSG00000000419 & -0.04781262 &  0.22526729 &  0.1496638 &  0.008030305 &  0.07860273 & -0.65566596 & -0.07836598 & -0.08440686 & -0.07336101 &  0.01694056 & ⋯ &  0.03302391 & -0.17723135 & -0.20278517 &  0.05153863 &  0.027867915 &  0.14438615 &  0.181057380 & -0.060171420 &  0.02275410 &  0.09297875\\\\\n",
       "\tENSG00000000457 & -0.05528318 & -0.06535310 &  0.1215783 &  0.042311336 & -0.13641096 & -0.05600516 & -0.11315866 & -0.02458583 &  0.17706909 & -0.08072746 & ⋯ & -0.05381721 & -0.06526485 &  0.06076460 &  0.07453007 &  0.118070226 & -0.02070351 & -0.071758383 &  0.013581220 & -0.08240612 &  0.05418788\\\\\n",
       "\tENSG00000000460 &  0.03975773 & -0.03598026 &  0.1845973 & -0.036771847 &  0.11839537 & -0.75807634 & -0.07701233 &  0.05610122 & -0.20000546 &  0.26409694 & ⋯ &  0.08086216 &  0.04937240 & -0.06226473 &  0.11234436 &  0.116699931 &  0.04048291 &  0.318198228 & -0.003560572 &  0.09052353 &  0.07681467\\\\\n",
       "\tENSG00000000938 & -0.17548539 &  0.13802186 & -0.1033869 &  0.120510893 & -0.11488039 & -0.16473877 & -0.11642225 & -0.04561926 & -0.01971724 & -0.14657057 & ⋯ & -0.08194073 & -0.11987964 & -0.04133224 &  0.21522278 &  0.006778182 &  0.10912560 & -0.009714053 & -0.062825872 & -0.17994881 &  0.04227325\\\\\n",
       "\\end{tabular}\n"
      ],
      "text/markdown": [
       "\n",
       "A matrix: 5 × 136 of type dbl\n",
       "\n",
       "| <!--/--> | 00041-0 | 00110-0 | 00139-0 | 00159-0 | 00174-0 | 00177-0 | 00181-0 | 00234-0 | 00250-0 | 00266-0 | ⋯ | 39376-0 | 39390-0 | 50136-0 | 62291-0 | 81801-0 | 84002-0 | 84689-0 | 84731-0 | 84860-0 | 85365-0 |\n",
       "|---|---|---|---|---|---|---|---|---|---|---|---|---|---|---|---|---|---|---|---|---|---|\n",
       "| ENSG00000000003 |  0.03095809 | -0.07856905 |  0.1918862 | -0.171697815 | -0.05682264 | -0.14436092 | -0.15973690 |  0.15962816 |  0.04597725 | -0.05037662 | ⋯ |  0.03481634 | -0.11353805 | -0.07546308 | -0.24782141 | -0.181882227 | -0.15831031 |  0.042505051 |  0.004158849 | -0.04953921 | -0.07543666 |\n",
       "| ENSG00000000419 | -0.04781262 |  0.22526729 |  0.1496638 |  0.008030305 |  0.07860273 | -0.65566596 | -0.07836598 | -0.08440686 | -0.07336101 |  0.01694056 | ⋯ |  0.03302391 | -0.17723135 | -0.20278517 |  0.05153863 |  0.027867915 |  0.14438615 |  0.181057380 | -0.060171420 |  0.02275410 |  0.09297875 |\n",
       "| ENSG00000000457 | -0.05528318 | -0.06535310 |  0.1215783 |  0.042311336 | -0.13641096 | -0.05600516 | -0.11315866 | -0.02458583 |  0.17706909 | -0.08072746 | ⋯ | -0.05381721 | -0.06526485 |  0.06076460 |  0.07453007 |  0.118070226 | -0.02070351 | -0.071758383 |  0.013581220 | -0.08240612 |  0.05418788 |\n",
       "| ENSG00000000460 |  0.03975773 | -0.03598026 |  0.1845973 | -0.036771847 |  0.11839537 | -0.75807634 | -0.07701233 |  0.05610122 | -0.20000546 |  0.26409694 | ⋯ |  0.08086216 |  0.04937240 | -0.06226473 |  0.11234436 |  0.116699931 |  0.04048291 |  0.318198228 | -0.003560572 |  0.09052353 |  0.07681467 |\n",
       "| ENSG00000000938 | -0.17548539 |  0.13802186 | -0.1033869 |  0.120510893 | -0.11488039 | -0.16473877 | -0.11642225 | -0.04561926 | -0.01971724 | -0.14657057 | ⋯ | -0.08194073 | -0.11987964 | -0.04133224 |  0.21522278 |  0.006778182 |  0.10912560 | -0.009714053 | -0.062825872 | -0.17994881 |  0.04227325 |\n",
       "\n"
      ],
      "text/plain": [
       "                00041-0     00110-0     00139-0    00159-0      00174-0    \n",
       "ENSG00000000003  0.03095809 -0.07856905  0.1918862 -0.171697815 -0.05682264\n",
       "ENSG00000000419 -0.04781262  0.22526729  0.1496638  0.008030305  0.07860273\n",
       "ENSG00000000457 -0.05528318 -0.06535310  0.1215783  0.042311336 -0.13641096\n",
       "ENSG00000000460  0.03975773 -0.03598026  0.1845973 -0.036771847  0.11839537\n",
       "ENSG00000000938 -0.17548539  0.13802186 -0.1033869  0.120510893 -0.11488039\n",
       "                00177-0     00181-0     00234-0     00250-0     00266-0     ⋯\n",
       "ENSG00000000003 -0.14436092 -0.15973690  0.15962816  0.04597725 -0.05037662 ⋯\n",
       "ENSG00000000419 -0.65566596 -0.07836598 -0.08440686 -0.07336101  0.01694056 ⋯\n",
       "ENSG00000000457 -0.05600516 -0.11315866 -0.02458583  0.17706909 -0.08072746 ⋯\n",
       "ENSG00000000460 -0.75807634 -0.07701233  0.05610122 -0.20000546  0.26409694 ⋯\n",
       "ENSG00000000938 -0.16473877 -0.11642225 -0.04561926 -0.01971724 -0.14657057 ⋯\n",
       "                39376-0     39390-0     50136-0     62291-0     81801-0     \n",
       "ENSG00000000003  0.03481634 -0.11353805 -0.07546308 -0.24782141 -0.181882227\n",
       "ENSG00000000419  0.03302391 -0.17723135 -0.20278517  0.05153863  0.027867915\n",
       "ENSG00000000457 -0.05381721 -0.06526485  0.06076460  0.07453007  0.118070226\n",
       "ENSG00000000460  0.08086216  0.04937240 -0.06226473  0.11234436  0.116699931\n",
       "ENSG00000000938 -0.08194073 -0.11987964 -0.04133224  0.21522278  0.006778182\n",
       "                84002-0     84689-0      84731-0      84860-0     85365-0    \n",
       "ENSG00000000003 -0.15831031  0.042505051  0.004158849 -0.04953921 -0.07543666\n",
       "ENSG00000000419  0.14438615  0.181057380 -0.060171420  0.02275410  0.09297875\n",
       "ENSG00000000457 -0.02070351 -0.071758383  0.013581220 -0.08240612  0.05418788\n",
       "ENSG00000000460  0.04048291  0.318198228 -0.003560572  0.09052353  0.07681467\n",
       "ENSG00000000938  0.10912560 -0.009714053 -0.062825872 -0.17994881  0.04227325"
      ]
     },
     "metadata": {},
     "output_type": "display_data"
    },
    {
     "data": {
      "text/html": [
       "<style>\n",
       ".list-inline {list-style: none; margin:0; padding: 0}\n",
       ".list-inline>li {display: inline-block}\n",
       ".list-inline>li:not(:last-child)::after {content: \"\\00b7\"; padding: 0 .5ex}\n",
       "</style>\n",
       "<ol class=list-inline><li>22236</li><li>136</li></ol>\n"
      ],
      "text/latex": [
       "\\begin{enumerate*}\n",
       "\\item 22236\n",
       "\\item 136\n",
       "\\end{enumerate*}\n"
      ],
      "text/markdown": [
       "1. 22236\n",
       "2. 136\n",
       "\n",
       "\n"
      ],
      "text/plain": [
       "[1] 22236   136"
      ]
     },
     "metadata": {},
     "output_type": "display_data"
    }
   ],
   "source": [
    "\n",
    "path_to_rna <- \"/Users/rasolofs/Library/CloudStorage/OneDrive-TheUniversityofColoradoDenver/DAISY RNA Phenoplier\"\n",
    "#raw value at visit 1 and 2\n",
    "#RNAseq_1_Raw <- readRDS(\"RNA_Visit_1.RDS\")\n",
    "#RNAseq_2_Raw <- readRDS(\"RNA_Visit_2.RDS\")\n",
    "\n",
    "#r-log adjusted for age, sex and ancestry at visit 1 and 2\n",
    "RNAseq_1_res <- as.matrix(readRDS(paste0(path_to_rna,\"/RNA_Visit_1_Residuals.RDS\")))\n",
    "#RNAseq_2_res <- readRDS(\"RNA_Visit_2_Residuals.RDS\")\n",
    "\n",
    "#RNA_annot <- readRDS(\"Expression_Annotation.RDS\")\n",
    "#RNA_pheno <- read_csv(\"DAISY_RNASeq_Phenotype_Deidentified.csv\")\n",
    "\n",
    "str(RNAseq_1_res)\n",
    "head(RNAseq_1_res,5)\n",
    "dim(RNAseq_1_res)"
   ]
  },
  {
   "cell_type": "markdown",
   "metadata": {},
   "source": [
    "### name to ensemble_id file"
   ]
  },
  {
   "cell_type": "code",
   "execution_count": 6,
   "metadata": {},
   "outputs": [
    {
     "data": {
      "text/html": [
       "<table class=\"dataframe\">\n",
       "<caption>A data.frame: 5 × 2</caption>\n",
       "<thead>\n",
       "\t<tr><th></th><th scope=col>EnsemblID</th><th scope=col>gene</th></tr>\n",
       "\t<tr><th></th><th scope=col>&lt;chr&gt;</th><th scope=col>&lt;chr&gt;</th></tr>\n",
       "</thead>\n",
       "<tbody>\n",
       "\t<tr><th scope=row>1</th><td>ENSG00000000457</td><td>SCYL3</td></tr>\n",
       "\t<tr><th scope=row>2</th><td>ENSG00000000938</td><td>FGR  </td></tr>\n",
       "\t<tr><th scope=row>3</th><td>ENSG00000000971</td><td>CFH  </td></tr>\n",
       "\t<tr><th scope=row>4</th><td>ENSG00000001036</td><td>FUCA2</td></tr>\n",
       "\t<tr><th scope=row>5</th><td>ENSG00000001084</td><td>GCLC </td></tr>\n",
       "</tbody>\n",
       "</table>\n"
      ],
      "text/latex": [
       "A data.frame: 5 × 2\n",
       "\\begin{tabular}{r|ll}\n",
       "  & EnsemblID & gene\\\\\n",
       "  & <chr> & <chr>\\\\\n",
       "\\hline\n",
       "\t1 & ENSG00000000457 & SCYL3\\\\\n",
       "\t2 & ENSG00000000938 & FGR  \\\\\n",
       "\t3 & ENSG00000000971 & CFH  \\\\\n",
       "\t4 & ENSG00000001036 & FUCA2\\\\\n",
       "\t5 & ENSG00000001084 & GCLC \\\\\n",
       "\\end{tabular}\n"
      ],
      "text/markdown": [
       "\n",
       "A data.frame: 5 × 2\n",
       "\n",
       "| <!--/--> | EnsemblID &lt;chr&gt; | gene &lt;chr&gt; |\n",
       "|---|---|---|\n",
       "| 1 | ENSG00000000457 | SCYL3 |\n",
       "| 2 | ENSG00000000938 | FGR   |\n",
       "| 3 | ENSG00000000971 | CFH   |\n",
       "| 4 | ENSG00000001036 | FUCA2 |\n",
       "| 5 | ENSG00000001084 | GCLC  |\n",
       "\n"
      ],
      "text/plain": [
       "  EnsemblID       gene \n",
       "1 ENSG00000000457 SCYL3\n",
       "2 ENSG00000000938 FGR  \n",
       "3 ENSG00000000971 CFH  \n",
       "4 ENSG00000001036 FUCA2\n",
       "5 ENSG00000001084 GCLC "
      ]
     },
     "metadata": {},
     "output_type": "display_data"
    }
   ],
   "source": [
    "py_data <- py_load_object(\"data/input/genes_mapping_id_to_name.pkl\")\n",
    "data_t <- data.frame(t(data.frame(py_data)))\n",
    "colnames(data_t) <- \"gene\"\n",
    "name_to_ID <- rownames_to_column(data_t, var = \"EnsemblID\")\n",
    "head(name_to_ID,5)"
   ]
  },
  {
   "cell_type": "markdown",
   "metadata": {},
   "source": [
    "### metadata file"
   ]
  },
  {
   "cell_type": "code",
   "execution_count": 32,
   "metadata": {},
   "outputs": [
    {
     "name": "stdout",
     "output_type": "stream",
     "text": [
      "$L1\n",
      "[1] 120.5661\n",
      "\n",
      "$L2\n",
      "[1] 241.1322\n",
      "\n",
      "$L3\n",
      "[1] 0.01269676\n",
      "\n"
     ]
    }
   ],
   "source": [
    "metadata <- readRDS(\"data/input/multiplier_model_metadata.rds\")\n",
    "print(metadata)\n",
    "metadata$L1"
   ]
  },
  {
   "cell_type": "markdown",
   "metadata": {},
   "source": [
    "### Multiplier matrices"
   ]
  },
  {
   "cell_type": "code",
   "execution_count": 8,
   "metadata": {},
   "outputs": [
    {
     "data": {
      "text/html": [
       "<table class=\"dataframe\">\n",
       "<caption>A matrix: 5 × 37032 of type dbl</caption>\n",
       "<thead>\n",
       "\t<tr><th></th><th scope=col>SRP000599.SRR013549</th><th scope=col>SRP000599.SRR013550</th><th scope=col>SRP000599.SRR013551</th><th scope=col>SRP000599.SRR013552</th><th scope=col>SRP000599.SRR013553</th><th scope=col>SRP000599.SRR013554</th><th scope=col>SRP000599.SRR013555</th><th scope=col>SRP000599.SRR013556</th><th scope=col>SRP000599.SRR013557</th><th scope=col>SRP000599.SRR013558</th><th scope=col>⋯</th><th scope=col>SRP035599.SRR1139372</th><th scope=col>SRP035599.SRR1139393</th><th scope=col>SRP035599.SRR1139388</th><th scope=col>SRP035599.SRR1139378</th><th scope=col>SRP035599.SRR1139399</th><th scope=col>SRP035599.SRR1139386</th><th scope=col>SRP035599.SRR1139375</th><th scope=col>SRP035599.SRR1139382</th><th scope=col>SRP035599.SRR1139356</th><th scope=col>SRP035599.SRR1139370</th></tr>\n",
       "</thead>\n",
       "<tbody>\n",
       "\t<tr><th scope=row>1,REACTOME_MRNA_SPLICING</th><td>-0.059296689</td><td>-0.047909034</td><td>-0.049366085</td><td>-0.065078034</td><td>-0.036394186</td><td>-0.046432986</td><td>-0.040980500</td><td>-0.040068202</td><td>-0.046137392</td><td>-0.048547681</td><td>⋯</td><td> 0.028219530</td><td> 0.035137107</td><td> 0.065077330</td><td> 0.078143650</td><td> 0.092361864</td><td> 0.069042346</td><td> 0.090913845</td><td> 0.096341467</td><td> 0.13111465</td><td> 0.171751422</td></tr>\n",
       "\t<tr><th scope=row>2,SVM Monocytes</th><td> 0.006212678</td><td> 0.003625471</td><td> 0.006604582</td><td> 0.009258006</td><td> 0.005061427</td><td> 0.004132735</td><td> 0.008950264</td><td> 0.007226716</td><td> 0.007240987</td><td> 0.005709697</td><td>⋯</td><td>-0.050455152</td><td>-0.034501970</td><td>-0.033640290</td><td>-0.049702173</td><td>-0.037425739</td><td>-0.050069528</td><td>-0.022575052</td><td>-0.055091302</td><td>-0.05686929</td><td>-0.018072570</td></tr>\n",
       "\t<tr><th scope=row>3,REACTOME_TRANSMISSION_ACROSS_CHEMICAL_SYNAPSES</th><td>-0.026105335</td><td>-0.032232060</td><td>-0.020621382</td><td>-0.027598555</td><td>-0.035248076</td><td>-0.038700769</td><td>-0.032527087</td><td>-0.030592727</td><td>-0.028937277</td><td>-0.027405660</td><td>⋯</td><td>-0.028609689</td><td>-0.033449754</td><td>-0.030583001</td><td>-0.032399106</td><td>-0.029365381</td><td>-0.025405876</td><td>-0.033657228</td><td>-0.031317680</td><td>-0.03092424</td><td>-0.027868614</td></tr>\n",
       "\t<tr><th scope=row>4,REACTOME_NEURONAL_SYSTEM</th><td>-0.022079745</td><td>-0.008970910</td><td>-0.020341711</td><td>-0.016260213</td><td>-0.003022898</td><td> 0.002442659</td><td>-0.020457842</td><td>-0.023735309</td><td>-0.021581483</td><td>-0.022477572</td><td>⋯</td><td>-0.037122216</td><td>-0.029658154</td><td>-0.036349546</td><td>-0.039253549</td><td>-0.035204624</td><td>-0.036345061</td><td>-0.034513880</td><td>-0.035925708</td><td>-0.04035837</td><td>-0.031131153</td></tr>\n",
       "\t<tr><th scope=row>LV 5</th><td> 0.007663157</td><td> 0.007036176</td><td> 0.006608393</td><td> 0.003446311</td><td> 0.006340665</td><td> 0.007106127</td><td> 0.007930485</td><td> 0.009164026</td><td> 0.008023601</td><td> 0.007937586</td><td>⋯</td><td>-0.003055909</td><td>-0.004783739</td><td>-0.004352417</td><td>-0.004159541</td><td>-0.001084991</td><td>-0.001884109</td><td>-0.003561052</td><td>-0.003546184</td><td>-0.01210732</td><td>-0.001192709</td></tr>\n",
       "</tbody>\n",
       "</table>\n"
      ],
      "text/latex": [
       "A matrix: 5 × 37032 of type dbl\n",
       "\\begin{tabular}{r|lllllllllllllllllllll}\n",
       "  & SRP000599.SRR013549 & SRP000599.SRR013550 & SRP000599.SRR013551 & SRP000599.SRR013552 & SRP000599.SRR013553 & SRP000599.SRR013554 & SRP000599.SRR013555 & SRP000599.SRR013556 & SRP000599.SRR013557 & SRP000599.SRR013558 & ⋯ & SRP035599.SRR1139372 & SRP035599.SRR1139393 & SRP035599.SRR1139388 & SRP035599.SRR1139378 & SRP035599.SRR1139399 & SRP035599.SRR1139386 & SRP035599.SRR1139375 & SRP035599.SRR1139382 & SRP035599.SRR1139356 & SRP035599.SRR1139370\\\\\n",
       "\\hline\n",
       "\t1,REACTOME\\_MRNA\\_SPLICING & -0.059296689 & -0.047909034 & -0.049366085 & -0.065078034 & -0.036394186 & -0.046432986 & -0.040980500 & -0.040068202 & -0.046137392 & -0.048547681 & ⋯ &  0.028219530 &  0.035137107 &  0.065077330 &  0.078143650 &  0.092361864 &  0.069042346 &  0.090913845 &  0.096341467 &  0.13111465 &  0.171751422\\\\\n",
       "\t2,SVM Monocytes &  0.006212678 &  0.003625471 &  0.006604582 &  0.009258006 &  0.005061427 &  0.004132735 &  0.008950264 &  0.007226716 &  0.007240987 &  0.005709697 & ⋯ & -0.050455152 & -0.034501970 & -0.033640290 & -0.049702173 & -0.037425739 & -0.050069528 & -0.022575052 & -0.055091302 & -0.05686929 & -0.018072570\\\\\n",
       "\t3,REACTOME\\_TRANSMISSION\\_ACROSS\\_CHEMICAL\\_SYNAPSES & -0.026105335 & -0.032232060 & -0.020621382 & -0.027598555 & -0.035248076 & -0.038700769 & -0.032527087 & -0.030592727 & -0.028937277 & -0.027405660 & ⋯ & -0.028609689 & -0.033449754 & -0.030583001 & -0.032399106 & -0.029365381 & -0.025405876 & -0.033657228 & -0.031317680 & -0.03092424 & -0.027868614\\\\\n",
       "\t4,REACTOME\\_NEURONAL\\_SYSTEM & -0.022079745 & -0.008970910 & -0.020341711 & -0.016260213 & -0.003022898 &  0.002442659 & -0.020457842 & -0.023735309 & -0.021581483 & -0.022477572 & ⋯ & -0.037122216 & -0.029658154 & -0.036349546 & -0.039253549 & -0.035204624 & -0.036345061 & -0.034513880 & -0.035925708 & -0.04035837 & -0.031131153\\\\\n",
       "\tLV 5 &  0.007663157 &  0.007036176 &  0.006608393 &  0.003446311 &  0.006340665 &  0.007106127 &  0.007930485 &  0.009164026 &  0.008023601 &  0.007937586 & ⋯ & -0.003055909 & -0.004783739 & -0.004352417 & -0.004159541 & -0.001084991 & -0.001884109 & -0.003561052 & -0.003546184 & -0.01210732 & -0.001192709\\\\\n",
       "\\end{tabular}\n"
      ],
      "text/markdown": [
       "\n",
       "A matrix: 5 × 37032 of type dbl\n",
       "\n",
       "| <!--/--> | SRP000599.SRR013549 | SRP000599.SRR013550 | SRP000599.SRR013551 | SRP000599.SRR013552 | SRP000599.SRR013553 | SRP000599.SRR013554 | SRP000599.SRR013555 | SRP000599.SRR013556 | SRP000599.SRR013557 | SRP000599.SRR013558 | ⋯ | SRP035599.SRR1139372 | SRP035599.SRR1139393 | SRP035599.SRR1139388 | SRP035599.SRR1139378 | SRP035599.SRR1139399 | SRP035599.SRR1139386 | SRP035599.SRR1139375 | SRP035599.SRR1139382 | SRP035599.SRR1139356 | SRP035599.SRR1139370 |\n",
       "|---|---|---|---|---|---|---|---|---|---|---|---|---|---|---|---|---|---|---|---|---|---|\n",
       "| 1,REACTOME_MRNA_SPLICING | -0.059296689 | -0.047909034 | -0.049366085 | -0.065078034 | -0.036394186 | -0.046432986 | -0.040980500 | -0.040068202 | -0.046137392 | -0.048547681 | ⋯ |  0.028219530 |  0.035137107 |  0.065077330 |  0.078143650 |  0.092361864 |  0.069042346 |  0.090913845 |  0.096341467 |  0.13111465 |  0.171751422 |\n",
       "| 2,SVM Monocytes |  0.006212678 |  0.003625471 |  0.006604582 |  0.009258006 |  0.005061427 |  0.004132735 |  0.008950264 |  0.007226716 |  0.007240987 |  0.005709697 | ⋯ | -0.050455152 | -0.034501970 | -0.033640290 | -0.049702173 | -0.037425739 | -0.050069528 | -0.022575052 | -0.055091302 | -0.05686929 | -0.018072570 |\n",
       "| 3,REACTOME_TRANSMISSION_ACROSS_CHEMICAL_SYNAPSES | -0.026105335 | -0.032232060 | -0.020621382 | -0.027598555 | -0.035248076 | -0.038700769 | -0.032527087 | -0.030592727 | -0.028937277 | -0.027405660 | ⋯ | -0.028609689 | -0.033449754 | -0.030583001 | -0.032399106 | -0.029365381 | -0.025405876 | -0.033657228 | -0.031317680 | -0.03092424 | -0.027868614 |\n",
       "| 4,REACTOME_NEURONAL_SYSTEM | -0.022079745 | -0.008970910 | -0.020341711 | -0.016260213 | -0.003022898 |  0.002442659 | -0.020457842 | -0.023735309 | -0.021581483 | -0.022477572 | ⋯ | -0.037122216 | -0.029658154 | -0.036349546 | -0.039253549 | -0.035204624 | -0.036345061 | -0.034513880 | -0.035925708 | -0.04035837 | -0.031131153 |\n",
       "| LV 5 |  0.007663157 |  0.007036176 |  0.006608393 |  0.003446311 |  0.006340665 |  0.007106127 |  0.007930485 |  0.009164026 |  0.008023601 |  0.007937586 | ⋯ | -0.003055909 | -0.004783739 | -0.004352417 | -0.004159541 | -0.001084991 | -0.001884109 | -0.003561052 | -0.003546184 | -0.01210732 | -0.001192709 |\n",
       "\n"
      ],
      "text/plain": [
       "                                                 SRP000599.SRR013549\n",
       "1,REACTOME_MRNA_SPLICING                         -0.059296689       \n",
       "2,SVM Monocytes                                   0.006212678       \n",
       "3,REACTOME_TRANSMISSION_ACROSS_CHEMICAL_SYNAPSES -0.026105335       \n",
       "4,REACTOME_NEURONAL_SYSTEM                       -0.022079745       \n",
       "LV 5                                              0.007663157       \n",
       "                                                 SRP000599.SRR013550\n",
       "1,REACTOME_MRNA_SPLICING                         -0.047909034       \n",
       "2,SVM Monocytes                                   0.003625471       \n",
       "3,REACTOME_TRANSMISSION_ACROSS_CHEMICAL_SYNAPSES -0.032232060       \n",
       "4,REACTOME_NEURONAL_SYSTEM                       -0.008970910       \n",
       "LV 5                                              0.007036176       \n",
       "                                                 SRP000599.SRR013551\n",
       "1,REACTOME_MRNA_SPLICING                         -0.049366085       \n",
       "2,SVM Monocytes                                   0.006604582       \n",
       "3,REACTOME_TRANSMISSION_ACROSS_CHEMICAL_SYNAPSES -0.020621382       \n",
       "4,REACTOME_NEURONAL_SYSTEM                       -0.020341711       \n",
       "LV 5                                              0.006608393       \n",
       "                                                 SRP000599.SRR013552\n",
       "1,REACTOME_MRNA_SPLICING                         -0.065078034       \n",
       "2,SVM Monocytes                                   0.009258006       \n",
       "3,REACTOME_TRANSMISSION_ACROSS_CHEMICAL_SYNAPSES -0.027598555       \n",
       "4,REACTOME_NEURONAL_SYSTEM                       -0.016260213       \n",
       "LV 5                                              0.003446311       \n",
       "                                                 SRP000599.SRR013553\n",
       "1,REACTOME_MRNA_SPLICING                         -0.036394186       \n",
       "2,SVM Monocytes                                   0.005061427       \n",
       "3,REACTOME_TRANSMISSION_ACROSS_CHEMICAL_SYNAPSES -0.035248076       \n",
       "4,REACTOME_NEURONAL_SYSTEM                       -0.003022898       \n",
       "LV 5                                              0.006340665       \n",
       "                                                 SRP000599.SRR013554\n",
       "1,REACTOME_MRNA_SPLICING                         -0.046432986       \n",
       "2,SVM Monocytes                                   0.004132735       \n",
       "3,REACTOME_TRANSMISSION_ACROSS_CHEMICAL_SYNAPSES -0.038700769       \n",
       "4,REACTOME_NEURONAL_SYSTEM                        0.002442659       \n",
       "LV 5                                              0.007106127       \n",
       "                                                 SRP000599.SRR013555\n",
       "1,REACTOME_MRNA_SPLICING                         -0.040980500       \n",
       "2,SVM Monocytes                                   0.008950264       \n",
       "3,REACTOME_TRANSMISSION_ACROSS_CHEMICAL_SYNAPSES -0.032527087       \n",
       "4,REACTOME_NEURONAL_SYSTEM                       -0.020457842       \n",
       "LV 5                                              0.007930485       \n",
       "                                                 SRP000599.SRR013556\n",
       "1,REACTOME_MRNA_SPLICING                         -0.040068202       \n",
       "2,SVM Monocytes                                   0.007226716       \n",
       "3,REACTOME_TRANSMISSION_ACROSS_CHEMICAL_SYNAPSES -0.030592727       \n",
       "4,REACTOME_NEURONAL_SYSTEM                       -0.023735309       \n",
       "LV 5                                              0.009164026       \n",
       "                                                 SRP000599.SRR013557\n",
       "1,REACTOME_MRNA_SPLICING                         -0.046137392       \n",
       "2,SVM Monocytes                                   0.007240987       \n",
       "3,REACTOME_TRANSMISSION_ACROSS_CHEMICAL_SYNAPSES -0.028937277       \n",
       "4,REACTOME_NEURONAL_SYSTEM                       -0.021581483       \n",
       "LV 5                                              0.008023601       \n",
       "                                                 SRP000599.SRR013558 ⋯\n",
       "1,REACTOME_MRNA_SPLICING                         -0.048547681        ⋯\n",
       "2,SVM Monocytes                                   0.005709697        ⋯\n",
       "3,REACTOME_TRANSMISSION_ACROSS_CHEMICAL_SYNAPSES -0.027405660        ⋯\n",
       "4,REACTOME_NEURONAL_SYSTEM                       -0.022477572        ⋯\n",
       "LV 5                                              0.007937586        ⋯\n",
       "                                                 SRP035599.SRR1139372\n",
       "1,REACTOME_MRNA_SPLICING                          0.028219530        \n",
       "2,SVM Monocytes                                  -0.050455152        \n",
       "3,REACTOME_TRANSMISSION_ACROSS_CHEMICAL_SYNAPSES -0.028609689        \n",
       "4,REACTOME_NEURONAL_SYSTEM                       -0.037122216        \n",
       "LV 5                                             -0.003055909        \n",
       "                                                 SRP035599.SRR1139393\n",
       "1,REACTOME_MRNA_SPLICING                          0.035137107        \n",
       "2,SVM Monocytes                                  -0.034501970        \n",
       "3,REACTOME_TRANSMISSION_ACROSS_CHEMICAL_SYNAPSES -0.033449754        \n",
       "4,REACTOME_NEURONAL_SYSTEM                       -0.029658154        \n",
       "LV 5                                             -0.004783739        \n",
       "                                                 SRP035599.SRR1139388\n",
       "1,REACTOME_MRNA_SPLICING                          0.065077330        \n",
       "2,SVM Monocytes                                  -0.033640290        \n",
       "3,REACTOME_TRANSMISSION_ACROSS_CHEMICAL_SYNAPSES -0.030583001        \n",
       "4,REACTOME_NEURONAL_SYSTEM                       -0.036349546        \n",
       "LV 5                                             -0.004352417        \n",
       "                                                 SRP035599.SRR1139378\n",
       "1,REACTOME_MRNA_SPLICING                          0.078143650        \n",
       "2,SVM Monocytes                                  -0.049702173        \n",
       "3,REACTOME_TRANSMISSION_ACROSS_CHEMICAL_SYNAPSES -0.032399106        \n",
       "4,REACTOME_NEURONAL_SYSTEM                       -0.039253549        \n",
       "LV 5                                             -0.004159541        \n",
       "                                                 SRP035599.SRR1139399\n",
       "1,REACTOME_MRNA_SPLICING                          0.092361864        \n",
       "2,SVM Monocytes                                  -0.037425739        \n",
       "3,REACTOME_TRANSMISSION_ACROSS_CHEMICAL_SYNAPSES -0.029365381        \n",
       "4,REACTOME_NEURONAL_SYSTEM                       -0.035204624        \n",
       "LV 5                                             -0.001084991        \n",
       "                                                 SRP035599.SRR1139386\n",
       "1,REACTOME_MRNA_SPLICING                          0.069042346        \n",
       "2,SVM Monocytes                                  -0.050069528        \n",
       "3,REACTOME_TRANSMISSION_ACROSS_CHEMICAL_SYNAPSES -0.025405876        \n",
       "4,REACTOME_NEURONAL_SYSTEM                       -0.036345061        \n",
       "LV 5                                             -0.001884109        \n",
       "                                                 SRP035599.SRR1139375\n",
       "1,REACTOME_MRNA_SPLICING                          0.090913845        \n",
       "2,SVM Monocytes                                  -0.022575052        \n",
       "3,REACTOME_TRANSMISSION_ACROSS_CHEMICAL_SYNAPSES -0.033657228        \n",
       "4,REACTOME_NEURONAL_SYSTEM                       -0.034513880        \n",
       "LV 5                                             -0.003561052        \n",
       "                                                 SRP035599.SRR1139382\n",
       "1,REACTOME_MRNA_SPLICING                          0.096341467        \n",
       "2,SVM Monocytes                                  -0.055091302        \n",
       "3,REACTOME_TRANSMISSION_ACROSS_CHEMICAL_SYNAPSES -0.031317680        \n",
       "4,REACTOME_NEURONAL_SYSTEM                       -0.035925708        \n",
       "LV 5                                             -0.003546184        \n",
       "                                                 SRP035599.SRR1139356\n",
       "1,REACTOME_MRNA_SPLICING                          0.13111465         \n",
       "2,SVM Monocytes                                  -0.05686929         \n",
       "3,REACTOME_TRANSMISSION_ACROSS_CHEMICAL_SYNAPSES -0.03092424         \n",
       "4,REACTOME_NEURONAL_SYSTEM                       -0.04035837         \n",
       "LV 5                                             -0.01210732         \n",
       "                                                 SRP035599.SRR1139370\n",
       "1,REACTOME_MRNA_SPLICING                          0.171751422        \n",
       "2,SVM Monocytes                                  -0.018072570        \n",
       "3,REACTOME_TRANSMISSION_ACROSS_CHEMICAL_SYNAPSES -0.027868614        \n",
       "4,REACTOME_NEURONAL_SYSTEM                       -0.031131153        \n",
       "LV 5                                             -0.001192709        "
      ]
     },
     "metadata": {},
     "output_type": "display_data"
    },
    {
     "data": {
      "text/html": [
       "<table class=\"dataframe\">\n",
       "<caption>A matrix: 5 × 987 of type dbl</caption>\n",
       "<tbody>\n",
       "\t<tr><th scope=row>GAS6</th><td>0.0000000</td><td>0</td><td>0.03943774</td><td>0</td><td>0.05047625</td><td>0.00000000</td><td>0</td><td>0.000000000</td><td>0.5909494</td><td>0.00000000</td><td>⋯</td><td>0.05012510</td><td>0.00000000</td><td>0.033407371</td><td>0.00000000</td><td>0.00000000</td><td>0.005963392</td><td>0.34736209</td><td>0</td><td>0.00000000</td><td>0.0000000</td></tr>\n",
       "\t<tr><th scope=row>MMP14</th><td>0.0000000</td><td>0</td><td>0.00000000</td><td>0</td><td>0.07007159</td><td>0.00000000</td><td>0</td><td>0.004904131</td><td>1.7201788</td><td>2.42359463</td><td>⋯</td><td>0.00000000</td><td>0.00000000</td><td>0.001007286</td><td>0.00000000</td><td>0.03574724</td><td>0.000000000</td><td>0.00000000</td><td>0</td><td>0.01497801</td><td>0.0000000</td></tr>\n",
       "\t<tr><th scope=row>DSP</th><td>0.0000000</td><td>0</td><td>0.00000000</td><td>0</td><td>0.00000000</td><td>0.04169683</td><td>0</td><td>0.005718149</td><td>0.0000000</td><td>0.00000000</td><td>⋯</td><td>0.02085321</td><td>0.00000000</td><td>0.000000000</td><td>0.00000000</td><td>0.00000000</td><td>0.005774440</td><td>0.00000000</td><td>0</td><td>0.00000000</td><td>0.4164045</td></tr>\n",
       "\t<tr><th scope=row>MARCKSL1</th><td>0.3052117</td><td>0</td><td>0.00000000</td><td>0</td><td>0.00000000</td><td>0.00000000</td><td>0</td><td>0.000000000</td><td>0.1618435</td><td>0.14947148</td><td>⋯</td><td>0.02713418</td><td>0.05271997</td><td>0.000000000</td><td>0.03018947</td><td>0.06088351</td><td>0.000000000</td><td>0.00000000</td><td>0</td><td>0.00000000</td><td>0.4484800</td></tr>\n",
       "\t<tr><th scope=row>SPARC</th><td>0.0000000</td><td>0</td><td>0.00000000</td><td>0</td><td>0.00000000</td><td>0.00000000</td><td>0</td><td>0.000000000</td><td>0.0000000</td><td>0.01401441</td><td>⋯</td><td>0.00000000</td><td>0.00000000</td><td>0.000000000</td><td>0.00000000</td><td>0.00000000</td><td>0.000000000</td><td>0.06777859</td><td>0</td><td>0.12241734</td><td>0.0626649</td></tr>\n",
       "</tbody>\n",
       "</table>\n"
      ],
      "text/latex": [
       "A matrix: 5 × 987 of type dbl\n",
       "\\begin{tabular}{r|lllllllllllllllllllll}\n",
       "\tGAS6 & 0.0000000 & 0 & 0.03943774 & 0 & 0.05047625 & 0.00000000 & 0 & 0.000000000 & 0.5909494 & 0.00000000 & ⋯ & 0.05012510 & 0.00000000 & 0.033407371 & 0.00000000 & 0.00000000 & 0.005963392 & 0.34736209 & 0 & 0.00000000 & 0.0000000\\\\\n",
       "\tMMP14 & 0.0000000 & 0 & 0.00000000 & 0 & 0.07007159 & 0.00000000 & 0 & 0.004904131 & 1.7201788 & 2.42359463 & ⋯ & 0.00000000 & 0.00000000 & 0.001007286 & 0.00000000 & 0.03574724 & 0.000000000 & 0.00000000 & 0 & 0.01497801 & 0.0000000\\\\\n",
       "\tDSP & 0.0000000 & 0 & 0.00000000 & 0 & 0.00000000 & 0.04169683 & 0 & 0.005718149 & 0.0000000 & 0.00000000 & ⋯ & 0.02085321 & 0.00000000 & 0.000000000 & 0.00000000 & 0.00000000 & 0.005774440 & 0.00000000 & 0 & 0.00000000 & 0.4164045\\\\\n",
       "\tMARCKSL1 & 0.3052117 & 0 & 0.00000000 & 0 & 0.00000000 & 0.00000000 & 0 & 0.000000000 & 0.1618435 & 0.14947148 & ⋯ & 0.02713418 & 0.05271997 & 0.000000000 & 0.03018947 & 0.06088351 & 0.000000000 & 0.00000000 & 0 & 0.00000000 & 0.4484800\\\\\n",
       "\tSPARC & 0.0000000 & 0 & 0.00000000 & 0 & 0.00000000 & 0.00000000 & 0 & 0.000000000 & 0.0000000 & 0.01401441 & ⋯ & 0.00000000 & 0.00000000 & 0.000000000 & 0.00000000 & 0.00000000 & 0.000000000 & 0.06777859 & 0 & 0.12241734 & 0.0626649\\\\\n",
       "\\end{tabular}\n"
      ],
      "text/markdown": [
       "\n",
       "A matrix: 5 × 987 of type dbl\n",
       "\n",
       "| GAS6 | 0.0000000 | 0 | 0.03943774 | 0 | 0.05047625 | 0.00000000 | 0 | 0.000000000 | 0.5909494 | 0.00000000 | ⋯ | 0.05012510 | 0.00000000 | 0.033407371 | 0.00000000 | 0.00000000 | 0.005963392 | 0.34736209 | 0 | 0.00000000 | 0.0000000 |\n",
       "| MMP14 | 0.0000000 | 0 | 0.00000000 | 0 | 0.07007159 | 0.00000000 | 0 | 0.004904131 | 1.7201788 | 2.42359463 | ⋯ | 0.00000000 | 0.00000000 | 0.001007286 | 0.00000000 | 0.03574724 | 0.000000000 | 0.00000000 | 0 | 0.01497801 | 0.0000000 |\n",
       "| DSP | 0.0000000 | 0 | 0.00000000 | 0 | 0.00000000 | 0.04169683 | 0 | 0.005718149 | 0.0000000 | 0.00000000 | ⋯ | 0.02085321 | 0.00000000 | 0.000000000 | 0.00000000 | 0.00000000 | 0.005774440 | 0.00000000 | 0 | 0.00000000 | 0.4164045 |\n",
       "| MARCKSL1 | 0.3052117 | 0 | 0.00000000 | 0 | 0.00000000 | 0.00000000 | 0 | 0.000000000 | 0.1618435 | 0.14947148 | ⋯ | 0.02713418 | 0.05271997 | 0.000000000 | 0.03018947 | 0.06088351 | 0.000000000 | 0.00000000 | 0 | 0.00000000 | 0.4484800 |\n",
       "| SPARC | 0.0000000 | 0 | 0.00000000 | 0 | 0.00000000 | 0.00000000 | 0 | 0.000000000 | 0.0000000 | 0.01401441 | ⋯ | 0.00000000 | 0.00000000 | 0.000000000 | 0.00000000 | 0.00000000 | 0.000000000 | 0.06777859 | 0 | 0.12241734 | 0.0626649 |\n",
       "\n"
      ],
      "text/plain": [
       "         [,1]      [,2] [,3]       [,4] [,5]       [,6]       [,7] [,8]       \n",
       "GAS6     0.0000000 0    0.03943774 0    0.05047625 0.00000000 0    0.000000000\n",
       "MMP14    0.0000000 0    0.00000000 0    0.07007159 0.00000000 0    0.004904131\n",
       "DSP      0.0000000 0    0.00000000 0    0.00000000 0.04169683 0    0.005718149\n",
       "MARCKSL1 0.3052117 0    0.00000000 0    0.00000000 0.00000000 0    0.000000000\n",
       "SPARC    0.0000000 0    0.00000000 0    0.00000000 0.00000000 0    0.000000000\n",
       "         [,9]      [,10]      [,11] [,12]      [,13]      [,14]      \n",
       "GAS6     0.5909494 0.00000000 ⋯     0.05012510 0.00000000 0.033407371\n",
       "MMP14    1.7201788 2.42359463 ⋯     0.00000000 0.00000000 0.001007286\n",
       "DSP      0.0000000 0.00000000 ⋯     0.02085321 0.00000000 0.000000000\n",
       "MARCKSL1 0.1618435 0.14947148 ⋯     0.02713418 0.05271997 0.000000000\n",
       "SPARC    0.0000000 0.01401441 ⋯     0.00000000 0.00000000 0.000000000\n",
       "         [,15]      [,16]      [,17]       [,18]      [,19] [,20]     \n",
       "GAS6     0.00000000 0.00000000 0.005963392 0.34736209 0     0.00000000\n",
       "MMP14    0.00000000 0.03574724 0.000000000 0.00000000 0     0.01497801\n",
       "DSP      0.00000000 0.00000000 0.005774440 0.00000000 0     0.00000000\n",
       "MARCKSL1 0.03018947 0.06088351 0.000000000 0.00000000 0     0.00000000\n",
       "SPARC    0.00000000 0.00000000 0.000000000 0.06777859 0     0.12241734\n",
       "         [,21]    \n",
       "GAS6     0.0000000\n",
       "MMP14    0.0000000\n",
       "DSP      0.4164045\n",
       "MARCKSL1 0.4484800\n",
       "SPARC    0.0626649"
      ]
     },
     "metadata": {},
     "output_type": "display_data"
    }
   ],
   "source": [
    "# LV x samples\n",
    "b_model <- readRDS(\"data/input/multiplier_model_b.rds\")\n",
    "head(b_model,5)\n",
    "# gene x LV\n",
    "z_model <- readRDS(\"data/input/multiplier_model_z.rds\")\n",
    "head(z_model,5)"
   ]
  },
  {
   "cell_type": "markdown",
   "metadata": {},
   "source": [
    "## label z_matrix with ensemblID instead of gene name"
   ]
  },
  {
   "cell_type": "code",
   "execution_count": 37,
   "metadata": {},
   "outputs": [
    {
     "name": "stdout",
     "output_type": "stream",
     "text": [
      " num [1:6455, 1:987] 0 0.2712 0.0051 0.513 1.0082 ...\n",
      " - attr(*, \"dimnames\")=List of 2\n",
      "  ..$ : chr [1:6455] \"ENSG00000175899\" \"ENSG00000094914\" \"ENSG00000129673\" \"ENSG00000090861\" ...\n",
      "  ..$ : chr [1:987] \"V1\" \"V2\" \"V3\" \"V4\" ...\n"
     ]
    },
    {
     "data": {
      "text/html": [
       "<table class=\"dataframe\">\n",
       "<caption>A matrix: 5 × 987 of type dbl</caption>\n",
       "<thead>\n",
       "\t<tr><th></th><th scope=col>V1</th><th scope=col>V2</th><th scope=col>V3</th><th scope=col>V4</th><th scope=col>V5</th><th scope=col>V6</th><th scope=col>V7</th><th scope=col>V8</th><th scope=col>V9</th><th scope=col>V10</th><th scope=col>⋯</th><th scope=col>V978</th><th scope=col>V979</th><th scope=col>V980</th><th scope=col>V981</th><th scope=col>V982</th><th scope=col>V983</th><th scope=col>V984</th><th scope=col>V985</th><th scope=col>V986</th><th scope=col>V987</th></tr>\n",
       "</thead>\n",
       "<tbody>\n",
       "\t<tr><th scope=row>ENSG00000175899</th><td>0.000000000</td><td>0.0000000</td><td>0.00000000</td><td>0.07842750</td><td>0</td><td>0.0000000</td><td>0.0000000</td><td>0.04677228</td><td>0.0000000</td><td>0.0110329</td><td>⋯</td><td>0.010910</td><td>0.00000000</td><td>0.052869436</td><td>0.012748534</td><td>0</td><td>0.01398231</td><td>0.15224090</td><td>0.00000000</td><td>0.0000000</td><td>0.10888358</td></tr>\n",
       "\t<tr><th scope=row>ENSG00000094914</th><td>0.271162234</td><td>0.0000000</td><td>0.00000000</td><td>0.00000000</td><td>0</td><td>0.0000000</td><td>0.0000000</td><td>0.00000000</td><td>1.5133366</td><td>0.0000000</td><td>⋯</td><td>0.000000</td><td>0.00000000</td><td>0.000000000</td><td>0.001385031</td><td>0</td><td>0.00000000</td><td>0.71189565</td><td>0.03053447</td><td>0.4471055</td><td>0.42468522</td></tr>\n",
       "\t<tr><th scope=row>ENSG00000129673</th><td>0.005098885</td><td>0.3084969</td><td>0.02881539</td><td>0.00000000</td><td>0</td><td>0.0000000</td><td>0.3717253</td><td>0.00000000</td><td>0.1352375</td><td>0.0000000</td><td>⋯</td><td>0.117163</td><td>0.01881498</td><td>0.000000000</td><td>0.193141835</td><td>0</td><td>0.04040077</td><td>0.18043565</td><td>0.00000000</td><td>0.0000000</td><td>0.04206449</td></tr>\n",
       "\t<tr><th scope=row>ENSG00000090861</th><td>0.512978085</td><td>0.0000000</td><td>0.45128547</td><td>0.31956792</td><td>0</td><td>0.0000000</td><td>0.0000000</td><td>0.00000000</td><td>0.0000000</td><td>0.0000000</td><td>⋯</td><td>0.000000</td><td>0.00000000</td><td>0.006207784</td><td>0.021274385</td><td>0</td><td>0.00000000</td><td>0.06214269</td><td>0.00000000</td><td>0.0000000</td><td>0.36489213</td></tr>\n",
       "\t<tr><th scope=row>ENSG00000124608</th><td>1.008156895</td><td>0.0000000</td><td>0.19742406</td><td>0.02483182</td><td>0</td><td>0.5708101</td><td>0.0000000</td><td>0.22867460</td><td>0.0000000</td><td>0.1162435</td><td>⋯</td><td>0.000000</td><td>0.00000000</td><td>0.153344992</td><td>0.000000000</td><td>0</td><td>0.00000000</td><td>1.00457811</td><td>0.01447016</td><td>0.0000000</td><td>0.00000000</td></tr>\n",
       "</tbody>\n",
       "</table>\n"
      ],
      "text/latex": [
       "A matrix: 5 × 987 of type dbl\n",
       "\\begin{tabular}{r|lllllllllllllllllllll}\n",
       "  & V1 & V2 & V3 & V4 & V5 & V6 & V7 & V8 & V9 & V10 & ⋯ & V978 & V979 & V980 & V981 & V982 & V983 & V984 & V985 & V986 & V987\\\\\n",
       "\\hline\n",
       "\tENSG00000175899 & 0.000000000 & 0.0000000 & 0.00000000 & 0.07842750 & 0 & 0.0000000 & 0.0000000 & 0.04677228 & 0.0000000 & 0.0110329 & ⋯ & 0.010910 & 0.00000000 & 0.052869436 & 0.012748534 & 0 & 0.01398231 & 0.15224090 & 0.00000000 & 0.0000000 & 0.10888358\\\\\n",
       "\tENSG00000094914 & 0.271162234 & 0.0000000 & 0.00000000 & 0.00000000 & 0 & 0.0000000 & 0.0000000 & 0.00000000 & 1.5133366 & 0.0000000 & ⋯ & 0.000000 & 0.00000000 & 0.000000000 & 0.001385031 & 0 & 0.00000000 & 0.71189565 & 0.03053447 & 0.4471055 & 0.42468522\\\\\n",
       "\tENSG00000129673 & 0.005098885 & 0.3084969 & 0.02881539 & 0.00000000 & 0 & 0.0000000 & 0.3717253 & 0.00000000 & 0.1352375 & 0.0000000 & ⋯ & 0.117163 & 0.01881498 & 0.000000000 & 0.193141835 & 0 & 0.04040077 & 0.18043565 & 0.00000000 & 0.0000000 & 0.04206449\\\\\n",
       "\tENSG00000090861 & 0.512978085 & 0.0000000 & 0.45128547 & 0.31956792 & 0 & 0.0000000 & 0.0000000 & 0.00000000 & 0.0000000 & 0.0000000 & ⋯ & 0.000000 & 0.00000000 & 0.006207784 & 0.021274385 & 0 & 0.00000000 & 0.06214269 & 0.00000000 & 0.0000000 & 0.36489213\\\\\n",
       "\tENSG00000124608 & 1.008156895 & 0.0000000 & 0.19742406 & 0.02483182 & 0 & 0.5708101 & 0.0000000 & 0.22867460 & 0.0000000 & 0.1162435 & ⋯ & 0.000000 & 0.00000000 & 0.153344992 & 0.000000000 & 0 & 0.00000000 & 1.00457811 & 0.01447016 & 0.0000000 & 0.00000000\\\\\n",
       "\\end{tabular}\n"
      ],
      "text/markdown": [
       "\n",
       "A matrix: 5 × 987 of type dbl\n",
       "\n",
       "| <!--/--> | V1 | V2 | V3 | V4 | V5 | V6 | V7 | V8 | V9 | V10 | ⋯ | V978 | V979 | V980 | V981 | V982 | V983 | V984 | V985 | V986 | V987 |\n",
       "|---|---|---|---|---|---|---|---|---|---|---|---|---|---|---|---|---|---|---|---|---|---|\n",
       "| ENSG00000175899 | 0.000000000 | 0.0000000 | 0.00000000 | 0.07842750 | 0 | 0.0000000 | 0.0000000 | 0.04677228 | 0.0000000 | 0.0110329 | ⋯ | 0.010910 | 0.00000000 | 0.052869436 | 0.012748534 | 0 | 0.01398231 | 0.15224090 | 0.00000000 | 0.0000000 | 0.10888358 |\n",
       "| ENSG00000094914 | 0.271162234 | 0.0000000 | 0.00000000 | 0.00000000 | 0 | 0.0000000 | 0.0000000 | 0.00000000 | 1.5133366 | 0.0000000 | ⋯ | 0.000000 | 0.00000000 | 0.000000000 | 0.001385031 | 0 | 0.00000000 | 0.71189565 | 0.03053447 | 0.4471055 | 0.42468522 |\n",
       "| ENSG00000129673 | 0.005098885 | 0.3084969 | 0.02881539 | 0.00000000 | 0 | 0.0000000 | 0.3717253 | 0.00000000 | 0.1352375 | 0.0000000 | ⋯ | 0.117163 | 0.01881498 | 0.000000000 | 0.193141835 | 0 | 0.04040077 | 0.18043565 | 0.00000000 | 0.0000000 | 0.04206449 |\n",
       "| ENSG00000090861 | 0.512978085 | 0.0000000 | 0.45128547 | 0.31956792 | 0 | 0.0000000 | 0.0000000 | 0.00000000 | 0.0000000 | 0.0000000 | ⋯ | 0.000000 | 0.00000000 | 0.006207784 | 0.021274385 | 0 | 0.00000000 | 0.06214269 | 0.00000000 | 0.0000000 | 0.36489213 |\n",
       "| ENSG00000124608 | 1.008156895 | 0.0000000 | 0.19742406 | 0.02483182 | 0 | 0.5708101 | 0.0000000 | 0.22867460 | 0.0000000 | 0.1162435 | ⋯ | 0.000000 | 0.00000000 | 0.153344992 | 0.000000000 | 0 | 0.00000000 | 1.00457811 | 0.01447016 | 0.0000000 | 0.00000000 |\n",
       "\n"
      ],
      "text/plain": [
       "                V1          V2        V3         V4         V5 V6       \n",
       "ENSG00000175899 0.000000000 0.0000000 0.00000000 0.07842750 0  0.0000000\n",
       "ENSG00000094914 0.271162234 0.0000000 0.00000000 0.00000000 0  0.0000000\n",
       "ENSG00000129673 0.005098885 0.3084969 0.02881539 0.00000000 0  0.0000000\n",
       "ENSG00000090861 0.512978085 0.0000000 0.45128547 0.31956792 0  0.0000000\n",
       "ENSG00000124608 1.008156895 0.0000000 0.19742406 0.02483182 0  0.5708101\n",
       "                V7        V8         V9        V10       ⋯ V978     V979      \n",
       "ENSG00000175899 0.0000000 0.04677228 0.0000000 0.0110329 ⋯ 0.010910 0.00000000\n",
       "ENSG00000094914 0.0000000 0.00000000 1.5133366 0.0000000 ⋯ 0.000000 0.00000000\n",
       "ENSG00000129673 0.3717253 0.00000000 0.1352375 0.0000000 ⋯ 0.117163 0.01881498\n",
       "ENSG00000090861 0.0000000 0.00000000 0.0000000 0.0000000 ⋯ 0.000000 0.00000000\n",
       "ENSG00000124608 0.0000000 0.22867460 0.0000000 0.1162435 ⋯ 0.000000 0.00000000\n",
       "                V980        V981        V982 V983       V984       V985      \n",
       "ENSG00000175899 0.052869436 0.012748534 0    0.01398231 0.15224090 0.00000000\n",
       "ENSG00000094914 0.000000000 0.001385031 0    0.00000000 0.71189565 0.03053447\n",
       "ENSG00000129673 0.000000000 0.193141835 0    0.04040077 0.18043565 0.00000000\n",
       "ENSG00000090861 0.006207784 0.021274385 0    0.00000000 0.06214269 0.00000000\n",
       "ENSG00000124608 0.153344992 0.000000000 0    0.00000000 1.00457811 0.01447016\n",
       "                V986      V987      \n",
       "ENSG00000175899 0.0000000 0.10888358\n",
       "ENSG00000094914 0.4471055 0.42468522\n",
       "ENSG00000129673 0.0000000 0.04206449\n",
       "ENSG00000090861 0.0000000 0.36489213\n",
       "ENSG00000124608 0.0000000 0.00000000"
      ]
     },
     "metadata": {},
     "output_type": "display_data"
    },
    {
     "data": {
      "text/html": [
       "<style>\n",
       ".list-inline {list-style: none; margin:0; padding: 0}\n",
       ".list-inline>li {display: inline-block}\n",
       ".list-inline>li:not(:last-child)::after {content: \"\\00b7\"; padding: 0 .5ex}\n",
       "</style>\n",
       "<ol class=list-inline><li>6455</li><li>987</li></ol>\n"
      ],
      "text/latex": [
       "\\begin{enumerate*}\n",
       "\\item 6455\n",
       "\\item 987\n",
       "\\end{enumerate*}\n"
      ],
      "text/markdown": [
       "1. 6455\n",
       "2. 987\n",
       "\n",
       "\n"
      ],
      "text/plain": [
       "[1] 6455  987"
      ]
     },
     "metadata": {},
     "output_type": "display_data"
    },
    {
     "name": "stdout",
     "output_type": "stream",
     "text": [
      "List of 5\n",
      " $ Z : num [1:6455, 1:987] 0 0.2712 0.0051 0.513 1.0082 ...\n",
      "  ..- attr(*, \"dimnames\")=List of 2\n",
      "  .. ..$ : chr [1:6455] \"ENSG00000175899\" \"ENSG00000094914\" \"ENSG00000129673\" \"ENSG00000090861\" ...\n",
      "  .. ..$ : chr [1:987] \"V1\" \"V2\" \"V3\" \"V4\" ...\n",
      " $ B : num [1:987, 1:37032] -0.0593 0.00621 -0.02611 -0.02208 0.00766 ...\n",
      "  ..- attr(*, \"dimnames\")=List of 2\n",
      "  .. ..$ : chr [1:987] \"1,REACTOME_MRNA_SPLICING\" \"2,SVM Monocytes\" \"3,REACTOME_TRANSMISSION_ACROSS_CHEMICAL_SYNAPSES\" \"4,REACTOME_NEURONAL_SYSTEM\" ...\n",
      "  .. ..$ : chr [1:37032] \"SRP000599.SRR013549\" \"SRP000599.SRR013550\" \"SRP000599.SRR013551\" \"SRP000599.SRR013552\" ...\n",
      " $ L1: num 121\n",
      " $ L2: num 241\n",
      " $ L3: num 0.0127\n"
     ]
    }
   ],
   "source": [
    "# convert matrix to dataframe with gene as rownames\n",
    "z_df <- cbind(gene = rownames(z_model), as.data.frame(z_model))\n",
    "# merge dataframe with 'name_to_ID' (file containing name and ensembleID) by gene\n",
    "EnsID_df <- merge(z_df, name_to_ID, by = \"gene\")\n",
    "#set rownames of new dataframe to ensembleID\n",
    "rownames(EnsID_df) <- EnsID_df$EnsemblID\n",
    "#remove gene and ensembleID column\n",
    "z_matrix <- as.matrix(EnsID_df[, !(colnames(EnsID_df) %in% c(\"gene\", \"EnsemblID\"))])\n",
    "\n",
    "str(z_matrix)\n",
    "head(z_matrix,5)\n",
    "dim(z_matrix)\n",
    "\n",
    "#put z and b matrix in a list\n",
    "plier.model <- list(Z = z_matrix, B =b_model, L1 = metadata$L1, L2 = metadata$L2, L3 = metadata$L3)"
   ]
  },
  {
   "cell_type": "code",
   "execution_count": 11,
   "metadata": {},
   "outputs": [
    {
     "data": {
      "text/html": [
       "<style>\n",
       ".list-inline {list-style: none; margin:0; padding: 0}\n",
       ".list-inline>li {display: inline-block}\n",
       ".list-inline>li:not(:last-child)::after {content: \"\\00b7\"; padding: 0 .5ex}\n",
       "</style>\n",
       "<ol class=list-inline><li>'b_model'</li><li>'CalculateHoldoutAUC'</li><li>'CalculateUSparsity'</li><li>'data_t'</li><li>'EnsID_df'</li><li>'EvalWrapper'</li><li>'EvalWrapperWithHoldout'</li><li>'GetNewDataB'</li><li>'GetOrderedRowNorm'</li><li>'GetOrderedRowNormEM'</li><li>'GetPathwayCoverage'</li><li>'GetReconstructedExprs'</li><li>'GetReconstructionCorrelation'</li><li>'GetReconstructionMASE'</li><li>'metadata'</li><li>'name_to_ID'</li><li>'path_to_rna'</li><li>'plier.model'</li><li>'PLIERNewData'</li><li>'py_data'</li><li>'RNAseq_1_res'</li><li>'z_df'</li><li>'z_matrix'</li><li>'z_model'</li></ol>\n"
      ],
      "text/latex": [
       "\\begin{enumerate*}\n",
       "\\item 'b\\_model'\n",
       "\\item 'CalculateHoldoutAUC'\n",
       "\\item 'CalculateUSparsity'\n",
       "\\item 'data\\_t'\n",
       "\\item 'EnsID\\_df'\n",
       "\\item 'EvalWrapper'\n",
       "\\item 'EvalWrapperWithHoldout'\n",
       "\\item 'GetNewDataB'\n",
       "\\item 'GetOrderedRowNorm'\n",
       "\\item 'GetOrderedRowNormEM'\n",
       "\\item 'GetPathwayCoverage'\n",
       "\\item 'GetReconstructedExprs'\n",
       "\\item 'GetReconstructionCorrelation'\n",
       "\\item 'GetReconstructionMASE'\n",
       "\\item 'metadata'\n",
       "\\item 'name\\_to\\_ID'\n",
       "\\item 'path\\_to\\_rna'\n",
       "\\item 'plier.model'\n",
       "\\item 'PLIERNewData'\n",
       "\\item 'py\\_data'\n",
       "\\item 'RNAseq\\_1\\_res'\n",
       "\\item 'z\\_df'\n",
       "\\item 'z\\_matrix'\n",
       "\\item 'z\\_model'\n",
       "\\end{enumerate*}\n"
      ],
      "text/markdown": [
       "1. 'b_model'\n",
       "2. 'CalculateHoldoutAUC'\n",
       "3. 'CalculateUSparsity'\n",
       "4. 'data_t'\n",
       "5. 'EnsID_df'\n",
       "6. 'EvalWrapper'\n",
       "7. 'EvalWrapperWithHoldout'\n",
       "8. 'GetNewDataB'\n",
       "9. 'GetOrderedRowNorm'\n",
       "10. 'GetOrderedRowNormEM'\n",
       "11. 'GetPathwayCoverage'\n",
       "12. 'GetReconstructedExprs'\n",
       "13. 'GetReconstructionCorrelation'\n",
       "14. 'GetReconstructionMASE'\n",
       "15. 'metadata'\n",
       "16. 'name_to_ID'\n",
       "17. 'path_to_rna'\n",
       "18. 'plier.model'\n",
       "19. 'PLIERNewData'\n",
       "20. 'py_data'\n",
       "21. 'RNAseq_1_res'\n",
       "22. 'z_df'\n",
       "23. 'z_matrix'\n",
       "24. 'z_model'\n",
       "\n",
       "\n"
      ],
      "text/plain": [
       " [1] \"b_model\"                      \"CalculateHoldoutAUC\"         \n",
       " [3] \"CalculateUSparsity\"           \"data_t\"                      \n",
       " [5] \"EnsID_df\"                     \"EvalWrapper\"                 \n",
       " [7] \"EvalWrapperWithHoldout\"       \"GetNewDataB\"                 \n",
       " [9] \"GetOrderedRowNorm\"            \"GetOrderedRowNormEM\"         \n",
       "[11] \"GetPathwayCoverage\"           \"GetReconstructedExprs\"       \n",
       "[13] \"GetReconstructionCorrelation\" \"GetReconstructionMASE\"       \n",
       "[15] \"metadata\"                     \"name_to_ID\"                  \n",
       "[17] \"path_to_rna\"                  \"plier.model\"                 \n",
       "[19] \"PLIERNewData\"                 \"py_data\"                     \n",
       "[21] \"RNAseq_1_res\"                 \"z_df\"                        \n",
       "[23] \"z_matrix\"                     \"z_model\"                     "
      ]
     },
     "metadata": {},
     "output_type": "display_data"
    }
   ],
   "source": [
    "ls()"
   ]
  },
  {
   "cell_type": "code",
   "execution_count": 23,
   "metadata": {},
   "outputs": [],
   "source": [
    "#order gen expression matrix to match plier model\n",
    "ordered_mat <- GetOrderedRowNormEM(RNAseq_1_res, plier.model)\n",
    "\n",
    "#gen_expressiom matrix\n",
    "ordered_DAISY_gen_expr <- ordered_mat$exprs.norm.filtered\n",
    "\n",
    "#plier model matrix\n",
    "ordered_model <- ordered_mat$plier.model"
   ]
  },
  {
   "cell_type": "code",
   "execution_count": 24,
   "metadata": {},
   "outputs": [],
   "source": [
    "#project gen expression matrix into plier model\n",
    "projection <- GetNewDataB(ordered_DAISY_gen_expr,ordered_model)"
   ]
  },
  {
   "cell_type": "code",
   "execution_count": 28,
   "metadata": {},
   "outputs": [],
   "source": [
    "this <- PLIER::PLIER"
   ]
  },
  {
   "cell_type": "code",
   "execution_count": 29,
   "metadata": {},
   "outputs": [
    {
     "name": "stdout",
     "output_type": "stream",
     "text": [
      "function (data, priorMat, svdres = NULL, k = NULL, L1 = NULL, L2 = NULL, \n",
      "    L3 = NULL, frac = 0.7, max.iter = 350, trace = F, scale = T, Chat = NULL, \n",
      "    maxPath = 10, doCrossval = T, penalty.factor = rep(1, ncol(priorMat)), \n",
      "    glm_alpha = 0.9, minGenes = 10, tol = 1e-06, seed = 123456, allGenes = F, \n",
      "    rseed = NULL, pathwaySelection = c(\"complete\", \"fast\"))  \n"
     ]
    }
   ],
   "source": []
  },
  {
   "cell_type": "code",
   "execution_count": null,
   "metadata": {},
   "outputs": [],
   "source": []
  }
 ],
 "metadata": {
  "kernelspec": {
   "display_name": "R [conda env:T1D_Pheno] *",
   "language": "R",
   "name": "conda-env-T1D_Pheno-r"
  },
  "language_info": {
   "codemirror_mode": "r",
   "file_extension": ".r",
   "mimetype": "text/x-r-source",
   "name": "R",
   "pygments_lexer": "r",
   "version": "4.4.2"
  }
 },
 "nbformat": 4,
 "nbformat_minor": 4
}
