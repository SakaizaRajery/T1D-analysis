{
 "cells": [
  {
   "cell_type": "markdown",
   "metadata": {},
   "source": [
    "# DAISY RNAseq data projection\n",
    "\n",
    "This notebook project RNA sequencing data into a Latent Space representing gene modules that are co expressed given various conditions, cell types, ... \n",
    "\n",
    "Sakaiza Rasolofomanana Rajery\n",
    "\n",
    "12/19/2024"
   ]
  },
  {
   "cell_type": "markdown",
   "metadata": {},
   "source": [
    "## load packages"
   ]
  },
  {
   "cell_type": "code",
   "execution_count": 16,
   "metadata": {},
   "outputs": [],
   "source": [
    "library(tidyverse,warn.conflicts=FALSE)\n",
    "library(reticulate)\n",
    "library(MASS,warn.conflicts=FALSE)\n",
    "library(devtools,warn.conflicts=FALSE)\n",
    "library(PLIER,warn.conflicts=FALSE)\n",
    "library(reticulate)\n",
    "library(\"ggpubr\")\n",
    "#install_github(\"wgmao/PLIER\")"
   ]
  },
  {
   "cell_type": "code",
   "execution_count": 17,
   "metadata": {},
   "outputs": [],
   "source": [
    "# srouce plier_util to get function GetnewdataB \n",
    "source('scripts/plier_util.R')"
   ]
  },
  {
   "cell_type": "code",
   "execution_count": 18,
   "metadata": {},
   "outputs": [],
   "source": [
    "# use GetOrderedRowNormEM function from Marc to order matrices\n",
    "GetOrderedRowNormEM <- function(exprs.mat, plier.model) {\n",
    "\n",
    "    require(PLIER)\n",
    "    \n",
    "    # Z-score normalization\n",
    "    exprs.norm <- rowNorm(exprs.mat)\n",
    "    exprs.norm <- na.omit(exprs.norm)\n",
    "    \n",
    "    z.mat <- plier.model$Z\n",
    "    genes.in.model <- rownames(z.mat)\n",
    "    genes_in_exprs <- rownames(exprs.norm)\n",
    "    \n",
    "    # Find the common genes\n",
    "    common_genes <- intersect(genes_in_exprs, genes.in.model)\n",
    "    \n",
    "    # Filter the matrices based on the common genes\n",
    "    exprs.norm.filtered <- exprs.norm[common_genes, , drop = FALSE]\n",
    "    z.mat.filtered <- z.mat[common_genes, , drop = FALSE]\n",
    "        \n",
    "  # Update the plier.model with the new Z matrix\n",
    "  plier.model$Z <- z.mat.filtered\n",
    "\n",
    "  # Return the updated plier.model and the filtered exprs.norm\n",
    "  list(plier.model = plier.model, exprs.norm.filtered = exprs.norm.filtered)\n",
    "\n",
    "}"
   ]
  },
  {
   "cell_type": "markdown",
   "metadata": {},
   "source": [
    "## load data: RNA seq, Matrices, name to ID, metada"
   ]
  },
  {
   "cell_type": "markdown",
   "metadata": {},
   "source": [
    "### RNA_seq data: chose visit timepoint 1 or 2 or timepoint difference"
   ]
  },
  {
   "cell_type": "code",
   "execution_count": 19,
   "metadata": {},
   "outputs": [],
   "source": [
    "#tp <- \"1\"\n",
    "#tp <- \"2\" \n",
    "tp <- \"diff\""
   ]
  },
  {
   "cell_type": "markdown",
   "metadata": {},
   "source": [
    "### load data"
   ]
  },
  {
   "cell_type": "code",
   "execution_count": 22,
   "metadata": {},
   "outputs": [],
   "source": [
    "# path to rna dataset\n",
    "path_to_rna <- \"/Users/rasolofs/Library/CloudStorage/OneDrive-TheUniversityofColoradoDenver/DAISY RNA Phenoplier\""
   ]
  },
  {
   "cell_type": "code",
   "execution_count": 20,
   "metadata": {},
   "outputs": [],
   "source": [
    "# create difference dataset and save in RNA Daisy folder on drive (just run once)\n",
    "\n",
    "RNAseq_1_res <- as.matrix(readRDS(paste0(path_to_rna,\"/RNA_Visit_2_Residuals.RDS\")))\n",
    "RNAseq_2_res <- as.matrix(readRDS(paste0(path_to_rna,\"/RNA_Visit_1_Residuals.RDS\")))\n",
    "RNAseq_diff <- RNAseq_2_res - RNAseq_1_res\n",
    "\n",
    "saveRDS(RNAseq_diff,paste0(path_to_rna,\"/RNA_Visit_diff_Residuals.RDS\")) "
   ]
  },
  {
   "cell_type": "code",
   "execution_count": 21,
   "metadata": {},
   "outputs": [
    {
     "name": "stderr",
     "output_type": "stream",
     "text": [
      "\u001b[1mRows: \u001b[22m\u001b[34m136\u001b[39m \u001b[1mColumns: \u001b[22m\u001b[34m22\u001b[39m\n",
      "\u001b[36m──\u001b[39m \u001b[1mColumn specification\u001b[22m \u001b[36m────────────────────────────────────────────────────────\u001b[39m\n",
      "\u001b[1mDelimiter:\u001b[22m \",\"\n",
      "\u001b[31mchr\u001b[39m  (2): ID, Group\n",
      "\u001b[32mdbl\u001b[39m (20): Freezer_Time, Female_YN, Multiple_DAISY_Baseline, S_W, NHW_YN, dr3...\n",
      "\n",
      "\u001b[36mℹ\u001b[39m Use `spec()` to retrieve the full column specification for this data.\n",
      "\u001b[36mℹ\u001b[39m Specify the column types or set `show_col_types = FALSE` to quiet this message.\n"
     ]
    },
    {
     "name": "stdout",
     "output_type": "stream",
     "text": [
      " num [1:22236, 1:136] 0.157 -0.203 -0.117 -0.308 -0.367 ...\n",
      " - attr(*, \"dimnames\")=List of 2\n",
      "  ..$ : chr [1:22236] \"ENSG00000000003\" \"ENSG00000000419\" \"ENSG00000000457\" \"ENSG00000000460\" ...\n",
      "  ..$ : chr [1:136] \"00041-0\" \"00110-0\" \"00139-0\" \"00159-0\" ...\n"
     ]
    },
    {
     "data": {
      "text/html": [
       "<table class=\"dataframe\">\n",
       "<caption>A matrix: 5 × 136 of type dbl</caption>\n",
       "<thead>\n",
       "\t<tr><th></th><th scope=col>00041-0</th><th scope=col>00110-0</th><th scope=col>00139-0</th><th scope=col>00159-0</th><th scope=col>00174-0</th><th scope=col>00177-0</th><th scope=col>00181-0</th><th scope=col>00234-0</th><th scope=col>00250-0</th><th scope=col>00266-0</th><th scope=col>⋯</th><th scope=col>39376-0</th><th scope=col>39390-0</th><th scope=col>50136-0</th><th scope=col>62291-0</th><th scope=col>81801-0</th><th scope=col>84002-0</th><th scope=col>84689-0</th><th scope=col>84731-0</th><th scope=col>84860-0</th><th scope=col>85365-0</th></tr>\n",
       "</thead>\n",
       "<tbody>\n",
       "\t<tr><th scope=row>ENSG00000000003</th><td> 0.1571997</td><td> 0.08089299</td><td>-0.30387341</td><td>-0.1281056</td><td>-0.02556462</td><td>-0.001815018</td><td>-0.04624763</td><td> 0.331580182</td><td>-0.04364535</td><td> 0.04202482</td><td>⋯</td><td>-0.002210014</td><td>-0.05451790</td><td>-0.3291559</td><td>-0.275097960</td><td>-0.01336361</td><td>-0.163365055</td><td> 0.2340031</td><td> 0.10324136</td><td>-0.04909108</td><td> 0.09996736</td></tr>\n",
       "\t<tr><th scope=row>ENSG00000000419</th><td>-0.2032435</td><td> 0.44913263</td><td> 0.30760147</td><td> 0.1695176</td><td> 0.27566668</td><td>-0.969017010</td><td>-0.26320729</td><td>-0.034463613</td><td>-0.36278291</td><td> 0.02797521</td><td>⋯</td><td> 0.202623631</td><td>-0.21847065</td><td>-0.2846322</td><td> 0.073150662</td><td>-0.27284434</td><td> 0.205517696</td><td> 0.0847536</td><td>-0.07399179</td><td> 0.25284476</td><td> 0.15461088</td></tr>\n",
       "\t<tr><th scope=row>ENSG00000000457</th><td>-0.1168159</td><td>-0.07517545</td><td> 0.11045258</td><td> 0.1913833</td><td>-0.10947257</td><td> 0.298236294</td><td> 0.04725017</td><td>-0.011905739</td><td> 0.20162429</td><td> 0.03158399</td><td>⋯</td><td> 0.071559553</td><td>-0.17778298</td><td> 0.0402209</td><td> 0.188624569</td><td> 0.09107400</td><td>-0.141068344</td><td>-0.2230987</td><td>-0.03099280</td><td> 0.15426959</td><td> 0.36514810</td></tr>\n",
       "\t<tr><th scope=row>ENSG00000000460</th><td>-0.3084525</td><td>-0.20569135</td><td> 0.04308793</td><td>-0.2381819</td><td> 0.04715758</td><td>-1.412240604</td><td>-0.12573203</td><td> 0.001104009</td><td>-0.25762959</td><td> 0.13224791</td><td>⋯</td><td> 0.320264648</td><td> 0.09144173</td><td>-0.0327244</td><td> 0.005248543</td><td> 0.19795205</td><td> 0.170744425</td><td> 0.5917766</td><td>-0.03660670</td><td> 0.01961461</td><td>-0.10579198</td></tr>\n",
       "\t<tr><th scope=row>ENSG00000000938</th><td>-0.3665634</td><td> 0.26332126</td><td>-0.02515758</td><td> 0.3050104</td><td>-0.15467022</td><td>-0.080098994</td><td>-0.16975991</td><td>-0.085735410</td><td>-0.17693529</td><td>-0.17165265</td><td>⋯</td><td>-0.081288740</td><td> 0.02811155</td><td> 0.2495640</td><td> 0.461930629</td><td>-0.11667938</td><td> 0.007394442</td><td>-0.1182536</td><td>-0.30525813</td><td>-0.38565354</td><td> 0.20385482</td></tr>\n",
       "</tbody>\n",
       "</table>\n"
      ],
      "text/latex": [
       "A matrix: 5 × 136 of type dbl\n",
       "\\begin{tabular}{r|lllllllllllllllllllll}\n",
       "  & 00041-0 & 00110-0 & 00139-0 & 00159-0 & 00174-0 & 00177-0 & 00181-0 & 00234-0 & 00250-0 & 00266-0 & ⋯ & 39376-0 & 39390-0 & 50136-0 & 62291-0 & 81801-0 & 84002-0 & 84689-0 & 84731-0 & 84860-0 & 85365-0\\\\\n",
       "\\hline\n",
       "\tENSG00000000003 &  0.1571997 &  0.08089299 & -0.30387341 & -0.1281056 & -0.02556462 & -0.001815018 & -0.04624763 &  0.331580182 & -0.04364535 &  0.04202482 & ⋯ & -0.002210014 & -0.05451790 & -0.3291559 & -0.275097960 & -0.01336361 & -0.163365055 &  0.2340031 &  0.10324136 & -0.04909108 &  0.09996736\\\\\n",
       "\tENSG00000000419 & -0.2032435 &  0.44913263 &  0.30760147 &  0.1695176 &  0.27566668 & -0.969017010 & -0.26320729 & -0.034463613 & -0.36278291 &  0.02797521 & ⋯ &  0.202623631 & -0.21847065 & -0.2846322 &  0.073150662 & -0.27284434 &  0.205517696 &  0.0847536 & -0.07399179 &  0.25284476 &  0.15461088\\\\\n",
       "\tENSG00000000457 & -0.1168159 & -0.07517545 &  0.11045258 &  0.1913833 & -0.10947257 &  0.298236294 &  0.04725017 & -0.011905739 &  0.20162429 &  0.03158399 & ⋯ &  0.071559553 & -0.17778298 &  0.0402209 &  0.188624569 &  0.09107400 & -0.141068344 & -0.2230987 & -0.03099280 &  0.15426959 &  0.36514810\\\\\n",
       "\tENSG00000000460 & -0.3084525 & -0.20569135 &  0.04308793 & -0.2381819 &  0.04715758 & -1.412240604 & -0.12573203 &  0.001104009 & -0.25762959 &  0.13224791 & ⋯ &  0.320264648 &  0.09144173 & -0.0327244 &  0.005248543 &  0.19795205 &  0.170744425 &  0.5917766 & -0.03660670 &  0.01961461 & -0.10579198\\\\\n",
       "\tENSG00000000938 & -0.3665634 &  0.26332126 & -0.02515758 &  0.3050104 & -0.15467022 & -0.080098994 & -0.16975991 & -0.085735410 & -0.17693529 & -0.17165265 & ⋯ & -0.081288740 &  0.02811155 &  0.2495640 &  0.461930629 & -0.11667938 &  0.007394442 & -0.1182536 & -0.30525813 & -0.38565354 &  0.20385482\\\\\n",
       "\\end{tabular}\n"
      ],
      "text/markdown": [
       "\n",
       "A matrix: 5 × 136 of type dbl\n",
       "\n",
       "| <!--/--> | 00041-0 | 00110-0 | 00139-0 | 00159-0 | 00174-0 | 00177-0 | 00181-0 | 00234-0 | 00250-0 | 00266-0 | ⋯ | 39376-0 | 39390-0 | 50136-0 | 62291-0 | 81801-0 | 84002-0 | 84689-0 | 84731-0 | 84860-0 | 85365-0 |\n",
       "|---|---|---|---|---|---|---|---|---|---|---|---|---|---|---|---|---|---|---|---|---|---|\n",
       "| ENSG00000000003 |  0.1571997 |  0.08089299 | -0.30387341 | -0.1281056 | -0.02556462 | -0.001815018 | -0.04624763 |  0.331580182 | -0.04364535 |  0.04202482 | ⋯ | -0.002210014 | -0.05451790 | -0.3291559 | -0.275097960 | -0.01336361 | -0.163365055 |  0.2340031 |  0.10324136 | -0.04909108 |  0.09996736 |\n",
       "| ENSG00000000419 | -0.2032435 |  0.44913263 |  0.30760147 |  0.1695176 |  0.27566668 | -0.969017010 | -0.26320729 | -0.034463613 | -0.36278291 |  0.02797521 | ⋯ |  0.202623631 | -0.21847065 | -0.2846322 |  0.073150662 | -0.27284434 |  0.205517696 |  0.0847536 | -0.07399179 |  0.25284476 |  0.15461088 |\n",
       "| ENSG00000000457 | -0.1168159 | -0.07517545 |  0.11045258 |  0.1913833 | -0.10947257 |  0.298236294 |  0.04725017 | -0.011905739 |  0.20162429 |  0.03158399 | ⋯ |  0.071559553 | -0.17778298 |  0.0402209 |  0.188624569 |  0.09107400 | -0.141068344 | -0.2230987 | -0.03099280 |  0.15426959 |  0.36514810 |\n",
       "| ENSG00000000460 | -0.3084525 | -0.20569135 |  0.04308793 | -0.2381819 |  0.04715758 | -1.412240604 | -0.12573203 |  0.001104009 | -0.25762959 |  0.13224791 | ⋯ |  0.320264648 |  0.09144173 | -0.0327244 |  0.005248543 |  0.19795205 |  0.170744425 |  0.5917766 | -0.03660670 |  0.01961461 | -0.10579198 |\n",
       "| ENSG00000000938 | -0.3665634 |  0.26332126 | -0.02515758 |  0.3050104 | -0.15467022 | -0.080098994 | -0.16975991 | -0.085735410 | -0.17693529 | -0.17165265 | ⋯ | -0.081288740 |  0.02811155 |  0.2495640 |  0.461930629 | -0.11667938 |  0.007394442 | -0.1182536 | -0.30525813 | -0.38565354 |  0.20385482 |\n",
       "\n"
      ],
      "text/plain": [
       "                00041-0    00110-0     00139-0     00159-0    00174-0    \n",
       "ENSG00000000003  0.1571997  0.08089299 -0.30387341 -0.1281056 -0.02556462\n",
       "ENSG00000000419 -0.2032435  0.44913263  0.30760147  0.1695176  0.27566668\n",
       "ENSG00000000457 -0.1168159 -0.07517545  0.11045258  0.1913833 -0.10947257\n",
       "ENSG00000000460 -0.3084525 -0.20569135  0.04308793 -0.2381819  0.04715758\n",
       "ENSG00000000938 -0.3665634  0.26332126 -0.02515758  0.3050104 -0.15467022\n",
       "                00177-0      00181-0     00234-0      00250-0     00266-0     ⋯\n",
       "ENSG00000000003 -0.001815018 -0.04624763  0.331580182 -0.04364535  0.04202482 ⋯\n",
       "ENSG00000000419 -0.969017010 -0.26320729 -0.034463613 -0.36278291  0.02797521 ⋯\n",
       "ENSG00000000457  0.298236294  0.04725017 -0.011905739  0.20162429  0.03158399 ⋯\n",
       "ENSG00000000460 -1.412240604 -0.12573203  0.001104009 -0.25762959  0.13224791 ⋯\n",
       "ENSG00000000938 -0.080098994 -0.16975991 -0.085735410 -0.17693529 -0.17165265 ⋯\n",
       "                39376-0      39390-0     50136-0    62291-0      81801-0    \n",
       "ENSG00000000003 -0.002210014 -0.05451790 -0.3291559 -0.275097960 -0.01336361\n",
       "ENSG00000000419  0.202623631 -0.21847065 -0.2846322  0.073150662 -0.27284434\n",
       "ENSG00000000457  0.071559553 -0.17778298  0.0402209  0.188624569  0.09107400\n",
       "ENSG00000000460  0.320264648  0.09144173 -0.0327244  0.005248543  0.19795205\n",
       "ENSG00000000938 -0.081288740  0.02811155  0.2495640  0.461930629 -0.11667938\n",
       "                84002-0      84689-0    84731-0     84860-0     85365-0    \n",
       "ENSG00000000003 -0.163365055  0.2340031  0.10324136 -0.04909108  0.09996736\n",
       "ENSG00000000419  0.205517696  0.0847536 -0.07399179  0.25284476  0.15461088\n",
       "ENSG00000000457 -0.141068344 -0.2230987 -0.03099280  0.15426959  0.36514810\n",
       "ENSG00000000460  0.170744425  0.5917766 -0.03660670  0.01961461 -0.10579198\n",
       "ENSG00000000938  0.007394442 -0.1182536 -0.30525813 -0.38565354  0.20385482"
      ]
     },
     "metadata": {},
     "output_type": "display_data"
    },
    {
     "data": {
      "text/html": [
       "<style>\n",
       ".list-inline {list-style: none; margin:0; padding: 0}\n",
       ".list-inline>li {display: inline-block}\n",
       ".list-inline>li:not(:last-child)::after {content: \"\\00b7\"; padding: 0 .5ex}\n",
       "</style>\n",
       "<ol class=list-inline><li>22236</li><li>136</li></ol>\n"
      ],
      "text/latex": [
       "\\begin{enumerate*}\n",
       "\\item 22236\n",
       "\\item 136\n",
       "\\end{enumerate*}\n"
      ],
      "text/markdown": [
       "1. 22236\n",
       "2. 136\n",
       "\n",
       "\n"
      ],
      "text/plain": [
       "[1] 22236   136"
      ]
     },
     "metadata": {},
     "output_type": "display_data"
    }
   ],
   "source": [
    "# path to rna dataset\n",
    "path_to_rna <- \"/Users/rasolofs/Library/CloudStorage/OneDrive-TheUniversityofColoradoDenver/DAISY RNA Phenoplier\"\n",
    "#r-log adjusted for age, sex and ancestry at visit 1 and 2\n",
    "RNAseq_data <- as.matrix(readRDS(paste0(path_to_rna,\"/RNA_Visit_\",tp,\"_Residuals.RDS\")))\n",
    "\n",
    "\n",
    "\n",
    "#RNA_annot <- readRDS(\"Expression_Annotation.RDS\")\n",
    "RNA_pheno <- read_csv(paste0(path_to_rna,\"/DAISY_RNASeq_Phenotype_Deidentified.csv\"))\n",
    "\n",
    "str(RNAseq_data)\n",
    "head(RNAseq_data,5)\n",
    "dim(RNAseq_data)"
   ]
  },
  {
   "cell_type": "markdown",
   "metadata": {},
   "source": [
    "### name to ensemble_id file"
   ]
  },
  {
   "cell_type": "code",
   "execution_count": 22,
   "metadata": {},
   "outputs": [
    {
     "data": {
      "text/html": [
       "<table class=\"dataframe\">\n",
       "<caption>A data.frame: 5 × 2</caption>\n",
       "<thead>\n",
       "\t<tr><th></th><th scope=col>EnsemblID</th><th scope=col>gene</th></tr>\n",
       "\t<tr><th></th><th scope=col>&lt;chr&gt;</th><th scope=col>&lt;chr&gt;</th></tr>\n",
       "</thead>\n",
       "<tbody>\n",
       "\t<tr><th scope=row>1</th><td>ENSG00000000457</td><td>SCYL3</td></tr>\n",
       "\t<tr><th scope=row>2</th><td>ENSG00000000938</td><td>FGR  </td></tr>\n",
       "\t<tr><th scope=row>3</th><td>ENSG00000000971</td><td>CFH  </td></tr>\n",
       "\t<tr><th scope=row>4</th><td>ENSG00000001036</td><td>FUCA2</td></tr>\n",
       "\t<tr><th scope=row>5</th><td>ENSG00000001084</td><td>GCLC </td></tr>\n",
       "</tbody>\n",
       "</table>\n"
      ],
      "text/latex": [
       "A data.frame: 5 × 2\n",
       "\\begin{tabular}{r|ll}\n",
       "  & EnsemblID & gene\\\\\n",
       "  & <chr> & <chr>\\\\\n",
       "\\hline\n",
       "\t1 & ENSG00000000457 & SCYL3\\\\\n",
       "\t2 & ENSG00000000938 & FGR  \\\\\n",
       "\t3 & ENSG00000000971 & CFH  \\\\\n",
       "\t4 & ENSG00000001036 & FUCA2\\\\\n",
       "\t5 & ENSG00000001084 & GCLC \\\\\n",
       "\\end{tabular}\n"
      ],
      "text/markdown": [
       "\n",
       "A data.frame: 5 × 2\n",
       "\n",
       "| <!--/--> | EnsemblID &lt;chr&gt; | gene &lt;chr&gt; |\n",
       "|---|---|---|\n",
       "| 1 | ENSG00000000457 | SCYL3 |\n",
       "| 2 | ENSG00000000938 | FGR   |\n",
       "| 3 | ENSG00000000971 | CFH   |\n",
       "| 4 | ENSG00000001036 | FUCA2 |\n",
       "| 5 | ENSG00000001084 | GCLC  |\n",
       "\n"
      ],
      "text/plain": [
       "  EnsemblID       gene \n",
       "1 ENSG00000000457 SCYL3\n",
       "2 ENSG00000000938 FGR  \n",
       "3 ENSG00000000971 CFH  \n",
       "4 ENSG00000001036 FUCA2\n",
       "5 ENSG00000001084 GCLC "
      ]
     },
     "metadata": {},
     "output_type": "display_data"
    }
   ],
   "source": [
    "#load pickle data to convert gene name to EnsemblID\n",
    "py_data <- py_load_object(\"data/input/genes_mapping_id_to_name.pkl\")\n",
    "data_t <- data.frame(t(data.frame(py_data)))\n",
    "colnames(data_t) <- \"gene\"\n",
    "name_to_ID <- rownames_to_column(data_t, var = \"EnsemblID\")\n",
    "head(name_to_ID,5)"
   ]
  },
  {
   "cell_type": "markdown",
   "metadata": {},
   "source": [
    "### metadata file"
   ]
  },
  {
   "cell_type": "code",
   "execution_count": 23,
   "metadata": {},
   "outputs": [
    {
     "name": "stdout",
     "output_type": "stream",
     "text": [
      "$L1\n",
      "[1] 120.5661\n",
      "\n",
      "$L2\n",
      "[1] 241.1322\n",
      "\n",
      "$L3\n",
      "[1] 0.01269676\n",
      "\n"
     ]
    }
   ],
   "source": [
    "# Import model metadata file to re-build plier model\n",
    "metadata <- readRDS(\"data/input/multiplier_model_metadata.rds\")\n",
    "print(metadata)"
   ]
  },
  {
   "cell_type": "markdown",
   "metadata": {},
   "source": [
    "### Multiplier matrices"
   ]
  },
  {
   "cell_type": "code",
   "execution_count": 24,
   "metadata": {},
   "outputs": [
    {
     "data": {
      "text/html": [
       "<table class=\"dataframe\">\n",
       "<caption>A matrix: 5 × 37032 of type dbl</caption>\n",
       "<thead>\n",
       "\t<tr><th></th><th scope=col>SRP000599.SRR013549</th><th scope=col>SRP000599.SRR013550</th><th scope=col>SRP000599.SRR013551</th><th scope=col>SRP000599.SRR013552</th><th scope=col>SRP000599.SRR013553</th><th scope=col>SRP000599.SRR013554</th><th scope=col>SRP000599.SRR013555</th><th scope=col>SRP000599.SRR013556</th><th scope=col>SRP000599.SRR013557</th><th scope=col>SRP000599.SRR013558</th><th scope=col>⋯</th><th scope=col>SRP035599.SRR1139372</th><th scope=col>SRP035599.SRR1139393</th><th scope=col>SRP035599.SRR1139388</th><th scope=col>SRP035599.SRR1139378</th><th scope=col>SRP035599.SRR1139399</th><th scope=col>SRP035599.SRR1139386</th><th scope=col>SRP035599.SRR1139375</th><th scope=col>SRP035599.SRR1139382</th><th scope=col>SRP035599.SRR1139356</th><th scope=col>SRP035599.SRR1139370</th></tr>\n",
       "</thead>\n",
       "<tbody>\n",
       "\t<tr><th scope=row>1,REACTOME_MRNA_SPLICING</th><td>-0.059296689</td><td>-0.047909034</td><td>-0.049366085</td><td>-0.065078034</td><td>-0.036394186</td><td>-0.046432986</td><td>-0.040980500</td><td>-0.040068202</td><td>-0.046137392</td><td>-0.048547681</td><td>⋯</td><td> 0.028219530</td><td> 0.035137107</td><td> 0.065077330</td><td> 0.078143650</td><td> 0.092361864</td><td> 0.069042346</td><td> 0.090913845</td><td> 0.096341467</td><td> 0.13111465</td><td> 0.171751422</td></tr>\n",
       "\t<tr><th scope=row>2,SVM Monocytes</th><td> 0.006212678</td><td> 0.003625471</td><td> 0.006604582</td><td> 0.009258006</td><td> 0.005061427</td><td> 0.004132735</td><td> 0.008950264</td><td> 0.007226716</td><td> 0.007240987</td><td> 0.005709697</td><td>⋯</td><td>-0.050455152</td><td>-0.034501970</td><td>-0.033640290</td><td>-0.049702173</td><td>-0.037425739</td><td>-0.050069528</td><td>-0.022575052</td><td>-0.055091302</td><td>-0.05686929</td><td>-0.018072570</td></tr>\n",
       "\t<tr><th scope=row>3,REACTOME_TRANSMISSION_ACROSS_CHEMICAL_SYNAPSES</th><td>-0.026105335</td><td>-0.032232060</td><td>-0.020621382</td><td>-0.027598555</td><td>-0.035248076</td><td>-0.038700769</td><td>-0.032527087</td><td>-0.030592727</td><td>-0.028937277</td><td>-0.027405660</td><td>⋯</td><td>-0.028609689</td><td>-0.033449754</td><td>-0.030583001</td><td>-0.032399106</td><td>-0.029365381</td><td>-0.025405876</td><td>-0.033657228</td><td>-0.031317680</td><td>-0.03092424</td><td>-0.027868614</td></tr>\n",
       "\t<tr><th scope=row>4,REACTOME_NEURONAL_SYSTEM</th><td>-0.022079745</td><td>-0.008970910</td><td>-0.020341711</td><td>-0.016260213</td><td>-0.003022898</td><td> 0.002442659</td><td>-0.020457842</td><td>-0.023735309</td><td>-0.021581483</td><td>-0.022477572</td><td>⋯</td><td>-0.037122216</td><td>-0.029658154</td><td>-0.036349546</td><td>-0.039253549</td><td>-0.035204624</td><td>-0.036345061</td><td>-0.034513880</td><td>-0.035925708</td><td>-0.04035837</td><td>-0.031131153</td></tr>\n",
       "\t<tr><th scope=row>LV 5</th><td> 0.007663157</td><td> 0.007036176</td><td> 0.006608393</td><td> 0.003446311</td><td> 0.006340665</td><td> 0.007106127</td><td> 0.007930485</td><td> 0.009164026</td><td> 0.008023601</td><td> 0.007937586</td><td>⋯</td><td>-0.003055909</td><td>-0.004783739</td><td>-0.004352417</td><td>-0.004159541</td><td>-0.001084991</td><td>-0.001884109</td><td>-0.003561052</td><td>-0.003546184</td><td>-0.01210732</td><td>-0.001192709</td></tr>\n",
       "</tbody>\n",
       "</table>\n"
      ],
      "text/latex": [
       "A matrix: 5 × 37032 of type dbl\n",
       "\\begin{tabular}{r|lllllllllllllllllllll}\n",
       "  & SRP000599.SRR013549 & SRP000599.SRR013550 & SRP000599.SRR013551 & SRP000599.SRR013552 & SRP000599.SRR013553 & SRP000599.SRR013554 & SRP000599.SRR013555 & SRP000599.SRR013556 & SRP000599.SRR013557 & SRP000599.SRR013558 & ⋯ & SRP035599.SRR1139372 & SRP035599.SRR1139393 & SRP035599.SRR1139388 & SRP035599.SRR1139378 & SRP035599.SRR1139399 & SRP035599.SRR1139386 & SRP035599.SRR1139375 & SRP035599.SRR1139382 & SRP035599.SRR1139356 & SRP035599.SRR1139370\\\\\n",
       "\\hline\n",
       "\t1,REACTOME\\_MRNA\\_SPLICING & -0.059296689 & -0.047909034 & -0.049366085 & -0.065078034 & -0.036394186 & -0.046432986 & -0.040980500 & -0.040068202 & -0.046137392 & -0.048547681 & ⋯ &  0.028219530 &  0.035137107 &  0.065077330 &  0.078143650 &  0.092361864 &  0.069042346 &  0.090913845 &  0.096341467 &  0.13111465 &  0.171751422\\\\\n",
       "\t2,SVM Monocytes &  0.006212678 &  0.003625471 &  0.006604582 &  0.009258006 &  0.005061427 &  0.004132735 &  0.008950264 &  0.007226716 &  0.007240987 &  0.005709697 & ⋯ & -0.050455152 & -0.034501970 & -0.033640290 & -0.049702173 & -0.037425739 & -0.050069528 & -0.022575052 & -0.055091302 & -0.05686929 & -0.018072570\\\\\n",
       "\t3,REACTOME\\_TRANSMISSION\\_ACROSS\\_CHEMICAL\\_SYNAPSES & -0.026105335 & -0.032232060 & -0.020621382 & -0.027598555 & -0.035248076 & -0.038700769 & -0.032527087 & -0.030592727 & -0.028937277 & -0.027405660 & ⋯ & -0.028609689 & -0.033449754 & -0.030583001 & -0.032399106 & -0.029365381 & -0.025405876 & -0.033657228 & -0.031317680 & -0.03092424 & -0.027868614\\\\\n",
       "\t4,REACTOME\\_NEURONAL\\_SYSTEM & -0.022079745 & -0.008970910 & -0.020341711 & -0.016260213 & -0.003022898 &  0.002442659 & -0.020457842 & -0.023735309 & -0.021581483 & -0.022477572 & ⋯ & -0.037122216 & -0.029658154 & -0.036349546 & -0.039253549 & -0.035204624 & -0.036345061 & -0.034513880 & -0.035925708 & -0.04035837 & -0.031131153\\\\\n",
       "\tLV 5 &  0.007663157 &  0.007036176 &  0.006608393 &  0.003446311 &  0.006340665 &  0.007106127 &  0.007930485 &  0.009164026 &  0.008023601 &  0.007937586 & ⋯ & -0.003055909 & -0.004783739 & -0.004352417 & -0.004159541 & -0.001084991 & -0.001884109 & -0.003561052 & -0.003546184 & -0.01210732 & -0.001192709\\\\\n",
       "\\end{tabular}\n"
      ],
      "text/markdown": [
       "\n",
       "A matrix: 5 × 37032 of type dbl\n",
       "\n",
       "| <!--/--> | SRP000599.SRR013549 | SRP000599.SRR013550 | SRP000599.SRR013551 | SRP000599.SRR013552 | SRP000599.SRR013553 | SRP000599.SRR013554 | SRP000599.SRR013555 | SRP000599.SRR013556 | SRP000599.SRR013557 | SRP000599.SRR013558 | ⋯ | SRP035599.SRR1139372 | SRP035599.SRR1139393 | SRP035599.SRR1139388 | SRP035599.SRR1139378 | SRP035599.SRR1139399 | SRP035599.SRR1139386 | SRP035599.SRR1139375 | SRP035599.SRR1139382 | SRP035599.SRR1139356 | SRP035599.SRR1139370 |\n",
       "|---|---|---|---|---|---|---|---|---|---|---|---|---|---|---|---|---|---|---|---|---|---|\n",
       "| 1,REACTOME_MRNA_SPLICING | -0.059296689 | -0.047909034 | -0.049366085 | -0.065078034 | -0.036394186 | -0.046432986 | -0.040980500 | -0.040068202 | -0.046137392 | -0.048547681 | ⋯ |  0.028219530 |  0.035137107 |  0.065077330 |  0.078143650 |  0.092361864 |  0.069042346 |  0.090913845 |  0.096341467 |  0.13111465 |  0.171751422 |\n",
       "| 2,SVM Monocytes |  0.006212678 |  0.003625471 |  0.006604582 |  0.009258006 |  0.005061427 |  0.004132735 |  0.008950264 |  0.007226716 |  0.007240987 |  0.005709697 | ⋯ | -0.050455152 | -0.034501970 | -0.033640290 | -0.049702173 | -0.037425739 | -0.050069528 | -0.022575052 | -0.055091302 | -0.05686929 | -0.018072570 |\n",
       "| 3,REACTOME_TRANSMISSION_ACROSS_CHEMICAL_SYNAPSES | -0.026105335 | -0.032232060 | -0.020621382 | -0.027598555 | -0.035248076 | -0.038700769 | -0.032527087 | -0.030592727 | -0.028937277 | -0.027405660 | ⋯ | -0.028609689 | -0.033449754 | -0.030583001 | -0.032399106 | -0.029365381 | -0.025405876 | -0.033657228 | -0.031317680 | -0.03092424 | -0.027868614 |\n",
       "| 4,REACTOME_NEURONAL_SYSTEM | -0.022079745 | -0.008970910 | -0.020341711 | -0.016260213 | -0.003022898 |  0.002442659 | -0.020457842 | -0.023735309 | -0.021581483 | -0.022477572 | ⋯ | -0.037122216 | -0.029658154 | -0.036349546 | -0.039253549 | -0.035204624 | -0.036345061 | -0.034513880 | -0.035925708 | -0.04035837 | -0.031131153 |\n",
       "| LV 5 |  0.007663157 |  0.007036176 |  0.006608393 |  0.003446311 |  0.006340665 |  0.007106127 |  0.007930485 |  0.009164026 |  0.008023601 |  0.007937586 | ⋯ | -0.003055909 | -0.004783739 | -0.004352417 | -0.004159541 | -0.001084991 | -0.001884109 | -0.003561052 | -0.003546184 | -0.01210732 | -0.001192709 |\n",
       "\n"
      ],
      "text/plain": [
       "                                                 SRP000599.SRR013549\n",
       "1,REACTOME_MRNA_SPLICING                         -0.059296689       \n",
       "2,SVM Monocytes                                   0.006212678       \n",
       "3,REACTOME_TRANSMISSION_ACROSS_CHEMICAL_SYNAPSES -0.026105335       \n",
       "4,REACTOME_NEURONAL_SYSTEM                       -0.022079745       \n",
       "LV 5                                              0.007663157       \n",
       "                                                 SRP000599.SRR013550\n",
       "1,REACTOME_MRNA_SPLICING                         -0.047909034       \n",
       "2,SVM Monocytes                                   0.003625471       \n",
       "3,REACTOME_TRANSMISSION_ACROSS_CHEMICAL_SYNAPSES -0.032232060       \n",
       "4,REACTOME_NEURONAL_SYSTEM                       -0.008970910       \n",
       "LV 5                                              0.007036176       \n",
       "                                                 SRP000599.SRR013551\n",
       "1,REACTOME_MRNA_SPLICING                         -0.049366085       \n",
       "2,SVM Monocytes                                   0.006604582       \n",
       "3,REACTOME_TRANSMISSION_ACROSS_CHEMICAL_SYNAPSES -0.020621382       \n",
       "4,REACTOME_NEURONAL_SYSTEM                       -0.020341711       \n",
       "LV 5                                              0.006608393       \n",
       "                                                 SRP000599.SRR013552\n",
       "1,REACTOME_MRNA_SPLICING                         -0.065078034       \n",
       "2,SVM Monocytes                                   0.009258006       \n",
       "3,REACTOME_TRANSMISSION_ACROSS_CHEMICAL_SYNAPSES -0.027598555       \n",
       "4,REACTOME_NEURONAL_SYSTEM                       -0.016260213       \n",
       "LV 5                                              0.003446311       \n",
       "                                                 SRP000599.SRR013553\n",
       "1,REACTOME_MRNA_SPLICING                         -0.036394186       \n",
       "2,SVM Monocytes                                   0.005061427       \n",
       "3,REACTOME_TRANSMISSION_ACROSS_CHEMICAL_SYNAPSES -0.035248076       \n",
       "4,REACTOME_NEURONAL_SYSTEM                       -0.003022898       \n",
       "LV 5                                              0.006340665       \n",
       "                                                 SRP000599.SRR013554\n",
       "1,REACTOME_MRNA_SPLICING                         -0.046432986       \n",
       "2,SVM Monocytes                                   0.004132735       \n",
       "3,REACTOME_TRANSMISSION_ACROSS_CHEMICAL_SYNAPSES -0.038700769       \n",
       "4,REACTOME_NEURONAL_SYSTEM                        0.002442659       \n",
       "LV 5                                              0.007106127       \n",
       "                                                 SRP000599.SRR013555\n",
       "1,REACTOME_MRNA_SPLICING                         -0.040980500       \n",
       "2,SVM Monocytes                                   0.008950264       \n",
       "3,REACTOME_TRANSMISSION_ACROSS_CHEMICAL_SYNAPSES -0.032527087       \n",
       "4,REACTOME_NEURONAL_SYSTEM                       -0.020457842       \n",
       "LV 5                                              0.007930485       \n",
       "                                                 SRP000599.SRR013556\n",
       "1,REACTOME_MRNA_SPLICING                         -0.040068202       \n",
       "2,SVM Monocytes                                   0.007226716       \n",
       "3,REACTOME_TRANSMISSION_ACROSS_CHEMICAL_SYNAPSES -0.030592727       \n",
       "4,REACTOME_NEURONAL_SYSTEM                       -0.023735309       \n",
       "LV 5                                              0.009164026       \n",
       "                                                 SRP000599.SRR013557\n",
       "1,REACTOME_MRNA_SPLICING                         -0.046137392       \n",
       "2,SVM Monocytes                                   0.007240987       \n",
       "3,REACTOME_TRANSMISSION_ACROSS_CHEMICAL_SYNAPSES -0.028937277       \n",
       "4,REACTOME_NEURONAL_SYSTEM                       -0.021581483       \n",
       "LV 5                                              0.008023601       \n",
       "                                                 SRP000599.SRR013558 ⋯\n",
       "1,REACTOME_MRNA_SPLICING                         -0.048547681        ⋯\n",
       "2,SVM Monocytes                                   0.005709697        ⋯\n",
       "3,REACTOME_TRANSMISSION_ACROSS_CHEMICAL_SYNAPSES -0.027405660        ⋯\n",
       "4,REACTOME_NEURONAL_SYSTEM                       -0.022477572        ⋯\n",
       "LV 5                                              0.007937586        ⋯\n",
       "                                                 SRP035599.SRR1139372\n",
       "1,REACTOME_MRNA_SPLICING                          0.028219530        \n",
       "2,SVM Monocytes                                  -0.050455152        \n",
       "3,REACTOME_TRANSMISSION_ACROSS_CHEMICAL_SYNAPSES -0.028609689        \n",
       "4,REACTOME_NEURONAL_SYSTEM                       -0.037122216        \n",
       "LV 5                                             -0.003055909        \n",
       "                                                 SRP035599.SRR1139393\n",
       "1,REACTOME_MRNA_SPLICING                          0.035137107        \n",
       "2,SVM Monocytes                                  -0.034501970        \n",
       "3,REACTOME_TRANSMISSION_ACROSS_CHEMICAL_SYNAPSES -0.033449754        \n",
       "4,REACTOME_NEURONAL_SYSTEM                       -0.029658154        \n",
       "LV 5                                             -0.004783739        \n",
       "                                                 SRP035599.SRR1139388\n",
       "1,REACTOME_MRNA_SPLICING                          0.065077330        \n",
       "2,SVM Monocytes                                  -0.033640290        \n",
       "3,REACTOME_TRANSMISSION_ACROSS_CHEMICAL_SYNAPSES -0.030583001        \n",
       "4,REACTOME_NEURONAL_SYSTEM                       -0.036349546        \n",
       "LV 5                                             -0.004352417        \n",
       "                                                 SRP035599.SRR1139378\n",
       "1,REACTOME_MRNA_SPLICING                          0.078143650        \n",
       "2,SVM Monocytes                                  -0.049702173        \n",
       "3,REACTOME_TRANSMISSION_ACROSS_CHEMICAL_SYNAPSES -0.032399106        \n",
       "4,REACTOME_NEURONAL_SYSTEM                       -0.039253549        \n",
       "LV 5                                             -0.004159541        \n",
       "                                                 SRP035599.SRR1139399\n",
       "1,REACTOME_MRNA_SPLICING                          0.092361864        \n",
       "2,SVM Monocytes                                  -0.037425739        \n",
       "3,REACTOME_TRANSMISSION_ACROSS_CHEMICAL_SYNAPSES -0.029365381        \n",
       "4,REACTOME_NEURONAL_SYSTEM                       -0.035204624        \n",
       "LV 5                                             -0.001084991        \n",
       "                                                 SRP035599.SRR1139386\n",
       "1,REACTOME_MRNA_SPLICING                          0.069042346        \n",
       "2,SVM Monocytes                                  -0.050069528        \n",
       "3,REACTOME_TRANSMISSION_ACROSS_CHEMICAL_SYNAPSES -0.025405876        \n",
       "4,REACTOME_NEURONAL_SYSTEM                       -0.036345061        \n",
       "LV 5                                             -0.001884109        \n",
       "                                                 SRP035599.SRR1139375\n",
       "1,REACTOME_MRNA_SPLICING                          0.090913845        \n",
       "2,SVM Monocytes                                  -0.022575052        \n",
       "3,REACTOME_TRANSMISSION_ACROSS_CHEMICAL_SYNAPSES -0.033657228        \n",
       "4,REACTOME_NEURONAL_SYSTEM                       -0.034513880        \n",
       "LV 5                                             -0.003561052        \n",
       "                                                 SRP035599.SRR1139382\n",
       "1,REACTOME_MRNA_SPLICING                          0.096341467        \n",
       "2,SVM Monocytes                                  -0.055091302        \n",
       "3,REACTOME_TRANSMISSION_ACROSS_CHEMICAL_SYNAPSES -0.031317680        \n",
       "4,REACTOME_NEURONAL_SYSTEM                       -0.035925708        \n",
       "LV 5                                             -0.003546184        \n",
       "                                                 SRP035599.SRR1139356\n",
       "1,REACTOME_MRNA_SPLICING                          0.13111465         \n",
       "2,SVM Monocytes                                  -0.05686929         \n",
       "3,REACTOME_TRANSMISSION_ACROSS_CHEMICAL_SYNAPSES -0.03092424         \n",
       "4,REACTOME_NEURONAL_SYSTEM                       -0.04035837         \n",
       "LV 5                                             -0.01210732         \n",
       "                                                 SRP035599.SRR1139370\n",
       "1,REACTOME_MRNA_SPLICING                          0.171751422        \n",
       "2,SVM Monocytes                                  -0.018072570        \n",
       "3,REACTOME_TRANSMISSION_ACROSS_CHEMICAL_SYNAPSES -0.027868614        \n",
       "4,REACTOME_NEURONAL_SYSTEM                       -0.031131153        \n",
       "LV 5                                             -0.001192709        "
      ]
     },
     "metadata": {},
     "output_type": "display_data"
    },
    {
     "data": {
      "text/html": [
       "<table class=\"dataframe\">\n",
       "<caption>A matrix: 5 × 987 of type dbl</caption>\n",
       "<tbody>\n",
       "\t<tr><th scope=row>GAS6</th><td>0.0000000</td><td>0</td><td>0.03943774</td><td>0</td><td>0.05047625</td><td>0.00000000</td><td>0</td><td>0.000000000</td><td>0.5909494</td><td>0.00000000</td><td>⋯</td><td>0.05012510</td><td>0.00000000</td><td>0.033407371</td><td>0.00000000</td><td>0.00000000</td><td>0.005963392</td><td>0.34736209</td><td>0</td><td>0.00000000</td><td>0.0000000</td></tr>\n",
       "\t<tr><th scope=row>MMP14</th><td>0.0000000</td><td>0</td><td>0.00000000</td><td>0</td><td>0.07007159</td><td>0.00000000</td><td>0</td><td>0.004904131</td><td>1.7201788</td><td>2.42359463</td><td>⋯</td><td>0.00000000</td><td>0.00000000</td><td>0.001007286</td><td>0.00000000</td><td>0.03574724</td><td>0.000000000</td><td>0.00000000</td><td>0</td><td>0.01497801</td><td>0.0000000</td></tr>\n",
       "\t<tr><th scope=row>DSP</th><td>0.0000000</td><td>0</td><td>0.00000000</td><td>0</td><td>0.00000000</td><td>0.04169683</td><td>0</td><td>0.005718149</td><td>0.0000000</td><td>0.00000000</td><td>⋯</td><td>0.02085321</td><td>0.00000000</td><td>0.000000000</td><td>0.00000000</td><td>0.00000000</td><td>0.005774440</td><td>0.00000000</td><td>0</td><td>0.00000000</td><td>0.4164045</td></tr>\n",
       "\t<tr><th scope=row>MARCKSL1</th><td>0.3052117</td><td>0</td><td>0.00000000</td><td>0</td><td>0.00000000</td><td>0.00000000</td><td>0</td><td>0.000000000</td><td>0.1618435</td><td>0.14947148</td><td>⋯</td><td>0.02713418</td><td>0.05271997</td><td>0.000000000</td><td>0.03018947</td><td>0.06088351</td><td>0.000000000</td><td>0.00000000</td><td>0</td><td>0.00000000</td><td>0.4484800</td></tr>\n",
       "\t<tr><th scope=row>SPARC</th><td>0.0000000</td><td>0</td><td>0.00000000</td><td>0</td><td>0.00000000</td><td>0.00000000</td><td>0</td><td>0.000000000</td><td>0.0000000</td><td>0.01401441</td><td>⋯</td><td>0.00000000</td><td>0.00000000</td><td>0.000000000</td><td>0.00000000</td><td>0.00000000</td><td>0.000000000</td><td>0.06777859</td><td>0</td><td>0.12241734</td><td>0.0626649</td></tr>\n",
       "</tbody>\n",
       "</table>\n"
      ],
      "text/latex": [
       "A matrix: 5 × 987 of type dbl\n",
       "\\begin{tabular}{r|lllllllllllllllllllll}\n",
       "\tGAS6 & 0.0000000 & 0 & 0.03943774 & 0 & 0.05047625 & 0.00000000 & 0 & 0.000000000 & 0.5909494 & 0.00000000 & ⋯ & 0.05012510 & 0.00000000 & 0.033407371 & 0.00000000 & 0.00000000 & 0.005963392 & 0.34736209 & 0 & 0.00000000 & 0.0000000\\\\\n",
       "\tMMP14 & 0.0000000 & 0 & 0.00000000 & 0 & 0.07007159 & 0.00000000 & 0 & 0.004904131 & 1.7201788 & 2.42359463 & ⋯ & 0.00000000 & 0.00000000 & 0.001007286 & 0.00000000 & 0.03574724 & 0.000000000 & 0.00000000 & 0 & 0.01497801 & 0.0000000\\\\\n",
       "\tDSP & 0.0000000 & 0 & 0.00000000 & 0 & 0.00000000 & 0.04169683 & 0 & 0.005718149 & 0.0000000 & 0.00000000 & ⋯ & 0.02085321 & 0.00000000 & 0.000000000 & 0.00000000 & 0.00000000 & 0.005774440 & 0.00000000 & 0 & 0.00000000 & 0.4164045\\\\\n",
       "\tMARCKSL1 & 0.3052117 & 0 & 0.00000000 & 0 & 0.00000000 & 0.00000000 & 0 & 0.000000000 & 0.1618435 & 0.14947148 & ⋯ & 0.02713418 & 0.05271997 & 0.000000000 & 0.03018947 & 0.06088351 & 0.000000000 & 0.00000000 & 0 & 0.00000000 & 0.4484800\\\\\n",
       "\tSPARC & 0.0000000 & 0 & 0.00000000 & 0 & 0.00000000 & 0.00000000 & 0 & 0.000000000 & 0.0000000 & 0.01401441 & ⋯ & 0.00000000 & 0.00000000 & 0.000000000 & 0.00000000 & 0.00000000 & 0.000000000 & 0.06777859 & 0 & 0.12241734 & 0.0626649\\\\\n",
       "\\end{tabular}\n"
      ],
      "text/markdown": [
       "\n",
       "A matrix: 5 × 987 of type dbl\n",
       "\n",
       "| GAS6 | 0.0000000 | 0 | 0.03943774 | 0 | 0.05047625 | 0.00000000 | 0 | 0.000000000 | 0.5909494 | 0.00000000 | ⋯ | 0.05012510 | 0.00000000 | 0.033407371 | 0.00000000 | 0.00000000 | 0.005963392 | 0.34736209 | 0 | 0.00000000 | 0.0000000 |\n",
       "| MMP14 | 0.0000000 | 0 | 0.00000000 | 0 | 0.07007159 | 0.00000000 | 0 | 0.004904131 | 1.7201788 | 2.42359463 | ⋯ | 0.00000000 | 0.00000000 | 0.001007286 | 0.00000000 | 0.03574724 | 0.000000000 | 0.00000000 | 0 | 0.01497801 | 0.0000000 |\n",
       "| DSP | 0.0000000 | 0 | 0.00000000 | 0 | 0.00000000 | 0.04169683 | 0 | 0.005718149 | 0.0000000 | 0.00000000 | ⋯ | 0.02085321 | 0.00000000 | 0.000000000 | 0.00000000 | 0.00000000 | 0.005774440 | 0.00000000 | 0 | 0.00000000 | 0.4164045 |\n",
       "| MARCKSL1 | 0.3052117 | 0 | 0.00000000 | 0 | 0.00000000 | 0.00000000 | 0 | 0.000000000 | 0.1618435 | 0.14947148 | ⋯ | 0.02713418 | 0.05271997 | 0.000000000 | 0.03018947 | 0.06088351 | 0.000000000 | 0.00000000 | 0 | 0.00000000 | 0.4484800 |\n",
       "| SPARC | 0.0000000 | 0 | 0.00000000 | 0 | 0.00000000 | 0.00000000 | 0 | 0.000000000 | 0.0000000 | 0.01401441 | ⋯ | 0.00000000 | 0.00000000 | 0.000000000 | 0.00000000 | 0.00000000 | 0.000000000 | 0.06777859 | 0 | 0.12241734 | 0.0626649 |\n",
       "\n"
      ],
      "text/plain": [
       "         [,1]      [,2] [,3]       [,4] [,5]       [,6]       [,7] [,8]       \n",
       "GAS6     0.0000000 0    0.03943774 0    0.05047625 0.00000000 0    0.000000000\n",
       "MMP14    0.0000000 0    0.00000000 0    0.07007159 0.00000000 0    0.004904131\n",
       "DSP      0.0000000 0    0.00000000 0    0.00000000 0.04169683 0    0.005718149\n",
       "MARCKSL1 0.3052117 0    0.00000000 0    0.00000000 0.00000000 0    0.000000000\n",
       "SPARC    0.0000000 0    0.00000000 0    0.00000000 0.00000000 0    0.000000000\n",
       "         [,9]      [,10]      [,11] [,12]      [,13]      [,14]      \n",
       "GAS6     0.5909494 0.00000000 ⋯     0.05012510 0.00000000 0.033407371\n",
       "MMP14    1.7201788 2.42359463 ⋯     0.00000000 0.00000000 0.001007286\n",
       "DSP      0.0000000 0.00000000 ⋯     0.02085321 0.00000000 0.000000000\n",
       "MARCKSL1 0.1618435 0.14947148 ⋯     0.02713418 0.05271997 0.000000000\n",
       "SPARC    0.0000000 0.01401441 ⋯     0.00000000 0.00000000 0.000000000\n",
       "         [,15]      [,16]      [,17]       [,18]      [,19] [,20]     \n",
       "GAS6     0.00000000 0.00000000 0.005963392 0.34736209 0     0.00000000\n",
       "MMP14    0.00000000 0.03574724 0.000000000 0.00000000 0     0.01497801\n",
       "DSP      0.00000000 0.00000000 0.005774440 0.00000000 0     0.00000000\n",
       "MARCKSL1 0.03018947 0.06088351 0.000000000 0.00000000 0     0.00000000\n",
       "SPARC    0.00000000 0.00000000 0.000000000 0.06777859 0     0.12241734\n",
       "         [,21]    \n",
       "GAS6     0.0000000\n",
       "MMP14    0.0000000\n",
       "DSP      0.4164045\n",
       "MARCKSL1 0.4484800\n",
       "SPARC    0.0626649"
      ]
     },
     "metadata": {},
     "output_type": "display_data"
    }
   ],
   "source": [
    "# load matrices to rebuild plier model\n",
    "# LV x samples\n",
    "b_model <- readRDS(\"data/input/multiplier_model_b.rds\")\n",
    "head(b_model,5)\n",
    "# gene x LV\n",
    "z_model <- readRDS(\"data/input/multiplier_model_z.rds\")\n",
    "head(z_model,5)"
   ]
  },
  {
   "cell_type": "code",
   "execution_count": 25,
   "metadata": {},
   "outputs": [
    {
     "data": {
      "text/html": [
       "<table class=\"dataframe\">\n",
       "<caption>A tibble: 3 × 2</caption>\n",
       "<thead>\n",
       "\t<tr><th scope=col>Group</th><th scope=col>n</th></tr>\n",
       "\t<tr><th scope=col>&lt;chr&gt;</th><th scope=col>&lt;int&gt;</th></tr>\n",
       "</thead>\n",
       "<tbody>\n",
       "\t<tr><td>Maintainer</td><td>64</td></tr>\n",
       "\t<tr><td>Progressor</td><td>25</td></tr>\n",
       "\t<tr><td>Reverter  </td><td>47</td></tr>\n",
       "</tbody>\n",
       "</table>\n"
      ],
      "text/latex": [
       "A tibble: 3 × 2\n",
       "\\begin{tabular}{ll}\n",
       " Group & n\\\\\n",
       " <chr> & <int>\\\\\n",
       "\\hline\n",
       "\t Maintainer & 64\\\\\n",
       "\t Progressor & 25\\\\\n",
       "\t Reverter   & 47\\\\\n",
       "\\end{tabular}\n"
      ],
      "text/markdown": [
       "\n",
       "A tibble: 3 × 2\n",
       "\n",
       "| Group &lt;chr&gt; | n &lt;int&gt; |\n",
       "|---|---|\n",
       "| Maintainer | 64 |\n",
       "| Progressor | 25 |\n",
       "| Reverter   | 47 |\n",
       "\n"
      ],
      "text/plain": [
       "  Group      n \n",
       "1 Maintainer 64\n",
       "2 Progressor 25\n",
       "3 Reverter   47"
      ]
     },
     "metadata": {},
     "output_type": "display_data"
    }
   ],
   "source": [
    "# see how many people among 136 were maintainer, reverter, progresser. \n",
    "patient_per_group <- RNA_pheno%>%\n",
    "group_by(Group)%>%\n",
    "summarize(n= n())\n",
    "\n",
    "patient_per_group"
   ]
  },
  {
   "cell_type": "markdown",
   "metadata": {},
   "source": [
    "## label z_matrix with ensemblID instead of gene name"
   ]
  },
  {
   "cell_type": "code",
   "execution_count": 26,
   "metadata": {},
   "outputs": [
    {
     "name": "stdout",
     "output_type": "stream",
     "text": [
      " num [1:6455, 1:987] 0 0.2712 0.0051 0.513 1.0082 ...\n",
      " - attr(*, \"dimnames\")=List of 2\n",
      "  ..$ : chr [1:6455] \"ENSG00000175899\" \"ENSG00000094914\" \"ENSG00000129673\" \"ENSG00000090861\" ...\n",
      "  ..$ : chr [1:987] \"V1\" \"V2\" \"V3\" \"V4\" ...\n"
     ]
    },
    {
     "data": {
      "text/html": [
       "<table class=\"dataframe\">\n",
       "<caption>A matrix: 5 × 987 of type dbl</caption>\n",
       "<thead>\n",
       "\t<tr><th></th><th scope=col>V1</th><th scope=col>V2</th><th scope=col>V3</th><th scope=col>V4</th><th scope=col>V5</th><th scope=col>V6</th><th scope=col>V7</th><th scope=col>V8</th><th scope=col>V9</th><th scope=col>V10</th><th scope=col>⋯</th><th scope=col>V978</th><th scope=col>V979</th><th scope=col>V980</th><th scope=col>V981</th><th scope=col>V982</th><th scope=col>V983</th><th scope=col>V984</th><th scope=col>V985</th><th scope=col>V986</th><th scope=col>V987</th></tr>\n",
       "</thead>\n",
       "<tbody>\n",
       "\t<tr><th scope=row>ENSG00000175899</th><td>0.000000000</td><td>0.0000000</td><td>0.00000000</td><td>0.07842750</td><td>0</td><td>0.0000000</td><td>0.0000000</td><td>0.04677228</td><td>0.0000000</td><td>0.0110329</td><td>⋯</td><td>0.010910</td><td>0.00000000</td><td>0.052869436</td><td>0.012748534</td><td>0</td><td>0.01398231</td><td>0.15224090</td><td>0.00000000</td><td>0.0000000</td><td>0.10888358</td></tr>\n",
       "\t<tr><th scope=row>ENSG00000094914</th><td>0.271162234</td><td>0.0000000</td><td>0.00000000</td><td>0.00000000</td><td>0</td><td>0.0000000</td><td>0.0000000</td><td>0.00000000</td><td>1.5133366</td><td>0.0000000</td><td>⋯</td><td>0.000000</td><td>0.00000000</td><td>0.000000000</td><td>0.001385031</td><td>0</td><td>0.00000000</td><td>0.71189565</td><td>0.03053447</td><td>0.4471055</td><td>0.42468522</td></tr>\n",
       "\t<tr><th scope=row>ENSG00000129673</th><td>0.005098885</td><td>0.3084969</td><td>0.02881539</td><td>0.00000000</td><td>0</td><td>0.0000000</td><td>0.3717253</td><td>0.00000000</td><td>0.1352375</td><td>0.0000000</td><td>⋯</td><td>0.117163</td><td>0.01881498</td><td>0.000000000</td><td>0.193141835</td><td>0</td><td>0.04040077</td><td>0.18043565</td><td>0.00000000</td><td>0.0000000</td><td>0.04206449</td></tr>\n",
       "\t<tr><th scope=row>ENSG00000090861</th><td>0.512978085</td><td>0.0000000</td><td>0.45128547</td><td>0.31956792</td><td>0</td><td>0.0000000</td><td>0.0000000</td><td>0.00000000</td><td>0.0000000</td><td>0.0000000</td><td>⋯</td><td>0.000000</td><td>0.00000000</td><td>0.006207784</td><td>0.021274385</td><td>0</td><td>0.00000000</td><td>0.06214269</td><td>0.00000000</td><td>0.0000000</td><td>0.36489213</td></tr>\n",
       "\t<tr><th scope=row>ENSG00000124608</th><td>1.008156895</td><td>0.0000000</td><td>0.19742406</td><td>0.02483182</td><td>0</td><td>0.5708101</td><td>0.0000000</td><td>0.22867460</td><td>0.0000000</td><td>0.1162435</td><td>⋯</td><td>0.000000</td><td>0.00000000</td><td>0.153344992</td><td>0.000000000</td><td>0</td><td>0.00000000</td><td>1.00457811</td><td>0.01447016</td><td>0.0000000</td><td>0.00000000</td></tr>\n",
       "</tbody>\n",
       "</table>\n"
      ],
      "text/latex": [
       "A matrix: 5 × 987 of type dbl\n",
       "\\begin{tabular}{r|lllllllllllllllllllll}\n",
       "  & V1 & V2 & V3 & V4 & V5 & V6 & V7 & V8 & V9 & V10 & ⋯ & V978 & V979 & V980 & V981 & V982 & V983 & V984 & V985 & V986 & V987\\\\\n",
       "\\hline\n",
       "\tENSG00000175899 & 0.000000000 & 0.0000000 & 0.00000000 & 0.07842750 & 0 & 0.0000000 & 0.0000000 & 0.04677228 & 0.0000000 & 0.0110329 & ⋯ & 0.010910 & 0.00000000 & 0.052869436 & 0.012748534 & 0 & 0.01398231 & 0.15224090 & 0.00000000 & 0.0000000 & 0.10888358\\\\\n",
       "\tENSG00000094914 & 0.271162234 & 0.0000000 & 0.00000000 & 0.00000000 & 0 & 0.0000000 & 0.0000000 & 0.00000000 & 1.5133366 & 0.0000000 & ⋯ & 0.000000 & 0.00000000 & 0.000000000 & 0.001385031 & 0 & 0.00000000 & 0.71189565 & 0.03053447 & 0.4471055 & 0.42468522\\\\\n",
       "\tENSG00000129673 & 0.005098885 & 0.3084969 & 0.02881539 & 0.00000000 & 0 & 0.0000000 & 0.3717253 & 0.00000000 & 0.1352375 & 0.0000000 & ⋯ & 0.117163 & 0.01881498 & 0.000000000 & 0.193141835 & 0 & 0.04040077 & 0.18043565 & 0.00000000 & 0.0000000 & 0.04206449\\\\\n",
       "\tENSG00000090861 & 0.512978085 & 0.0000000 & 0.45128547 & 0.31956792 & 0 & 0.0000000 & 0.0000000 & 0.00000000 & 0.0000000 & 0.0000000 & ⋯ & 0.000000 & 0.00000000 & 0.006207784 & 0.021274385 & 0 & 0.00000000 & 0.06214269 & 0.00000000 & 0.0000000 & 0.36489213\\\\\n",
       "\tENSG00000124608 & 1.008156895 & 0.0000000 & 0.19742406 & 0.02483182 & 0 & 0.5708101 & 0.0000000 & 0.22867460 & 0.0000000 & 0.1162435 & ⋯ & 0.000000 & 0.00000000 & 0.153344992 & 0.000000000 & 0 & 0.00000000 & 1.00457811 & 0.01447016 & 0.0000000 & 0.00000000\\\\\n",
       "\\end{tabular}\n"
      ],
      "text/markdown": [
       "\n",
       "A matrix: 5 × 987 of type dbl\n",
       "\n",
       "| <!--/--> | V1 | V2 | V3 | V4 | V5 | V6 | V7 | V8 | V9 | V10 | ⋯ | V978 | V979 | V980 | V981 | V982 | V983 | V984 | V985 | V986 | V987 |\n",
       "|---|---|---|---|---|---|---|---|---|---|---|---|---|---|---|---|---|---|---|---|---|---|\n",
       "| ENSG00000175899 | 0.000000000 | 0.0000000 | 0.00000000 | 0.07842750 | 0 | 0.0000000 | 0.0000000 | 0.04677228 | 0.0000000 | 0.0110329 | ⋯ | 0.010910 | 0.00000000 | 0.052869436 | 0.012748534 | 0 | 0.01398231 | 0.15224090 | 0.00000000 | 0.0000000 | 0.10888358 |\n",
       "| ENSG00000094914 | 0.271162234 | 0.0000000 | 0.00000000 | 0.00000000 | 0 | 0.0000000 | 0.0000000 | 0.00000000 | 1.5133366 | 0.0000000 | ⋯ | 0.000000 | 0.00000000 | 0.000000000 | 0.001385031 | 0 | 0.00000000 | 0.71189565 | 0.03053447 | 0.4471055 | 0.42468522 |\n",
       "| ENSG00000129673 | 0.005098885 | 0.3084969 | 0.02881539 | 0.00000000 | 0 | 0.0000000 | 0.3717253 | 0.00000000 | 0.1352375 | 0.0000000 | ⋯ | 0.117163 | 0.01881498 | 0.000000000 | 0.193141835 | 0 | 0.04040077 | 0.18043565 | 0.00000000 | 0.0000000 | 0.04206449 |\n",
       "| ENSG00000090861 | 0.512978085 | 0.0000000 | 0.45128547 | 0.31956792 | 0 | 0.0000000 | 0.0000000 | 0.00000000 | 0.0000000 | 0.0000000 | ⋯ | 0.000000 | 0.00000000 | 0.006207784 | 0.021274385 | 0 | 0.00000000 | 0.06214269 | 0.00000000 | 0.0000000 | 0.36489213 |\n",
       "| ENSG00000124608 | 1.008156895 | 0.0000000 | 0.19742406 | 0.02483182 | 0 | 0.5708101 | 0.0000000 | 0.22867460 | 0.0000000 | 0.1162435 | ⋯ | 0.000000 | 0.00000000 | 0.153344992 | 0.000000000 | 0 | 0.00000000 | 1.00457811 | 0.01447016 | 0.0000000 | 0.00000000 |\n",
       "\n"
      ],
      "text/plain": [
       "                V1          V2        V3         V4         V5 V6       \n",
       "ENSG00000175899 0.000000000 0.0000000 0.00000000 0.07842750 0  0.0000000\n",
       "ENSG00000094914 0.271162234 0.0000000 0.00000000 0.00000000 0  0.0000000\n",
       "ENSG00000129673 0.005098885 0.3084969 0.02881539 0.00000000 0  0.0000000\n",
       "ENSG00000090861 0.512978085 0.0000000 0.45128547 0.31956792 0  0.0000000\n",
       "ENSG00000124608 1.008156895 0.0000000 0.19742406 0.02483182 0  0.5708101\n",
       "                V7        V8         V9        V10       ⋯ V978     V979      \n",
       "ENSG00000175899 0.0000000 0.04677228 0.0000000 0.0110329 ⋯ 0.010910 0.00000000\n",
       "ENSG00000094914 0.0000000 0.00000000 1.5133366 0.0000000 ⋯ 0.000000 0.00000000\n",
       "ENSG00000129673 0.3717253 0.00000000 0.1352375 0.0000000 ⋯ 0.117163 0.01881498\n",
       "ENSG00000090861 0.0000000 0.00000000 0.0000000 0.0000000 ⋯ 0.000000 0.00000000\n",
       "ENSG00000124608 0.0000000 0.22867460 0.0000000 0.1162435 ⋯ 0.000000 0.00000000\n",
       "                V980        V981        V982 V983       V984       V985      \n",
       "ENSG00000175899 0.052869436 0.012748534 0    0.01398231 0.15224090 0.00000000\n",
       "ENSG00000094914 0.000000000 0.001385031 0    0.00000000 0.71189565 0.03053447\n",
       "ENSG00000129673 0.000000000 0.193141835 0    0.04040077 0.18043565 0.00000000\n",
       "ENSG00000090861 0.006207784 0.021274385 0    0.00000000 0.06214269 0.00000000\n",
       "ENSG00000124608 0.153344992 0.000000000 0    0.00000000 1.00457811 0.01447016\n",
       "                V986      V987      \n",
       "ENSG00000175899 0.0000000 0.10888358\n",
       "ENSG00000094914 0.4471055 0.42468522\n",
       "ENSG00000129673 0.0000000 0.04206449\n",
       "ENSG00000090861 0.0000000 0.36489213\n",
       "ENSG00000124608 0.0000000 0.00000000"
      ]
     },
     "metadata": {},
     "output_type": "display_data"
    },
    {
     "data": {
      "text/html": [
       "<style>\n",
       ".list-inline {list-style: none; margin:0; padding: 0}\n",
       ".list-inline>li {display: inline-block}\n",
       ".list-inline>li:not(:last-child)::after {content: \"\\00b7\"; padding: 0 .5ex}\n",
       "</style>\n",
       "<ol class=list-inline><li>6455</li><li>987</li></ol>\n"
      ],
      "text/latex": [
       "\\begin{enumerate*}\n",
       "\\item 6455\n",
       "\\item 987\n",
       "\\end{enumerate*}\n"
      ],
      "text/markdown": [
       "1. 6455\n",
       "2. 987\n",
       "\n",
       "\n"
      ],
      "text/plain": [
       "[1] 6455  987"
      ]
     },
     "metadata": {},
     "output_type": "display_data"
    }
   ],
   "source": [
    "# convert matrix to dataframe with gene as rownames\n",
    "z_df <- cbind(gene = rownames(z_model), as.data.frame(z_model))\n",
    "# merge dataframe with 'name_to_ID' (file containing name and ensembleID) by gene\n",
    "EnsID_df <- merge(z_df, name_to_ID, by = \"gene\")\n",
    "#set rownames of new dataframe to ensembleID\n",
    "rownames(EnsID_df) <- EnsID_df$EnsemblID\n",
    "#remove gene and ensembleID column\n",
    "z_matrix <- as.matrix(EnsID_df[, !(colnames(EnsID_df) %in% c(\"gene\", \"EnsemblID\"))])\n",
    "\n",
    "str(z_matrix)\n",
    "head(z_matrix,5)\n",
    "dim(z_matrix)"
   ]
  },
  {
   "cell_type": "code",
   "execution_count": 27,
   "metadata": {},
   "outputs": [],
   "source": [
    "# rebuild plier model with z, b, L1, L2, L3\n",
    "plier.model <- list(Z = z_matrix, B =b_model, L1 = metadata$L1, L2 = metadata$L2, L3 = metadata$L3)"
   ]
  },
  {
   "cell_type": "code",
   "execution_count": 28,
   "metadata": {},
   "outputs": [
    {
     "data": {
      "text/html": [
       "<style>\n",
       ".list-inline {list-style: none; margin:0; padding: 0}\n",
       ".list-inline>li {display: inline-block}\n",
       ".list-inline>li:not(:last-child)::after {content: \"\\00b7\"; padding: 0 .5ex}\n",
       "</style>\n",
       "<ol class=list-inline><li>'b_model'</li><li>'CalculateHoldoutAUC'</li><li>'CalculateUSparsity'</li><li>'data_t'</li><li>'EnsID_df'</li><li>'EvalWrapper'</li><li>'EvalWrapperWithHoldout'</li><li>'GetNewDataB'</li><li>'GetOrderedRowNorm'</li><li>'GetOrderedRowNormEM'</li><li>'GetPathwayCoverage'</li><li>'GetReconstructedExprs'</li><li>'GetReconstructionCorrelation'</li><li>'GetReconstructionMASE'</li><li>'LV_names'</li><li>'metadata'</li><li>'name_to_ID'</li><li>'path_to_rna'</li><li>'patient_per_group'</li><li>'plier.model'</li><li>'PLIERNewData'</li><li>'py_data'</li><li>'remove_dot'</li><li>'remove_pathway'</li><li>'RNA_pheno'</li><li>'RNA_proj'</li><li>'RNA_proj_group'</li><li>'RNA_proj_t'</li><li>'RNAseq_1_res'</li><li>'RNAseq_2_res'</li><li>'RNAseq_data'</li><li>'RNAseq_diff'</li><li>'tp'</li><li>'z_df'</li><li>'z_matrix'</li><li>'z_model'</li></ol>\n"
      ],
      "text/latex": [
       "\\begin{enumerate*}\n",
       "\\item 'b\\_model'\n",
       "\\item 'CalculateHoldoutAUC'\n",
       "\\item 'CalculateUSparsity'\n",
       "\\item 'data\\_t'\n",
       "\\item 'EnsID\\_df'\n",
       "\\item 'EvalWrapper'\n",
       "\\item 'EvalWrapperWithHoldout'\n",
       "\\item 'GetNewDataB'\n",
       "\\item 'GetOrderedRowNorm'\n",
       "\\item 'GetOrderedRowNormEM'\n",
       "\\item 'GetPathwayCoverage'\n",
       "\\item 'GetReconstructedExprs'\n",
       "\\item 'GetReconstructionCorrelation'\n",
       "\\item 'GetReconstructionMASE'\n",
       "\\item 'LV\\_names'\n",
       "\\item 'metadata'\n",
       "\\item 'name\\_to\\_ID'\n",
       "\\item 'path\\_to\\_rna'\n",
       "\\item 'patient\\_per\\_group'\n",
       "\\item 'plier.model'\n",
       "\\item 'PLIERNewData'\n",
       "\\item 'py\\_data'\n",
       "\\item 'remove\\_dot'\n",
       "\\item 'remove\\_pathway'\n",
       "\\item 'RNA\\_pheno'\n",
       "\\item 'RNA\\_proj'\n",
       "\\item 'RNA\\_proj\\_group'\n",
       "\\item 'RNA\\_proj\\_t'\n",
       "\\item 'RNAseq\\_1\\_res'\n",
       "\\item 'RNAseq\\_2\\_res'\n",
       "\\item 'RNAseq\\_data'\n",
       "\\item 'RNAseq\\_diff'\n",
       "\\item 'tp'\n",
       "\\item 'z\\_df'\n",
       "\\item 'z\\_matrix'\n",
       "\\item 'z\\_model'\n",
       "\\end{enumerate*}\n"
      ],
      "text/markdown": [
       "1. 'b_model'\n",
       "2. 'CalculateHoldoutAUC'\n",
       "3. 'CalculateUSparsity'\n",
       "4. 'data_t'\n",
       "5. 'EnsID_df'\n",
       "6. 'EvalWrapper'\n",
       "7. 'EvalWrapperWithHoldout'\n",
       "8. 'GetNewDataB'\n",
       "9. 'GetOrderedRowNorm'\n",
       "10. 'GetOrderedRowNormEM'\n",
       "11. 'GetPathwayCoverage'\n",
       "12. 'GetReconstructedExprs'\n",
       "13. 'GetReconstructionCorrelation'\n",
       "14. 'GetReconstructionMASE'\n",
       "15. 'LV_names'\n",
       "16. 'metadata'\n",
       "17. 'name_to_ID'\n",
       "18. 'path_to_rna'\n",
       "19. 'patient_per_group'\n",
       "20. 'plier.model'\n",
       "21. 'PLIERNewData'\n",
       "22. 'py_data'\n",
       "23. 'remove_dot'\n",
       "24. 'remove_pathway'\n",
       "25. 'RNA_pheno'\n",
       "26. 'RNA_proj'\n",
       "27. 'RNA_proj_group'\n",
       "28. 'RNA_proj_t'\n",
       "29. 'RNAseq_1_res'\n",
       "30. 'RNAseq_2_res'\n",
       "31. 'RNAseq_data'\n",
       "32. 'RNAseq_diff'\n",
       "33. 'tp'\n",
       "34. 'z_df'\n",
       "35. 'z_matrix'\n",
       "36. 'z_model'\n",
       "\n",
       "\n"
      ],
      "text/plain": [
       " [1] \"b_model\"                      \"CalculateHoldoutAUC\"         \n",
       " [3] \"CalculateUSparsity\"           \"data_t\"                      \n",
       " [5] \"EnsID_df\"                     \"EvalWrapper\"                 \n",
       " [7] \"EvalWrapperWithHoldout\"       \"GetNewDataB\"                 \n",
       " [9] \"GetOrderedRowNorm\"            \"GetOrderedRowNormEM\"         \n",
       "[11] \"GetPathwayCoverage\"           \"GetReconstructedExprs\"       \n",
       "[13] \"GetReconstructionCorrelation\" \"GetReconstructionMASE\"       \n",
       "[15] \"LV_names\"                     \"metadata\"                    \n",
       "[17] \"name_to_ID\"                   \"path_to_rna\"                 \n",
       "[19] \"patient_per_group\"            \"plier.model\"                 \n",
       "[21] \"PLIERNewData\"                 \"py_data\"                     \n",
       "[23] \"remove_dot\"                   \"remove_pathway\"              \n",
       "[25] \"RNA_pheno\"                    \"RNA_proj\"                    \n",
       "[27] \"RNA_proj_group\"               \"RNA_proj_t\"                  \n",
       "[29] \"RNAseq_1_res\"                 \"RNAseq_2_res\"                \n",
       "[31] \"RNAseq_data\"                  \"RNAseq_diff\"                 \n",
       "[33] \"tp\"                           \"z_df\"                        \n",
       "[35] \"z_matrix\"                     \"z_model\"                     "
      ]
     },
     "metadata": {},
     "output_type": "display_data"
    }
   ],
   "source": [
    "# Check all variables are loaded\n",
    "ls()"
   ]
  },
  {
   "cell_type": "code",
   "execution_count": 29,
   "metadata": {},
   "outputs": [],
   "source": [
    "#order gene expression matrix to match plier model\n",
    "ordered_mat <- GetOrderedRowNormEM(RNAseq_data, plier.model)\n",
    "\n",
    "#extract gene_expressiom matrix\n",
    "ordered_DAISY_gen_expr <- ordered_mat$exprs.norm.filtered\n",
    "\n",
    "# extract plier model matrix\n",
    "ordered_model <- ordered_mat$plier.model"
   ]
  },
  {
   "cell_type": "code",
   "execution_count": 30,
   "metadata": {},
   "outputs": [],
   "source": [
    "#project gen expression matrix into plier model\n",
    "projection <- GetNewDataB(ordered_DAISY_gen_expr,ordered_model)"
   ]
  },
  {
   "cell_type": "code",
   "execution_count": 31,
   "metadata": {},
   "outputs": [],
   "source": [
    "#save projection\n",
    "df_projection  <- as.data.frame(projection)\n",
    "saveRDS(df_projection,paste0(\"output/projection_\",tp,\".rds\"))"
   ]
  },
  {
   "cell_type": "code",
   "execution_count": 32,
   "metadata": {},
   "outputs": [
    {
     "data": {
      "text/html": [
       "<style>\n",
       ".list-inline {list-style: none; margin:0; padding: 0}\n",
       ".list-inline>li {display: inline-block}\n",
       ".list-inline>li:not(:last-child)::after {content: \"\\00b7\"; padding: 0 .5ex}\n",
       "</style>\n",
       "<ol class=list-inline><li>987</li><li>136</li></ol>\n"
      ],
      "text/latex": [
       "\\begin{enumerate*}\n",
       "\\item 987\n",
       "\\item 136\n",
       "\\end{enumerate*}\n"
      ],
      "text/markdown": [
       "1. 987\n",
       "2. 136\n",
       "\n",
       "\n"
      ],
      "text/plain": [
       "[1] 987 136"
      ]
     },
     "metadata": {},
     "output_type": "display_data"
    }
   ],
   "source": [
    "dim(df_projection)"
   ]
  },
  {
   "cell_type": "code",
   "execution_count": 33,
   "metadata": {
    "scrolled": true
   },
   "outputs": [
    {
     "data": {
      "text/html": [
       "<table class=\"dataframe\">\n",
       "<caption>A data.frame: 10 × 136</caption>\n",
       "<thead>\n",
       "\t<tr><th></th><th scope=col>00041-0</th><th scope=col>00110-0</th><th scope=col>00139-0</th><th scope=col>00159-0</th><th scope=col>00174-0</th><th scope=col>00177-0</th><th scope=col>00181-0</th><th scope=col>00234-0</th><th scope=col>00250-0</th><th scope=col>00266-0</th><th scope=col>⋯</th><th scope=col>39376-0</th><th scope=col>39390-0</th><th scope=col>50136-0</th><th scope=col>62291-0</th><th scope=col>81801-0</th><th scope=col>84002-0</th><th scope=col>84689-0</th><th scope=col>84731-0</th><th scope=col>84860-0</th><th scope=col>85365-0</th></tr>\n",
       "\t<tr><th></th><th scope=col>&lt;dbl&gt;</th><th scope=col>&lt;dbl&gt;</th><th scope=col>&lt;dbl&gt;</th><th scope=col>&lt;dbl&gt;</th><th scope=col>&lt;dbl&gt;</th><th scope=col>&lt;dbl&gt;</th><th scope=col>&lt;dbl&gt;</th><th scope=col>&lt;dbl&gt;</th><th scope=col>&lt;dbl&gt;</th><th scope=col>&lt;dbl&gt;</th><th scope=col>⋯</th><th scope=col>&lt;dbl&gt;</th><th scope=col>&lt;dbl&gt;</th><th scope=col>&lt;dbl&gt;</th><th scope=col>&lt;dbl&gt;</th><th scope=col>&lt;dbl&gt;</th><th scope=col>&lt;dbl&gt;</th><th scope=col>&lt;dbl&gt;</th><th scope=col>&lt;dbl&gt;</th><th scope=col>&lt;dbl&gt;</th><th scope=col>&lt;dbl&gt;</th></tr>\n",
       "</thead>\n",
       "<tbody>\n",
       "\t<tr><th scope=row>1,REACTOME_MRNA_SPLICING</th><td> 0.065332401</td><td>-0.0426748090</td><td>-0.041625433</td><td>-0.04801535</td><td>-0.0442214261</td><td> 0.004729490</td><td> 0.071093981</td><td> 0.006548052</td><td>-0.015402144</td><td> 0.181385434</td><td>⋯</td><td>-0.008721237</td><td> 0.131912850</td><td> 0.0296017388</td><td> 0.0739803592</td><td>-0.036742593</td><td>-0.046748298</td><td>-0.03986162</td><td> 0.003378565</td><td> 0.0776117098</td><td>-0.038489040</td></tr>\n",
       "\t<tr><th scope=row>2,SVM Monocytes</th><td>-0.011055519</td><td>-0.0203915426</td><td>-0.036730092</td><td> 0.23206520</td><td> 0.0056482973</td><td> 0.090230557</td><td>-0.053618383</td><td>-0.055892209</td><td> 0.033348187</td><td>-0.202543906</td><td>⋯</td><td>-0.054903032</td><td> 0.161937335</td><td> 0.0128464744</td><td> 0.0483956407</td><td> 0.014868334</td><td> 0.058577340</td><td> 0.02346133</td><td>-0.021035869</td><td>-0.2087083294</td><td>-0.158593876</td></tr>\n",
       "\t<tr><th scope=row>3,REACTOME_TRANSMISSION_ACROSS_CHEMICAL_SYNAPSES</th><td>-0.028714363</td><td>-0.0001745483</td><td>-0.046952233</td><td>-0.02635038</td><td> 0.0019395758</td><td> 0.034059247</td><td>-0.031111455</td><td> 0.058060764</td><td>-0.004556753</td><td>-0.024825236</td><td>⋯</td><td>-0.013600209</td><td> 0.032727480</td><td>-0.0230385126</td><td>-0.0005035420</td><td>-0.016334163</td><td> 0.018761303</td><td>-0.10980930</td><td>-0.057315142</td><td> 0.0050074827</td><td>-0.005712764</td></tr>\n",
       "\t<tr><th scope=row>4,REACTOME_NEURONAL_SYSTEM</th><td> 0.036526145</td><td> 0.0036821938</td><td> 0.089392721</td><td> 0.05435819</td><td> 0.0120303486</td><td>-0.036533686</td><td>-0.002383970</td><td> 0.006600057</td><td> 0.037116839</td><td>-0.013348465</td><td>⋯</td><td>-0.018481614</td><td>-0.021814415</td><td>-0.0137323571</td><td>-0.1149671466</td><td> 0.038998012</td><td> 0.004115676</td><td> 0.15045417</td><td> 0.103095530</td><td>-0.0324800579</td><td>-0.039781879</td></tr>\n",
       "\t<tr><th scope=row>LV 5</th><td> 0.001051845</td><td>-0.0022437564</td><td>-0.049189611</td><td> 0.01083836</td><td>-0.0095265953</td><td>-0.070493378</td><td>-0.018886612</td><td> 0.033639892</td><td> 0.034396240</td><td> 0.022692889</td><td>⋯</td><td> 0.003492555</td><td> 0.008323240</td><td> 0.0008771747</td><td>-0.0004055108</td><td>-0.007240147</td><td> 0.011602828</td><td> 0.05174336</td><td>-0.004552460</td><td> 0.0268384648</td><td> 0.028493582</td></tr>\n",
       "\t<tr><th scope=row>LV 6</th><td>-0.004441117</td><td> 0.0081585522</td><td> 0.032472113</td><td>-0.02382115</td><td>-0.0119864145</td><td> 0.026034243</td><td> 0.005130581</td><td> 0.038804318</td><td> 0.053005779</td><td> 0.029817126</td><td>⋯</td><td>-0.018442623</td><td>-0.011881862</td><td> 0.0085084666</td><td>-0.0495462730</td><td> 0.030367628</td><td> 0.017500377</td><td> 0.04229019</td><td> 0.026824612</td><td> 0.0002794303</td><td>-0.009901047</td></tr>\n",
       "\t<tr><th scope=row>7,IRIS_Neutrophil-Resting</th><td>-0.125406419</td><td> 0.1186735279</td><td>-0.021726760</td><td> 0.05710884</td><td>-0.0485965759</td><td>-0.003346754</td><td>-0.074511353</td><td>-0.030957254</td><td>-0.074895980</td><td> 0.002175420</td><td>⋯</td><td>-0.033625884</td><td>-0.002532941</td><td>-0.0040099622</td><td> 0.1833619070</td><td>-0.040083550</td><td>-0.109534077</td><td>-0.01662715</td><td>-0.115557188</td><td>-0.1152396948</td><td> 0.172599313</td></tr>\n",
       "\t<tr><th scope=row>8,KEGG_PPAR_SIGNALING_PATHWAY</th><td>-0.016581769</td><td> 0.0281342100</td><td> 0.012381584</td><td> 0.01861838</td><td>-0.0120970582</td><td>-0.092804899</td><td> 0.035817899</td><td> 0.027643473</td><td> 0.012907509</td><td> 0.004294152</td><td>⋯</td><td>-0.021820877</td><td> 0.001497020</td><td> 0.0296942684</td><td>-0.0210360620</td><td>-0.100706546</td><td>-0.023419421</td><td> 0.01495798</td><td>-0.006865413</td><td> 0.0115382280</td><td>-0.015575188</td></tr>\n",
       "\t<tr><th scope=row>LV 9</th><td>-0.017315869</td><td> 0.0131125908</td><td>-0.040387114</td><td>-0.03851220</td><td> 0.0006907144</td><td> 0.032555099</td><td> 0.022087865</td><td> 0.031584133</td><td>-0.049575864</td><td>-0.053893271</td><td>⋯</td><td>-0.016691451</td><td> 0.088411748</td><td> 0.0002051650</td><td> 0.0488821876</td><td>-0.066955883</td><td> 0.038332528</td><td>-0.17449992</td><td>-0.089385115</td><td> 0.0088830595</td><td> 0.047719623</td></tr>\n",
       "\t<tr><th scope=row>10,SVM Macrophages M0</th><td>-0.021002449</td><td> 0.0207251620</td><td> 0.009864522</td><td> 0.02470194</td><td> 0.0064415276</td><td>-0.037870991</td><td>-0.048841017</td><td>-0.027410674</td><td>-0.060621519</td><td>-0.003254721</td><td>⋯</td><td>-0.012255934</td><td> 0.048674419</td><td>-0.0520296904</td><td> 0.0375944525</td><td>-0.013898978</td><td>-0.002101086</td><td>-0.01112314</td><td>-0.004441729</td><td>-0.0260223193</td><td> 0.002842662</td></tr>\n",
       "</tbody>\n",
       "</table>\n"
      ],
      "text/latex": [
       "A data.frame: 10 × 136\n",
       "\\begin{tabular}{r|lllllllllllllllllllll}\n",
       "  & 00041-0 & 00110-0 & 00139-0 & 00159-0 & 00174-0 & 00177-0 & 00181-0 & 00234-0 & 00250-0 & 00266-0 & ⋯ & 39376-0 & 39390-0 & 50136-0 & 62291-0 & 81801-0 & 84002-0 & 84689-0 & 84731-0 & 84860-0 & 85365-0\\\\\n",
       "  & <dbl> & <dbl> & <dbl> & <dbl> & <dbl> & <dbl> & <dbl> & <dbl> & <dbl> & <dbl> & ⋯ & <dbl> & <dbl> & <dbl> & <dbl> & <dbl> & <dbl> & <dbl> & <dbl> & <dbl> & <dbl>\\\\\n",
       "\\hline\n",
       "\t1,REACTOME\\_MRNA\\_SPLICING &  0.065332401 & -0.0426748090 & -0.041625433 & -0.04801535 & -0.0442214261 &  0.004729490 &  0.071093981 &  0.006548052 & -0.015402144 &  0.181385434 & ⋯ & -0.008721237 &  0.131912850 &  0.0296017388 &  0.0739803592 & -0.036742593 & -0.046748298 & -0.03986162 &  0.003378565 &  0.0776117098 & -0.038489040\\\\\n",
       "\t2,SVM Monocytes & -0.011055519 & -0.0203915426 & -0.036730092 &  0.23206520 &  0.0056482973 &  0.090230557 & -0.053618383 & -0.055892209 &  0.033348187 & -0.202543906 & ⋯ & -0.054903032 &  0.161937335 &  0.0128464744 &  0.0483956407 &  0.014868334 &  0.058577340 &  0.02346133 & -0.021035869 & -0.2087083294 & -0.158593876\\\\\n",
       "\t3,REACTOME\\_TRANSMISSION\\_ACROSS\\_CHEMICAL\\_SYNAPSES & -0.028714363 & -0.0001745483 & -0.046952233 & -0.02635038 &  0.0019395758 &  0.034059247 & -0.031111455 &  0.058060764 & -0.004556753 & -0.024825236 & ⋯ & -0.013600209 &  0.032727480 & -0.0230385126 & -0.0005035420 & -0.016334163 &  0.018761303 & -0.10980930 & -0.057315142 &  0.0050074827 & -0.005712764\\\\\n",
       "\t4,REACTOME\\_NEURONAL\\_SYSTEM &  0.036526145 &  0.0036821938 &  0.089392721 &  0.05435819 &  0.0120303486 & -0.036533686 & -0.002383970 &  0.006600057 &  0.037116839 & -0.013348465 & ⋯ & -0.018481614 & -0.021814415 & -0.0137323571 & -0.1149671466 &  0.038998012 &  0.004115676 &  0.15045417 &  0.103095530 & -0.0324800579 & -0.039781879\\\\\n",
       "\tLV 5 &  0.001051845 & -0.0022437564 & -0.049189611 &  0.01083836 & -0.0095265953 & -0.070493378 & -0.018886612 &  0.033639892 &  0.034396240 &  0.022692889 & ⋯ &  0.003492555 &  0.008323240 &  0.0008771747 & -0.0004055108 & -0.007240147 &  0.011602828 &  0.05174336 & -0.004552460 &  0.0268384648 &  0.028493582\\\\\n",
       "\tLV 6 & -0.004441117 &  0.0081585522 &  0.032472113 & -0.02382115 & -0.0119864145 &  0.026034243 &  0.005130581 &  0.038804318 &  0.053005779 &  0.029817126 & ⋯ & -0.018442623 & -0.011881862 &  0.0085084666 & -0.0495462730 &  0.030367628 &  0.017500377 &  0.04229019 &  0.026824612 &  0.0002794303 & -0.009901047\\\\\n",
       "\t7,IRIS\\_Neutrophil-Resting & -0.125406419 &  0.1186735279 & -0.021726760 &  0.05710884 & -0.0485965759 & -0.003346754 & -0.074511353 & -0.030957254 & -0.074895980 &  0.002175420 & ⋯ & -0.033625884 & -0.002532941 & -0.0040099622 &  0.1833619070 & -0.040083550 & -0.109534077 & -0.01662715 & -0.115557188 & -0.1152396948 &  0.172599313\\\\\n",
       "\t8,KEGG\\_PPAR\\_SIGNALING\\_PATHWAY & -0.016581769 &  0.0281342100 &  0.012381584 &  0.01861838 & -0.0120970582 & -0.092804899 &  0.035817899 &  0.027643473 &  0.012907509 &  0.004294152 & ⋯ & -0.021820877 &  0.001497020 &  0.0296942684 & -0.0210360620 & -0.100706546 & -0.023419421 &  0.01495798 & -0.006865413 &  0.0115382280 & -0.015575188\\\\\n",
       "\tLV 9 & -0.017315869 &  0.0131125908 & -0.040387114 & -0.03851220 &  0.0006907144 &  0.032555099 &  0.022087865 &  0.031584133 & -0.049575864 & -0.053893271 & ⋯ & -0.016691451 &  0.088411748 &  0.0002051650 &  0.0488821876 & -0.066955883 &  0.038332528 & -0.17449992 & -0.089385115 &  0.0088830595 &  0.047719623\\\\\n",
       "\t10,SVM Macrophages M0 & -0.021002449 &  0.0207251620 &  0.009864522 &  0.02470194 &  0.0064415276 & -0.037870991 & -0.048841017 & -0.027410674 & -0.060621519 & -0.003254721 & ⋯ & -0.012255934 &  0.048674419 & -0.0520296904 &  0.0375944525 & -0.013898978 & -0.002101086 & -0.01112314 & -0.004441729 & -0.0260223193 &  0.002842662\\\\\n",
       "\\end{tabular}\n"
      ],
      "text/markdown": [
       "\n",
       "A data.frame: 10 × 136\n",
       "\n",
       "| <!--/--> | 00041-0 &lt;dbl&gt; | 00110-0 &lt;dbl&gt; | 00139-0 &lt;dbl&gt; | 00159-0 &lt;dbl&gt; | 00174-0 &lt;dbl&gt; | 00177-0 &lt;dbl&gt; | 00181-0 &lt;dbl&gt; | 00234-0 &lt;dbl&gt; | 00250-0 &lt;dbl&gt; | 00266-0 &lt;dbl&gt; | ⋯ ⋯ | 39376-0 &lt;dbl&gt; | 39390-0 &lt;dbl&gt; | 50136-0 &lt;dbl&gt; | 62291-0 &lt;dbl&gt; | 81801-0 &lt;dbl&gt; | 84002-0 &lt;dbl&gt; | 84689-0 &lt;dbl&gt; | 84731-0 &lt;dbl&gt; | 84860-0 &lt;dbl&gt; | 85365-0 &lt;dbl&gt; |\n",
       "|---|---|---|---|---|---|---|---|---|---|---|---|---|---|---|---|---|---|---|---|---|---|\n",
       "| 1,REACTOME_MRNA_SPLICING |  0.065332401 | -0.0426748090 | -0.041625433 | -0.04801535 | -0.0442214261 |  0.004729490 |  0.071093981 |  0.006548052 | -0.015402144 |  0.181385434 | ⋯ | -0.008721237 |  0.131912850 |  0.0296017388 |  0.0739803592 | -0.036742593 | -0.046748298 | -0.03986162 |  0.003378565 |  0.0776117098 | -0.038489040 |\n",
       "| 2,SVM Monocytes | -0.011055519 | -0.0203915426 | -0.036730092 |  0.23206520 |  0.0056482973 |  0.090230557 | -0.053618383 | -0.055892209 |  0.033348187 | -0.202543906 | ⋯ | -0.054903032 |  0.161937335 |  0.0128464744 |  0.0483956407 |  0.014868334 |  0.058577340 |  0.02346133 | -0.021035869 | -0.2087083294 | -0.158593876 |\n",
       "| 3,REACTOME_TRANSMISSION_ACROSS_CHEMICAL_SYNAPSES | -0.028714363 | -0.0001745483 | -0.046952233 | -0.02635038 |  0.0019395758 |  0.034059247 | -0.031111455 |  0.058060764 | -0.004556753 | -0.024825236 | ⋯ | -0.013600209 |  0.032727480 | -0.0230385126 | -0.0005035420 | -0.016334163 |  0.018761303 | -0.10980930 | -0.057315142 |  0.0050074827 | -0.005712764 |\n",
       "| 4,REACTOME_NEURONAL_SYSTEM |  0.036526145 |  0.0036821938 |  0.089392721 |  0.05435819 |  0.0120303486 | -0.036533686 | -0.002383970 |  0.006600057 |  0.037116839 | -0.013348465 | ⋯ | -0.018481614 | -0.021814415 | -0.0137323571 | -0.1149671466 |  0.038998012 |  0.004115676 |  0.15045417 |  0.103095530 | -0.0324800579 | -0.039781879 |\n",
       "| LV 5 |  0.001051845 | -0.0022437564 | -0.049189611 |  0.01083836 | -0.0095265953 | -0.070493378 | -0.018886612 |  0.033639892 |  0.034396240 |  0.022692889 | ⋯ |  0.003492555 |  0.008323240 |  0.0008771747 | -0.0004055108 | -0.007240147 |  0.011602828 |  0.05174336 | -0.004552460 |  0.0268384648 |  0.028493582 |\n",
       "| LV 6 | -0.004441117 |  0.0081585522 |  0.032472113 | -0.02382115 | -0.0119864145 |  0.026034243 |  0.005130581 |  0.038804318 |  0.053005779 |  0.029817126 | ⋯ | -0.018442623 | -0.011881862 |  0.0085084666 | -0.0495462730 |  0.030367628 |  0.017500377 |  0.04229019 |  0.026824612 |  0.0002794303 | -0.009901047 |\n",
       "| 7,IRIS_Neutrophil-Resting | -0.125406419 |  0.1186735279 | -0.021726760 |  0.05710884 | -0.0485965759 | -0.003346754 | -0.074511353 | -0.030957254 | -0.074895980 |  0.002175420 | ⋯ | -0.033625884 | -0.002532941 | -0.0040099622 |  0.1833619070 | -0.040083550 | -0.109534077 | -0.01662715 | -0.115557188 | -0.1152396948 |  0.172599313 |\n",
       "| 8,KEGG_PPAR_SIGNALING_PATHWAY | -0.016581769 |  0.0281342100 |  0.012381584 |  0.01861838 | -0.0120970582 | -0.092804899 |  0.035817899 |  0.027643473 |  0.012907509 |  0.004294152 | ⋯ | -0.021820877 |  0.001497020 |  0.0296942684 | -0.0210360620 | -0.100706546 | -0.023419421 |  0.01495798 | -0.006865413 |  0.0115382280 | -0.015575188 |\n",
       "| LV 9 | -0.017315869 |  0.0131125908 | -0.040387114 | -0.03851220 |  0.0006907144 |  0.032555099 |  0.022087865 |  0.031584133 | -0.049575864 | -0.053893271 | ⋯ | -0.016691451 |  0.088411748 |  0.0002051650 |  0.0488821876 | -0.066955883 |  0.038332528 | -0.17449992 | -0.089385115 |  0.0088830595 |  0.047719623 |\n",
       "| 10,SVM Macrophages M0 | -0.021002449 |  0.0207251620 |  0.009864522 |  0.02470194 |  0.0064415276 | -0.037870991 | -0.048841017 | -0.027410674 | -0.060621519 | -0.003254721 | ⋯ | -0.012255934 |  0.048674419 | -0.0520296904 |  0.0375944525 | -0.013898978 | -0.002101086 | -0.01112314 | -0.004441729 | -0.0260223193 |  0.002842662 |\n",
       "\n"
      ],
      "text/plain": [
       "                                                 00041-0      00110-0      \n",
       "1,REACTOME_MRNA_SPLICING                          0.065332401 -0.0426748090\n",
       "2,SVM Monocytes                                  -0.011055519 -0.0203915426\n",
       "3,REACTOME_TRANSMISSION_ACROSS_CHEMICAL_SYNAPSES -0.028714363 -0.0001745483\n",
       "4,REACTOME_NEURONAL_SYSTEM                        0.036526145  0.0036821938\n",
       "LV 5                                              0.001051845 -0.0022437564\n",
       "LV 6                                             -0.004441117  0.0081585522\n",
       "7,IRIS_Neutrophil-Resting                        -0.125406419  0.1186735279\n",
       "8,KEGG_PPAR_SIGNALING_PATHWAY                    -0.016581769  0.0281342100\n",
       "LV 9                                             -0.017315869  0.0131125908\n",
       "10,SVM Macrophages M0                            -0.021002449  0.0207251620\n",
       "                                                 00139-0      00159-0    \n",
       "1,REACTOME_MRNA_SPLICING                         -0.041625433 -0.04801535\n",
       "2,SVM Monocytes                                  -0.036730092  0.23206520\n",
       "3,REACTOME_TRANSMISSION_ACROSS_CHEMICAL_SYNAPSES -0.046952233 -0.02635038\n",
       "4,REACTOME_NEURONAL_SYSTEM                        0.089392721  0.05435819\n",
       "LV 5                                             -0.049189611  0.01083836\n",
       "LV 6                                              0.032472113 -0.02382115\n",
       "7,IRIS_Neutrophil-Resting                        -0.021726760  0.05710884\n",
       "8,KEGG_PPAR_SIGNALING_PATHWAY                     0.012381584  0.01861838\n",
       "LV 9                                             -0.040387114 -0.03851220\n",
       "10,SVM Macrophages M0                             0.009864522  0.02470194\n",
       "                                                 00174-0       00177-0     \n",
       "1,REACTOME_MRNA_SPLICING                         -0.0442214261  0.004729490\n",
       "2,SVM Monocytes                                   0.0056482973  0.090230557\n",
       "3,REACTOME_TRANSMISSION_ACROSS_CHEMICAL_SYNAPSES  0.0019395758  0.034059247\n",
       "4,REACTOME_NEURONAL_SYSTEM                        0.0120303486 -0.036533686\n",
       "LV 5                                             -0.0095265953 -0.070493378\n",
       "LV 6                                             -0.0119864145  0.026034243\n",
       "7,IRIS_Neutrophil-Resting                        -0.0485965759 -0.003346754\n",
       "8,KEGG_PPAR_SIGNALING_PATHWAY                    -0.0120970582 -0.092804899\n",
       "LV 9                                              0.0006907144  0.032555099\n",
       "10,SVM Macrophages M0                             0.0064415276 -0.037870991\n",
       "                                                 00181-0      00234-0     \n",
       "1,REACTOME_MRNA_SPLICING                          0.071093981  0.006548052\n",
       "2,SVM Monocytes                                  -0.053618383 -0.055892209\n",
       "3,REACTOME_TRANSMISSION_ACROSS_CHEMICAL_SYNAPSES -0.031111455  0.058060764\n",
       "4,REACTOME_NEURONAL_SYSTEM                       -0.002383970  0.006600057\n",
       "LV 5                                             -0.018886612  0.033639892\n",
       "LV 6                                              0.005130581  0.038804318\n",
       "7,IRIS_Neutrophil-Resting                        -0.074511353 -0.030957254\n",
       "8,KEGG_PPAR_SIGNALING_PATHWAY                     0.035817899  0.027643473\n",
       "LV 9                                              0.022087865  0.031584133\n",
       "10,SVM Macrophages M0                            -0.048841017 -0.027410674\n",
       "                                                 00250-0      00266-0      ⋯\n",
       "1,REACTOME_MRNA_SPLICING                         -0.015402144  0.181385434 ⋯\n",
       "2,SVM Monocytes                                   0.033348187 -0.202543906 ⋯\n",
       "3,REACTOME_TRANSMISSION_ACROSS_CHEMICAL_SYNAPSES -0.004556753 -0.024825236 ⋯\n",
       "4,REACTOME_NEURONAL_SYSTEM                        0.037116839 -0.013348465 ⋯\n",
       "LV 5                                              0.034396240  0.022692889 ⋯\n",
       "LV 6                                              0.053005779  0.029817126 ⋯\n",
       "7,IRIS_Neutrophil-Resting                        -0.074895980  0.002175420 ⋯\n",
       "8,KEGG_PPAR_SIGNALING_PATHWAY                     0.012907509  0.004294152 ⋯\n",
       "LV 9                                             -0.049575864 -0.053893271 ⋯\n",
       "10,SVM Macrophages M0                            -0.060621519 -0.003254721 ⋯\n",
       "                                                 39376-0      39390-0     \n",
       "1,REACTOME_MRNA_SPLICING                         -0.008721237  0.131912850\n",
       "2,SVM Monocytes                                  -0.054903032  0.161937335\n",
       "3,REACTOME_TRANSMISSION_ACROSS_CHEMICAL_SYNAPSES -0.013600209  0.032727480\n",
       "4,REACTOME_NEURONAL_SYSTEM                       -0.018481614 -0.021814415\n",
       "LV 5                                              0.003492555  0.008323240\n",
       "LV 6                                             -0.018442623 -0.011881862\n",
       "7,IRIS_Neutrophil-Resting                        -0.033625884 -0.002532941\n",
       "8,KEGG_PPAR_SIGNALING_PATHWAY                    -0.021820877  0.001497020\n",
       "LV 9                                             -0.016691451  0.088411748\n",
       "10,SVM Macrophages M0                            -0.012255934  0.048674419\n",
       "                                                 50136-0       62291-0      \n",
       "1,REACTOME_MRNA_SPLICING                          0.0296017388  0.0739803592\n",
       "2,SVM Monocytes                                   0.0128464744  0.0483956407\n",
       "3,REACTOME_TRANSMISSION_ACROSS_CHEMICAL_SYNAPSES -0.0230385126 -0.0005035420\n",
       "4,REACTOME_NEURONAL_SYSTEM                       -0.0137323571 -0.1149671466\n",
       "LV 5                                              0.0008771747 -0.0004055108\n",
       "LV 6                                              0.0085084666 -0.0495462730\n",
       "7,IRIS_Neutrophil-Resting                        -0.0040099622  0.1833619070\n",
       "8,KEGG_PPAR_SIGNALING_PATHWAY                     0.0296942684 -0.0210360620\n",
       "LV 9                                              0.0002051650  0.0488821876\n",
       "10,SVM Macrophages M0                            -0.0520296904  0.0375944525\n",
       "                                                 81801-0      84002-0     \n",
       "1,REACTOME_MRNA_SPLICING                         -0.036742593 -0.046748298\n",
       "2,SVM Monocytes                                   0.014868334  0.058577340\n",
       "3,REACTOME_TRANSMISSION_ACROSS_CHEMICAL_SYNAPSES -0.016334163  0.018761303\n",
       "4,REACTOME_NEURONAL_SYSTEM                        0.038998012  0.004115676\n",
       "LV 5                                             -0.007240147  0.011602828\n",
       "LV 6                                              0.030367628  0.017500377\n",
       "7,IRIS_Neutrophil-Resting                        -0.040083550 -0.109534077\n",
       "8,KEGG_PPAR_SIGNALING_PATHWAY                    -0.100706546 -0.023419421\n",
       "LV 9                                             -0.066955883  0.038332528\n",
       "10,SVM Macrophages M0                            -0.013898978 -0.002101086\n",
       "                                                 84689-0     84731-0     \n",
       "1,REACTOME_MRNA_SPLICING                         -0.03986162  0.003378565\n",
       "2,SVM Monocytes                                   0.02346133 -0.021035869\n",
       "3,REACTOME_TRANSMISSION_ACROSS_CHEMICAL_SYNAPSES -0.10980930 -0.057315142\n",
       "4,REACTOME_NEURONAL_SYSTEM                        0.15045417  0.103095530\n",
       "LV 5                                              0.05174336 -0.004552460\n",
       "LV 6                                              0.04229019  0.026824612\n",
       "7,IRIS_Neutrophil-Resting                        -0.01662715 -0.115557188\n",
       "8,KEGG_PPAR_SIGNALING_PATHWAY                     0.01495798 -0.006865413\n",
       "LV 9                                             -0.17449992 -0.089385115\n",
       "10,SVM Macrophages M0                            -0.01112314 -0.004441729\n",
       "                                                 84860-0       85365-0     \n",
       "1,REACTOME_MRNA_SPLICING                          0.0776117098 -0.038489040\n",
       "2,SVM Monocytes                                  -0.2087083294 -0.158593876\n",
       "3,REACTOME_TRANSMISSION_ACROSS_CHEMICAL_SYNAPSES  0.0050074827 -0.005712764\n",
       "4,REACTOME_NEURONAL_SYSTEM                       -0.0324800579 -0.039781879\n",
       "LV 5                                              0.0268384648  0.028493582\n",
       "LV 6                                              0.0002794303 -0.009901047\n",
       "7,IRIS_Neutrophil-Resting                        -0.1152396948  0.172599313\n",
       "8,KEGG_PPAR_SIGNALING_PATHWAY                     0.0115382280 -0.015575188\n",
       "LV 9                                              0.0088830595  0.047719623\n",
       "10,SVM Macrophages M0                            -0.0260223193  0.002842662"
      ]
     },
     "metadata": {},
     "output_type": "display_data"
    }
   ],
   "source": [
    "head(df_projection, 10)"
   ]
  },
  {
   "cell_type": "code",
   "execution_count": 34,
   "metadata": {},
   "outputs": [
    {
     "data": {
      "text/html": [
       "<style>\n",
       ".list-inline {list-style: none; margin:0; padding: 0}\n",
       ".list-inline>li {display: inline-block}\n",
       ".list-inline>li:not(:last-child)::after {content: \"\\00b7\"; padding: 0 .5ex}\n",
       "</style>\n",
       "<ol class=list-inline><li>987</li><li>136</li></ol>\n"
      ],
      "text/latex": [
       "\\begin{enumerate*}\n",
       "\\item 987\n",
       "\\item 136\n",
       "\\end{enumerate*}\n"
      ],
      "text/markdown": [
       "1. 987\n",
       "2. 136\n",
       "\n",
       "\n"
      ],
      "text/plain": [
       "[1] 987 136"
      ]
     },
     "metadata": {},
     "output_type": "display_data"
    },
    {
     "data": {
      "text/html": [
       "<table class=\"dataframe\">\n",
       "<caption>A data.frame: 1 × 136</caption>\n",
       "<thead>\n",
       "\t<tr><th></th><th scope=col>00041-0</th><th scope=col>00110-0</th><th scope=col>00139-0</th><th scope=col>00159-0</th><th scope=col>00174-0</th><th scope=col>00177-0</th><th scope=col>00181-0</th><th scope=col>00234-0</th><th scope=col>00250-0</th><th scope=col>00266-0</th><th scope=col>⋯</th><th scope=col>39376-0</th><th scope=col>39390-0</th><th scope=col>50136-0</th><th scope=col>62291-0</th><th scope=col>81801-0</th><th scope=col>84002-0</th><th scope=col>84689-0</th><th scope=col>84731-0</th><th scope=col>84860-0</th><th scope=col>85365-0</th></tr>\n",
       "\t<tr><th></th><th scope=col>&lt;dbl&gt;</th><th scope=col>&lt;dbl&gt;</th><th scope=col>&lt;dbl&gt;</th><th scope=col>&lt;dbl&gt;</th><th scope=col>&lt;dbl&gt;</th><th scope=col>&lt;dbl&gt;</th><th scope=col>&lt;dbl&gt;</th><th scope=col>&lt;dbl&gt;</th><th scope=col>&lt;dbl&gt;</th><th scope=col>&lt;dbl&gt;</th><th scope=col>⋯</th><th scope=col>&lt;dbl&gt;</th><th scope=col>&lt;dbl&gt;</th><th scope=col>&lt;dbl&gt;</th><th scope=col>&lt;dbl&gt;</th><th scope=col>&lt;dbl&gt;</th><th scope=col>&lt;dbl&gt;</th><th scope=col>&lt;dbl&gt;</th><th scope=col>&lt;dbl&gt;</th><th scope=col>&lt;dbl&gt;</th><th scope=col>&lt;dbl&gt;</th></tr>\n",
       "</thead>\n",
       "<tbody>\n",
       "\t<tr><th scope=row>1,REACTOME_MRNA_SPLICING</th><td>0.0653324</td><td>-0.04267481</td><td>-0.04162543</td><td>-0.04801535</td><td>-0.04422143</td><td>0.00472949</td><td>0.07109398</td><td>0.006548052</td><td>-0.01540214</td><td>0.1813854</td><td>⋯</td><td>-0.008721237</td><td>0.1319128</td><td>0.02960174</td><td>0.07398036</td><td>-0.03674259</td><td>-0.0467483</td><td>-0.03986162</td><td>0.003378565</td><td>0.07761171</td><td>-0.03848904</td></tr>\n",
       "</tbody>\n",
       "</table>\n"
      ],
      "text/latex": [
       "A data.frame: 1 × 136\n",
       "\\begin{tabular}{r|lllllllllllllllllllll}\n",
       "  & 00041-0 & 00110-0 & 00139-0 & 00159-0 & 00174-0 & 00177-0 & 00181-0 & 00234-0 & 00250-0 & 00266-0 & ⋯ & 39376-0 & 39390-0 & 50136-0 & 62291-0 & 81801-0 & 84002-0 & 84689-0 & 84731-0 & 84860-0 & 85365-0\\\\\n",
       "  & <dbl> & <dbl> & <dbl> & <dbl> & <dbl> & <dbl> & <dbl> & <dbl> & <dbl> & <dbl> & ⋯ & <dbl> & <dbl> & <dbl> & <dbl> & <dbl> & <dbl> & <dbl> & <dbl> & <dbl> & <dbl>\\\\\n",
       "\\hline\n",
       "\t1,REACTOME\\_MRNA\\_SPLICING & 0.0653324 & -0.04267481 & -0.04162543 & -0.04801535 & -0.04422143 & 0.00472949 & 0.07109398 & 0.006548052 & -0.01540214 & 0.1813854 & ⋯ & -0.008721237 & 0.1319128 & 0.02960174 & 0.07398036 & -0.03674259 & -0.0467483 & -0.03986162 & 0.003378565 & 0.07761171 & -0.03848904\\\\\n",
       "\\end{tabular}\n"
      ],
      "text/markdown": [
       "\n",
       "A data.frame: 1 × 136\n",
       "\n",
       "| <!--/--> | 00041-0 &lt;dbl&gt; | 00110-0 &lt;dbl&gt; | 00139-0 &lt;dbl&gt; | 00159-0 &lt;dbl&gt; | 00174-0 &lt;dbl&gt; | 00177-0 &lt;dbl&gt; | 00181-0 &lt;dbl&gt; | 00234-0 &lt;dbl&gt; | 00250-0 &lt;dbl&gt; | 00266-0 &lt;dbl&gt; | ⋯ ⋯ | 39376-0 &lt;dbl&gt; | 39390-0 &lt;dbl&gt; | 50136-0 &lt;dbl&gt; | 62291-0 &lt;dbl&gt; | 81801-0 &lt;dbl&gt; | 84002-0 &lt;dbl&gt; | 84689-0 &lt;dbl&gt; | 84731-0 &lt;dbl&gt; | 84860-0 &lt;dbl&gt; | 85365-0 &lt;dbl&gt; |\n",
       "|---|---|---|---|---|---|---|---|---|---|---|---|---|---|---|---|---|---|---|---|---|---|\n",
       "| 1,REACTOME_MRNA_SPLICING | 0.0653324 | -0.04267481 | -0.04162543 | -0.04801535 | -0.04422143 | 0.00472949 | 0.07109398 | 0.006548052 | -0.01540214 | 0.1813854 | ⋯ | -0.008721237 | 0.1319128 | 0.02960174 | 0.07398036 | -0.03674259 | -0.0467483 | -0.03986162 | 0.003378565 | 0.07761171 | -0.03848904 |\n",
       "\n"
      ],
      "text/plain": [
       "                         00041-0   00110-0     00139-0     00159-0    \n",
       "1,REACTOME_MRNA_SPLICING 0.0653324 -0.04267481 -0.04162543 -0.04801535\n",
       "                         00174-0     00177-0    00181-0    00234-0    \n",
       "1,REACTOME_MRNA_SPLICING -0.04422143 0.00472949 0.07109398 0.006548052\n",
       "                         00250-0     00266-0   ⋯ 39376-0      39390-0  \n",
       "1,REACTOME_MRNA_SPLICING -0.01540214 0.1813854 ⋯ -0.008721237 0.1319128\n",
       "                         50136-0    62291-0    81801-0     84002-0   \n",
       "1,REACTOME_MRNA_SPLICING 0.02960174 0.07398036 -0.03674259 -0.0467483\n",
       "                         84689-0     84731-0     84860-0    85365-0    \n",
       "1,REACTOME_MRNA_SPLICING -0.03986162 0.003378565 0.07761171 -0.03848904"
      ]
     },
     "metadata": {},
     "output_type": "display_data"
    },
    {
     "name": "stdout",
     "output_type": "stream",
     "text": [
      "[1] \"diff\"\n"
     ]
    },
    {
     "data": {
      "text/html": [
       "987"
      ],
      "text/latex": [
       "987"
      ],
      "text/markdown": [
       "987"
      ],
      "text/plain": [
       "[1] 987"
      ]
     },
     "metadata": {},
     "output_type": "display_data"
    },
    {
     "data": {
      "text/html": [
       "<table class=\"dataframe\">\n",
       "<caption>A data.frame: 1 × 987</caption>\n",
       "<thead>\n",
       "\t<tr><th></th><th scope=col>X1.REACTOME_MRNA_SPLICING</th><th scope=col>X2.SVM.Monocytes</th><th scope=col>X3.REACTOME_TRANSMISSION_ACROSS_CHEMICAL_SYNAPSES</th><th scope=col>X4.REACTOME_NEURONAL_SYSTEM</th><th scope=col>LV.5</th><th scope=col>LV.6</th><th scope=col>X7.IRIS_Neutrophil.Resting</th><th scope=col>X8.KEGG_PPAR_SIGNALING_PATHWAY</th><th scope=col>LV.9</th><th scope=col>X10.SVM.Macrophages.M0</th><th scope=col>⋯</th><th scope=col>LV.978</th><th scope=col>LV.979</th><th scope=col>LV.980</th><th scope=col>LV.981</th><th scope=col>LV.982</th><th scope=col>LV.983</th><th scope=col>LV.984</th><th scope=col>X985.IRIS_Neutrophil.Resting</th><th scope=col>LV.986</th><th scope=col>LV.987</th></tr>\n",
       "\t<tr><th></th><th scope=col>&lt;dbl&gt;</th><th scope=col>&lt;dbl&gt;</th><th scope=col>&lt;dbl&gt;</th><th scope=col>&lt;dbl&gt;</th><th scope=col>&lt;dbl&gt;</th><th scope=col>&lt;dbl&gt;</th><th scope=col>&lt;dbl&gt;</th><th scope=col>&lt;dbl&gt;</th><th scope=col>&lt;dbl&gt;</th><th scope=col>&lt;dbl&gt;</th><th scope=col>⋯</th><th scope=col>&lt;dbl&gt;</th><th scope=col>&lt;dbl&gt;</th><th scope=col>&lt;dbl&gt;</th><th scope=col>&lt;dbl&gt;</th><th scope=col>&lt;dbl&gt;</th><th scope=col>&lt;dbl&gt;</th><th scope=col>&lt;dbl&gt;</th><th scope=col>&lt;dbl&gt;</th><th scope=col>&lt;dbl&gt;</th><th scope=col>&lt;dbl&gt;</th></tr>\n",
       "</thead>\n",
       "<tbody>\n",
       "\t<tr><th scope=row>00041-0</th><td>0.0653324</td><td>-0.01105552</td><td>-0.02871436</td><td>0.03652614</td><td>0.001051845</td><td>-0.004441117</td><td>-0.1254064</td><td>-0.01658177</td><td>-0.01731587</td><td>-0.02100245</td><td>⋯</td><td>0.0423164</td><td>0.03674118</td><td>0.02354014</td><td>0.02988662</td><td>-0.002217311</td><td>0.03846297</td><td>-0.06393674</td><td>-0.1348164</td><td>0.002138531</td><td>0.009733345</td></tr>\n",
       "</tbody>\n",
       "</table>\n"
      ],
      "text/latex": [
       "A data.frame: 1 × 987\n",
       "\\begin{tabular}{r|lllllllllllllllllllll}\n",
       "  & X1.REACTOME\\_MRNA\\_SPLICING & X2.SVM.Monocytes & X3.REACTOME\\_TRANSMISSION\\_ACROSS\\_CHEMICAL\\_SYNAPSES & X4.REACTOME\\_NEURONAL\\_SYSTEM & LV.5 & LV.6 & X7.IRIS\\_Neutrophil.Resting & X8.KEGG\\_PPAR\\_SIGNALING\\_PATHWAY & LV.9 & X10.SVM.Macrophages.M0 & ⋯ & LV.978 & LV.979 & LV.980 & LV.981 & LV.982 & LV.983 & LV.984 & X985.IRIS\\_Neutrophil.Resting & LV.986 & LV.987\\\\\n",
       "  & <dbl> & <dbl> & <dbl> & <dbl> & <dbl> & <dbl> & <dbl> & <dbl> & <dbl> & <dbl> & ⋯ & <dbl> & <dbl> & <dbl> & <dbl> & <dbl> & <dbl> & <dbl> & <dbl> & <dbl> & <dbl>\\\\\n",
       "\\hline\n",
       "\t00041-0 & 0.0653324 & -0.01105552 & -0.02871436 & 0.03652614 & 0.001051845 & -0.004441117 & -0.1254064 & -0.01658177 & -0.01731587 & -0.02100245 & ⋯ & 0.0423164 & 0.03674118 & 0.02354014 & 0.02988662 & -0.002217311 & 0.03846297 & -0.06393674 & -0.1348164 & 0.002138531 & 0.009733345\\\\\n",
       "\\end{tabular}\n"
      ],
      "text/markdown": [
       "\n",
       "A data.frame: 1 × 987\n",
       "\n",
       "| <!--/--> | X1.REACTOME_MRNA_SPLICING &lt;dbl&gt; | X2.SVM.Monocytes &lt;dbl&gt; | X3.REACTOME_TRANSMISSION_ACROSS_CHEMICAL_SYNAPSES &lt;dbl&gt; | X4.REACTOME_NEURONAL_SYSTEM &lt;dbl&gt; | LV.5 &lt;dbl&gt; | LV.6 &lt;dbl&gt; | X7.IRIS_Neutrophil.Resting &lt;dbl&gt; | X8.KEGG_PPAR_SIGNALING_PATHWAY &lt;dbl&gt; | LV.9 &lt;dbl&gt; | X10.SVM.Macrophages.M0 &lt;dbl&gt; | ⋯ ⋯ | LV.978 &lt;dbl&gt; | LV.979 &lt;dbl&gt; | LV.980 &lt;dbl&gt; | LV.981 &lt;dbl&gt; | LV.982 &lt;dbl&gt; | LV.983 &lt;dbl&gt; | LV.984 &lt;dbl&gt; | X985.IRIS_Neutrophil.Resting &lt;dbl&gt; | LV.986 &lt;dbl&gt; | LV.987 &lt;dbl&gt; |\n",
       "|---|---|---|---|---|---|---|---|---|---|---|---|---|---|---|---|---|---|---|---|---|---|\n",
       "| 00041-0 | 0.0653324 | -0.01105552 | -0.02871436 | 0.03652614 | 0.001051845 | -0.004441117 | -0.1254064 | -0.01658177 | -0.01731587 | -0.02100245 | ⋯ | 0.0423164 | 0.03674118 | 0.02354014 | 0.02988662 | -0.002217311 | 0.03846297 | -0.06393674 | -0.1348164 | 0.002138531 | 0.009733345 |\n",
       "\n"
      ],
      "text/plain": [
       "        X1.REACTOME_MRNA_SPLICING X2.SVM.Monocytes\n",
       "00041-0 0.0653324                 -0.01105552     \n",
       "        X3.REACTOME_TRANSMISSION_ACROSS_CHEMICAL_SYNAPSES\n",
       "00041-0 -0.02871436                                      \n",
       "        X4.REACTOME_NEURONAL_SYSTEM LV.5        LV.6        \n",
       "00041-0 0.03652614                  0.001051845 -0.004441117\n",
       "        X7.IRIS_Neutrophil.Resting X8.KEGG_PPAR_SIGNALING_PATHWAY LV.9       \n",
       "00041-0 -0.1254064                 -0.01658177                    -0.01731587\n",
       "        X10.SVM.Macrophages.M0 ⋯ LV.978    LV.979     LV.980     LV.981    \n",
       "00041-0 -0.02100245            ⋯ 0.0423164 0.03674118 0.02354014 0.02988662\n",
       "        LV.982       LV.983     LV.984      X985.IRIS_Neutrophil.Resting\n",
       "00041-0 -0.002217311 0.03846297 -0.06393674 -0.1348164                  \n",
       "        LV.986      LV.987     \n",
       "00041-0 0.002138531 0.009733345"
      ]
     },
     "metadata": {},
     "output_type": "display_data"
    },
    {
     "data": {
      "text/html": [
       "<table class=\"dataframe\">\n",
       "<caption>A data.frame: 1 × 989</caption>\n",
       "<thead>\n",
       "\t<tr><th></th><th scope=col>ID</th><th scope=col>1,REACTOME_MRNA_SPLICING</th><th scope=col>2,SVM Monocytes</th><th scope=col>3,REACTOME_TRANSMISSION_ACROSS_CHEMICAL_SYNAPSES</th><th scope=col>4,REACTOME_NEURONAL_SYSTEM</th><th scope=col>LV 5</th><th scope=col>LV 6</th><th scope=col>7,IRIS_Neutrophil-Resting</th><th scope=col>8,KEGG_PPAR_SIGNALING_PATHWAY</th><th scope=col>LV 9</th><th scope=col>⋯</th><th scope=col>LV 979</th><th scope=col>LV 980</th><th scope=col>LV 981</th><th scope=col>LV 982</th><th scope=col>LV 983</th><th scope=col>LV 984</th><th scope=col>985,IRIS_Neutrophil-Resting</th><th scope=col>LV 986</th><th scope=col>LV 987</th><th scope=col>Group</th></tr>\n",
       "\t<tr><th></th><th scope=col>&lt;chr&gt;</th><th scope=col>&lt;chr&gt;</th><th scope=col>&lt;chr&gt;</th><th scope=col>&lt;chr&gt;</th><th scope=col>&lt;chr&gt;</th><th scope=col>&lt;chr&gt;</th><th scope=col>&lt;chr&gt;</th><th scope=col>&lt;chr&gt;</th><th scope=col>&lt;chr&gt;</th><th scope=col>&lt;chr&gt;</th><th scope=col>⋯</th><th scope=col>&lt;chr&gt;</th><th scope=col>&lt;chr&gt;</th><th scope=col>&lt;chr&gt;</th><th scope=col>&lt;chr&gt;</th><th scope=col>&lt;chr&gt;</th><th scope=col>&lt;chr&gt;</th><th scope=col>&lt;chr&gt;</th><th scope=col>&lt;chr&gt;</th><th scope=col>&lt;chr&gt;</th><th scope=col>&lt;chr&gt;</th></tr>\n",
       "</thead>\n",
       "<tbody>\n",
       "\t<tr><th scope=row>1</th><td>00041-0</td><td>0.0653324007929379</td><td>-0.0110555193273455</td><td>-0.0287143634855157</td><td>0.0365261447534386</td><td>0.00105184546723774</td><td>-0.00444111658164519</td><td>-0.125406419043393</td><td>-0.0165817685431146</td><td>-0.0173158694761706</td><td>⋯</td><td>0.0367411791341952</td><td>0.0235401357527444</td><td>0.0298866218343636</td><td>-0.0022173114513411</td><td>0.0384629727914095</td><td>-0.0639367439948502</td><td>-0.134816382592211</td><td>0.00213853131552632</td><td>0.00973334508517906</td><td>Maintainer</td></tr>\n",
       "</tbody>\n",
       "</table>\n"
      ],
      "text/latex": [
       "A data.frame: 1 × 989\n",
       "\\begin{tabular}{r|lllllllllllllllllllll}\n",
       "  & ID & 1,REACTOME\\_MRNA\\_SPLICING & 2,SVM Monocytes & 3,REACTOME\\_TRANSMISSION\\_ACROSS\\_CHEMICAL\\_SYNAPSES & 4,REACTOME\\_NEURONAL\\_SYSTEM & LV 5 & LV 6 & 7,IRIS\\_Neutrophil-Resting & 8,KEGG\\_PPAR\\_SIGNALING\\_PATHWAY & LV 9 & ⋯ & LV 979 & LV 980 & LV 981 & LV 982 & LV 983 & LV 984 & 985,IRIS\\_Neutrophil-Resting & LV 986 & LV 987 & Group\\\\\n",
       "  & <chr> & <chr> & <chr> & <chr> & <chr> & <chr> & <chr> & <chr> & <chr> & <chr> & ⋯ & <chr> & <chr> & <chr> & <chr> & <chr> & <chr> & <chr> & <chr> & <chr> & <chr>\\\\\n",
       "\\hline\n",
       "\t1 & 00041-0 & 0.0653324007929379 & -0.0110555193273455 & -0.0287143634855157 & 0.0365261447534386 & 0.00105184546723774 & -0.00444111658164519 & -0.125406419043393 & -0.0165817685431146 & -0.0173158694761706 & ⋯ & 0.0367411791341952 & 0.0235401357527444 & 0.0298866218343636 & -0.0022173114513411 & 0.0384629727914095 & -0.0639367439948502 & -0.134816382592211 & 0.00213853131552632 & 0.00973334508517906 & Maintainer\\\\\n",
       "\\end{tabular}\n"
      ],
      "text/markdown": [
       "\n",
       "A data.frame: 1 × 989\n",
       "\n",
       "| <!--/--> | ID &lt;chr&gt; | 1,REACTOME_MRNA_SPLICING &lt;chr&gt; | 2,SVM Monocytes &lt;chr&gt; | 3,REACTOME_TRANSMISSION_ACROSS_CHEMICAL_SYNAPSES &lt;chr&gt; | 4,REACTOME_NEURONAL_SYSTEM &lt;chr&gt; | LV 5 &lt;chr&gt; | LV 6 &lt;chr&gt; | 7,IRIS_Neutrophil-Resting &lt;chr&gt; | 8,KEGG_PPAR_SIGNALING_PATHWAY &lt;chr&gt; | LV 9 &lt;chr&gt; | ⋯ ⋯ | LV 979 &lt;chr&gt; | LV 980 &lt;chr&gt; | LV 981 &lt;chr&gt; | LV 982 &lt;chr&gt; | LV 983 &lt;chr&gt; | LV 984 &lt;chr&gt; | 985,IRIS_Neutrophil-Resting &lt;chr&gt; | LV 986 &lt;chr&gt; | LV 987 &lt;chr&gt; | Group &lt;chr&gt; |\n",
       "|---|---|---|---|---|---|---|---|---|---|---|---|---|---|---|---|---|---|---|---|---|---|\n",
       "| 1 | 00041-0 | 0.0653324007929379 | -0.0110555193273455 | -0.0287143634855157 | 0.0365261447534386 | 0.00105184546723774 | -0.00444111658164519 | -0.125406419043393 | -0.0165817685431146 | -0.0173158694761706 | ⋯ | 0.0367411791341952 | 0.0235401357527444 | 0.0298866218343636 | -0.0022173114513411 | 0.0384629727914095 | -0.0639367439948502 | -0.134816382592211 | 0.00213853131552632 | 0.00973334508517906 | Maintainer |\n",
       "\n"
      ],
      "text/plain": [
       "  ID      1,REACTOME_MRNA_SPLICING 2,SVM Monocytes    \n",
       "1 00041-0 0.0653324007929379       -0.0110555193273455\n",
       "  3,REACTOME_TRANSMISSION_ACROSS_CHEMICAL_SYNAPSES 4,REACTOME_NEURONAL_SYSTEM\n",
       "1 -0.0287143634855157                              0.0365261447534386        \n",
       "  LV 5                LV 6                 7,IRIS_Neutrophil-Resting\n",
       "1 0.00105184546723774 -0.00444111658164519 -0.125406419043393       \n",
       "  8,KEGG_PPAR_SIGNALING_PATHWAY LV 9                ⋯ LV 979            \n",
       "1 -0.0165817685431146           -0.0173158694761706 ⋯ 0.0367411791341952\n",
       "  LV 980             LV 981             LV 982              LV 983            \n",
       "1 0.0235401357527444 0.0298866218343636 -0.0022173114513411 0.0384629727914095\n",
       "  LV 984              985,IRIS_Neutrophil-Resting LV 986             \n",
       "1 -0.0639367439948502 -0.134816382592211          0.00213853131552632\n",
       "  LV 987              Group     \n",
       "1 0.00973334508517906 Maintainer"
      ]
     },
     "metadata": {},
     "output_type": "display_data"
    },
    {
     "data": {
      "text/html": [
       "<table class=\"dataframe\">\n",
       "<caption>A data.frame: 1 × 989</caption>\n",
       "<thead>\n",
       "\t<tr><th></th><th scope=col>ID</th><th scope=col>X1.REACTOME_MRNA_SPLICING</th><th scope=col>X2.SVM.Monocytes</th><th scope=col>X3.REACTOME_TRANSMISSION_ACROSS_CHEMICAL_SYNAPSES</th><th scope=col>X4.REACTOME_NEURONAL_SYSTEM</th><th scope=col>LV.5</th><th scope=col>LV.6</th><th scope=col>X7.IRIS_Neutrophil.Resting</th><th scope=col>X8.KEGG_PPAR_SIGNALING_PATHWAY</th><th scope=col>LV.9</th><th scope=col>⋯</th><th scope=col>LV.979</th><th scope=col>LV.980</th><th scope=col>LV.981</th><th scope=col>LV.982</th><th scope=col>LV.983</th><th scope=col>LV.984</th><th scope=col>X985.IRIS_Neutrophil.Resting</th><th scope=col>LV.986</th><th scope=col>LV.987</th><th scope=col>Group</th></tr>\n",
       "\t<tr><th></th><th scope=col>&lt;chr&gt;</th><th scope=col>&lt;dbl&gt;</th><th scope=col>&lt;dbl&gt;</th><th scope=col>&lt;dbl&gt;</th><th scope=col>&lt;dbl&gt;</th><th scope=col>&lt;dbl&gt;</th><th scope=col>&lt;dbl&gt;</th><th scope=col>&lt;dbl&gt;</th><th scope=col>&lt;dbl&gt;</th><th scope=col>&lt;dbl&gt;</th><th scope=col>⋯</th><th scope=col>&lt;dbl&gt;</th><th scope=col>&lt;dbl&gt;</th><th scope=col>&lt;dbl&gt;</th><th scope=col>&lt;dbl&gt;</th><th scope=col>&lt;dbl&gt;</th><th scope=col>&lt;dbl&gt;</th><th scope=col>&lt;dbl&gt;</th><th scope=col>&lt;dbl&gt;</th><th scope=col>&lt;dbl&gt;</th><th scope=col>&lt;chr&gt;</th></tr>\n",
       "</thead>\n",
       "<tbody>\n",
       "\t<tr><th scope=row>1</th><td>00041-0</td><td>0.0653324</td><td>-0.01105552</td><td>-0.02871436</td><td>0.03652614</td><td>0.001051845</td><td>-0.004441117</td><td>-0.1254064</td><td>-0.01658177</td><td>-0.01731587</td><td>⋯</td><td>0.03674118</td><td>0.02354014</td><td>0.02988662</td><td>-0.002217311</td><td>0.03846297</td><td>-0.06393674</td><td>-0.1348164</td><td>0.002138531</td><td>0.009733345</td><td>Maintainer</td></tr>\n",
       "</tbody>\n",
       "</table>\n"
      ],
      "text/latex": [
       "A data.frame: 1 × 989\n",
       "\\begin{tabular}{r|lllllllllllllllllllll}\n",
       "  & ID & X1.REACTOME\\_MRNA\\_SPLICING & X2.SVM.Monocytes & X3.REACTOME\\_TRANSMISSION\\_ACROSS\\_CHEMICAL\\_SYNAPSES & X4.REACTOME\\_NEURONAL\\_SYSTEM & LV.5 & LV.6 & X7.IRIS\\_Neutrophil.Resting & X8.KEGG\\_PPAR\\_SIGNALING\\_PATHWAY & LV.9 & ⋯ & LV.979 & LV.980 & LV.981 & LV.982 & LV.983 & LV.984 & X985.IRIS\\_Neutrophil.Resting & LV.986 & LV.987 & Group\\\\\n",
       "  & <chr> & <dbl> & <dbl> & <dbl> & <dbl> & <dbl> & <dbl> & <dbl> & <dbl> & <dbl> & ⋯ & <dbl> & <dbl> & <dbl> & <dbl> & <dbl> & <dbl> & <dbl> & <dbl> & <dbl> & <chr>\\\\\n",
       "\\hline\n",
       "\t1 & 00041-0 & 0.0653324 & -0.01105552 & -0.02871436 & 0.03652614 & 0.001051845 & -0.004441117 & -0.1254064 & -0.01658177 & -0.01731587 & ⋯ & 0.03674118 & 0.02354014 & 0.02988662 & -0.002217311 & 0.03846297 & -0.06393674 & -0.1348164 & 0.002138531 & 0.009733345 & Maintainer\\\\\n",
       "\\end{tabular}\n"
      ],
      "text/markdown": [
       "\n",
       "A data.frame: 1 × 989\n",
       "\n",
       "| <!--/--> | ID &lt;chr&gt; | X1.REACTOME_MRNA_SPLICING &lt;dbl&gt; | X2.SVM.Monocytes &lt;dbl&gt; | X3.REACTOME_TRANSMISSION_ACROSS_CHEMICAL_SYNAPSES &lt;dbl&gt; | X4.REACTOME_NEURONAL_SYSTEM &lt;dbl&gt; | LV.5 &lt;dbl&gt; | LV.6 &lt;dbl&gt; | X7.IRIS_Neutrophil.Resting &lt;dbl&gt; | X8.KEGG_PPAR_SIGNALING_PATHWAY &lt;dbl&gt; | LV.9 &lt;dbl&gt; | ⋯ ⋯ | LV.979 &lt;dbl&gt; | LV.980 &lt;dbl&gt; | LV.981 &lt;dbl&gt; | LV.982 &lt;dbl&gt; | LV.983 &lt;dbl&gt; | LV.984 &lt;dbl&gt; | X985.IRIS_Neutrophil.Resting &lt;dbl&gt; | LV.986 &lt;dbl&gt; | LV.987 &lt;dbl&gt; | Group &lt;chr&gt; |\n",
       "|---|---|---|---|---|---|---|---|---|---|---|---|---|---|---|---|---|---|---|---|---|---|\n",
       "| 1 | 00041-0 | 0.0653324 | -0.01105552 | -0.02871436 | 0.03652614 | 0.001051845 | -0.004441117 | -0.1254064 | -0.01658177 | -0.01731587 | ⋯ | 0.03674118 | 0.02354014 | 0.02988662 | -0.002217311 | 0.03846297 | -0.06393674 | -0.1348164 | 0.002138531 | 0.009733345 | Maintainer |\n",
       "\n"
      ],
      "text/plain": [
       "  ID      X1.REACTOME_MRNA_SPLICING X2.SVM.Monocytes\n",
       "1 00041-0 0.0653324                 -0.01105552     \n",
       "  X3.REACTOME_TRANSMISSION_ACROSS_CHEMICAL_SYNAPSES X4.REACTOME_NEURONAL_SYSTEM\n",
       "1 -0.02871436                                       0.03652614                 \n",
       "  LV.5        LV.6         X7.IRIS_Neutrophil.Resting\n",
       "1 0.001051845 -0.004441117 -0.1254064                \n",
       "  X8.KEGG_PPAR_SIGNALING_PATHWAY LV.9        ⋯ LV.979     LV.980     LV.981    \n",
       "1 -0.01658177                    -0.01731587 ⋯ 0.03674118 0.02354014 0.02988662\n",
       "  LV.982       LV.983     LV.984      X985.IRIS_Neutrophil.Resting LV.986     \n",
       "1 -0.002217311 0.03846297 -0.06393674 -0.1348164                   0.002138531\n",
       "  LV.987      Group     \n",
       "1 0.009733345 Maintainer"
      ]
     },
     "metadata": {},
     "output_type": "display_data"
    },
    {
     "data": {
      "text/html": [
       "<table class=\"dataframe\">\n",
       "<caption>A data.frame: 5 × 989</caption>\n",
       "<thead>\n",
       "\t<tr><th></th><th scope=col>ID</th><th scope=col>LV1</th><th scope=col>LV2</th><th scope=col>LV3</th><th scope=col>LV4</th><th scope=col>LV5</th><th scope=col>LV6</th><th scope=col>LV7</th><th scope=col>LV8</th><th scope=col>LV9</th><th scope=col>⋯</th><th scope=col>LV979</th><th scope=col>LV980</th><th scope=col>LV981</th><th scope=col>LV982</th><th scope=col>LV983</th><th scope=col>LV984</th><th scope=col>LV985</th><th scope=col>LV986</th><th scope=col>LV987</th><th scope=col>Group</th></tr>\n",
       "\t<tr><th></th><th scope=col>&lt;chr&gt;</th><th scope=col>&lt;dbl&gt;</th><th scope=col>&lt;dbl&gt;</th><th scope=col>&lt;dbl&gt;</th><th scope=col>&lt;dbl&gt;</th><th scope=col>&lt;dbl&gt;</th><th scope=col>&lt;dbl&gt;</th><th scope=col>&lt;dbl&gt;</th><th scope=col>&lt;dbl&gt;</th><th scope=col>&lt;dbl&gt;</th><th scope=col>⋯</th><th scope=col>&lt;dbl&gt;</th><th scope=col>&lt;dbl&gt;</th><th scope=col>&lt;dbl&gt;</th><th scope=col>&lt;dbl&gt;</th><th scope=col>&lt;dbl&gt;</th><th scope=col>&lt;dbl&gt;</th><th scope=col>&lt;dbl&gt;</th><th scope=col>&lt;dbl&gt;</th><th scope=col>&lt;dbl&gt;</th><th scope=col>&lt;ord&gt;</th></tr>\n",
       "</thead>\n",
       "<tbody>\n",
       "\t<tr><th scope=row>1</th><td>00041-0</td><td> 0.06533240</td><td>-0.011055519</td><td>-0.0287143635</td><td>0.036526145</td><td> 0.001051845</td><td>-0.004441117</td><td>-0.12540642</td><td>-0.01658177</td><td>-0.0173158695</td><td>⋯</td><td> 0.036741179</td><td> 0.023540136</td><td> 0.029886622</td><td>-0.002217311</td><td> 0.03846297</td><td>-0.06393674</td><td>-0.134816383</td><td> 0.002138531</td><td> 0.009733345</td><td>Maintainer</td></tr>\n",
       "\t<tr><th scope=row>2</th><td>00110-0</td><td>-0.04267481</td><td>-0.020391543</td><td>-0.0001745483</td><td>0.003682194</td><td>-0.002243756</td><td> 0.008158552</td><td> 0.11867353</td><td> 0.02813421</td><td> 0.0131125908</td><td>⋯</td><td>-0.003676397</td><td>-0.034794733</td><td>-0.010491055</td><td>-0.007721971</td><td>-0.01465504</td><td>-0.14834049</td><td> 0.008681795</td><td> 0.015668703</td><td> 0.035779363</td><td>Reverter  </td></tr>\n",
       "\t<tr><th scope=row>3</th><td>00139-0</td><td>-0.04162543</td><td>-0.036730092</td><td>-0.0469522326</td><td>0.089392721</td><td>-0.049189611</td><td> 0.032472113</td><td>-0.02172676</td><td> 0.01238158</td><td>-0.0403871139</td><td>⋯</td><td>-0.023873847</td><td> 0.002156358</td><td>-0.010940347</td><td> 0.010072032</td><td>-0.03348186</td><td>-0.08142656</td><td> 0.123767615</td><td> 0.001222313</td><td> 0.039788403</td><td>Reverter  </td></tr>\n",
       "\t<tr><th scope=row>4</th><td>00159-0</td><td>-0.04801535</td><td> 0.232065205</td><td>-0.0263503818</td><td>0.054358188</td><td> 0.010838359</td><td>-0.023821148</td><td> 0.05710884</td><td> 0.01861838</td><td>-0.0385121968</td><td>⋯</td><td> 0.023145471</td><td>-0.004236950</td><td> 0.022258250</td><td> 0.029260069</td><td>-0.02153985</td><td>-0.29057564</td><td> 0.194484202</td><td>-0.055334761</td><td>-0.026108705</td><td>Maintainer</td></tr>\n",
       "\t<tr><th scope=row>5</th><td>00174-0</td><td>-0.04422143</td><td> 0.005648297</td><td> 0.0019395758</td><td>0.012030349</td><td>-0.009526595</td><td>-0.011986414</td><td>-0.04859658</td><td>-0.01209706</td><td> 0.0006907144</td><td>⋯</td><td> 0.005872110</td><td>-0.009735373</td><td> 0.005824244</td><td>-0.007314493</td><td> 0.03117020</td><td> 0.11755467</td><td>-0.011915534</td><td> 0.009478003</td><td>-0.068822916</td><td>Progressor</td></tr>\n",
       "</tbody>\n",
       "</table>\n"
      ],
      "text/latex": [
       "A data.frame: 5 × 989\n",
       "\\begin{tabular}{r|lllllllllllllllllllll}\n",
       "  & ID & LV1 & LV2 & LV3 & LV4 & LV5 & LV6 & LV7 & LV8 & LV9 & ⋯ & LV979 & LV980 & LV981 & LV982 & LV983 & LV984 & LV985 & LV986 & LV987 & Group\\\\\n",
       "  & <chr> & <dbl> & <dbl> & <dbl> & <dbl> & <dbl> & <dbl> & <dbl> & <dbl> & <dbl> & ⋯ & <dbl> & <dbl> & <dbl> & <dbl> & <dbl> & <dbl> & <dbl> & <dbl> & <dbl> & <ord>\\\\\n",
       "\\hline\n",
       "\t1 & 00041-0 &  0.06533240 & -0.011055519 & -0.0287143635 & 0.036526145 &  0.001051845 & -0.004441117 & -0.12540642 & -0.01658177 & -0.0173158695 & ⋯ &  0.036741179 &  0.023540136 &  0.029886622 & -0.002217311 &  0.03846297 & -0.06393674 & -0.134816383 &  0.002138531 &  0.009733345 & Maintainer\\\\\n",
       "\t2 & 00110-0 & -0.04267481 & -0.020391543 & -0.0001745483 & 0.003682194 & -0.002243756 &  0.008158552 &  0.11867353 &  0.02813421 &  0.0131125908 & ⋯ & -0.003676397 & -0.034794733 & -0.010491055 & -0.007721971 & -0.01465504 & -0.14834049 &  0.008681795 &  0.015668703 &  0.035779363 & Reverter  \\\\\n",
       "\t3 & 00139-0 & -0.04162543 & -0.036730092 & -0.0469522326 & 0.089392721 & -0.049189611 &  0.032472113 & -0.02172676 &  0.01238158 & -0.0403871139 & ⋯ & -0.023873847 &  0.002156358 & -0.010940347 &  0.010072032 & -0.03348186 & -0.08142656 &  0.123767615 &  0.001222313 &  0.039788403 & Reverter  \\\\\n",
       "\t4 & 00159-0 & -0.04801535 &  0.232065205 & -0.0263503818 & 0.054358188 &  0.010838359 & -0.023821148 &  0.05710884 &  0.01861838 & -0.0385121968 & ⋯ &  0.023145471 & -0.004236950 &  0.022258250 &  0.029260069 & -0.02153985 & -0.29057564 &  0.194484202 & -0.055334761 & -0.026108705 & Maintainer\\\\\n",
       "\t5 & 00174-0 & -0.04422143 &  0.005648297 &  0.0019395758 & 0.012030349 & -0.009526595 & -0.011986414 & -0.04859658 & -0.01209706 &  0.0006907144 & ⋯ &  0.005872110 & -0.009735373 &  0.005824244 & -0.007314493 &  0.03117020 &  0.11755467 & -0.011915534 &  0.009478003 & -0.068822916 & Progressor\\\\\n",
       "\\end{tabular}\n"
      ],
      "text/markdown": [
       "\n",
       "A data.frame: 5 × 989\n",
       "\n",
       "| <!--/--> | ID &lt;chr&gt; | LV1 &lt;dbl&gt; | LV2 &lt;dbl&gt; | LV3 &lt;dbl&gt; | LV4 &lt;dbl&gt; | LV5 &lt;dbl&gt; | LV6 &lt;dbl&gt; | LV7 &lt;dbl&gt; | LV8 &lt;dbl&gt; | LV9 &lt;dbl&gt; | ⋯ ⋯ | LV979 &lt;dbl&gt; | LV980 &lt;dbl&gt; | LV981 &lt;dbl&gt; | LV982 &lt;dbl&gt; | LV983 &lt;dbl&gt; | LV984 &lt;dbl&gt; | LV985 &lt;dbl&gt; | LV986 &lt;dbl&gt; | LV987 &lt;dbl&gt; | Group &lt;ord&gt; |\n",
       "|---|---|---|---|---|---|---|---|---|---|---|---|---|---|---|---|---|---|---|---|---|---|\n",
       "| 1 | 00041-0 |  0.06533240 | -0.011055519 | -0.0287143635 | 0.036526145 |  0.001051845 | -0.004441117 | -0.12540642 | -0.01658177 | -0.0173158695 | ⋯ |  0.036741179 |  0.023540136 |  0.029886622 | -0.002217311 |  0.03846297 | -0.06393674 | -0.134816383 |  0.002138531 |  0.009733345 | Maintainer |\n",
       "| 2 | 00110-0 | -0.04267481 | -0.020391543 | -0.0001745483 | 0.003682194 | -0.002243756 |  0.008158552 |  0.11867353 |  0.02813421 |  0.0131125908 | ⋯ | -0.003676397 | -0.034794733 | -0.010491055 | -0.007721971 | -0.01465504 | -0.14834049 |  0.008681795 |  0.015668703 |  0.035779363 | Reverter   |\n",
       "| 3 | 00139-0 | -0.04162543 | -0.036730092 | -0.0469522326 | 0.089392721 | -0.049189611 |  0.032472113 | -0.02172676 |  0.01238158 | -0.0403871139 | ⋯ | -0.023873847 |  0.002156358 | -0.010940347 |  0.010072032 | -0.03348186 | -0.08142656 |  0.123767615 |  0.001222313 |  0.039788403 | Reverter   |\n",
       "| 4 | 00159-0 | -0.04801535 |  0.232065205 | -0.0263503818 | 0.054358188 |  0.010838359 | -0.023821148 |  0.05710884 |  0.01861838 | -0.0385121968 | ⋯ |  0.023145471 | -0.004236950 |  0.022258250 |  0.029260069 | -0.02153985 | -0.29057564 |  0.194484202 | -0.055334761 | -0.026108705 | Maintainer |\n",
       "| 5 | 00174-0 | -0.04422143 |  0.005648297 |  0.0019395758 | 0.012030349 | -0.009526595 | -0.011986414 | -0.04859658 | -0.01209706 |  0.0006907144 | ⋯ |  0.005872110 | -0.009735373 |  0.005824244 | -0.007314493 |  0.03117020 |  0.11755467 | -0.011915534 |  0.009478003 | -0.068822916 | Progressor |\n",
       "\n"
      ],
      "text/plain": [
       "  ID      LV1         LV2          LV3           LV4         LV5         \n",
       "1 00041-0  0.06533240 -0.011055519 -0.0287143635 0.036526145  0.001051845\n",
       "2 00110-0 -0.04267481 -0.020391543 -0.0001745483 0.003682194 -0.002243756\n",
       "3 00139-0 -0.04162543 -0.036730092 -0.0469522326 0.089392721 -0.049189611\n",
       "4 00159-0 -0.04801535  0.232065205 -0.0263503818 0.054358188  0.010838359\n",
       "5 00174-0 -0.04422143  0.005648297  0.0019395758 0.012030349 -0.009526595\n",
       "  LV6          LV7         LV8         LV9           ⋯ LV979       \n",
       "1 -0.004441117 -0.12540642 -0.01658177 -0.0173158695 ⋯  0.036741179\n",
       "2  0.008158552  0.11867353  0.02813421  0.0131125908 ⋯ -0.003676397\n",
       "3  0.032472113 -0.02172676  0.01238158 -0.0403871139 ⋯ -0.023873847\n",
       "4 -0.023821148  0.05710884  0.01861838 -0.0385121968 ⋯  0.023145471\n",
       "5 -0.011986414 -0.04859658 -0.01209706  0.0006907144 ⋯  0.005872110\n",
       "  LV980        LV981        LV982        LV983       LV984       LV985       \n",
       "1  0.023540136  0.029886622 -0.002217311  0.03846297 -0.06393674 -0.134816383\n",
       "2 -0.034794733 -0.010491055 -0.007721971 -0.01465504 -0.14834049  0.008681795\n",
       "3  0.002156358 -0.010940347  0.010072032 -0.03348186 -0.08142656  0.123767615\n",
       "4 -0.004236950  0.022258250  0.029260069 -0.02153985 -0.29057564  0.194484202\n",
       "5 -0.009735373  0.005824244 -0.007314493  0.03117020  0.11755467 -0.011915534\n",
       "  LV986        LV987        Group     \n",
       "1  0.002138531  0.009733345 Maintainer\n",
       "2  0.015668703  0.035779363 Reverter  \n",
       "3  0.001222313  0.039788403 Reverter  \n",
       "4 -0.055334761 -0.026108705 Maintainer\n",
       "5  0.009478003 -0.068822916 Progressor"
      ]
     },
     "metadata": {},
     "output_type": "display_data"
    }
   ],
   "source": [
    "# importing results from projection og DAISY RNAseq visit 1 into Phenoplier latent space\n",
    "#RNA_proj <- readRDS(\"output/projection_1.rds\")\n",
    "RNA_proj <- readRDS(paste0(\"output/projection_\",tp,\".rds\"))\n",
    "dim(RNA_proj)\n",
    "head(RNA_proj,1)\n",
    "\n",
    "print(tp)\n",
    "\n",
    "\n",
    "# transposing projection output data to get LV names, check we have 987 LV\n",
    "RNA_proj_t <- data.frame(t(RNA_proj))\n",
    "LV_names <- colnames(RNA_proj_t)\n",
    "length(LV_names)\n",
    "head(RNA_proj_t,1)\n",
    "\n",
    "# convert matrix to dataframe with gene as rownames\n",
    "RNA_proj_t <- cbind(ID = colnames(RNA_proj), t(RNA_proj))\n",
    "# merge transposed RNA projection output with each individual's T1D groupping\n",
    "RNA_proj_group <- merge(RNA_proj_t, RNA_pheno[,1:2], by = \"ID\")\n",
    "\n",
    "head(RNA_proj_group,1)\n",
    "#set rownames of new dataframe to ensembleID\n",
    "#rownames(EnsID_df) <- EnsID_df$EnsemblID\n",
    "#remove gene and ensembleID column\n",
    "#z_matrix <- as.matrix(EnsID_df[, !(colnames(EnsID_df) %in% c(\"gene\", \"EnsemblID\"))])\n",
    "\n",
    "colnames(RNA_proj_group)[2:988] <- LV_names\n",
    "#this <- RNA_proj_group[,LV_col]\n",
    "#convert all LV col into numeric\n",
    "RNA_proj_group[,LV_names] <- sapply(RNA_proj_group[,LV_names], function(x) as.numeric(as.character(x)))\n",
    "head(RNA_proj_group,1) \n",
    "\n",
    "                                    # order groupping factor\n",
    "RNA_proj_group$Group <- ordered(RNA_proj_group$Group,\n",
    "                         levels = c(\"Maintainer\", \"Reverter\", \"Progressor\"))\n",
    "\n",
    "# correct column name \n",
    "#LV_names<- colnames(RNA_proj_group)[2:988]\n",
    "\n",
    "remove_dot <- which(str_detect(LV_names, \"LV.\"))\n",
    "remove_pathway <- which(!str_detect(LV_names, \"LV.\"))\n",
    "LV_names[remove_pathway] <- gsub(\"\\\\..*\",\"\",LV_names[remove_pathway])\n",
    "LV_names[remove_pathway] <- gsub(\"X\",\"LV\",LV_names[remove_pathway])\n",
    "LV_names[remove_dot] <- gsub(\"\\\\.\",\"\",LV_names[remove_dot])\n",
    "\n",
    "colnames(RNA_proj_group)[2:988]<- LV_names\n",
    "head(RNA_proj_group,5)\n",
    "\n",
    "saveRDS(RNA_proj_group,paste0(\"output/gp_RNA_proj_\",tp,\".rds\"))"
   ]
  },
  {
   "cell_type": "code",
   "execution_count": null,
   "metadata": {},
   "outputs": [],
   "source": [
    "# boxplot one LV by group, and compute anova p-value\n",
    "ggboxplot(RNA_proj_group, x = \"Group\", y = \"LV986\", color = \"Group\", \n",
    "          add = \"jitter\", legend = \"none\") +\n",
    "  rotate_x_text(angle = 45)+\n",
    "  geom_hline(yintercept = mean(RNA_proj_group$LV986), linetype = 2)+ # Add horizontal line at base mean\n",
    "  stat_compare_means(method = \"anova\", label.y = 0.08)+        # Add global annova p-value\n",
    "  stat_compare_means(method = \"t.test\",\n",
    "                     ref.group = \".all.\",label.y = c(0.10,0.10,0.10))\n",
    "\n",
    "\n",
    "# compute anova for each LV\n",
    "\n",
    "res <- data.frame(matrix(nrow = 0, ncol = 6))\n",
    "\n",
    "# compare each group to the mean expression accross all three groups\n",
    "for (i in 1:length(LV_names)){\n",
    "    comp_i <- compare_means(as.formula(paste0(LV_names[i],\" ~ Group\")),  data = RNA_proj_group,\n",
    "                            method = \"anova\")\n",
    "    res <- rbind(res, comp_i)\n",
    "    }\n",
    "res_formated <- res[,c(1,2)]\n",
    "colnames(res_formated) <- c(\"LV\",\"p_val\")\n",
    "res_formated$fdr <- p.adjust(res_formated$p_val, method = \"BH\")\n",
    "head(res_formated,5)\n",
    "\n",
    "saveRDS(res_formated,paste0(\"output/anova_\",tp,\".rds\"))"
   ]
  },
  {
   "cell_type": "code",
   "execution_count": null,
   "metadata": {},
   "outputs": [],
   "source": []
  },
  {
   "cell_type": "code",
   "execution_count": null,
   "metadata": {},
   "outputs": [],
   "source": []
  },
  {
   "cell_type": "code",
   "execution_count": null,
   "metadata": {},
   "outputs": [],
   "source": []
  },
  {
   "cell_type": "code",
   "execution_count": null,
   "metadata": {},
   "outputs": [],
   "source": []
  }
 ],
 "metadata": {
  "kernelspec": {
   "display_name": "R [conda env:T1D_Pheno] *",
   "language": "R",
   "name": "conda-env-T1D_Pheno-r"
  },
  "language_info": {
   "codemirror_mode": "r",
   "file_extension": ".r",
   "mimetype": "text/x-r-source",
   "name": "R",
   "pygments_lexer": "r",
   "version": "4.4.2"
  }
 },
 "nbformat": 4,
 "nbformat_minor": 4
}
