{
 "cells": [
  {
   "cell_type": "markdown",
   "metadata": {},
   "source": [
    "# DAISY RNAseq data projection\n",
    "\n",
    "This notebook project RNA sequencing data into a Latent Space representing gene modules that are co expressed given various conditions, cell types, ... \n",
    "\n",
    "Sakaiza Rasolofomanana Rajery\n",
    "\n",
    "12/19/2024"
   ]
  },
  {
   "cell_type": "markdown",
   "metadata": {},
   "source": [
    "## load packages"
   ]
  },
  {
   "cell_type": "code",
   "execution_count": 1,
   "metadata": {},
   "outputs": [
    {
     "name": "stderr",
     "output_type": "stream",
     "text": [
      "── \u001b[1mAttaching core tidyverse packages\u001b[22m ──────────────────────── tidyverse 2.0.0 ──\n",
      "\u001b[32m✔\u001b[39m \u001b[34mdplyr    \u001b[39m 1.1.4     \u001b[32m✔\u001b[39m \u001b[34mreadr    \u001b[39m 2.1.5\n",
      "\u001b[32m✔\u001b[39m \u001b[34mforcats  \u001b[39m 1.0.0     \u001b[32m✔\u001b[39m \u001b[34mstringr  \u001b[39m 1.5.1\n",
      "\u001b[32m✔\u001b[39m \u001b[34mggplot2  \u001b[39m 3.5.1     \u001b[32m✔\u001b[39m \u001b[34mtibble   \u001b[39m 3.2.1\n",
      "\u001b[32m✔\u001b[39m \u001b[34mlubridate\u001b[39m 1.9.4     \u001b[32m✔\u001b[39m \u001b[34mtidyr    \u001b[39m 1.3.1\n",
      "\u001b[32m✔\u001b[39m \u001b[34mpurrr    \u001b[39m 1.0.2     \n",
      "── \u001b[1mConflicts\u001b[22m ────────────────────────────────────────── tidyverse_conflicts() ──\n",
      "\u001b[31m✖\u001b[39m \u001b[34mdplyr\u001b[39m::\u001b[32mfilter()\u001b[39m masks \u001b[34mstats\u001b[39m::filter()\n",
      "\u001b[31m✖\u001b[39m \u001b[34mdplyr\u001b[39m::\u001b[32mlag()\u001b[39m    masks \u001b[34mstats\u001b[39m::lag()\n",
      "\u001b[36mℹ\u001b[39m Use the conflicted package (\u001b[3m\u001b[34m<http://conflicted.r-lib.org/>\u001b[39m\u001b[23m) to force all conflicts to become errors\n",
      "Loading required package: usethis\n",
      "\n",
      "Loading required package: RColorBrewer\n",
      "\n",
      "Loading required package: gplots\n",
      "\n",
      "\n",
      "Attaching package: ‘gplots’\n",
      "\n",
      "\n",
      "The following object is masked from ‘package:stats’:\n",
      "\n",
      "    lowess\n",
      "\n",
      "\n",
      "Loading required package: pheatmap\n",
      "\n",
      "Loading required package: glmnet\n",
      "\n",
      "Loading required package: Matrix\n",
      "\n",
      "\n",
      "Attaching package: ‘Matrix’\n",
      "\n",
      "\n",
      "The following objects are masked from ‘package:tidyr’:\n",
      "\n",
      "    expand, pack, unpack\n",
      "\n",
      "\n",
      "Loaded glmnet 4.1-8\n",
      "\n",
      "Loading required package: knitr\n",
      "\n",
      "Loading required package: rsvd\n",
      "\n",
      "Loading required package: qvalue\n",
      "\n"
     ]
    }
   ],
   "source": [
    "library(tidyverse,warn.conflicts=FALSE)\n",
    "library(reticulate)\n",
    "library(MASS,warn.conflicts=FALSE)\n",
    "library(devtools,warn.conflicts=FALSE)\n",
    "library(PLIER,warn.conflicts=FALSE)\n",
    "library(reticulate)\n",
    "library(\"ggpubr\")\n",
    "#install_github(\"wgmao/PLIER\")"
   ]
  },
  {
   "cell_type": "code",
   "execution_count": 2,
   "metadata": {},
   "outputs": [],
   "source": [
    "# srouce plier_util to get function GetnewdataB \n",
    "source('scripts/plier_util.R')"
   ]
  },
  {
   "cell_type": "code",
   "execution_count": 3,
   "metadata": {},
   "outputs": [],
   "source": [
    "# use GetOrderedRowNormEM function from Marc to order matrices\n",
    "GetOrderedRowNormEM <- function(exprs.mat, plier.model) {\n",
    "\n",
    "    require(PLIER)\n",
    "    \n",
    "    # Z-score normalization\n",
    "    exprs.norm <- rowNorm(exprs.mat)\n",
    "    exprs.norm <- na.omit(exprs.norm)\n",
    "    \n",
    "    z.mat <- plier.model$Z\n",
    "    genes.in.model <- rownames(z.mat)\n",
    "    genes_in_exprs <- rownames(exprs.norm)\n",
    "    \n",
    "    # Find the common genes\n",
    "    common_genes <- intersect(genes_in_exprs, genes.in.model)\n",
    "    \n",
    "    # Filter the matrices based on the common genes\n",
    "    exprs.norm.filtered <- exprs.norm[common_genes, , drop = FALSE]\n",
    "    z.mat.filtered <- z.mat[common_genes, , drop = FALSE]\n",
    "        \n",
    "  # Update the plier.model with the new Z matrix\n",
    "  plier.model$Z <- z.mat.filtered\n",
    "\n",
    "  # Return the updated plier.model and the filtered exprs.norm\n",
    "  list(plier.model = plier.model, exprs.norm.filtered = exprs.norm.filtered)\n",
    "\n",
    "}"
   ]
  },
  {
   "cell_type": "markdown",
   "metadata": {},
   "source": [
    "## load data: RNA seq, Matrices, name to ID, metada"
   ]
  },
  {
   "cell_type": "markdown",
   "metadata": {},
   "source": [
    "### RNA_seq data: chose visit timepoint 1 or 2 or timepoint difference"
   ]
  },
  {
   "cell_type": "code",
   "execution_count": 21,
   "metadata": {},
   "outputs": [],
   "source": [
    "#tp <- \"1\"\n",
    "tp <- \"2\" \n",
    "#tp <- \"diff\""
   ]
  },
  {
   "cell_type": "markdown",
   "metadata": {},
   "source": [
    "### load data"
   ]
  },
  {
   "cell_type": "code",
   "execution_count": 22,
   "metadata": {},
   "outputs": [],
   "source": [
    "# path to rna dataset\n",
    "path_to_rna <- \"/Users/rasolofs/Library/CloudStorage/OneDrive-TheUniversityofColoradoDenver/DAISY RNA Phenoplier\""
   ]
  },
  {
   "cell_type": "code",
   "execution_count": 23,
   "metadata": {},
   "outputs": [],
   "source": [
    "# create difference dataset and save in RNA Daisy folder on drive (just run once)\n",
    "\n",
    "#RNAseq_1_res <- as.matrix(readRDS(paste0(path_to_rna,\"/RNA_Visit_2_Residuals.RDS\")))\n",
    "#RNAseq_2_res <- as.matrix(readRDS(paste0(path_to_rna,\"/RNA_Visit_1_Residuals.RDS\")))\n",
    "#RNAseq_diff <- RNAseq_2_res - RNAseq_1_res\n",
    "\n",
    "#saveRDS(RNAseq_diff,paste0(path_to_rna,\"/RNA_Visit_diff_Residuals.RDS\")) "
   ]
  },
  {
   "cell_type": "code",
   "execution_count": 24,
   "metadata": {},
   "outputs": [
    {
     "name": "stdout",
     "output_type": "stream",
     "text": [
      " num [1:22236, 1:136] -0.1262 0.1554 0.0615 0.3482 0.1911 ...\n",
      " - attr(*, \"dimnames\")=List of 2\n",
      "  ..$ : chr [1:22236] \"ENSG00000000003\" \"ENSG00000000419\" \"ENSG00000000457\" \"ENSG00000000460\" ...\n",
      "  ..$ : chr [1:136] \"00041-0\" \"00110-0\" \"00139-0\" \"00159-0\" ...\n"
     ]
    },
    {
     "data": {
      "text/html": [
       "<table class=\"dataframe\">\n",
       "<caption>A matrix: 5 × 136 of type dbl</caption>\n",
       "<thead>\n",
       "\t<tr><th></th><th scope=col>00041-0</th><th scope=col>00110-0</th><th scope=col>00139-0</th><th scope=col>00159-0</th><th scope=col>00174-0</th><th scope=col>00177-0</th><th scope=col>00181-0</th><th scope=col>00234-0</th><th scope=col>00250-0</th><th scope=col>00266-0</th><th scope=col>⋯</th><th scope=col>39376-0</th><th scope=col>39390-0</th><th scope=col>50136-0</th><th scope=col>62291-0</th><th scope=col>81801-0</th><th scope=col>84002-0</th><th scope=col>84689-0</th><th scope=col>84731-0</th><th scope=col>84860-0</th><th scope=col>85365-0</th></tr>\n",
       "</thead>\n",
       "<tbody>\n",
       "\t<tr><th scope=row>ENSG00000000003</th><td>-0.12624165</td><td>-0.159462038</td><td> 0.49575958</td><td>-0.04359223</td><td>-0.03125802</td><td>-0.14254590</td><td>-0.11348927</td><td>-0.17195202</td><td> 0.08962260</td><td>-0.09240144</td><td>⋯</td><td> 0.0370263495</td><td>-0.05902015</td><td> 0.25369279</td><td> 0.02727655</td><td>-0.16851862</td><td> 0.005054743</td><td>-0.19149807</td><td>-0.09908251</td><td>-0.000448132</td><td>-0.17540402</td></tr>\n",
       "\t<tr><th scope=row>ENSG00000000419</th><td> 0.15543093</td><td>-0.223865340</td><td>-0.15793771</td><td>-0.16148734</td><td>-0.19706395</td><td> 0.31335105</td><td> 0.18484131</td><td>-0.04994325</td><td> 0.28942191</td><td>-0.01103464</td><td>⋯</td><td>-0.1695997239</td><td> 0.04123930</td><td> 0.08184702</td><td>-0.02161203</td><td> 0.30071225</td><td>-0.061131543</td><td> 0.09630378</td><td> 0.01382037</td><td>-0.230090659</td><td>-0.06163213</td></tr>\n",
       "\t<tr><th scope=row>ENSG00000000457</th><td> 0.06153277</td><td> 0.009822344</td><td> 0.01112568</td><td>-0.14907194</td><td>-0.02693839</td><td>-0.35424145</td><td>-0.16040883</td><td>-0.01268009</td><td>-0.02455520</td><td>-0.11231145</td><td>⋯</td><td>-0.1253767603</td><td> 0.11251813</td><td> 0.02054370</td><td>-0.11409450</td><td> 0.02699623</td><td> 0.120364830</td><td> 0.15134030</td><td> 0.04457402</td><td>-0.236675720</td><td>-0.31096022</td></tr>\n",
       "\t<tr><th scope=row>ENSG00000000460</th><td> 0.34821021</td><td> 0.169711091</td><td> 0.14150941</td><td> 0.20141003</td><td> 0.07123779</td><td> 0.65416427</td><td> 0.04871970</td><td> 0.05499721</td><td> 0.05762413</td><td> 0.13184903</td><td>⋯</td><td>-0.2394024888</td><td>-0.04206933</td><td>-0.02954034</td><td> 0.10709581</td><td>-0.08125212</td><td>-0.130261516</td><td>-0.27357840</td><td> 0.03304613</td><td> 0.070908915</td><td> 0.18260665</td></tr>\n",
       "\t<tr><th scope=row>ENSG00000000938</th><td> 0.19107804</td><td>-0.125299403</td><td>-0.07822936</td><td>-0.18449955</td><td> 0.03978983</td><td>-0.08463978</td><td> 0.05333766</td><td> 0.04011615</td><td> 0.15721805</td><td> 0.02508208</td><td>⋯</td><td>-0.0006519936</td><td>-0.14799119</td><td>-0.29089623</td><td>-0.24670785</td><td> 0.12345756</td><td> 0.101731154</td><td> 0.10853952</td><td> 0.24243226</td><td> 0.205704726</td><td>-0.16158158</td></tr>\n",
       "</tbody>\n",
       "</table>\n"
      ],
      "text/latex": [
       "A matrix: 5 × 136 of type dbl\n",
       "\\begin{tabular}{r|lllllllllllllllllllll}\n",
       "  & 00041-0 & 00110-0 & 00139-0 & 00159-0 & 00174-0 & 00177-0 & 00181-0 & 00234-0 & 00250-0 & 00266-0 & ⋯ & 39376-0 & 39390-0 & 50136-0 & 62291-0 & 81801-0 & 84002-0 & 84689-0 & 84731-0 & 84860-0 & 85365-0\\\\\n",
       "\\hline\n",
       "\tENSG00000000003 & -0.12624165 & -0.159462038 &  0.49575958 & -0.04359223 & -0.03125802 & -0.14254590 & -0.11348927 & -0.17195202 &  0.08962260 & -0.09240144 & ⋯ &  0.0370263495 & -0.05902015 &  0.25369279 &  0.02727655 & -0.16851862 &  0.005054743 & -0.19149807 & -0.09908251 & -0.000448132 & -0.17540402\\\\\n",
       "\tENSG00000000419 &  0.15543093 & -0.223865340 & -0.15793771 & -0.16148734 & -0.19706395 &  0.31335105 &  0.18484131 & -0.04994325 &  0.28942191 & -0.01103464 & ⋯ & -0.1695997239 &  0.04123930 &  0.08184702 & -0.02161203 &  0.30071225 & -0.061131543 &  0.09630378 &  0.01382037 & -0.230090659 & -0.06163213\\\\\n",
       "\tENSG00000000457 &  0.06153277 &  0.009822344 &  0.01112568 & -0.14907194 & -0.02693839 & -0.35424145 & -0.16040883 & -0.01268009 & -0.02455520 & -0.11231145 & ⋯ & -0.1253767603 &  0.11251813 &  0.02054370 & -0.11409450 &  0.02699623 &  0.120364830 &  0.15134030 &  0.04457402 & -0.236675720 & -0.31096022\\\\\n",
       "\tENSG00000000460 &  0.34821021 &  0.169711091 &  0.14150941 &  0.20141003 &  0.07123779 &  0.65416427 &  0.04871970 &  0.05499721 &  0.05762413 &  0.13184903 & ⋯ & -0.2394024888 & -0.04206933 & -0.02954034 &  0.10709581 & -0.08125212 & -0.130261516 & -0.27357840 &  0.03304613 &  0.070908915 &  0.18260665\\\\\n",
       "\tENSG00000000938 &  0.19107804 & -0.125299403 & -0.07822936 & -0.18449955 &  0.03978983 & -0.08463978 &  0.05333766 &  0.04011615 &  0.15721805 &  0.02508208 & ⋯ & -0.0006519936 & -0.14799119 & -0.29089623 & -0.24670785 &  0.12345756 &  0.101731154 &  0.10853952 &  0.24243226 &  0.205704726 & -0.16158158\\\\\n",
       "\\end{tabular}\n"
      ],
      "text/markdown": [
       "\n",
       "A matrix: 5 × 136 of type dbl\n",
       "\n",
       "| <!--/--> | 00041-0 | 00110-0 | 00139-0 | 00159-0 | 00174-0 | 00177-0 | 00181-0 | 00234-0 | 00250-0 | 00266-0 | ⋯ | 39376-0 | 39390-0 | 50136-0 | 62291-0 | 81801-0 | 84002-0 | 84689-0 | 84731-0 | 84860-0 | 85365-0 |\n",
       "|---|---|---|---|---|---|---|---|---|---|---|---|---|---|---|---|---|---|---|---|---|---|\n",
       "| ENSG00000000003 | -0.12624165 | -0.159462038 |  0.49575958 | -0.04359223 | -0.03125802 | -0.14254590 | -0.11348927 | -0.17195202 |  0.08962260 | -0.09240144 | ⋯ |  0.0370263495 | -0.05902015 |  0.25369279 |  0.02727655 | -0.16851862 |  0.005054743 | -0.19149807 | -0.09908251 | -0.000448132 | -0.17540402 |\n",
       "| ENSG00000000419 |  0.15543093 | -0.223865340 | -0.15793771 | -0.16148734 | -0.19706395 |  0.31335105 |  0.18484131 | -0.04994325 |  0.28942191 | -0.01103464 | ⋯ | -0.1695997239 |  0.04123930 |  0.08184702 | -0.02161203 |  0.30071225 | -0.061131543 |  0.09630378 |  0.01382037 | -0.230090659 | -0.06163213 |\n",
       "| ENSG00000000457 |  0.06153277 |  0.009822344 |  0.01112568 | -0.14907194 | -0.02693839 | -0.35424145 | -0.16040883 | -0.01268009 | -0.02455520 | -0.11231145 | ⋯ | -0.1253767603 |  0.11251813 |  0.02054370 | -0.11409450 |  0.02699623 |  0.120364830 |  0.15134030 |  0.04457402 | -0.236675720 | -0.31096022 |\n",
       "| ENSG00000000460 |  0.34821021 |  0.169711091 |  0.14150941 |  0.20141003 |  0.07123779 |  0.65416427 |  0.04871970 |  0.05499721 |  0.05762413 |  0.13184903 | ⋯ | -0.2394024888 | -0.04206933 | -0.02954034 |  0.10709581 | -0.08125212 | -0.130261516 | -0.27357840 |  0.03304613 |  0.070908915 |  0.18260665 |\n",
       "| ENSG00000000938 |  0.19107804 | -0.125299403 | -0.07822936 | -0.18449955 |  0.03978983 | -0.08463978 |  0.05333766 |  0.04011615 |  0.15721805 |  0.02508208 | ⋯ | -0.0006519936 | -0.14799119 | -0.29089623 | -0.24670785 |  0.12345756 |  0.101731154 |  0.10853952 |  0.24243226 |  0.205704726 | -0.16158158 |\n",
       "\n"
      ],
      "text/plain": [
       "                00041-0     00110-0      00139-0     00159-0     00174-0    \n",
       "ENSG00000000003 -0.12624165 -0.159462038  0.49575958 -0.04359223 -0.03125802\n",
       "ENSG00000000419  0.15543093 -0.223865340 -0.15793771 -0.16148734 -0.19706395\n",
       "ENSG00000000457  0.06153277  0.009822344  0.01112568 -0.14907194 -0.02693839\n",
       "ENSG00000000460  0.34821021  0.169711091  0.14150941  0.20141003  0.07123779\n",
       "ENSG00000000938  0.19107804 -0.125299403 -0.07822936 -0.18449955  0.03978983\n",
       "                00177-0     00181-0     00234-0     00250-0     00266-0     ⋯\n",
       "ENSG00000000003 -0.14254590 -0.11348927 -0.17195202  0.08962260 -0.09240144 ⋯\n",
       "ENSG00000000419  0.31335105  0.18484131 -0.04994325  0.28942191 -0.01103464 ⋯\n",
       "ENSG00000000457 -0.35424145 -0.16040883 -0.01268009 -0.02455520 -0.11231145 ⋯\n",
       "ENSG00000000460  0.65416427  0.04871970  0.05499721  0.05762413  0.13184903 ⋯\n",
       "ENSG00000000938 -0.08463978  0.05333766  0.04011615  0.15721805  0.02508208 ⋯\n",
       "                39376-0       39390-0     50136-0     62291-0     81801-0    \n",
       "ENSG00000000003  0.0370263495 -0.05902015  0.25369279  0.02727655 -0.16851862\n",
       "ENSG00000000419 -0.1695997239  0.04123930  0.08184702 -0.02161203  0.30071225\n",
       "ENSG00000000457 -0.1253767603  0.11251813  0.02054370 -0.11409450  0.02699623\n",
       "ENSG00000000460 -0.2394024888 -0.04206933 -0.02954034  0.10709581 -0.08125212\n",
       "ENSG00000000938 -0.0006519936 -0.14799119 -0.29089623 -0.24670785  0.12345756\n",
       "                84002-0      84689-0     84731-0     84860-0      85365-0    \n",
       "ENSG00000000003  0.005054743 -0.19149807 -0.09908251 -0.000448132 -0.17540402\n",
       "ENSG00000000419 -0.061131543  0.09630378  0.01382037 -0.230090659 -0.06163213\n",
       "ENSG00000000457  0.120364830  0.15134030  0.04457402 -0.236675720 -0.31096022\n",
       "ENSG00000000460 -0.130261516 -0.27357840  0.03304613  0.070908915  0.18260665\n",
       "ENSG00000000938  0.101731154  0.10853952  0.24243226  0.205704726 -0.16158158"
      ]
     },
     "metadata": {},
     "output_type": "display_data"
    },
    {
     "data": {
      "text/html": [
       "<style>\n",
       ".list-inline {list-style: none; margin:0; padding: 0}\n",
       ".list-inline>li {display: inline-block}\n",
       ".list-inline>li:not(:last-child)::after {content: \"\\00b7\"; padding: 0 .5ex}\n",
       "</style>\n",
       "<ol class=list-inline><li>22236</li><li>136</li></ol>\n"
      ],
      "text/latex": [
       "\\begin{enumerate*}\n",
       "\\item 22236\n",
       "\\item 136\n",
       "\\end{enumerate*}\n"
      ],
      "text/markdown": [
       "1. 22236\n",
       "2. 136\n",
       "\n",
       "\n"
      ],
      "text/plain": [
       "[1] 22236   136"
      ]
     },
     "metadata": {},
     "output_type": "display_data"
    }
   ],
   "source": [
    "#raw value at visit 1 and 2\n",
    "#RNAseq_1_Raw <- readRDS(\"RNA_Visit_1.RDS\")\n",
    "#RNAseq_2_Raw <- readRDS(\"RNA_Visit_2.RDS\")\n",
    "\n",
    "#r-log adjusted for age, sex and ancestry at visit 1 and 2\n",
    "RNAseq_data <- as.matrix(readRDS(paste0(path_to_rna,\"/RNA_Visit_\",tp,\"_Residuals.RDS\")))\n",
    "\n",
    "\n",
    "\n",
    "#RNA_annot <- readRDS(\"Expression_Annotation.RDS\")\n",
    "#RNA_pheno <- read_csv(\"DAISY_RNASeq_Phenotype_Deidentified.csv\")\n",
    "\n",
    "str(RNAseq_data)\n",
    "head(RNAseq_data,5)\n",
    "dim(RNAseq_data)"
   ]
  },
  {
   "cell_type": "markdown",
   "metadata": {},
   "source": [
    "### name to ensemble_id file"
   ]
  },
  {
   "cell_type": "code",
   "execution_count": 25,
   "metadata": {},
   "outputs": [
    {
     "data": {
      "text/html": [
       "<table class=\"dataframe\">\n",
       "<caption>A data.frame: 5 × 2</caption>\n",
       "<thead>\n",
       "\t<tr><th></th><th scope=col>EnsemblID</th><th scope=col>gene</th></tr>\n",
       "\t<tr><th></th><th scope=col>&lt;chr&gt;</th><th scope=col>&lt;chr&gt;</th></tr>\n",
       "</thead>\n",
       "<tbody>\n",
       "\t<tr><th scope=row>1</th><td>ENSG00000000457</td><td>SCYL3</td></tr>\n",
       "\t<tr><th scope=row>2</th><td>ENSG00000000938</td><td>FGR  </td></tr>\n",
       "\t<tr><th scope=row>3</th><td>ENSG00000000971</td><td>CFH  </td></tr>\n",
       "\t<tr><th scope=row>4</th><td>ENSG00000001036</td><td>FUCA2</td></tr>\n",
       "\t<tr><th scope=row>5</th><td>ENSG00000001084</td><td>GCLC </td></tr>\n",
       "</tbody>\n",
       "</table>\n"
      ],
      "text/latex": [
       "A data.frame: 5 × 2\n",
       "\\begin{tabular}{r|ll}\n",
       "  & EnsemblID & gene\\\\\n",
       "  & <chr> & <chr>\\\\\n",
       "\\hline\n",
       "\t1 & ENSG00000000457 & SCYL3\\\\\n",
       "\t2 & ENSG00000000938 & FGR  \\\\\n",
       "\t3 & ENSG00000000971 & CFH  \\\\\n",
       "\t4 & ENSG00000001036 & FUCA2\\\\\n",
       "\t5 & ENSG00000001084 & GCLC \\\\\n",
       "\\end{tabular}\n"
      ],
      "text/markdown": [
       "\n",
       "A data.frame: 5 × 2\n",
       "\n",
       "| <!--/--> | EnsemblID &lt;chr&gt; | gene &lt;chr&gt; |\n",
       "|---|---|---|\n",
       "| 1 | ENSG00000000457 | SCYL3 |\n",
       "| 2 | ENSG00000000938 | FGR   |\n",
       "| 3 | ENSG00000000971 | CFH   |\n",
       "| 4 | ENSG00000001036 | FUCA2 |\n",
       "| 5 | ENSG00000001084 | GCLC  |\n",
       "\n"
      ],
      "text/plain": [
       "  EnsemblID       gene \n",
       "1 ENSG00000000457 SCYL3\n",
       "2 ENSG00000000938 FGR  \n",
       "3 ENSG00000000971 CFH  \n",
       "4 ENSG00000001036 FUCA2\n",
       "5 ENSG00000001084 GCLC "
      ]
     },
     "metadata": {},
     "output_type": "display_data"
    }
   ],
   "source": [
    "#load pickle data to convert gene name to EnsemblID\n",
    "py_data <- py_load_object(\"data/input/genes_mapping_id_to_name.pkl\")\n",
    "data_t <- data.frame(t(data.frame(py_data)))\n",
    "colnames(data_t) <- \"gene\"\n",
    "name_to_ID <- rownames_to_column(data_t, var = \"EnsemblID\")\n",
    "head(name_to_ID,5)"
   ]
  },
  {
   "cell_type": "markdown",
   "metadata": {},
   "source": [
    "### metadata file"
   ]
  },
  {
   "cell_type": "code",
   "execution_count": 26,
   "metadata": {},
   "outputs": [
    {
     "name": "stdout",
     "output_type": "stream",
     "text": [
      "$L1\n",
      "[1] 120.5661\n",
      "\n",
      "$L2\n",
      "[1] 241.1322\n",
      "\n",
      "$L3\n",
      "[1] 0.01269676\n",
      "\n"
     ]
    }
   ],
   "source": [
    "# Import model metadata file to re-build plier model\n",
    "metadata <- readRDS(\"data/input/multiplier_model_metadata.rds\")\n",
    "print(metadata)"
   ]
  },
  {
   "cell_type": "markdown",
   "metadata": {},
   "source": [
    "### Multiplier matrices"
   ]
  },
  {
   "cell_type": "code",
   "execution_count": 27,
   "metadata": {},
   "outputs": [
    {
     "data": {
      "text/html": [
       "<table class=\"dataframe\">\n",
       "<caption>A matrix: 5 × 37032 of type dbl</caption>\n",
       "<thead>\n",
       "\t<tr><th></th><th scope=col>SRP000599.SRR013549</th><th scope=col>SRP000599.SRR013550</th><th scope=col>SRP000599.SRR013551</th><th scope=col>SRP000599.SRR013552</th><th scope=col>SRP000599.SRR013553</th><th scope=col>SRP000599.SRR013554</th><th scope=col>SRP000599.SRR013555</th><th scope=col>SRP000599.SRR013556</th><th scope=col>SRP000599.SRR013557</th><th scope=col>SRP000599.SRR013558</th><th scope=col>⋯</th><th scope=col>SRP035599.SRR1139372</th><th scope=col>SRP035599.SRR1139393</th><th scope=col>SRP035599.SRR1139388</th><th scope=col>SRP035599.SRR1139378</th><th scope=col>SRP035599.SRR1139399</th><th scope=col>SRP035599.SRR1139386</th><th scope=col>SRP035599.SRR1139375</th><th scope=col>SRP035599.SRR1139382</th><th scope=col>SRP035599.SRR1139356</th><th scope=col>SRP035599.SRR1139370</th></tr>\n",
       "</thead>\n",
       "<tbody>\n",
       "\t<tr><th scope=row>1,REACTOME_MRNA_SPLICING</th><td>-0.059296689</td><td>-0.047909034</td><td>-0.049366085</td><td>-0.065078034</td><td>-0.036394186</td><td>-0.046432986</td><td>-0.040980500</td><td>-0.040068202</td><td>-0.046137392</td><td>-0.048547681</td><td>⋯</td><td> 0.028219530</td><td> 0.035137107</td><td> 0.065077330</td><td> 0.078143650</td><td> 0.092361864</td><td> 0.069042346</td><td> 0.090913845</td><td> 0.096341467</td><td> 0.13111465</td><td> 0.171751422</td></tr>\n",
       "\t<tr><th scope=row>2,SVM Monocytes</th><td> 0.006212678</td><td> 0.003625471</td><td> 0.006604582</td><td> 0.009258006</td><td> 0.005061427</td><td> 0.004132735</td><td> 0.008950264</td><td> 0.007226716</td><td> 0.007240987</td><td> 0.005709697</td><td>⋯</td><td>-0.050455152</td><td>-0.034501970</td><td>-0.033640290</td><td>-0.049702173</td><td>-0.037425739</td><td>-0.050069528</td><td>-0.022575052</td><td>-0.055091302</td><td>-0.05686929</td><td>-0.018072570</td></tr>\n",
       "\t<tr><th scope=row>3,REACTOME_TRANSMISSION_ACROSS_CHEMICAL_SYNAPSES</th><td>-0.026105335</td><td>-0.032232060</td><td>-0.020621382</td><td>-0.027598555</td><td>-0.035248076</td><td>-0.038700769</td><td>-0.032527087</td><td>-0.030592727</td><td>-0.028937277</td><td>-0.027405660</td><td>⋯</td><td>-0.028609689</td><td>-0.033449754</td><td>-0.030583001</td><td>-0.032399106</td><td>-0.029365381</td><td>-0.025405876</td><td>-0.033657228</td><td>-0.031317680</td><td>-0.03092424</td><td>-0.027868614</td></tr>\n",
       "\t<tr><th scope=row>4,REACTOME_NEURONAL_SYSTEM</th><td>-0.022079745</td><td>-0.008970910</td><td>-0.020341711</td><td>-0.016260213</td><td>-0.003022898</td><td> 0.002442659</td><td>-0.020457842</td><td>-0.023735309</td><td>-0.021581483</td><td>-0.022477572</td><td>⋯</td><td>-0.037122216</td><td>-0.029658154</td><td>-0.036349546</td><td>-0.039253549</td><td>-0.035204624</td><td>-0.036345061</td><td>-0.034513880</td><td>-0.035925708</td><td>-0.04035837</td><td>-0.031131153</td></tr>\n",
       "\t<tr><th scope=row>LV 5</th><td> 0.007663157</td><td> 0.007036176</td><td> 0.006608393</td><td> 0.003446311</td><td> 0.006340665</td><td> 0.007106127</td><td> 0.007930485</td><td> 0.009164026</td><td> 0.008023601</td><td> 0.007937586</td><td>⋯</td><td>-0.003055909</td><td>-0.004783739</td><td>-0.004352417</td><td>-0.004159541</td><td>-0.001084991</td><td>-0.001884109</td><td>-0.003561052</td><td>-0.003546184</td><td>-0.01210732</td><td>-0.001192709</td></tr>\n",
       "</tbody>\n",
       "</table>\n"
      ],
      "text/latex": [
       "A matrix: 5 × 37032 of type dbl\n",
       "\\begin{tabular}{r|lllllllllllllllllllll}\n",
       "  & SRP000599.SRR013549 & SRP000599.SRR013550 & SRP000599.SRR013551 & SRP000599.SRR013552 & SRP000599.SRR013553 & SRP000599.SRR013554 & SRP000599.SRR013555 & SRP000599.SRR013556 & SRP000599.SRR013557 & SRP000599.SRR013558 & ⋯ & SRP035599.SRR1139372 & SRP035599.SRR1139393 & SRP035599.SRR1139388 & SRP035599.SRR1139378 & SRP035599.SRR1139399 & SRP035599.SRR1139386 & SRP035599.SRR1139375 & SRP035599.SRR1139382 & SRP035599.SRR1139356 & SRP035599.SRR1139370\\\\\n",
       "\\hline\n",
       "\t1,REACTOME\\_MRNA\\_SPLICING & -0.059296689 & -0.047909034 & -0.049366085 & -0.065078034 & -0.036394186 & -0.046432986 & -0.040980500 & -0.040068202 & -0.046137392 & -0.048547681 & ⋯ &  0.028219530 &  0.035137107 &  0.065077330 &  0.078143650 &  0.092361864 &  0.069042346 &  0.090913845 &  0.096341467 &  0.13111465 &  0.171751422\\\\\n",
       "\t2,SVM Monocytes &  0.006212678 &  0.003625471 &  0.006604582 &  0.009258006 &  0.005061427 &  0.004132735 &  0.008950264 &  0.007226716 &  0.007240987 &  0.005709697 & ⋯ & -0.050455152 & -0.034501970 & -0.033640290 & -0.049702173 & -0.037425739 & -0.050069528 & -0.022575052 & -0.055091302 & -0.05686929 & -0.018072570\\\\\n",
       "\t3,REACTOME\\_TRANSMISSION\\_ACROSS\\_CHEMICAL\\_SYNAPSES & -0.026105335 & -0.032232060 & -0.020621382 & -0.027598555 & -0.035248076 & -0.038700769 & -0.032527087 & -0.030592727 & -0.028937277 & -0.027405660 & ⋯ & -0.028609689 & -0.033449754 & -0.030583001 & -0.032399106 & -0.029365381 & -0.025405876 & -0.033657228 & -0.031317680 & -0.03092424 & -0.027868614\\\\\n",
       "\t4,REACTOME\\_NEURONAL\\_SYSTEM & -0.022079745 & -0.008970910 & -0.020341711 & -0.016260213 & -0.003022898 &  0.002442659 & -0.020457842 & -0.023735309 & -0.021581483 & -0.022477572 & ⋯ & -0.037122216 & -0.029658154 & -0.036349546 & -0.039253549 & -0.035204624 & -0.036345061 & -0.034513880 & -0.035925708 & -0.04035837 & -0.031131153\\\\\n",
       "\tLV 5 &  0.007663157 &  0.007036176 &  0.006608393 &  0.003446311 &  0.006340665 &  0.007106127 &  0.007930485 &  0.009164026 &  0.008023601 &  0.007937586 & ⋯ & -0.003055909 & -0.004783739 & -0.004352417 & -0.004159541 & -0.001084991 & -0.001884109 & -0.003561052 & -0.003546184 & -0.01210732 & -0.001192709\\\\\n",
       "\\end{tabular}\n"
      ],
      "text/markdown": [
       "\n",
       "A matrix: 5 × 37032 of type dbl\n",
       "\n",
       "| <!--/--> | SRP000599.SRR013549 | SRP000599.SRR013550 | SRP000599.SRR013551 | SRP000599.SRR013552 | SRP000599.SRR013553 | SRP000599.SRR013554 | SRP000599.SRR013555 | SRP000599.SRR013556 | SRP000599.SRR013557 | SRP000599.SRR013558 | ⋯ | SRP035599.SRR1139372 | SRP035599.SRR1139393 | SRP035599.SRR1139388 | SRP035599.SRR1139378 | SRP035599.SRR1139399 | SRP035599.SRR1139386 | SRP035599.SRR1139375 | SRP035599.SRR1139382 | SRP035599.SRR1139356 | SRP035599.SRR1139370 |\n",
       "|---|---|---|---|---|---|---|---|---|---|---|---|---|---|---|---|---|---|---|---|---|---|\n",
       "| 1,REACTOME_MRNA_SPLICING | -0.059296689 | -0.047909034 | -0.049366085 | -0.065078034 | -0.036394186 | -0.046432986 | -0.040980500 | -0.040068202 | -0.046137392 | -0.048547681 | ⋯ |  0.028219530 |  0.035137107 |  0.065077330 |  0.078143650 |  0.092361864 |  0.069042346 |  0.090913845 |  0.096341467 |  0.13111465 |  0.171751422 |\n",
       "| 2,SVM Monocytes |  0.006212678 |  0.003625471 |  0.006604582 |  0.009258006 |  0.005061427 |  0.004132735 |  0.008950264 |  0.007226716 |  0.007240987 |  0.005709697 | ⋯ | -0.050455152 | -0.034501970 | -0.033640290 | -0.049702173 | -0.037425739 | -0.050069528 | -0.022575052 | -0.055091302 | -0.05686929 | -0.018072570 |\n",
       "| 3,REACTOME_TRANSMISSION_ACROSS_CHEMICAL_SYNAPSES | -0.026105335 | -0.032232060 | -0.020621382 | -0.027598555 | -0.035248076 | -0.038700769 | -0.032527087 | -0.030592727 | -0.028937277 | -0.027405660 | ⋯ | -0.028609689 | -0.033449754 | -0.030583001 | -0.032399106 | -0.029365381 | -0.025405876 | -0.033657228 | -0.031317680 | -0.03092424 | -0.027868614 |\n",
       "| 4,REACTOME_NEURONAL_SYSTEM | -0.022079745 | -0.008970910 | -0.020341711 | -0.016260213 | -0.003022898 |  0.002442659 | -0.020457842 | -0.023735309 | -0.021581483 | -0.022477572 | ⋯ | -0.037122216 | -0.029658154 | -0.036349546 | -0.039253549 | -0.035204624 | -0.036345061 | -0.034513880 | -0.035925708 | -0.04035837 | -0.031131153 |\n",
       "| LV 5 |  0.007663157 |  0.007036176 |  0.006608393 |  0.003446311 |  0.006340665 |  0.007106127 |  0.007930485 |  0.009164026 |  0.008023601 |  0.007937586 | ⋯ | -0.003055909 | -0.004783739 | -0.004352417 | -0.004159541 | -0.001084991 | -0.001884109 | -0.003561052 | -0.003546184 | -0.01210732 | -0.001192709 |\n",
       "\n"
      ],
      "text/plain": [
       "                                                 SRP000599.SRR013549\n",
       "1,REACTOME_MRNA_SPLICING                         -0.059296689       \n",
       "2,SVM Monocytes                                   0.006212678       \n",
       "3,REACTOME_TRANSMISSION_ACROSS_CHEMICAL_SYNAPSES -0.026105335       \n",
       "4,REACTOME_NEURONAL_SYSTEM                       -0.022079745       \n",
       "LV 5                                              0.007663157       \n",
       "                                                 SRP000599.SRR013550\n",
       "1,REACTOME_MRNA_SPLICING                         -0.047909034       \n",
       "2,SVM Monocytes                                   0.003625471       \n",
       "3,REACTOME_TRANSMISSION_ACROSS_CHEMICAL_SYNAPSES -0.032232060       \n",
       "4,REACTOME_NEURONAL_SYSTEM                       -0.008970910       \n",
       "LV 5                                              0.007036176       \n",
       "                                                 SRP000599.SRR013551\n",
       "1,REACTOME_MRNA_SPLICING                         -0.049366085       \n",
       "2,SVM Monocytes                                   0.006604582       \n",
       "3,REACTOME_TRANSMISSION_ACROSS_CHEMICAL_SYNAPSES -0.020621382       \n",
       "4,REACTOME_NEURONAL_SYSTEM                       -0.020341711       \n",
       "LV 5                                              0.006608393       \n",
       "                                                 SRP000599.SRR013552\n",
       "1,REACTOME_MRNA_SPLICING                         -0.065078034       \n",
       "2,SVM Monocytes                                   0.009258006       \n",
       "3,REACTOME_TRANSMISSION_ACROSS_CHEMICAL_SYNAPSES -0.027598555       \n",
       "4,REACTOME_NEURONAL_SYSTEM                       -0.016260213       \n",
       "LV 5                                              0.003446311       \n",
       "                                                 SRP000599.SRR013553\n",
       "1,REACTOME_MRNA_SPLICING                         -0.036394186       \n",
       "2,SVM Monocytes                                   0.005061427       \n",
       "3,REACTOME_TRANSMISSION_ACROSS_CHEMICAL_SYNAPSES -0.035248076       \n",
       "4,REACTOME_NEURONAL_SYSTEM                       -0.003022898       \n",
       "LV 5                                              0.006340665       \n",
       "                                                 SRP000599.SRR013554\n",
       "1,REACTOME_MRNA_SPLICING                         -0.046432986       \n",
       "2,SVM Monocytes                                   0.004132735       \n",
       "3,REACTOME_TRANSMISSION_ACROSS_CHEMICAL_SYNAPSES -0.038700769       \n",
       "4,REACTOME_NEURONAL_SYSTEM                        0.002442659       \n",
       "LV 5                                              0.007106127       \n",
       "                                                 SRP000599.SRR013555\n",
       "1,REACTOME_MRNA_SPLICING                         -0.040980500       \n",
       "2,SVM Monocytes                                   0.008950264       \n",
       "3,REACTOME_TRANSMISSION_ACROSS_CHEMICAL_SYNAPSES -0.032527087       \n",
       "4,REACTOME_NEURONAL_SYSTEM                       -0.020457842       \n",
       "LV 5                                              0.007930485       \n",
       "                                                 SRP000599.SRR013556\n",
       "1,REACTOME_MRNA_SPLICING                         -0.040068202       \n",
       "2,SVM Monocytes                                   0.007226716       \n",
       "3,REACTOME_TRANSMISSION_ACROSS_CHEMICAL_SYNAPSES -0.030592727       \n",
       "4,REACTOME_NEURONAL_SYSTEM                       -0.023735309       \n",
       "LV 5                                              0.009164026       \n",
       "                                                 SRP000599.SRR013557\n",
       "1,REACTOME_MRNA_SPLICING                         -0.046137392       \n",
       "2,SVM Monocytes                                   0.007240987       \n",
       "3,REACTOME_TRANSMISSION_ACROSS_CHEMICAL_SYNAPSES -0.028937277       \n",
       "4,REACTOME_NEURONAL_SYSTEM                       -0.021581483       \n",
       "LV 5                                              0.008023601       \n",
       "                                                 SRP000599.SRR013558 ⋯\n",
       "1,REACTOME_MRNA_SPLICING                         -0.048547681        ⋯\n",
       "2,SVM Monocytes                                   0.005709697        ⋯\n",
       "3,REACTOME_TRANSMISSION_ACROSS_CHEMICAL_SYNAPSES -0.027405660        ⋯\n",
       "4,REACTOME_NEURONAL_SYSTEM                       -0.022477572        ⋯\n",
       "LV 5                                              0.007937586        ⋯\n",
       "                                                 SRP035599.SRR1139372\n",
       "1,REACTOME_MRNA_SPLICING                          0.028219530        \n",
       "2,SVM Monocytes                                  -0.050455152        \n",
       "3,REACTOME_TRANSMISSION_ACROSS_CHEMICAL_SYNAPSES -0.028609689        \n",
       "4,REACTOME_NEURONAL_SYSTEM                       -0.037122216        \n",
       "LV 5                                             -0.003055909        \n",
       "                                                 SRP035599.SRR1139393\n",
       "1,REACTOME_MRNA_SPLICING                          0.035137107        \n",
       "2,SVM Monocytes                                  -0.034501970        \n",
       "3,REACTOME_TRANSMISSION_ACROSS_CHEMICAL_SYNAPSES -0.033449754        \n",
       "4,REACTOME_NEURONAL_SYSTEM                       -0.029658154        \n",
       "LV 5                                             -0.004783739        \n",
       "                                                 SRP035599.SRR1139388\n",
       "1,REACTOME_MRNA_SPLICING                          0.065077330        \n",
       "2,SVM Monocytes                                  -0.033640290        \n",
       "3,REACTOME_TRANSMISSION_ACROSS_CHEMICAL_SYNAPSES -0.030583001        \n",
       "4,REACTOME_NEURONAL_SYSTEM                       -0.036349546        \n",
       "LV 5                                             -0.004352417        \n",
       "                                                 SRP035599.SRR1139378\n",
       "1,REACTOME_MRNA_SPLICING                          0.078143650        \n",
       "2,SVM Monocytes                                  -0.049702173        \n",
       "3,REACTOME_TRANSMISSION_ACROSS_CHEMICAL_SYNAPSES -0.032399106        \n",
       "4,REACTOME_NEURONAL_SYSTEM                       -0.039253549        \n",
       "LV 5                                             -0.004159541        \n",
       "                                                 SRP035599.SRR1139399\n",
       "1,REACTOME_MRNA_SPLICING                          0.092361864        \n",
       "2,SVM Monocytes                                  -0.037425739        \n",
       "3,REACTOME_TRANSMISSION_ACROSS_CHEMICAL_SYNAPSES -0.029365381        \n",
       "4,REACTOME_NEURONAL_SYSTEM                       -0.035204624        \n",
       "LV 5                                             -0.001084991        \n",
       "                                                 SRP035599.SRR1139386\n",
       "1,REACTOME_MRNA_SPLICING                          0.069042346        \n",
       "2,SVM Monocytes                                  -0.050069528        \n",
       "3,REACTOME_TRANSMISSION_ACROSS_CHEMICAL_SYNAPSES -0.025405876        \n",
       "4,REACTOME_NEURONAL_SYSTEM                       -0.036345061        \n",
       "LV 5                                             -0.001884109        \n",
       "                                                 SRP035599.SRR1139375\n",
       "1,REACTOME_MRNA_SPLICING                          0.090913845        \n",
       "2,SVM Monocytes                                  -0.022575052        \n",
       "3,REACTOME_TRANSMISSION_ACROSS_CHEMICAL_SYNAPSES -0.033657228        \n",
       "4,REACTOME_NEURONAL_SYSTEM                       -0.034513880        \n",
       "LV 5                                             -0.003561052        \n",
       "                                                 SRP035599.SRR1139382\n",
       "1,REACTOME_MRNA_SPLICING                          0.096341467        \n",
       "2,SVM Monocytes                                  -0.055091302        \n",
       "3,REACTOME_TRANSMISSION_ACROSS_CHEMICAL_SYNAPSES -0.031317680        \n",
       "4,REACTOME_NEURONAL_SYSTEM                       -0.035925708        \n",
       "LV 5                                             -0.003546184        \n",
       "                                                 SRP035599.SRR1139356\n",
       "1,REACTOME_MRNA_SPLICING                          0.13111465         \n",
       "2,SVM Monocytes                                  -0.05686929         \n",
       "3,REACTOME_TRANSMISSION_ACROSS_CHEMICAL_SYNAPSES -0.03092424         \n",
       "4,REACTOME_NEURONAL_SYSTEM                       -0.04035837         \n",
       "LV 5                                             -0.01210732         \n",
       "                                                 SRP035599.SRR1139370\n",
       "1,REACTOME_MRNA_SPLICING                          0.171751422        \n",
       "2,SVM Monocytes                                  -0.018072570        \n",
       "3,REACTOME_TRANSMISSION_ACROSS_CHEMICAL_SYNAPSES -0.027868614        \n",
       "4,REACTOME_NEURONAL_SYSTEM                       -0.031131153        \n",
       "LV 5                                             -0.001192709        "
      ]
     },
     "metadata": {},
     "output_type": "display_data"
    },
    {
     "data": {
      "text/html": [
       "<table class=\"dataframe\">\n",
       "<caption>A matrix: 5 × 987 of type dbl</caption>\n",
       "<tbody>\n",
       "\t<tr><th scope=row>GAS6</th><td>0.0000000</td><td>0</td><td>0.03943774</td><td>0</td><td>0.05047625</td><td>0.00000000</td><td>0</td><td>0.000000000</td><td>0.5909494</td><td>0.00000000</td><td>⋯</td><td>0.05012510</td><td>0.00000000</td><td>0.033407371</td><td>0.00000000</td><td>0.00000000</td><td>0.005963392</td><td>0.34736209</td><td>0</td><td>0.00000000</td><td>0.0000000</td></tr>\n",
       "\t<tr><th scope=row>MMP14</th><td>0.0000000</td><td>0</td><td>0.00000000</td><td>0</td><td>0.07007159</td><td>0.00000000</td><td>0</td><td>0.004904131</td><td>1.7201788</td><td>2.42359463</td><td>⋯</td><td>0.00000000</td><td>0.00000000</td><td>0.001007286</td><td>0.00000000</td><td>0.03574724</td><td>0.000000000</td><td>0.00000000</td><td>0</td><td>0.01497801</td><td>0.0000000</td></tr>\n",
       "\t<tr><th scope=row>DSP</th><td>0.0000000</td><td>0</td><td>0.00000000</td><td>0</td><td>0.00000000</td><td>0.04169683</td><td>0</td><td>0.005718149</td><td>0.0000000</td><td>0.00000000</td><td>⋯</td><td>0.02085321</td><td>0.00000000</td><td>0.000000000</td><td>0.00000000</td><td>0.00000000</td><td>0.005774440</td><td>0.00000000</td><td>0</td><td>0.00000000</td><td>0.4164045</td></tr>\n",
       "\t<tr><th scope=row>MARCKSL1</th><td>0.3052117</td><td>0</td><td>0.00000000</td><td>0</td><td>0.00000000</td><td>0.00000000</td><td>0</td><td>0.000000000</td><td>0.1618435</td><td>0.14947148</td><td>⋯</td><td>0.02713418</td><td>0.05271997</td><td>0.000000000</td><td>0.03018947</td><td>0.06088351</td><td>0.000000000</td><td>0.00000000</td><td>0</td><td>0.00000000</td><td>0.4484800</td></tr>\n",
       "\t<tr><th scope=row>SPARC</th><td>0.0000000</td><td>0</td><td>0.00000000</td><td>0</td><td>0.00000000</td><td>0.00000000</td><td>0</td><td>0.000000000</td><td>0.0000000</td><td>0.01401441</td><td>⋯</td><td>0.00000000</td><td>0.00000000</td><td>0.000000000</td><td>0.00000000</td><td>0.00000000</td><td>0.000000000</td><td>0.06777859</td><td>0</td><td>0.12241734</td><td>0.0626649</td></tr>\n",
       "</tbody>\n",
       "</table>\n"
      ],
      "text/latex": [
       "A matrix: 5 × 987 of type dbl\n",
       "\\begin{tabular}{r|lllllllllllllllllllll}\n",
       "\tGAS6 & 0.0000000 & 0 & 0.03943774 & 0 & 0.05047625 & 0.00000000 & 0 & 0.000000000 & 0.5909494 & 0.00000000 & ⋯ & 0.05012510 & 0.00000000 & 0.033407371 & 0.00000000 & 0.00000000 & 0.005963392 & 0.34736209 & 0 & 0.00000000 & 0.0000000\\\\\n",
       "\tMMP14 & 0.0000000 & 0 & 0.00000000 & 0 & 0.07007159 & 0.00000000 & 0 & 0.004904131 & 1.7201788 & 2.42359463 & ⋯ & 0.00000000 & 0.00000000 & 0.001007286 & 0.00000000 & 0.03574724 & 0.000000000 & 0.00000000 & 0 & 0.01497801 & 0.0000000\\\\\n",
       "\tDSP & 0.0000000 & 0 & 0.00000000 & 0 & 0.00000000 & 0.04169683 & 0 & 0.005718149 & 0.0000000 & 0.00000000 & ⋯ & 0.02085321 & 0.00000000 & 0.000000000 & 0.00000000 & 0.00000000 & 0.005774440 & 0.00000000 & 0 & 0.00000000 & 0.4164045\\\\\n",
       "\tMARCKSL1 & 0.3052117 & 0 & 0.00000000 & 0 & 0.00000000 & 0.00000000 & 0 & 0.000000000 & 0.1618435 & 0.14947148 & ⋯ & 0.02713418 & 0.05271997 & 0.000000000 & 0.03018947 & 0.06088351 & 0.000000000 & 0.00000000 & 0 & 0.00000000 & 0.4484800\\\\\n",
       "\tSPARC & 0.0000000 & 0 & 0.00000000 & 0 & 0.00000000 & 0.00000000 & 0 & 0.000000000 & 0.0000000 & 0.01401441 & ⋯ & 0.00000000 & 0.00000000 & 0.000000000 & 0.00000000 & 0.00000000 & 0.000000000 & 0.06777859 & 0 & 0.12241734 & 0.0626649\\\\\n",
       "\\end{tabular}\n"
      ],
      "text/markdown": [
       "\n",
       "A matrix: 5 × 987 of type dbl\n",
       "\n",
       "| GAS6 | 0.0000000 | 0 | 0.03943774 | 0 | 0.05047625 | 0.00000000 | 0 | 0.000000000 | 0.5909494 | 0.00000000 | ⋯ | 0.05012510 | 0.00000000 | 0.033407371 | 0.00000000 | 0.00000000 | 0.005963392 | 0.34736209 | 0 | 0.00000000 | 0.0000000 |\n",
       "| MMP14 | 0.0000000 | 0 | 0.00000000 | 0 | 0.07007159 | 0.00000000 | 0 | 0.004904131 | 1.7201788 | 2.42359463 | ⋯ | 0.00000000 | 0.00000000 | 0.001007286 | 0.00000000 | 0.03574724 | 0.000000000 | 0.00000000 | 0 | 0.01497801 | 0.0000000 |\n",
       "| DSP | 0.0000000 | 0 | 0.00000000 | 0 | 0.00000000 | 0.04169683 | 0 | 0.005718149 | 0.0000000 | 0.00000000 | ⋯ | 0.02085321 | 0.00000000 | 0.000000000 | 0.00000000 | 0.00000000 | 0.005774440 | 0.00000000 | 0 | 0.00000000 | 0.4164045 |\n",
       "| MARCKSL1 | 0.3052117 | 0 | 0.00000000 | 0 | 0.00000000 | 0.00000000 | 0 | 0.000000000 | 0.1618435 | 0.14947148 | ⋯ | 0.02713418 | 0.05271997 | 0.000000000 | 0.03018947 | 0.06088351 | 0.000000000 | 0.00000000 | 0 | 0.00000000 | 0.4484800 |\n",
       "| SPARC | 0.0000000 | 0 | 0.00000000 | 0 | 0.00000000 | 0.00000000 | 0 | 0.000000000 | 0.0000000 | 0.01401441 | ⋯ | 0.00000000 | 0.00000000 | 0.000000000 | 0.00000000 | 0.00000000 | 0.000000000 | 0.06777859 | 0 | 0.12241734 | 0.0626649 |\n",
       "\n"
      ],
      "text/plain": [
       "         [,1]      [,2] [,3]       [,4] [,5]       [,6]       [,7] [,8]       \n",
       "GAS6     0.0000000 0    0.03943774 0    0.05047625 0.00000000 0    0.000000000\n",
       "MMP14    0.0000000 0    0.00000000 0    0.07007159 0.00000000 0    0.004904131\n",
       "DSP      0.0000000 0    0.00000000 0    0.00000000 0.04169683 0    0.005718149\n",
       "MARCKSL1 0.3052117 0    0.00000000 0    0.00000000 0.00000000 0    0.000000000\n",
       "SPARC    0.0000000 0    0.00000000 0    0.00000000 0.00000000 0    0.000000000\n",
       "         [,9]      [,10]      [,11] [,12]      [,13]      [,14]      \n",
       "GAS6     0.5909494 0.00000000 ⋯     0.05012510 0.00000000 0.033407371\n",
       "MMP14    1.7201788 2.42359463 ⋯     0.00000000 0.00000000 0.001007286\n",
       "DSP      0.0000000 0.00000000 ⋯     0.02085321 0.00000000 0.000000000\n",
       "MARCKSL1 0.1618435 0.14947148 ⋯     0.02713418 0.05271997 0.000000000\n",
       "SPARC    0.0000000 0.01401441 ⋯     0.00000000 0.00000000 0.000000000\n",
       "         [,15]      [,16]      [,17]       [,18]      [,19] [,20]     \n",
       "GAS6     0.00000000 0.00000000 0.005963392 0.34736209 0     0.00000000\n",
       "MMP14    0.00000000 0.03574724 0.000000000 0.00000000 0     0.01497801\n",
       "DSP      0.00000000 0.00000000 0.005774440 0.00000000 0     0.00000000\n",
       "MARCKSL1 0.03018947 0.06088351 0.000000000 0.00000000 0     0.00000000\n",
       "SPARC    0.00000000 0.00000000 0.000000000 0.06777859 0     0.12241734\n",
       "         [,21]    \n",
       "GAS6     0.0000000\n",
       "MMP14    0.0000000\n",
       "DSP      0.4164045\n",
       "MARCKSL1 0.4484800\n",
       "SPARC    0.0626649"
      ]
     },
     "metadata": {},
     "output_type": "display_data"
    }
   ],
   "source": [
    "# load matrices to rebuild plier model\n",
    "# LV x samples\n",
    "b_model <- readRDS(\"data/input/multiplier_model_b.rds\")\n",
    "head(b_model,5)\n",
    "# gene x LV\n",
    "z_model <- readRDS(\"data/input/multiplier_model_z.rds\")\n",
    "head(z_model,5)"
   ]
  },
  {
   "cell_type": "code",
   "execution_count": 28,
   "metadata": {},
   "outputs": [
    {
     "data": {
      "text/html": [
       "<style>\n",
       ".list-inline {list-style: none; margin:0; padding: 0}\n",
       ".list-inline>li {display: inline-block}\n",
       ".list-inline>li:not(:last-child)::after {content: \"\\00b7\"; padding: 0 .5ex}\n",
       "</style>\n",
       "<ol class=list-inline><li>136</li><li>22</li></ol>\n"
      ],
      "text/latex": [
       "\\begin{enumerate*}\n",
       "\\item 136\n",
       "\\item 22\n",
       "\\end{enumerate*}\n"
      ],
      "text/markdown": [
       "1. 136\n",
       "2. 22\n",
       "\n",
       "\n"
      ],
      "text/plain": [
       "[1] 136  22"
      ]
     },
     "metadata": {},
     "output_type": "display_data"
    },
    {
     "data": {
      "text/html": [
       "<table class=\"dataframe\">\n",
       "<caption>A tibble: 1 × 22</caption>\n",
       "<thead>\n",
       "\t<tr><th scope=col>ID</th><th scope=col>Group</th><th scope=col>Freezer_Time</th><th scope=col>Female_YN</th><th scope=col>Multiple_DAISY_Baseline</th><th scope=col>S_W</th><th scope=col>NHW_YN</th><th scope=col>dr34_YN</th><th scope=col>FDR_YN</th><th scope=col>Age</th><th scope=col>⋯</th><th scope=col>PC1</th><th scope=col>PC2</th><th scope=col>PC3</th><th scope=col>PC4</th><th scope=col>PC5</th><th scope=col>PC6</th><th scope=col>PC7</th><th scope=col>PC8</th><th scope=col>PC9</th><th scope=col>PC10</th></tr>\n",
       "\t<tr><th scope=col>&lt;chr&gt;</th><th scope=col>&lt;chr&gt;</th><th scope=col>&lt;dbl&gt;</th><th scope=col>&lt;dbl&gt;</th><th scope=col>&lt;dbl&gt;</th><th scope=col>&lt;dbl&gt;</th><th scope=col>&lt;dbl&gt;</th><th scope=col>&lt;dbl&gt;</th><th scope=col>&lt;dbl&gt;</th><th scope=col>&lt;dbl&gt;</th><th scope=col>⋯</th><th scope=col>&lt;dbl&gt;</th><th scope=col>&lt;dbl&gt;</th><th scope=col>&lt;dbl&gt;</th><th scope=col>&lt;dbl&gt;</th><th scope=col>&lt;dbl&gt;</th><th scope=col>&lt;dbl&gt;</th><th scope=col>&lt;dbl&gt;</th><th scope=col>&lt;dbl&gt;</th><th scope=col>&lt;dbl&gt;</th><th scope=col>&lt;dbl&gt;</th></tr>\n",
       "</thead>\n",
       "<tbody>\n",
       "\t<tr><td>00041-0</td><td>Maintainer</td><td>11.6797</td><td>0</td><td>0</td><td>0.7595215</td><td>1</td><td>1</td><td>1</td><td>17.1307</td><td>⋯</td><td>-0.0067</td><td>-0.0068</td><td>0.0137</td><td>-0.0646</td><td>0.0774</td><td>-0.004</td><td>-6e-04</td><td>-0.1208</td><td>-0.0602</td><td>0.0387</td></tr>\n",
       "</tbody>\n",
       "</table>\n"
      ],
      "text/latex": [
       "A tibble: 1 × 22\n",
       "\\begin{tabular}{lllllllllllllllllllll}\n",
       " ID & Group & Freezer\\_Time & Female\\_YN & Multiple\\_DAISY\\_Baseline & S\\_W & NHW\\_YN & dr34\\_YN & FDR\\_YN & Age & ⋯ & PC1 & PC2 & PC3 & PC4 & PC5 & PC6 & PC7 & PC8 & PC9 & PC10\\\\\n",
       " <chr> & <chr> & <dbl> & <dbl> & <dbl> & <dbl> & <dbl> & <dbl> & <dbl> & <dbl> & ⋯ & <dbl> & <dbl> & <dbl> & <dbl> & <dbl> & <dbl> & <dbl> & <dbl> & <dbl> & <dbl>\\\\\n",
       "\\hline\n",
       "\t 00041-0 & Maintainer & 11.6797 & 0 & 0 & 0.7595215 & 1 & 1 & 1 & 17.1307 & ⋯ & -0.0067 & -0.0068 & 0.0137 & -0.0646 & 0.0774 & -0.004 & -6e-04 & -0.1208 & -0.0602 & 0.0387\\\\\n",
       "\\end{tabular}\n"
      ],
      "text/markdown": [
       "\n",
       "A tibble: 1 × 22\n",
       "\n",
       "| ID &lt;chr&gt; | Group &lt;chr&gt; | Freezer_Time &lt;dbl&gt; | Female_YN &lt;dbl&gt; | Multiple_DAISY_Baseline &lt;dbl&gt; | S_W &lt;dbl&gt; | NHW_YN &lt;dbl&gt; | dr34_YN &lt;dbl&gt; | FDR_YN &lt;dbl&gt; | Age &lt;dbl&gt; | ⋯ ⋯ | PC1 &lt;dbl&gt; | PC2 &lt;dbl&gt; | PC3 &lt;dbl&gt; | PC4 &lt;dbl&gt; | PC5 &lt;dbl&gt; | PC6 &lt;dbl&gt; | PC7 &lt;dbl&gt; | PC8 &lt;dbl&gt; | PC9 &lt;dbl&gt; | PC10 &lt;dbl&gt; |\n",
       "|---|---|---|---|---|---|---|---|---|---|---|---|---|---|---|---|---|---|---|---|---|\n",
       "| 00041-0 | Maintainer | 11.6797 | 0 | 0 | 0.7595215 | 1 | 1 | 1 | 17.1307 | ⋯ | -0.0067 | -0.0068 | 0.0137 | -0.0646 | 0.0774 | -0.004 | -6e-04 | -0.1208 | -0.0602 | 0.0387 |\n",
       "\n"
      ],
      "text/plain": [
       "  ID      Group      Freezer_Time Female_YN Multiple_DAISY_Baseline S_W      \n",
       "1 00041-0 Maintainer 11.6797      0         0                       0.7595215\n",
       "  NHW_YN dr34_YN FDR_YN Age     ⋯ PC1     PC2     PC3    PC4     PC5    PC6   \n",
       "1 1      1       1      17.1307 ⋯ -0.0067 -0.0068 0.0137 -0.0646 0.0774 -0.004\n",
       "  PC7    PC8     PC9     PC10  \n",
       "1 -6e-04 -0.1208 -0.0602 0.0387"
      ]
     },
     "metadata": {},
     "output_type": "display_data"
    },
    {
     "data": {
      "text/html": [
       "<table class=\"dataframe\">\n",
       "<caption>A tibble: 3 × 2</caption>\n",
       "<thead>\n",
       "\t<tr><th scope=col>Group</th><th scope=col>n</th></tr>\n",
       "\t<tr><th scope=col>&lt;chr&gt;</th><th scope=col>&lt;int&gt;</th></tr>\n",
       "</thead>\n",
       "<tbody>\n",
       "\t<tr><td>Maintainer</td><td>64</td></tr>\n",
       "\t<tr><td>Progressor</td><td>25</td></tr>\n",
       "\t<tr><td>Reverter  </td><td>47</td></tr>\n",
       "</tbody>\n",
       "</table>\n"
      ],
      "text/latex": [
       "A tibble: 3 × 2\n",
       "\\begin{tabular}{ll}\n",
       " Group & n\\\\\n",
       " <chr> & <int>\\\\\n",
       "\\hline\n",
       "\t Maintainer & 64\\\\\n",
       "\t Progressor & 25\\\\\n",
       "\t Reverter   & 47\\\\\n",
       "\\end{tabular}\n"
      ],
      "text/markdown": [
       "\n",
       "A tibble: 3 × 2\n",
       "\n",
       "| Group &lt;chr&gt; | n &lt;int&gt; |\n",
       "|---|---|\n",
       "| Maintainer | 64 |\n",
       "| Progressor | 25 |\n",
       "| Reverter   | 47 |\n",
       "\n"
      ],
      "text/plain": [
       "  Group      n \n",
       "1 Maintainer 64\n",
       "2 Progressor 25\n",
       "3 Reverter   47"
      ]
     },
     "metadata": {},
     "output_type": "display_data"
    }
   ],
   "source": [
    "# importing phenotype file\n",
    "RNA_pheno <- read_csv(paste0(path_to_rna,\"/DAISY_RNASeq_Phenotype_Deidentified.csv\"), col_types = cols())\n",
    "dim(RNA_pheno)\n",
    "head(RNA_pheno,1)\n",
    "# see how many people among 136 were maintainer, reverter, progresser. \n",
    "patient_per_group <- RNA_pheno%>%\n",
    "group_by(Group)%>%\n",
    "summarize(n= n())\n",
    "\n",
    "patient_per_group"
   ]
  },
  {
   "cell_type": "markdown",
   "metadata": {},
   "source": [
    "## label z_matrix with ensemblID instead of gene name"
   ]
  },
  {
   "cell_type": "code",
   "execution_count": 29,
   "metadata": {},
   "outputs": [
    {
     "name": "stdout",
     "output_type": "stream",
     "text": [
      " num [1:6455, 1:987] 0 0.2712 0.0051 0.513 1.0082 ...\n",
      " - attr(*, \"dimnames\")=List of 2\n",
      "  ..$ : chr [1:6455] \"ENSG00000175899\" \"ENSG00000094914\" \"ENSG00000129673\" \"ENSG00000090861\" ...\n",
      "  ..$ : chr [1:987] \"V1\" \"V2\" \"V3\" \"V4\" ...\n"
     ]
    },
    {
     "data": {
      "text/html": [
       "<table class=\"dataframe\">\n",
       "<caption>A matrix: 5 × 987 of type dbl</caption>\n",
       "<thead>\n",
       "\t<tr><th></th><th scope=col>V1</th><th scope=col>V2</th><th scope=col>V3</th><th scope=col>V4</th><th scope=col>V5</th><th scope=col>V6</th><th scope=col>V7</th><th scope=col>V8</th><th scope=col>V9</th><th scope=col>V10</th><th scope=col>⋯</th><th scope=col>V978</th><th scope=col>V979</th><th scope=col>V980</th><th scope=col>V981</th><th scope=col>V982</th><th scope=col>V983</th><th scope=col>V984</th><th scope=col>V985</th><th scope=col>V986</th><th scope=col>V987</th></tr>\n",
       "</thead>\n",
       "<tbody>\n",
       "\t<tr><th scope=row>ENSG00000175899</th><td>0.000000000</td><td>0.0000000</td><td>0.00000000</td><td>0.07842750</td><td>0</td><td>0.0000000</td><td>0.0000000</td><td>0.04677228</td><td>0.0000000</td><td>0.0110329</td><td>⋯</td><td>0.010910</td><td>0.00000000</td><td>0.052869436</td><td>0.012748534</td><td>0</td><td>0.01398231</td><td>0.15224090</td><td>0.00000000</td><td>0.0000000</td><td>0.10888358</td></tr>\n",
       "\t<tr><th scope=row>ENSG00000094914</th><td>0.271162234</td><td>0.0000000</td><td>0.00000000</td><td>0.00000000</td><td>0</td><td>0.0000000</td><td>0.0000000</td><td>0.00000000</td><td>1.5133366</td><td>0.0000000</td><td>⋯</td><td>0.000000</td><td>0.00000000</td><td>0.000000000</td><td>0.001385031</td><td>0</td><td>0.00000000</td><td>0.71189565</td><td>0.03053447</td><td>0.4471055</td><td>0.42468522</td></tr>\n",
       "\t<tr><th scope=row>ENSG00000129673</th><td>0.005098885</td><td>0.3084969</td><td>0.02881539</td><td>0.00000000</td><td>0</td><td>0.0000000</td><td>0.3717253</td><td>0.00000000</td><td>0.1352375</td><td>0.0000000</td><td>⋯</td><td>0.117163</td><td>0.01881498</td><td>0.000000000</td><td>0.193141835</td><td>0</td><td>0.04040077</td><td>0.18043565</td><td>0.00000000</td><td>0.0000000</td><td>0.04206449</td></tr>\n",
       "\t<tr><th scope=row>ENSG00000090861</th><td>0.512978085</td><td>0.0000000</td><td>0.45128547</td><td>0.31956792</td><td>0</td><td>0.0000000</td><td>0.0000000</td><td>0.00000000</td><td>0.0000000</td><td>0.0000000</td><td>⋯</td><td>0.000000</td><td>0.00000000</td><td>0.006207784</td><td>0.021274385</td><td>0</td><td>0.00000000</td><td>0.06214269</td><td>0.00000000</td><td>0.0000000</td><td>0.36489213</td></tr>\n",
       "\t<tr><th scope=row>ENSG00000124608</th><td>1.008156895</td><td>0.0000000</td><td>0.19742406</td><td>0.02483182</td><td>0</td><td>0.5708101</td><td>0.0000000</td><td>0.22867460</td><td>0.0000000</td><td>0.1162435</td><td>⋯</td><td>0.000000</td><td>0.00000000</td><td>0.153344992</td><td>0.000000000</td><td>0</td><td>0.00000000</td><td>1.00457811</td><td>0.01447016</td><td>0.0000000</td><td>0.00000000</td></tr>\n",
       "</tbody>\n",
       "</table>\n"
      ],
      "text/latex": [
       "A matrix: 5 × 987 of type dbl\n",
       "\\begin{tabular}{r|lllllllllllllllllllll}\n",
       "  & V1 & V2 & V3 & V4 & V5 & V6 & V7 & V8 & V9 & V10 & ⋯ & V978 & V979 & V980 & V981 & V982 & V983 & V984 & V985 & V986 & V987\\\\\n",
       "\\hline\n",
       "\tENSG00000175899 & 0.000000000 & 0.0000000 & 0.00000000 & 0.07842750 & 0 & 0.0000000 & 0.0000000 & 0.04677228 & 0.0000000 & 0.0110329 & ⋯ & 0.010910 & 0.00000000 & 0.052869436 & 0.012748534 & 0 & 0.01398231 & 0.15224090 & 0.00000000 & 0.0000000 & 0.10888358\\\\\n",
       "\tENSG00000094914 & 0.271162234 & 0.0000000 & 0.00000000 & 0.00000000 & 0 & 0.0000000 & 0.0000000 & 0.00000000 & 1.5133366 & 0.0000000 & ⋯ & 0.000000 & 0.00000000 & 0.000000000 & 0.001385031 & 0 & 0.00000000 & 0.71189565 & 0.03053447 & 0.4471055 & 0.42468522\\\\\n",
       "\tENSG00000129673 & 0.005098885 & 0.3084969 & 0.02881539 & 0.00000000 & 0 & 0.0000000 & 0.3717253 & 0.00000000 & 0.1352375 & 0.0000000 & ⋯ & 0.117163 & 0.01881498 & 0.000000000 & 0.193141835 & 0 & 0.04040077 & 0.18043565 & 0.00000000 & 0.0000000 & 0.04206449\\\\\n",
       "\tENSG00000090861 & 0.512978085 & 0.0000000 & 0.45128547 & 0.31956792 & 0 & 0.0000000 & 0.0000000 & 0.00000000 & 0.0000000 & 0.0000000 & ⋯ & 0.000000 & 0.00000000 & 0.006207784 & 0.021274385 & 0 & 0.00000000 & 0.06214269 & 0.00000000 & 0.0000000 & 0.36489213\\\\\n",
       "\tENSG00000124608 & 1.008156895 & 0.0000000 & 0.19742406 & 0.02483182 & 0 & 0.5708101 & 0.0000000 & 0.22867460 & 0.0000000 & 0.1162435 & ⋯ & 0.000000 & 0.00000000 & 0.153344992 & 0.000000000 & 0 & 0.00000000 & 1.00457811 & 0.01447016 & 0.0000000 & 0.00000000\\\\\n",
       "\\end{tabular}\n"
      ],
      "text/markdown": [
       "\n",
       "A matrix: 5 × 987 of type dbl\n",
       "\n",
       "| <!--/--> | V1 | V2 | V3 | V4 | V5 | V6 | V7 | V8 | V9 | V10 | ⋯ | V978 | V979 | V980 | V981 | V982 | V983 | V984 | V985 | V986 | V987 |\n",
       "|---|---|---|---|---|---|---|---|---|---|---|---|---|---|---|---|---|---|---|---|---|---|\n",
       "| ENSG00000175899 | 0.000000000 | 0.0000000 | 0.00000000 | 0.07842750 | 0 | 0.0000000 | 0.0000000 | 0.04677228 | 0.0000000 | 0.0110329 | ⋯ | 0.010910 | 0.00000000 | 0.052869436 | 0.012748534 | 0 | 0.01398231 | 0.15224090 | 0.00000000 | 0.0000000 | 0.10888358 |\n",
       "| ENSG00000094914 | 0.271162234 | 0.0000000 | 0.00000000 | 0.00000000 | 0 | 0.0000000 | 0.0000000 | 0.00000000 | 1.5133366 | 0.0000000 | ⋯ | 0.000000 | 0.00000000 | 0.000000000 | 0.001385031 | 0 | 0.00000000 | 0.71189565 | 0.03053447 | 0.4471055 | 0.42468522 |\n",
       "| ENSG00000129673 | 0.005098885 | 0.3084969 | 0.02881539 | 0.00000000 | 0 | 0.0000000 | 0.3717253 | 0.00000000 | 0.1352375 | 0.0000000 | ⋯ | 0.117163 | 0.01881498 | 0.000000000 | 0.193141835 | 0 | 0.04040077 | 0.18043565 | 0.00000000 | 0.0000000 | 0.04206449 |\n",
       "| ENSG00000090861 | 0.512978085 | 0.0000000 | 0.45128547 | 0.31956792 | 0 | 0.0000000 | 0.0000000 | 0.00000000 | 0.0000000 | 0.0000000 | ⋯ | 0.000000 | 0.00000000 | 0.006207784 | 0.021274385 | 0 | 0.00000000 | 0.06214269 | 0.00000000 | 0.0000000 | 0.36489213 |\n",
       "| ENSG00000124608 | 1.008156895 | 0.0000000 | 0.19742406 | 0.02483182 | 0 | 0.5708101 | 0.0000000 | 0.22867460 | 0.0000000 | 0.1162435 | ⋯ | 0.000000 | 0.00000000 | 0.153344992 | 0.000000000 | 0 | 0.00000000 | 1.00457811 | 0.01447016 | 0.0000000 | 0.00000000 |\n",
       "\n"
      ],
      "text/plain": [
       "                V1          V2        V3         V4         V5 V6       \n",
       "ENSG00000175899 0.000000000 0.0000000 0.00000000 0.07842750 0  0.0000000\n",
       "ENSG00000094914 0.271162234 0.0000000 0.00000000 0.00000000 0  0.0000000\n",
       "ENSG00000129673 0.005098885 0.3084969 0.02881539 0.00000000 0  0.0000000\n",
       "ENSG00000090861 0.512978085 0.0000000 0.45128547 0.31956792 0  0.0000000\n",
       "ENSG00000124608 1.008156895 0.0000000 0.19742406 0.02483182 0  0.5708101\n",
       "                V7        V8         V9        V10       ⋯ V978     V979      \n",
       "ENSG00000175899 0.0000000 0.04677228 0.0000000 0.0110329 ⋯ 0.010910 0.00000000\n",
       "ENSG00000094914 0.0000000 0.00000000 1.5133366 0.0000000 ⋯ 0.000000 0.00000000\n",
       "ENSG00000129673 0.3717253 0.00000000 0.1352375 0.0000000 ⋯ 0.117163 0.01881498\n",
       "ENSG00000090861 0.0000000 0.00000000 0.0000000 0.0000000 ⋯ 0.000000 0.00000000\n",
       "ENSG00000124608 0.0000000 0.22867460 0.0000000 0.1162435 ⋯ 0.000000 0.00000000\n",
       "                V980        V981        V982 V983       V984       V985      \n",
       "ENSG00000175899 0.052869436 0.012748534 0    0.01398231 0.15224090 0.00000000\n",
       "ENSG00000094914 0.000000000 0.001385031 0    0.00000000 0.71189565 0.03053447\n",
       "ENSG00000129673 0.000000000 0.193141835 0    0.04040077 0.18043565 0.00000000\n",
       "ENSG00000090861 0.006207784 0.021274385 0    0.00000000 0.06214269 0.00000000\n",
       "ENSG00000124608 0.153344992 0.000000000 0    0.00000000 1.00457811 0.01447016\n",
       "                V986      V987      \n",
       "ENSG00000175899 0.0000000 0.10888358\n",
       "ENSG00000094914 0.4471055 0.42468522\n",
       "ENSG00000129673 0.0000000 0.04206449\n",
       "ENSG00000090861 0.0000000 0.36489213\n",
       "ENSG00000124608 0.0000000 0.00000000"
      ]
     },
     "metadata": {},
     "output_type": "display_data"
    },
    {
     "data": {
      "text/html": [
       "<style>\n",
       ".list-inline {list-style: none; margin:0; padding: 0}\n",
       ".list-inline>li {display: inline-block}\n",
       ".list-inline>li:not(:last-child)::after {content: \"\\00b7\"; padding: 0 .5ex}\n",
       "</style>\n",
       "<ol class=list-inline><li>6455</li><li>987</li></ol>\n"
      ],
      "text/latex": [
       "\\begin{enumerate*}\n",
       "\\item 6455\n",
       "\\item 987\n",
       "\\end{enumerate*}\n"
      ],
      "text/markdown": [
       "1. 6455\n",
       "2. 987\n",
       "\n",
       "\n"
      ],
      "text/plain": [
       "[1] 6455  987"
      ]
     },
     "metadata": {},
     "output_type": "display_data"
    }
   ],
   "source": [
    "# convert matrix to dataframe with gene as rownames\n",
    "z_df <- cbind(gene = rownames(z_model), as.data.frame(z_model))\n",
    "# merge dataframe with 'name_to_ID' (file containing name and ensembleID) by gene\n",
    "EnsID_df <- merge(z_df, name_to_ID, by = \"gene\")\n",
    "#set rownames of new dataframe to ensembleID\n",
    "rownames(EnsID_df) <- EnsID_df$EnsemblID\n",
    "#remove gene and ensembleID column\n",
    "z_matrix <- as.matrix(EnsID_df[, !(colnames(EnsID_df) %in% c(\"gene\", \"EnsemblID\"))])\n",
    "\n",
    "str(z_matrix)\n",
    "head(z_matrix,5)\n",
    "dim(z_matrix)"
   ]
  },
  {
   "cell_type": "code",
   "execution_count": 30,
   "metadata": {},
   "outputs": [],
   "source": [
    "# rebuild plier model with z, b, L1, L2, L3\n",
    "plier.model <- list(Z = z_matrix, B =b_model, L1 = metadata$L1, L2 = metadata$L2, L3 = metadata$L3)"
   ]
  },
  {
   "cell_type": "code",
   "execution_count": 31,
   "metadata": {},
   "outputs": [
    {
     "data": {
      "text/html": [
       "<style>\n",
       ".list-inline {list-style: none; margin:0; padding: 0}\n",
       ".list-inline>li {display: inline-block}\n",
       ".list-inline>li:not(:last-child)::after {content: \"\\00b7\"; padding: 0 .5ex}\n",
       "</style>\n",
       "<ol class=list-inline><li>'b_model'</li><li>'CalculateHoldoutAUC'</li><li>'CalculateUSparsity'</li><li>'comp_i'</li><li>'data_t'</li><li>'df_projection'</li><li>'EnsID_df'</li><li>'EvalWrapper'</li><li>'EvalWrapperWithHoldout'</li><li>'GetNewDataB'</li><li>'GetOrderedRowNorm'</li><li>'GetOrderedRowNormEM'</li><li>'GetPathwayCoverage'</li><li>'GetReconstructedExprs'</li><li>'GetReconstructionCorrelation'</li><li>'GetReconstructionMASE'</li><li>'i'</li><li>'LV_names'</li><li>'metadata'</li><li>'name_to_ID'</li><li>'ordered_DAISY_gen_expr'</li><li>'ordered_mat'</li><li>'ordered_model'</li><li>'path_to_rna'</li><li>'patient_per_group'</li><li>'plier.model'</li><li>'PLIERNewData'</li><li>'projection'</li><li>'py_data'</li><li>'remove_dot'</li><li>'remove_pathway'</li><li>'res'</li><li>'res_formated'</li><li>'RNA_pheno'</li><li>'RNA_proj'</li><li>'RNA_proj_group'</li><li>'RNA_proj_t'</li><li>'RNAseq_data'</li><li>'tp'</li><li>'z_df'</li><li>'z_matrix'</li><li>'z_model'</li></ol>\n"
      ],
      "text/latex": [
       "\\begin{enumerate*}\n",
       "\\item 'b\\_model'\n",
       "\\item 'CalculateHoldoutAUC'\n",
       "\\item 'CalculateUSparsity'\n",
       "\\item 'comp\\_i'\n",
       "\\item 'data\\_t'\n",
       "\\item 'df\\_projection'\n",
       "\\item 'EnsID\\_df'\n",
       "\\item 'EvalWrapper'\n",
       "\\item 'EvalWrapperWithHoldout'\n",
       "\\item 'GetNewDataB'\n",
       "\\item 'GetOrderedRowNorm'\n",
       "\\item 'GetOrderedRowNormEM'\n",
       "\\item 'GetPathwayCoverage'\n",
       "\\item 'GetReconstructedExprs'\n",
       "\\item 'GetReconstructionCorrelation'\n",
       "\\item 'GetReconstructionMASE'\n",
       "\\item 'i'\n",
       "\\item 'LV\\_names'\n",
       "\\item 'metadata'\n",
       "\\item 'name\\_to\\_ID'\n",
       "\\item 'ordered\\_DAISY\\_gen\\_expr'\n",
       "\\item 'ordered\\_mat'\n",
       "\\item 'ordered\\_model'\n",
       "\\item 'path\\_to\\_rna'\n",
       "\\item 'patient\\_per\\_group'\n",
       "\\item 'plier.model'\n",
       "\\item 'PLIERNewData'\n",
       "\\item 'projection'\n",
       "\\item 'py\\_data'\n",
       "\\item 'remove\\_dot'\n",
       "\\item 'remove\\_pathway'\n",
       "\\item 'res'\n",
       "\\item 'res\\_formated'\n",
       "\\item 'RNA\\_pheno'\n",
       "\\item 'RNA\\_proj'\n",
       "\\item 'RNA\\_proj\\_group'\n",
       "\\item 'RNA\\_proj\\_t'\n",
       "\\item 'RNAseq\\_data'\n",
       "\\item 'tp'\n",
       "\\item 'z\\_df'\n",
       "\\item 'z\\_matrix'\n",
       "\\item 'z\\_model'\n",
       "\\end{enumerate*}\n"
      ],
      "text/markdown": [
       "1. 'b_model'\n",
       "2. 'CalculateHoldoutAUC'\n",
       "3. 'CalculateUSparsity'\n",
       "4. 'comp_i'\n",
       "5. 'data_t'\n",
       "6. 'df_projection'\n",
       "7. 'EnsID_df'\n",
       "8. 'EvalWrapper'\n",
       "9. 'EvalWrapperWithHoldout'\n",
       "10. 'GetNewDataB'\n",
       "11. 'GetOrderedRowNorm'\n",
       "12. 'GetOrderedRowNormEM'\n",
       "13. 'GetPathwayCoverage'\n",
       "14. 'GetReconstructedExprs'\n",
       "15. 'GetReconstructionCorrelation'\n",
       "16. 'GetReconstructionMASE'\n",
       "17. 'i'\n",
       "18. 'LV_names'\n",
       "19. 'metadata'\n",
       "20. 'name_to_ID'\n",
       "21. 'ordered_DAISY_gen_expr'\n",
       "22. 'ordered_mat'\n",
       "23. 'ordered_model'\n",
       "24. 'path_to_rna'\n",
       "25. 'patient_per_group'\n",
       "26. 'plier.model'\n",
       "27. 'PLIERNewData'\n",
       "28. 'projection'\n",
       "29. 'py_data'\n",
       "30. 'remove_dot'\n",
       "31. 'remove_pathway'\n",
       "32. 'res'\n",
       "33. 'res_formated'\n",
       "34. 'RNA_pheno'\n",
       "35. 'RNA_proj'\n",
       "36. 'RNA_proj_group'\n",
       "37. 'RNA_proj_t'\n",
       "38. 'RNAseq_data'\n",
       "39. 'tp'\n",
       "40. 'z_df'\n",
       "41. 'z_matrix'\n",
       "42. 'z_model'\n",
       "\n",
       "\n"
      ],
      "text/plain": [
       " [1] \"b_model\"                      \"CalculateHoldoutAUC\"         \n",
       " [3] \"CalculateUSparsity\"           \"comp_i\"                      \n",
       " [5] \"data_t\"                       \"df_projection\"               \n",
       " [7] \"EnsID_df\"                     \"EvalWrapper\"                 \n",
       " [9] \"EvalWrapperWithHoldout\"       \"GetNewDataB\"                 \n",
       "[11] \"GetOrderedRowNorm\"            \"GetOrderedRowNormEM\"         \n",
       "[13] \"GetPathwayCoverage\"           \"GetReconstructedExprs\"       \n",
       "[15] \"GetReconstructionCorrelation\" \"GetReconstructionMASE\"       \n",
       "[17] \"i\"                            \"LV_names\"                    \n",
       "[19] \"metadata\"                     \"name_to_ID\"                  \n",
       "[21] \"ordered_DAISY_gen_expr\"       \"ordered_mat\"                 \n",
       "[23] \"ordered_model\"                \"path_to_rna\"                 \n",
       "[25] \"patient_per_group\"            \"plier.model\"                 \n",
       "[27] \"PLIERNewData\"                 \"projection\"                  \n",
       "[29] \"py_data\"                      \"remove_dot\"                  \n",
       "[31] \"remove_pathway\"               \"res\"                         \n",
       "[33] \"res_formated\"                 \"RNA_pheno\"                   \n",
       "[35] \"RNA_proj\"                     \"RNA_proj_group\"              \n",
       "[37] \"RNA_proj_t\"                   \"RNAseq_data\"                 \n",
       "[39] \"tp\"                           \"z_df\"                        \n",
       "[41] \"z_matrix\"                     \"z_model\"                     "
      ]
     },
     "metadata": {},
     "output_type": "display_data"
    }
   ],
   "source": [
    "# Check all variables are loaded\n",
    "ls()"
   ]
  },
  {
   "cell_type": "code",
   "execution_count": 32,
   "metadata": {},
   "outputs": [],
   "source": [
    "#order gene expression matrix to match plier model\n",
    "ordered_mat <- GetOrderedRowNormEM(RNAseq_data, plier.model)\n",
    "\n",
    "#extract gene_expressiom matrix\n",
    "ordered_DAISY_gen_expr <- ordered_mat$exprs.norm.filtered\n",
    "\n",
    "# extract plier model matrix\n",
    "ordered_model <- ordered_mat$plier.model"
   ]
  },
  {
   "cell_type": "code",
   "execution_count": 33,
   "metadata": {},
   "outputs": [],
   "source": [
    "#project gen expression matrix into plier model\n",
    "projection <- GetNewDataB(ordered_DAISY_gen_expr,ordered_model)"
   ]
  },
  {
   "cell_type": "code",
   "execution_count": 34,
   "metadata": {},
   "outputs": [],
   "source": [
    "#save projection\n",
    "df_projection  <- as.data.frame(projection)\n",
    "saveRDS(df_projection,paste0(\"output/projection_\",tp,\".rds\"))"
   ]
  },
  {
   "cell_type": "code",
   "execution_count": 35,
   "metadata": {},
   "outputs": [
    {
     "data": {
      "text/html": [
       "<style>\n",
       ".list-inline {list-style: none; margin:0; padding: 0}\n",
       ".list-inline>li {display: inline-block}\n",
       ".list-inline>li:not(:last-child)::after {content: \"\\00b7\"; padding: 0 .5ex}\n",
       "</style>\n",
       "<ol class=list-inline><li>987</li><li>136</li></ol>\n"
      ],
      "text/latex": [
       "\\begin{enumerate*}\n",
       "\\item 987\n",
       "\\item 136\n",
       "\\end{enumerate*}\n"
      ],
      "text/markdown": [
       "1. 987\n",
       "2. 136\n",
       "\n",
       "\n"
      ],
      "text/plain": [
       "[1] 987 136"
      ]
     },
     "metadata": {},
     "output_type": "display_data"
    }
   ],
   "source": [
    "dim(df_projection)"
   ]
  },
  {
   "cell_type": "code",
   "execution_count": 36,
   "metadata": {},
   "outputs": [
    {
     "data": {
      "text/html": [
       "<table class=\"dataframe\">\n",
       "<caption>A data.frame: 10 × 136</caption>\n",
       "<thead>\n",
       "\t<tr><th></th><th scope=col>00041-0</th><th scope=col>00110-0</th><th scope=col>00139-0</th><th scope=col>00159-0</th><th scope=col>00174-0</th><th scope=col>00177-0</th><th scope=col>00181-0</th><th scope=col>00234-0</th><th scope=col>00250-0</th><th scope=col>00266-0</th><th scope=col>⋯</th><th scope=col>39376-0</th><th scope=col>39390-0</th><th scope=col>50136-0</th><th scope=col>62291-0</th><th scope=col>81801-0</th><th scope=col>84002-0</th><th scope=col>84689-0</th><th scope=col>84731-0</th><th scope=col>84860-0</th><th scope=col>85365-0</th></tr>\n",
       "\t<tr><th></th><th scope=col>&lt;dbl&gt;</th><th scope=col>&lt;dbl&gt;</th><th scope=col>&lt;dbl&gt;</th><th scope=col>&lt;dbl&gt;</th><th scope=col>&lt;dbl&gt;</th><th scope=col>&lt;dbl&gt;</th><th scope=col>&lt;dbl&gt;</th><th scope=col>&lt;dbl&gt;</th><th scope=col>&lt;dbl&gt;</th><th scope=col>&lt;dbl&gt;</th><th scope=col>⋯</th><th scope=col>&lt;dbl&gt;</th><th scope=col>&lt;dbl&gt;</th><th scope=col>&lt;dbl&gt;</th><th scope=col>&lt;dbl&gt;</th><th scope=col>&lt;dbl&gt;</th><th scope=col>&lt;dbl&gt;</th><th scope=col>&lt;dbl&gt;</th><th scope=col>&lt;dbl&gt;</th><th scope=col>&lt;dbl&gt;</th><th scope=col>&lt;dbl&gt;</th></tr>\n",
       "</thead>\n",
       "<tbody>\n",
       "\t<tr><th scope=row>1,REACTOME_MRNA_SPLICING</th><td>-0.065654002</td><td>-0.011991253</td><td>-0.007941819</td><td>-0.0004729541</td><td> 0.086384408</td><td> 0.102794024</td><td>-0.086708544</td><td>-0.008380002</td><td>-0.02527753</td><td> 0.0077265706</td><td>⋯</td><td>-0.0048957637</td><td>-0.021413500</td><td> 0.019072135</td><td>-0.035586294</td><td>-0.050849695</td><td> 0.059383645</td><td> 0.0404165535</td><td> 0.026432658</td><td>-0.082480839</td><td> 0.021614799</td></tr>\n",
       "\t<tr><th scope=row>2,SVM Monocytes</th><td> 0.126126594</td><td> 0.058097739</td><td> 0.011168935</td><td>-0.1308531502</td><td>-0.014337653</td><td>-0.204829274</td><td> 0.044596842</td><td> 0.046811858</td><td> 0.05674640</td><td> 0.2406728139</td><td>⋯</td><td>-0.0144352155</td><td>-0.180009277</td><td>-0.064981194</td><td>-0.117902627</td><td> 0.061725090</td><td> 0.004906946</td><td>-0.0212953989</td><td> 0.002720316</td><td> 0.145421375</td><td> 0.072369974</td></tr>\n",
       "\t<tr><th scope=row>3,REACTOME_TRANSMISSION_ACROSS_CHEMICAL_SYNAPSES</th><td> 0.019228724</td><td>-0.019702831</td><td>-0.012215432</td><td> 0.0374060365</td><td>-0.006672154</td><td>-0.019227900</td><td> 0.022800206</td><td>-0.067181949</td><td> 0.01074369</td><td> 0.0020014708</td><td>⋯</td><td> 0.0254999115</td><td>-0.029614147</td><td> 0.006423163</td><td> 0.002997441</td><td> 0.004411272</td><td>-0.012225357</td><td> 0.0704166671</td><td> 0.054572137</td><td>-0.002762467</td><td>-0.017913798</td></tr>\n",
       "\t<tr><th scope=row>4,REACTOME_NEURONAL_SYSTEM</th><td>-0.011399020</td><td> 0.039376590</td><td>-0.053492638</td><td>-0.0450244884</td><td> 0.008482421</td><td> 0.009478947</td><td> 0.028363725</td><td> 0.032129075</td><td>-0.01016232</td><td>-0.0007266422</td><td>⋯</td><td> 0.0397401446</td><td> 0.051093978</td><td> 0.006980890</td><td> 0.060360282</td><td>-0.032277400</td><td> 0.006921357</td><td>-0.1833113360</td><td>-0.129591839</td><td> 0.057097744</td><td> 0.062284114</td></tr>\n",
       "\t<tr><th scope=row>LV 5</th><td>-0.001128021</td><td> 0.005785657</td><td> 0.054724185</td><td>-0.0051077911</td><td> 0.032131432</td><td> 0.054426288</td><td> 0.014873787</td><td>-0.024274848</td><td> 0.01308706</td><td>-0.0319751005</td><td>⋯</td><td>-0.0009992844</td><td>-0.001544452</td><td>-0.008667028</td><td> 0.026155623</td><td> 0.010000537</td><td>-0.030346409</td><td>-0.0534199156</td><td>-0.013347874</td><td>-0.029368196</td><td>-0.025200609</td></tr>\n",
       "\t<tr><th scope=row>LV 6</th><td> 0.026634379</td><td> 0.021931900</td><td>-0.024917800</td><td> 0.0056375585</td><td> 0.019438941</td><td> 0.021972458</td><td>-0.007656666</td><td>-0.018120707</td><td>-0.04881705</td><td>-0.0475428257</td><td>⋯</td><td> 0.0075362817</td><td> 0.011127855</td><td>-0.013542777</td><td> 0.026155077</td><td>-0.022934801</td><td> 0.032449164</td><td>-0.0442926103</td><td>-0.005756487</td><td> 0.004111217</td><td> 0.036410240</td></tr>\n",
       "\t<tr><th scope=row>7,IRIS_Neutrophil-Resting</th><td> 0.055149666</td><td>-0.139316035</td><td>-0.028067632</td><td>-0.0507662816</td><td> 0.002389750</td><td>-0.082315034</td><td> 0.059581291</td><td> 0.031927425</td><td> 0.12942321</td><td>-0.0619625581</td><td>⋯</td><td> 0.0589991158</td><td>-0.101291433</td><td>-0.051797144</td><td>-0.138021896</td><td> 0.051861900</td><td> 0.159618902</td><td> 0.0508211900</td><td> 0.149324954</td><td> 0.089900154</td><td>-0.184373496</td></tr>\n",
       "\t<tr><th scope=row>8,KEGG_PPAR_SIGNALING_PATHWAY</th><td> 0.010203424</td><td>-0.015773584</td><td>-0.014142454</td><td>-0.0225466497</td><td> 0.009314969</td><td> 0.048261852</td><td>-0.024134138</td><td>-0.022470833</td><td>-0.02220176</td><td> 0.0032112437</td><td>⋯</td><td> 0.0138169595</td><td>-0.009242867</td><td>-0.037450039</td><td> 0.011091459</td><td> 0.079059915</td><td> 0.046487179</td><td>-0.0004278238</td><td> 0.011696228</td><td>-0.005042048</td><td>-0.010868487</td></tr>\n",
       "\t<tr><th scope=row>LV 9</th><td>-0.006378183</td><td>-0.099178794</td><td>-0.017852051</td><td> 0.0363158445</td><td>-0.015259546</td><td>-0.044389280</td><td>-0.039563712</td><td>-0.045725956</td><td> 0.06184638</td><td> 0.0318330282</td><td>⋯</td><td> 0.0030970816</td><td>-0.059448917</td><td>-0.017083178</td><td>-0.008269152</td><td> 0.041755391</td><td>-0.058570855</td><td> 0.1505511503</td><td> 0.129004562</td><td>-0.003036230</td><td>-0.058032085</td></tr>\n",
       "\t<tr><th scope=row>10,SVM Macrophages M0</th><td> 0.027193634</td><td>-0.020875634</td><td>-0.026478527</td><td>-0.0124680674</td><td> 0.001615486</td><td>-0.003003989</td><td> 0.036596063</td><td> 0.018915737</td><td> 0.09932259</td><td> 0.0167517462</td><td>⋯</td><td>-0.0082538250</td><td>-0.052466832</td><td> 0.041025218</td><td>-0.053608384</td><td> 0.024811387</td><td> 0.056051280</td><td> 0.0041675616</td><td>-0.007591631</td><td> 0.005910728</td><td> 0.007001009</td></tr>\n",
       "</tbody>\n",
       "</table>\n"
      ],
      "text/latex": [
       "A data.frame: 10 × 136\n",
       "\\begin{tabular}{r|lllllllllllllllllllll}\n",
       "  & 00041-0 & 00110-0 & 00139-0 & 00159-0 & 00174-0 & 00177-0 & 00181-0 & 00234-0 & 00250-0 & 00266-0 & ⋯ & 39376-0 & 39390-0 & 50136-0 & 62291-0 & 81801-0 & 84002-0 & 84689-0 & 84731-0 & 84860-0 & 85365-0\\\\\n",
       "  & <dbl> & <dbl> & <dbl> & <dbl> & <dbl> & <dbl> & <dbl> & <dbl> & <dbl> & <dbl> & ⋯ & <dbl> & <dbl> & <dbl> & <dbl> & <dbl> & <dbl> & <dbl> & <dbl> & <dbl> & <dbl>\\\\\n",
       "\\hline\n",
       "\t1,REACTOME\\_MRNA\\_SPLICING & -0.065654002 & -0.011991253 & -0.007941819 & -0.0004729541 &  0.086384408 &  0.102794024 & -0.086708544 & -0.008380002 & -0.02527753 &  0.0077265706 & ⋯ & -0.0048957637 & -0.021413500 &  0.019072135 & -0.035586294 & -0.050849695 &  0.059383645 &  0.0404165535 &  0.026432658 & -0.082480839 &  0.021614799\\\\\n",
       "\t2,SVM Monocytes &  0.126126594 &  0.058097739 &  0.011168935 & -0.1308531502 & -0.014337653 & -0.204829274 &  0.044596842 &  0.046811858 &  0.05674640 &  0.2406728139 & ⋯ & -0.0144352155 & -0.180009277 & -0.064981194 & -0.117902627 &  0.061725090 &  0.004906946 & -0.0212953989 &  0.002720316 &  0.145421375 &  0.072369974\\\\\n",
       "\t3,REACTOME\\_TRANSMISSION\\_ACROSS\\_CHEMICAL\\_SYNAPSES &  0.019228724 & -0.019702831 & -0.012215432 &  0.0374060365 & -0.006672154 & -0.019227900 &  0.022800206 & -0.067181949 &  0.01074369 &  0.0020014708 & ⋯ &  0.0254999115 & -0.029614147 &  0.006423163 &  0.002997441 &  0.004411272 & -0.012225357 &  0.0704166671 &  0.054572137 & -0.002762467 & -0.017913798\\\\\n",
       "\t4,REACTOME\\_NEURONAL\\_SYSTEM & -0.011399020 &  0.039376590 & -0.053492638 & -0.0450244884 &  0.008482421 &  0.009478947 &  0.028363725 &  0.032129075 & -0.01016232 & -0.0007266422 & ⋯ &  0.0397401446 &  0.051093978 &  0.006980890 &  0.060360282 & -0.032277400 &  0.006921357 & -0.1833113360 & -0.129591839 &  0.057097744 &  0.062284114\\\\\n",
       "\tLV 5 & -0.001128021 &  0.005785657 &  0.054724185 & -0.0051077911 &  0.032131432 &  0.054426288 &  0.014873787 & -0.024274848 &  0.01308706 & -0.0319751005 & ⋯ & -0.0009992844 & -0.001544452 & -0.008667028 &  0.026155623 &  0.010000537 & -0.030346409 & -0.0534199156 & -0.013347874 & -0.029368196 & -0.025200609\\\\\n",
       "\tLV 6 &  0.026634379 &  0.021931900 & -0.024917800 &  0.0056375585 &  0.019438941 &  0.021972458 & -0.007656666 & -0.018120707 & -0.04881705 & -0.0475428257 & ⋯ &  0.0075362817 &  0.011127855 & -0.013542777 &  0.026155077 & -0.022934801 &  0.032449164 & -0.0442926103 & -0.005756487 &  0.004111217 &  0.036410240\\\\\n",
       "\t7,IRIS\\_Neutrophil-Resting &  0.055149666 & -0.139316035 & -0.028067632 & -0.0507662816 &  0.002389750 & -0.082315034 &  0.059581291 &  0.031927425 &  0.12942321 & -0.0619625581 & ⋯ &  0.0589991158 & -0.101291433 & -0.051797144 & -0.138021896 &  0.051861900 &  0.159618902 &  0.0508211900 &  0.149324954 &  0.089900154 & -0.184373496\\\\\n",
       "\t8,KEGG\\_PPAR\\_SIGNALING\\_PATHWAY &  0.010203424 & -0.015773584 & -0.014142454 & -0.0225466497 &  0.009314969 &  0.048261852 & -0.024134138 & -0.022470833 & -0.02220176 &  0.0032112437 & ⋯ &  0.0138169595 & -0.009242867 & -0.037450039 &  0.011091459 &  0.079059915 &  0.046487179 & -0.0004278238 &  0.011696228 & -0.005042048 & -0.010868487\\\\\n",
       "\tLV 9 & -0.006378183 & -0.099178794 & -0.017852051 &  0.0363158445 & -0.015259546 & -0.044389280 & -0.039563712 & -0.045725956 &  0.06184638 &  0.0318330282 & ⋯ &  0.0030970816 & -0.059448917 & -0.017083178 & -0.008269152 &  0.041755391 & -0.058570855 &  0.1505511503 &  0.129004562 & -0.003036230 & -0.058032085\\\\\n",
       "\t10,SVM Macrophages M0 &  0.027193634 & -0.020875634 & -0.026478527 & -0.0124680674 &  0.001615486 & -0.003003989 &  0.036596063 &  0.018915737 &  0.09932259 &  0.0167517462 & ⋯ & -0.0082538250 & -0.052466832 &  0.041025218 & -0.053608384 &  0.024811387 &  0.056051280 &  0.0041675616 & -0.007591631 &  0.005910728 &  0.007001009\\\\\n",
       "\\end{tabular}\n"
      ],
      "text/markdown": [
       "\n",
       "A data.frame: 10 × 136\n",
       "\n",
       "| <!--/--> | 00041-0 &lt;dbl&gt; | 00110-0 &lt;dbl&gt; | 00139-0 &lt;dbl&gt; | 00159-0 &lt;dbl&gt; | 00174-0 &lt;dbl&gt; | 00177-0 &lt;dbl&gt; | 00181-0 &lt;dbl&gt; | 00234-0 &lt;dbl&gt; | 00250-0 &lt;dbl&gt; | 00266-0 &lt;dbl&gt; | ⋯ ⋯ | 39376-0 &lt;dbl&gt; | 39390-0 &lt;dbl&gt; | 50136-0 &lt;dbl&gt; | 62291-0 &lt;dbl&gt; | 81801-0 &lt;dbl&gt; | 84002-0 &lt;dbl&gt; | 84689-0 &lt;dbl&gt; | 84731-0 &lt;dbl&gt; | 84860-0 &lt;dbl&gt; | 85365-0 &lt;dbl&gt; |\n",
       "|---|---|---|---|---|---|---|---|---|---|---|---|---|---|---|---|---|---|---|---|---|---|\n",
       "| 1,REACTOME_MRNA_SPLICING | -0.065654002 | -0.011991253 | -0.007941819 | -0.0004729541 |  0.086384408 |  0.102794024 | -0.086708544 | -0.008380002 | -0.02527753 |  0.0077265706 | ⋯ | -0.0048957637 | -0.021413500 |  0.019072135 | -0.035586294 | -0.050849695 |  0.059383645 |  0.0404165535 |  0.026432658 | -0.082480839 |  0.021614799 |\n",
       "| 2,SVM Monocytes |  0.126126594 |  0.058097739 |  0.011168935 | -0.1308531502 | -0.014337653 | -0.204829274 |  0.044596842 |  0.046811858 |  0.05674640 |  0.2406728139 | ⋯ | -0.0144352155 | -0.180009277 | -0.064981194 | -0.117902627 |  0.061725090 |  0.004906946 | -0.0212953989 |  0.002720316 |  0.145421375 |  0.072369974 |\n",
       "| 3,REACTOME_TRANSMISSION_ACROSS_CHEMICAL_SYNAPSES |  0.019228724 | -0.019702831 | -0.012215432 |  0.0374060365 | -0.006672154 | -0.019227900 |  0.022800206 | -0.067181949 |  0.01074369 |  0.0020014708 | ⋯ |  0.0254999115 | -0.029614147 |  0.006423163 |  0.002997441 |  0.004411272 | -0.012225357 |  0.0704166671 |  0.054572137 | -0.002762467 | -0.017913798 |\n",
       "| 4,REACTOME_NEURONAL_SYSTEM | -0.011399020 |  0.039376590 | -0.053492638 | -0.0450244884 |  0.008482421 |  0.009478947 |  0.028363725 |  0.032129075 | -0.01016232 | -0.0007266422 | ⋯ |  0.0397401446 |  0.051093978 |  0.006980890 |  0.060360282 | -0.032277400 |  0.006921357 | -0.1833113360 | -0.129591839 |  0.057097744 |  0.062284114 |\n",
       "| LV 5 | -0.001128021 |  0.005785657 |  0.054724185 | -0.0051077911 |  0.032131432 |  0.054426288 |  0.014873787 | -0.024274848 |  0.01308706 | -0.0319751005 | ⋯ | -0.0009992844 | -0.001544452 | -0.008667028 |  0.026155623 |  0.010000537 | -0.030346409 | -0.0534199156 | -0.013347874 | -0.029368196 | -0.025200609 |\n",
       "| LV 6 |  0.026634379 |  0.021931900 | -0.024917800 |  0.0056375585 |  0.019438941 |  0.021972458 | -0.007656666 | -0.018120707 | -0.04881705 | -0.0475428257 | ⋯ |  0.0075362817 |  0.011127855 | -0.013542777 |  0.026155077 | -0.022934801 |  0.032449164 | -0.0442926103 | -0.005756487 |  0.004111217 |  0.036410240 |\n",
       "| 7,IRIS_Neutrophil-Resting |  0.055149666 | -0.139316035 | -0.028067632 | -0.0507662816 |  0.002389750 | -0.082315034 |  0.059581291 |  0.031927425 |  0.12942321 | -0.0619625581 | ⋯ |  0.0589991158 | -0.101291433 | -0.051797144 | -0.138021896 |  0.051861900 |  0.159618902 |  0.0508211900 |  0.149324954 |  0.089900154 | -0.184373496 |\n",
       "| 8,KEGG_PPAR_SIGNALING_PATHWAY |  0.010203424 | -0.015773584 | -0.014142454 | -0.0225466497 |  0.009314969 |  0.048261852 | -0.024134138 | -0.022470833 | -0.02220176 |  0.0032112437 | ⋯ |  0.0138169595 | -0.009242867 | -0.037450039 |  0.011091459 |  0.079059915 |  0.046487179 | -0.0004278238 |  0.011696228 | -0.005042048 | -0.010868487 |\n",
       "| LV 9 | -0.006378183 | -0.099178794 | -0.017852051 |  0.0363158445 | -0.015259546 | -0.044389280 | -0.039563712 | -0.045725956 |  0.06184638 |  0.0318330282 | ⋯ |  0.0030970816 | -0.059448917 | -0.017083178 | -0.008269152 |  0.041755391 | -0.058570855 |  0.1505511503 |  0.129004562 | -0.003036230 | -0.058032085 |\n",
       "| 10,SVM Macrophages M0 |  0.027193634 | -0.020875634 | -0.026478527 | -0.0124680674 |  0.001615486 | -0.003003989 |  0.036596063 |  0.018915737 |  0.09932259 |  0.0167517462 | ⋯ | -0.0082538250 | -0.052466832 |  0.041025218 | -0.053608384 |  0.024811387 |  0.056051280 |  0.0041675616 | -0.007591631 |  0.005910728 |  0.007001009 |\n",
       "\n"
      ],
      "text/plain": [
       "                                                 00041-0      00110-0     \n",
       "1,REACTOME_MRNA_SPLICING                         -0.065654002 -0.011991253\n",
       "2,SVM Monocytes                                   0.126126594  0.058097739\n",
       "3,REACTOME_TRANSMISSION_ACROSS_CHEMICAL_SYNAPSES  0.019228724 -0.019702831\n",
       "4,REACTOME_NEURONAL_SYSTEM                       -0.011399020  0.039376590\n",
       "LV 5                                             -0.001128021  0.005785657\n",
       "LV 6                                              0.026634379  0.021931900\n",
       "7,IRIS_Neutrophil-Resting                         0.055149666 -0.139316035\n",
       "8,KEGG_PPAR_SIGNALING_PATHWAY                     0.010203424 -0.015773584\n",
       "LV 9                                             -0.006378183 -0.099178794\n",
       "10,SVM Macrophages M0                             0.027193634 -0.020875634\n",
       "                                                 00139-0      00159-0      \n",
       "1,REACTOME_MRNA_SPLICING                         -0.007941819 -0.0004729541\n",
       "2,SVM Monocytes                                   0.011168935 -0.1308531502\n",
       "3,REACTOME_TRANSMISSION_ACROSS_CHEMICAL_SYNAPSES -0.012215432  0.0374060365\n",
       "4,REACTOME_NEURONAL_SYSTEM                       -0.053492638 -0.0450244884\n",
       "LV 5                                              0.054724185 -0.0051077911\n",
       "LV 6                                             -0.024917800  0.0056375585\n",
       "7,IRIS_Neutrophil-Resting                        -0.028067632 -0.0507662816\n",
       "8,KEGG_PPAR_SIGNALING_PATHWAY                    -0.014142454 -0.0225466497\n",
       "LV 9                                             -0.017852051  0.0363158445\n",
       "10,SVM Macrophages M0                            -0.026478527 -0.0124680674\n",
       "                                                 00174-0      00177-0     \n",
       "1,REACTOME_MRNA_SPLICING                          0.086384408  0.102794024\n",
       "2,SVM Monocytes                                  -0.014337653 -0.204829274\n",
       "3,REACTOME_TRANSMISSION_ACROSS_CHEMICAL_SYNAPSES -0.006672154 -0.019227900\n",
       "4,REACTOME_NEURONAL_SYSTEM                        0.008482421  0.009478947\n",
       "LV 5                                              0.032131432  0.054426288\n",
       "LV 6                                              0.019438941  0.021972458\n",
       "7,IRIS_Neutrophil-Resting                         0.002389750 -0.082315034\n",
       "8,KEGG_PPAR_SIGNALING_PATHWAY                     0.009314969  0.048261852\n",
       "LV 9                                             -0.015259546 -0.044389280\n",
       "10,SVM Macrophages M0                             0.001615486 -0.003003989\n",
       "                                                 00181-0      00234-0     \n",
       "1,REACTOME_MRNA_SPLICING                         -0.086708544 -0.008380002\n",
       "2,SVM Monocytes                                   0.044596842  0.046811858\n",
       "3,REACTOME_TRANSMISSION_ACROSS_CHEMICAL_SYNAPSES  0.022800206 -0.067181949\n",
       "4,REACTOME_NEURONAL_SYSTEM                        0.028363725  0.032129075\n",
       "LV 5                                              0.014873787 -0.024274848\n",
       "LV 6                                             -0.007656666 -0.018120707\n",
       "7,IRIS_Neutrophil-Resting                         0.059581291  0.031927425\n",
       "8,KEGG_PPAR_SIGNALING_PATHWAY                    -0.024134138 -0.022470833\n",
       "LV 9                                             -0.039563712 -0.045725956\n",
       "10,SVM Macrophages M0                             0.036596063  0.018915737\n",
       "                                                 00250-0     00266-0       ⋯\n",
       "1,REACTOME_MRNA_SPLICING                         -0.02527753  0.0077265706 ⋯\n",
       "2,SVM Monocytes                                   0.05674640  0.2406728139 ⋯\n",
       "3,REACTOME_TRANSMISSION_ACROSS_CHEMICAL_SYNAPSES  0.01074369  0.0020014708 ⋯\n",
       "4,REACTOME_NEURONAL_SYSTEM                       -0.01016232 -0.0007266422 ⋯\n",
       "LV 5                                              0.01308706 -0.0319751005 ⋯\n",
       "LV 6                                             -0.04881705 -0.0475428257 ⋯\n",
       "7,IRIS_Neutrophil-Resting                         0.12942321 -0.0619625581 ⋯\n",
       "8,KEGG_PPAR_SIGNALING_PATHWAY                    -0.02220176  0.0032112437 ⋯\n",
       "LV 9                                              0.06184638  0.0318330282 ⋯\n",
       "10,SVM Macrophages M0                             0.09932259  0.0167517462 ⋯\n",
       "                                                 39376-0       39390-0     \n",
       "1,REACTOME_MRNA_SPLICING                         -0.0048957637 -0.021413500\n",
       "2,SVM Monocytes                                  -0.0144352155 -0.180009277\n",
       "3,REACTOME_TRANSMISSION_ACROSS_CHEMICAL_SYNAPSES  0.0254999115 -0.029614147\n",
       "4,REACTOME_NEURONAL_SYSTEM                        0.0397401446  0.051093978\n",
       "LV 5                                             -0.0009992844 -0.001544452\n",
       "LV 6                                              0.0075362817  0.011127855\n",
       "7,IRIS_Neutrophil-Resting                         0.0589991158 -0.101291433\n",
       "8,KEGG_PPAR_SIGNALING_PATHWAY                     0.0138169595 -0.009242867\n",
       "LV 9                                              0.0030970816 -0.059448917\n",
       "10,SVM Macrophages M0                            -0.0082538250 -0.052466832\n",
       "                                                 50136-0      62291-0     \n",
       "1,REACTOME_MRNA_SPLICING                          0.019072135 -0.035586294\n",
       "2,SVM Monocytes                                  -0.064981194 -0.117902627\n",
       "3,REACTOME_TRANSMISSION_ACROSS_CHEMICAL_SYNAPSES  0.006423163  0.002997441\n",
       "4,REACTOME_NEURONAL_SYSTEM                        0.006980890  0.060360282\n",
       "LV 5                                             -0.008667028  0.026155623\n",
       "LV 6                                             -0.013542777  0.026155077\n",
       "7,IRIS_Neutrophil-Resting                        -0.051797144 -0.138021896\n",
       "8,KEGG_PPAR_SIGNALING_PATHWAY                    -0.037450039  0.011091459\n",
       "LV 9                                             -0.017083178 -0.008269152\n",
       "10,SVM Macrophages M0                             0.041025218 -0.053608384\n",
       "                                                 81801-0      84002-0     \n",
       "1,REACTOME_MRNA_SPLICING                         -0.050849695  0.059383645\n",
       "2,SVM Monocytes                                   0.061725090  0.004906946\n",
       "3,REACTOME_TRANSMISSION_ACROSS_CHEMICAL_SYNAPSES  0.004411272 -0.012225357\n",
       "4,REACTOME_NEURONAL_SYSTEM                       -0.032277400  0.006921357\n",
       "LV 5                                              0.010000537 -0.030346409\n",
       "LV 6                                             -0.022934801  0.032449164\n",
       "7,IRIS_Neutrophil-Resting                         0.051861900  0.159618902\n",
       "8,KEGG_PPAR_SIGNALING_PATHWAY                     0.079059915  0.046487179\n",
       "LV 9                                              0.041755391 -0.058570855\n",
       "10,SVM Macrophages M0                             0.024811387  0.056051280\n",
       "                                                 84689-0       84731-0     \n",
       "1,REACTOME_MRNA_SPLICING                          0.0404165535  0.026432658\n",
       "2,SVM Monocytes                                  -0.0212953989  0.002720316\n",
       "3,REACTOME_TRANSMISSION_ACROSS_CHEMICAL_SYNAPSES  0.0704166671  0.054572137\n",
       "4,REACTOME_NEURONAL_SYSTEM                       -0.1833113360 -0.129591839\n",
       "LV 5                                             -0.0534199156 -0.013347874\n",
       "LV 6                                             -0.0442926103 -0.005756487\n",
       "7,IRIS_Neutrophil-Resting                         0.0508211900  0.149324954\n",
       "8,KEGG_PPAR_SIGNALING_PATHWAY                    -0.0004278238  0.011696228\n",
       "LV 9                                              0.1505511503  0.129004562\n",
       "10,SVM Macrophages M0                             0.0041675616 -0.007591631\n",
       "                                                 84860-0      85365-0     \n",
       "1,REACTOME_MRNA_SPLICING                         -0.082480839  0.021614799\n",
       "2,SVM Monocytes                                   0.145421375  0.072369974\n",
       "3,REACTOME_TRANSMISSION_ACROSS_CHEMICAL_SYNAPSES -0.002762467 -0.017913798\n",
       "4,REACTOME_NEURONAL_SYSTEM                        0.057097744  0.062284114\n",
       "LV 5                                             -0.029368196 -0.025200609\n",
       "LV 6                                              0.004111217  0.036410240\n",
       "7,IRIS_Neutrophil-Resting                         0.089900154 -0.184373496\n",
       "8,KEGG_PPAR_SIGNALING_PATHWAY                    -0.005042048 -0.010868487\n",
       "LV 9                                             -0.003036230 -0.058032085\n",
       "10,SVM Macrophages M0                             0.005910728  0.007001009"
      ]
     },
     "metadata": {},
     "output_type": "display_data"
    }
   ],
   "source": [
    "head(df_projection, 10)"
   ]
  },
  {
   "cell_type": "code",
   "execution_count": 37,
   "metadata": {},
   "outputs": [
    {
     "data": {
      "text/html": [
       "<style>\n",
       ".list-inline {list-style: none; margin:0; padding: 0}\n",
       ".list-inline>li {display: inline-block}\n",
       ".list-inline>li:not(:last-child)::after {content: \"\\00b7\"; padding: 0 .5ex}\n",
       "</style>\n",
       "<ol class=list-inline><li>987</li><li>136</li></ol>\n"
      ],
      "text/latex": [
       "\\begin{enumerate*}\n",
       "\\item 987\n",
       "\\item 136\n",
       "\\end{enumerate*}\n"
      ],
      "text/markdown": [
       "1. 987\n",
       "2. 136\n",
       "\n",
       "\n"
      ],
      "text/plain": [
       "[1] 987 136"
      ]
     },
     "metadata": {},
     "output_type": "display_data"
    },
    {
     "data": {
      "text/html": [
       "<table class=\"dataframe\">\n",
       "<caption>A data.frame: 1 × 136</caption>\n",
       "<thead>\n",
       "\t<tr><th></th><th scope=col>00041-0</th><th scope=col>00110-0</th><th scope=col>00139-0</th><th scope=col>00159-0</th><th scope=col>00174-0</th><th scope=col>00177-0</th><th scope=col>00181-0</th><th scope=col>00234-0</th><th scope=col>00250-0</th><th scope=col>00266-0</th><th scope=col>⋯</th><th scope=col>39376-0</th><th scope=col>39390-0</th><th scope=col>50136-0</th><th scope=col>62291-0</th><th scope=col>81801-0</th><th scope=col>84002-0</th><th scope=col>84689-0</th><th scope=col>84731-0</th><th scope=col>84860-0</th><th scope=col>85365-0</th></tr>\n",
       "\t<tr><th></th><th scope=col>&lt;dbl&gt;</th><th scope=col>&lt;dbl&gt;</th><th scope=col>&lt;dbl&gt;</th><th scope=col>&lt;dbl&gt;</th><th scope=col>&lt;dbl&gt;</th><th scope=col>&lt;dbl&gt;</th><th scope=col>&lt;dbl&gt;</th><th scope=col>&lt;dbl&gt;</th><th scope=col>&lt;dbl&gt;</th><th scope=col>&lt;dbl&gt;</th><th scope=col>⋯</th><th scope=col>&lt;dbl&gt;</th><th scope=col>&lt;dbl&gt;</th><th scope=col>&lt;dbl&gt;</th><th scope=col>&lt;dbl&gt;</th><th scope=col>&lt;dbl&gt;</th><th scope=col>&lt;dbl&gt;</th><th scope=col>&lt;dbl&gt;</th><th scope=col>&lt;dbl&gt;</th><th scope=col>&lt;dbl&gt;</th><th scope=col>&lt;dbl&gt;</th></tr>\n",
       "</thead>\n",
       "<tbody>\n",
       "\t<tr><th scope=row>1,REACTOME_MRNA_SPLICING</th><td>-0.065654</td><td>-0.01199125</td><td>-0.007941819</td><td>-0.0004729541</td><td>0.08638441</td><td>0.102794</td><td>-0.08670854</td><td>-0.008380002</td><td>-0.02527753</td><td>0.007726571</td><td>⋯</td><td>-0.004895764</td><td>-0.0214135</td><td>0.01907214</td><td>-0.03558629</td><td>-0.0508497</td><td>0.05938364</td><td>0.04041655</td><td>0.02643266</td><td>-0.08248084</td><td>0.0216148</td></tr>\n",
       "</tbody>\n",
       "</table>\n"
      ],
      "text/latex": [
       "A data.frame: 1 × 136\n",
       "\\begin{tabular}{r|lllllllllllllllllllll}\n",
       "  & 00041-0 & 00110-0 & 00139-0 & 00159-0 & 00174-0 & 00177-0 & 00181-0 & 00234-0 & 00250-0 & 00266-0 & ⋯ & 39376-0 & 39390-0 & 50136-0 & 62291-0 & 81801-0 & 84002-0 & 84689-0 & 84731-0 & 84860-0 & 85365-0\\\\\n",
       "  & <dbl> & <dbl> & <dbl> & <dbl> & <dbl> & <dbl> & <dbl> & <dbl> & <dbl> & <dbl> & ⋯ & <dbl> & <dbl> & <dbl> & <dbl> & <dbl> & <dbl> & <dbl> & <dbl> & <dbl> & <dbl>\\\\\n",
       "\\hline\n",
       "\t1,REACTOME\\_MRNA\\_SPLICING & -0.065654 & -0.01199125 & -0.007941819 & -0.0004729541 & 0.08638441 & 0.102794 & -0.08670854 & -0.008380002 & -0.02527753 & 0.007726571 & ⋯ & -0.004895764 & -0.0214135 & 0.01907214 & -0.03558629 & -0.0508497 & 0.05938364 & 0.04041655 & 0.02643266 & -0.08248084 & 0.0216148\\\\\n",
       "\\end{tabular}\n"
      ],
      "text/markdown": [
       "\n",
       "A data.frame: 1 × 136\n",
       "\n",
       "| <!--/--> | 00041-0 &lt;dbl&gt; | 00110-0 &lt;dbl&gt; | 00139-0 &lt;dbl&gt; | 00159-0 &lt;dbl&gt; | 00174-0 &lt;dbl&gt; | 00177-0 &lt;dbl&gt; | 00181-0 &lt;dbl&gt; | 00234-0 &lt;dbl&gt; | 00250-0 &lt;dbl&gt; | 00266-0 &lt;dbl&gt; | ⋯ ⋯ | 39376-0 &lt;dbl&gt; | 39390-0 &lt;dbl&gt; | 50136-0 &lt;dbl&gt; | 62291-0 &lt;dbl&gt; | 81801-0 &lt;dbl&gt; | 84002-0 &lt;dbl&gt; | 84689-0 &lt;dbl&gt; | 84731-0 &lt;dbl&gt; | 84860-0 &lt;dbl&gt; | 85365-0 &lt;dbl&gt; |\n",
       "|---|---|---|---|---|---|---|---|---|---|---|---|---|---|---|---|---|---|---|---|---|---|\n",
       "| 1,REACTOME_MRNA_SPLICING | -0.065654 | -0.01199125 | -0.007941819 | -0.0004729541 | 0.08638441 | 0.102794 | -0.08670854 | -0.008380002 | -0.02527753 | 0.007726571 | ⋯ | -0.004895764 | -0.0214135 | 0.01907214 | -0.03558629 | -0.0508497 | 0.05938364 | 0.04041655 | 0.02643266 | -0.08248084 | 0.0216148 |\n",
       "\n"
      ],
      "text/plain": [
       "                         00041-0   00110-0     00139-0      00159-0      \n",
       "1,REACTOME_MRNA_SPLICING -0.065654 -0.01199125 -0.007941819 -0.0004729541\n",
       "                         00174-0    00177-0  00181-0     00234-0     \n",
       "1,REACTOME_MRNA_SPLICING 0.08638441 0.102794 -0.08670854 -0.008380002\n",
       "                         00250-0     00266-0     ⋯ 39376-0      39390-0   \n",
       "1,REACTOME_MRNA_SPLICING -0.02527753 0.007726571 ⋯ -0.004895764 -0.0214135\n",
       "                         50136-0    62291-0     81801-0    84002-0   \n",
       "1,REACTOME_MRNA_SPLICING 0.01907214 -0.03558629 -0.0508497 0.05938364\n",
       "                         84689-0    84731-0    84860-0     85365-0  \n",
       "1,REACTOME_MRNA_SPLICING 0.04041655 0.02643266 -0.08248084 0.0216148"
      ]
     },
     "metadata": {},
     "output_type": "display_data"
    },
    {
     "data": {
      "text/html": [
       "987"
      ],
      "text/latex": [
       "987"
      ],
      "text/markdown": [
       "987"
      ],
      "text/plain": [
       "[1] 987"
      ]
     },
     "metadata": {},
     "output_type": "display_data"
    },
    {
     "data": {
      "text/html": [
       "<table class=\"dataframe\">\n",
       "<caption>A data.frame: 1 × 987</caption>\n",
       "<thead>\n",
       "\t<tr><th></th><th scope=col>X1.REACTOME_MRNA_SPLICING</th><th scope=col>X2.SVM.Monocytes</th><th scope=col>X3.REACTOME_TRANSMISSION_ACROSS_CHEMICAL_SYNAPSES</th><th scope=col>X4.REACTOME_NEURONAL_SYSTEM</th><th scope=col>LV.5</th><th scope=col>LV.6</th><th scope=col>X7.IRIS_Neutrophil.Resting</th><th scope=col>X8.KEGG_PPAR_SIGNALING_PATHWAY</th><th scope=col>LV.9</th><th scope=col>X10.SVM.Macrophages.M0</th><th scope=col>⋯</th><th scope=col>LV.978</th><th scope=col>LV.979</th><th scope=col>LV.980</th><th scope=col>LV.981</th><th scope=col>LV.982</th><th scope=col>LV.983</th><th scope=col>LV.984</th><th scope=col>X985.IRIS_Neutrophil.Resting</th><th scope=col>LV.986</th><th scope=col>LV.987</th></tr>\n",
       "\t<tr><th></th><th scope=col>&lt;dbl&gt;</th><th scope=col>&lt;dbl&gt;</th><th scope=col>&lt;dbl&gt;</th><th scope=col>&lt;dbl&gt;</th><th scope=col>&lt;dbl&gt;</th><th scope=col>&lt;dbl&gt;</th><th scope=col>&lt;dbl&gt;</th><th scope=col>&lt;dbl&gt;</th><th scope=col>&lt;dbl&gt;</th><th scope=col>&lt;dbl&gt;</th><th scope=col>⋯</th><th scope=col>&lt;dbl&gt;</th><th scope=col>&lt;dbl&gt;</th><th scope=col>&lt;dbl&gt;</th><th scope=col>&lt;dbl&gt;</th><th scope=col>&lt;dbl&gt;</th><th scope=col>&lt;dbl&gt;</th><th scope=col>&lt;dbl&gt;</th><th scope=col>&lt;dbl&gt;</th><th scope=col>&lt;dbl&gt;</th><th scope=col>&lt;dbl&gt;</th></tr>\n",
       "</thead>\n",
       "<tbody>\n",
       "\t<tr><th scope=row>00041-0</th><td>-0.065654</td><td>0.1261266</td><td>0.01922872</td><td>-0.01139902</td><td>-0.001128021</td><td>0.02663438</td><td>0.05514967</td><td>0.01020342</td><td>-0.006378183</td><td>0.02719363</td><td>⋯</td><td>-0.03644017</td><td>-0.02230501</td><td>0.005917726</td><td>0.0004019891</td><td>0.003337531</td><td>-0.05066734</td><td>-0.1629861</td><td>0.05841612</td><td>-0.01853552</td><td>-0.03576809</td></tr>\n",
       "</tbody>\n",
       "</table>\n"
      ],
      "text/latex": [
       "A data.frame: 1 × 987\n",
       "\\begin{tabular}{r|lllllllllllllllllllll}\n",
       "  & X1.REACTOME\\_MRNA\\_SPLICING & X2.SVM.Monocytes & X3.REACTOME\\_TRANSMISSION\\_ACROSS\\_CHEMICAL\\_SYNAPSES & X4.REACTOME\\_NEURONAL\\_SYSTEM & LV.5 & LV.6 & X7.IRIS\\_Neutrophil.Resting & X8.KEGG\\_PPAR\\_SIGNALING\\_PATHWAY & LV.9 & X10.SVM.Macrophages.M0 & ⋯ & LV.978 & LV.979 & LV.980 & LV.981 & LV.982 & LV.983 & LV.984 & X985.IRIS\\_Neutrophil.Resting & LV.986 & LV.987\\\\\n",
       "  & <dbl> & <dbl> & <dbl> & <dbl> & <dbl> & <dbl> & <dbl> & <dbl> & <dbl> & <dbl> & ⋯ & <dbl> & <dbl> & <dbl> & <dbl> & <dbl> & <dbl> & <dbl> & <dbl> & <dbl> & <dbl>\\\\\n",
       "\\hline\n",
       "\t00041-0 & -0.065654 & 0.1261266 & 0.01922872 & -0.01139902 & -0.001128021 & 0.02663438 & 0.05514967 & 0.01020342 & -0.006378183 & 0.02719363 & ⋯ & -0.03644017 & -0.02230501 & 0.005917726 & 0.0004019891 & 0.003337531 & -0.05066734 & -0.1629861 & 0.05841612 & -0.01853552 & -0.03576809\\\\\n",
       "\\end{tabular}\n"
      ],
      "text/markdown": [
       "\n",
       "A data.frame: 1 × 987\n",
       "\n",
       "| <!--/--> | X1.REACTOME_MRNA_SPLICING &lt;dbl&gt; | X2.SVM.Monocytes &lt;dbl&gt; | X3.REACTOME_TRANSMISSION_ACROSS_CHEMICAL_SYNAPSES &lt;dbl&gt; | X4.REACTOME_NEURONAL_SYSTEM &lt;dbl&gt; | LV.5 &lt;dbl&gt; | LV.6 &lt;dbl&gt; | X7.IRIS_Neutrophil.Resting &lt;dbl&gt; | X8.KEGG_PPAR_SIGNALING_PATHWAY &lt;dbl&gt; | LV.9 &lt;dbl&gt; | X10.SVM.Macrophages.M0 &lt;dbl&gt; | ⋯ ⋯ | LV.978 &lt;dbl&gt; | LV.979 &lt;dbl&gt; | LV.980 &lt;dbl&gt; | LV.981 &lt;dbl&gt; | LV.982 &lt;dbl&gt; | LV.983 &lt;dbl&gt; | LV.984 &lt;dbl&gt; | X985.IRIS_Neutrophil.Resting &lt;dbl&gt; | LV.986 &lt;dbl&gt; | LV.987 &lt;dbl&gt; |\n",
       "|---|---|---|---|---|---|---|---|---|---|---|---|---|---|---|---|---|---|---|---|---|---|\n",
       "| 00041-0 | -0.065654 | 0.1261266 | 0.01922872 | -0.01139902 | -0.001128021 | 0.02663438 | 0.05514967 | 0.01020342 | -0.006378183 | 0.02719363 | ⋯ | -0.03644017 | -0.02230501 | 0.005917726 | 0.0004019891 | 0.003337531 | -0.05066734 | -0.1629861 | 0.05841612 | -0.01853552 | -0.03576809 |\n",
       "\n"
      ],
      "text/plain": [
       "        X1.REACTOME_MRNA_SPLICING X2.SVM.Monocytes\n",
       "00041-0 -0.065654                 0.1261266       \n",
       "        X3.REACTOME_TRANSMISSION_ACROSS_CHEMICAL_SYNAPSES\n",
       "00041-0 0.01922872                                       \n",
       "        X4.REACTOME_NEURONAL_SYSTEM LV.5         LV.6      \n",
       "00041-0 -0.01139902                 -0.001128021 0.02663438\n",
       "        X7.IRIS_Neutrophil.Resting X8.KEGG_PPAR_SIGNALING_PATHWAY LV.9        \n",
       "00041-0 0.05514967                 0.01020342                     -0.006378183\n",
       "        X10.SVM.Macrophages.M0 ⋯ LV.978      LV.979      LV.980     \n",
       "00041-0 0.02719363             ⋯ -0.03644017 -0.02230501 0.005917726\n",
       "        LV.981       LV.982      LV.983      LV.984    \n",
       "00041-0 0.0004019891 0.003337531 -0.05066734 -0.1629861\n",
       "        X985.IRIS_Neutrophil.Resting LV.986      LV.987     \n",
       "00041-0 0.05841612                   -0.01853552 -0.03576809"
      ]
     },
     "metadata": {},
     "output_type": "display_data"
    },
    {
     "data": {
      "text/html": [
       "<table class=\"dataframe\">\n",
       "<caption>A data.frame: 1 × 989</caption>\n",
       "<thead>\n",
       "\t<tr><th></th><th scope=col>ID</th><th scope=col>1,REACTOME_MRNA_SPLICING</th><th scope=col>2,SVM Monocytes</th><th scope=col>3,REACTOME_TRANSMISSION_ACROSS_CHEMICAL_SYNAPSES</th><th scope=col>4,REACTOME_NEURONAL_SYSTEM</th><th scope=col>LV 5</th><th scope=col>LV 6</th><th scope=col>7,IRIS_Neutrophil-Resting</th><th scope=col>8,KEGG_PPAR_SIGNALING_PATHWAY</th><th scope=col>LV 9</th><th scope=col>⋯</th><th scope=col>LV 979</th><th scope=col>LV 980</th><th scope=col>LV 981</th><th scope=col>LV 982</th><th scope=col>LV 983</th><th scope=col>LV 984</th><th scope=col>985,IRIS_Neutrophil-Resting</th><th scope=col>LV 986</th><th scope=col>LV 987</th><th scope=col>Group</th></tr>\n",
       "\t<tr><th></th><th scope=col>&lt;chr&gt;</th><th scope=col>&lt;chr&gt;</th><th scope=col>&lt;chr&gt;</th><th scope=col>&lt;chr&gt;</th><th scope=col>&lt;chr&gt;</th><th scope=col>&lt;chr&gt;</th><th scope=col>&lt;chr&gt;</th><th scope=col>&lt;chr&gt;</th><th scope=col>&lt;chr&gt;</th><th scope=col>&lt;chr&gt;</th><th scope=col>⋯</th><th scope=col>&lt;chr&gt;</th><th scope=col>&lt;chr&gt;</th><th scope=col>&lt;chr&gt;</th><th scope=col>&lt;chr&gt;</th><th scope=col>&lt;chr&gt;</th><th scope=col>&lt;chr&gt;</th><th scope=col>&lt;chr&gt;</th><th scope=col>&lt;chr&gt;</th><th scope=col>&lt;chr&gt;</th><th scope=col>&lt;chr&gt;</th></tr>\n",
       "</thead>\n",
       "<tbody>\n",
       "\t<tr><th scope=row>1</th><td>00041-0</td><td>-0.0656540020748254</td><td>0.126126593924544</td><td>0.0192287236433338</td><td>-0.0113990196253673</td><td>-0.00112802124455745</td><td>0.02663437902649</td><td>0.0551496662069748</td><td>0.010203424175125</td><td>-0.00637818261513064</td><td>⋯</td><td>-0.0223050097900997</td><td>0.00591772633462482</td><td>0.000401989064205315</td><td>0.00333753098784164</td><td>-0.0506673394294835</td><td>-0.162986078915122</td><td>0.05841612146097</td><td>-0.0185355219051451</td><td>-0.0357680900948522</td><td>Maintainer</td></tr>\n",
       "</tbody>\n",
       "</table>\n"
      ],
      "text/latex": [
       "A data.frame: 1 × 989\n",
       "\\begin{tabular}{r|lllllllllllllllllllll}\n",
       "  & ID & 1,REACTOME\\_MRNA\\_SPLICING & 2,SVM Monocytes & 3,REACTOME\\_TRANSMISSION\\_ACROSS\\_CHEMICAL\\_SYNAPSES & 4,REACTOME\\_NEURONAL\\_SYSTEM & LV 5 & LV 6 & 7,IRIS\\_Neutrophil-Resting & 8,KEGG\\_PPAR\\_SIGNALING\\_PATHWAY & LV 9 & ⋯ & LV 979 & LV 980 & LV 981 & LV 982 & LV 983 & LV 984 & 985,IRIS\\_Neutrophil-Resting & LV 986 & LV 987 & Group\\\\\n",
       "  & <chr> & <chr> & <chr> & <chr> & <chr> & <chr> & <chr> & <chr> & <chr> & <chr> & ⋯ & <chr> & <chr> & <chr> & <chr> & <chr> & <chr> & <chr> & <chr> & <chr> & <chr>\\\\\n",
       "\\hline\n",
       "\t1 & 00041-0 & -0.0656540020748254 & 0.126126593924544 & 0.0192287236433338 & -0.0113990196253673 & -0.00112802124455745 & 0.02663437902649 & 0.0551496662069748 & 0.010203424175125 & -0.00637818261513064 & ⋯ & -0.0223050097900997 & 0.00591772633462482 & 0.000401989064205315 & 0.00333753098784164 & -0.0506673394294835 & -0.162986078915122 & 0.05841612146097 & -0.0185355219051451 & -0.0357680900948522 & Maintainer\\\\\n",
       "\\end{tabular}\n"
      ],
      "text/markdown": [
       "\n",
       "A data.frame: 1 × 989\n",
       "\n",
       "| <!--/--> | ID &lt;chr&gt; | 1,REACTOME_MRNA_SPLICING &lt;chr&gt; | 2,SVM Monocytes &lt;chr&gt; | 3,REACTOME_TRANSMISSION_ACROSS_CHEMICAL_SYNAPSES &lt;chr&gt; | 4,REACTOME_NEURONAL_SYSTEM &lt;chr&gt; | LV 5 &lt;chr&gt; | LV 6 &lt;chr&gt; | 7,IRIS_Neutrophil-Resting &lt;chr&gt; | 8,KEGG_PPAR_SIGNALING_PATHWAY &lt;chr&gt; | LV 9 &lt;chr&gt; | ⋯ ⋯ | LV 979 &lt;chr&gt; | LV 980 &lt;chr&gt; | LV 981 &lt;chr&gt; | LV 982 &lt;chr&gt; | LV 983 &lt;chr&gt; | LV 984 &lt;chr&gt; | 985,IRIS_Neutrophil-Resting &lt;chr&gt; | LV 986 &lt;chr&gt; | LV 987 &lt;chr&gt; | Group &lt;chr&gt; |\n",
       "|---|---|---|---|---|---|---|---|---|---|---|---|---|---|---|---|---|---|---|---|---|---|\n",
       "| 1 | 00041-0 | -0.0656540020748254 | 0.126126593924544 | 0.0192287236433338 | -0.0113990196253673 | -0.00112802124455745 | 0.02663437902649 | 0.0551496662069748 | 0.010203424175125 | -0.00637818261513064 | ⋯ | -0.0223050097900997 | 0.00591772633462482 | 0.000401989064205315 | 0.00333753098784164 | -0.0506673394294835 | -0.162986078915122 | 0.05841612146097 | -0.0185355219051451 | -0.0357680900948522 | Maintainer |\n",
       "\n"
      ],
      "text/plain": [
       "  ID      1,REACTOME_MRNA_SPLICING 2,SVM Monocytes  \n",
       "1 00041-0 -0.0656540020748254      0.126126593924544\n",
       "  3,REACTOME_TRANSMISSION_ACROSS_CHEMICAL_SYNAPSES 4,REACTOME_NEURONAL_SYSTEM\n",
       "1 0.0192287236433338                               -0.0113990196253673       \n",
       "  LV 5                 LV 6             7,IRIS_Neutrophil-Resting\n",
       "1 -0.00112802124455745 0.02663437902649 0.0551496662069748       \n",
       "  8,KEGG_PPAR_SIGNALING_PATHWAY LV 9                 ⋯ LV 979             \n",
       "1 0.010203424175125             -0.00637818261513064 ⋯ -0.0223050097900997\n",
       "  LV 980              LV 981               LV 982             \n",
       "1 0.00591772633462482 0.000401989064205315 0.00333753098784164\n",
       "  LV 983              LV 984             985,IRIS_Neutrophil-Resting\n",
       "1 -0.0506673394294835 -0.162986078915122 0.05841612146097           \n",
       "  LV 986              LV 987              Group     \n",
       "1 -0.0185355219051451 -0.0357680900948522 Maintainer"
      ]
     },
     "metadata": {},
     "output_type": "display_data"
    },
    {
     "data": {
      "text/html": [
       "<table class=\"dataframe\">\n",
       "<caption>A data.frame: 1 × 989</caption>\n",
       "<thead>\n",
       "\t<tr><th></th><th scope=col>ID</th><th scope=col>X1.REACTOME_MRNA_SPLICING</th><th scope=col>X2.SVM.Monocytes</th><th scope=col>X3.REACTOME_TRANSMISSION_ACROSS_CHEMICAL_SYNAPSES</th><th scope=col>X4.REACTOME_NEURONAL_SYSTEM</th><th scope=col>LV.5</th><th scope=col>LV.6</th><th scope=col>X7.IRIS_Neutrophil.Resting</th><th scope=col>X8.KEGG_PPAR_SIGNALING_PATHWAY</th><th scope=col>LV.9</th><th scope=col>⋯</th><th scope=col>LV.979</th><th scope=col>LV.980</th><th scope=col>LV.981</th><th scope=col>LV.982</th><th scope=col>LV.983</th><th scope=col>LV.984</th><th scope=col>X985.IRIS_Neutrophil.Resting</th><th scope=col>LV.986</th><th scope=col>LV.987</th><th scope=col>Group</th></tr>\n",
       "\t<tr><th></th><th scope=col>&lt;chr&gt;</th><th scope=col>&lt;dbl&gt;</th><th scope=col>&lt;dbl&gt;</th><th scope=col>&lt;dbl&gt;</th><th scope=col>&lt;dbl&gt;</th><th scope=col>&lt;dbl&gt;</th><th scope=col>&lt;dbl&gt;</th><th scope=col>&lt;dbl&gt;</th><th scope=col>&lt;dbl&gt;</th><th scope=col>&lt;dbl&gt;</th><th scope=col>⋯</th><th scope=col>&lt;dbl&gt;</th><th scope=col>&lt;dbl&gt;</th><th scope=col>&lt;dbl&gt;</th><th scope=col>&lt;dbl&gt;</th><th scope=col>&lt;dbl&gt;</th><th scope=col>&lt;dbl&gt;</th><th scope=col>&lt;dbl&gt;</th><th scope=col>&lt;dbl&gt;</th><th scope=col>&lt;dbl&gt;</th><th scope=col>&lt;chr&gt;</th></tr>\n",
       "</thead>\n",
       "<tbody>\n",
       "\t<tr><th scope=row>1</th><td>00041-0</td><td>-0.065654</td><td>0.1261266</td><td>0.01922872</td><td>-0.01139902</td><td>-0.001128021</td><td>0.02663438</td><td>0.05514967</td><td>0.01020342</td><td>-0.006378183</td><td>⋯</td><td>-0.02230501</td><td>0.005917726</td><td>0.0004019891</td><td>0.003337531</td><td>-0.05066734</td><td>-0.1629861</td><td>0.05841612</td><td>-0.01853552</td><td>-0.03576809</td><td>Maintainer</td></tr>\n",
       "</tbody>\n",
       "</table>\n"
      ],
      "text/latex": [
       "A data.frame: 1 × 989\n",
       "\\begin{tabular}{r|lllllllllllllllllllll}\n",
       "  & ID & X1.REACTOME\\_MRNA\\_SPLICING & X2.SVM.Monocytes & X3.REACTOME\\_TRANSMISSION\\_ACROSS\\_CHEMICAL\\_SYNAPSES & X4.REACTOME\\_NEURONAL\\_SYSTEM & LV.5 & LV.6 & X7.IRIS\\_Neutrophil.Resting & X8.KEGG\\_PPAR\\_SIGNALING\\_PATHWAY & LV.9 & ⋯ & LV.979 & LV.980 & LV.981 & LV.982 & LV.983 & LV.984 & X985.IRIS\\_Neutrophil.Resting & LV.986 & LV.987 & Group\\\\\n",
       "  & <chr> & <dbl> & <dbl> & <dbl> & <dbl> & <dbl> & <dbl> & <dbl> & <dbl> & <dbl> & ⋯ & <dbl> & <dbl> & <dbl> & <dbl> & <dbl> & <dbl> & <dbl> & <dbl> & <dbl> & <chr>\\\\\n",
       "\\hline\n",
       "\t1 & 00041-0 & -0.065654 & 0.1261266 & 0.01922872 & -0.01139902 & -0.001128021 & 0.02663438 & 0.05514967 & 0.01020342 & -0.006378183 & ⋯ & -0.02230501 & 0.005917726 & 0.0004019891 & 0.003337531 & -0.05066734 & -0.1629861 & 0.05841612 & -0.01853552 & -0.03576809 & Maintainer\\\\\n",
       "\\end{tabular}\n"
      ],
      "text/markdown": [
       "\n",
       "A data.frame: 1 × 989\n",
       "\n",
       "| <!--/--> | ID &lt;chr&gt; | X1.REACTOME_MRNA_SPLICING &lt;dbl&gt; | X2.SVM.Monocytes &lt;dbl&gt; | X3.REACTOME_TRANSMISSION_ACROSS_CHEMICAL_SYNAPSES &lt;dbl&gt; | X4.REACTOME_NEURONAL_SYSTEM &lt;dbl&gt; | LV.5 &lt;dbl&gt; | LV.6 &lt;dbl&gt; | X7.IRIS_Neutrophil.Resting &lt;dbl&gt; | X8.KEGG_PPAR_SIGNALING_PATHWAY &lt;dbl&gt; | LV.9 &lt;dbl&gt; | ⋯ ⋯ | LV.979 &lt;dbl&gt; | LV.980 &lt;dbl&gt; | LV.981 &lt;dbl&gt; | LV.982 &lt;dbl&gt; | LV.983 &lt;dbl&gt; | LV.984 &lt;dbl&gt; | X985.IRIS_Neutrophil.Resting &lt;dbl&gt; | LV.986 &lt;dbl&gt; | LV.987 &lt;dbl&gt; | Group &lt;chr&gt; |\n",
       "|---|---|---|---|---|---|---|---|---|---|---|---|---|---|---|---|---|---|---|---|---|---|\n",
       "| 1 | 00041-0 | -0.065654 | 0.1261266 | 0.01922872 | -0.01139902 | -0.001128021 | 0.02663438 | 0.05514967 | 0.01020342 | -0.006378183 | ⋯ | -0.02230501 | 0.005917726 | 0.0004019891 | 0.003337531 | -0.05066734 | -0.1629861 | 0.05841612 | -0.01853552 | -0.03576809 | Maintainer |\n",
       "\n"
      ],
      "text/plain": [
       "  ID      X1.REACTOME_MRNA_SPLICING X2.SVM.Monocytes\n",
       "1 00041-0 -0.065654                 0.1261266       \n",
       "  X3.REACTOME_TRANSMISSION_ACROSS_CHEMICAL_SYNAPSES X4.REACTOME_NEURONAL_SYSTEM\n",
       "1 0.01922872                                        -0.01139902                \n",
       "  LV.5         LV.6       X7.IRIS_Neutrophil.Resting\n",
       "1 -0.001128021 0.02663438 0.05514967                \n",
       "  X8.KEGG_PPAR_SIGNALING_PATHWAY LV.9         ⋯ LV.979      LV.980     \n",
       "1 0.01020342                     -0.006378183 ⋯ -0.02230501 0.005917726\n",
       "  LV.981       LV.982      LV.983      LV.984     X985.IRIS_Neutrophil.Resting\n",
       "1 0.0004019891 0.003337531 -0.05066734 -0.1629861 0.05841612                  \n",
       "  LV.986      LV.987      Group     \n",
       "1 -0.01853552 -0.03576809 Maintainer"
      ]
     },
     "metadata": {},
     "output_type": "display_data"
    },
    {
     "data": {
      "text/html": [
       "<table class=\"dataframe\">\n",
       "<caption>A data.frame: 5 × 989</caption>\n",
       "<thead>\n",
       "\t<tr><th></th><th scope=col>ID</th><th scope=col>LV1</th><th scope=col>LV2</th><th scope=col>LV3</th><th scope=col>LV4</th><th scope=col>LV5</th><th scope=col>LV6</th><th scope=col>LV7</th><th scope=col>LV8</th><th scope=col>LV9</th><th scope=col>⋯</th><th scope=col>LV979</th><th scope=col>LV980</th><th scope=col>LV981</th><th scope=col>LV982</th><th scope=col>LV983</th><th scope=col>LV984</th><th scope=col>LV985</th><th scope=col>LV986</th><th scope=col>LV987</th><th scope=col>Group</th></tr>\n",
       "\t<tr><th></th><th scope=col>&lt;chr&gt;</th><th scope=col>&lt;dbl&gt;</th><th scope=col>&lt;dbl&gt;</th><th scope=col>&lt;dbl&gt;</th><th scope=col>&lt;dbl&gt;</th><th scope=col>&lt;dbl&gt;</th><th scope=col>&lt;dbl&gt;</th><th scope=col>&lt;dbl&gt;</th><th scope=col>&lt;dbl&gt;</th><th scope=col>&lt;dbl&gt;</th><th scope=col>⋯</th><th scope=col>&lt;dbl&gt;</th><th scope=col>&lt;dbl&gt;</th><th scope=col>&lt;dbl&gt;</th><th scope=col>&lt;dbl&gt;</th><th scope=col>&lt;dbl&gt;</th><th scope=col>&lt;dbl&gt;</th><th scope=col>&lt;dbl&gt;</th><th scope=col>&lt;dbl&gt;</th><th scope=col>&lt;dbl&gt;</th><th scope=col>&lt;ord&gt;</th></tr>\n",
       "</thead>\n",
       "<tbody>\n",
       "\t<tr><th scope=row>1</th><td>00041-0</td><td>-0.0656540021</td><td> 0.12612659</td><td> 0.019228724</td><td>-0.011399020</td><td>-0.001128021</td><td> 0.026634379</td><td> 0.05514967</td><td> 0.010203424</td><td>-0.006378183</td><td>⋯</td><td>-0.022305010</td><td>0.005917726</td><td> 0.0004019891</td><td> 0.0033375310</td><td>-0.050667339</td><td>-0.1629861</td><td> 0.0584161215</td><td>-0.01853552</td><td>-0.03576809</td><td>Maintainer</td></tr>\n",
       "\t<tr><th scope=row>2</th><td>00110-0</td><td>-0.0119912530</td><td> 0.05809774</td><td>-0.019702831</td><td> 0.039376590</td><td> 0.005785657</td><td> 0.021931900</td><td>-0.13931604</td><td>-0.015773584</td><td>-0.099178794</td><td>⋯</td><td>-0.007911956</td><td>0.034845859</td><td>-0.0034088006</td><td>-0.0060667331</td><td>-0.012428251</td><td>-0.2021776</td><td> 0.1333178029</td><td>-0.01727092</td><td>-0.02393074</td><td>Reverter  </td></tr>\n",
       "\t<tr><th scope=row>3</th><td>00139-0</td><td>-0.0079418188</td><td> 0.01116893</td><td>-0.012215432</td><td>-0.053492638</td><td> 0.054724185</td><td>-0.024917800</td><td>-0.02806763</td><td>-0.014142454</td><td>-0.017852051</td><td>⋯</td><td> 0.038738802</td><td>0.017524122</td><td> 0.0310289279</td><td>-0.0032984364</td><td> 0.057692616</td><td> 0.1181355</td><td>-0.0508902746</td><td> 0.01250523</td><td>-0.04489453</td><td>Reverter  </td></tr>\n",
       "\t<tr><th scope=row>4</th><td>00159-0</td><td>-0.0004729541</td><td>-0.13085315</td><td> 0.037406037</td><td>-0.045024488</td><td>-0.005107791</td><td> 0.005637558</td><td>-0.05076628</td><td>-0.022546650</td><td> 0.036315845</td><td>⋯</td><td>-0.022820960</td><td>0.012538255</td><td>-0.0180196478</td><td>-0.0202040898</td><td> 0.008723508</td><td> 0.1119591</td><td>-0.1393104869</td><td> 0.03684806</td><td> 0.07024293</td><td>Maintainer</td></tr>\n",
       "\t<tr><th scope=row>5</th><td>00174-0</td><td> 0.0863844084</td><td>-0.01433765</td><td>-0.006672154</td><td> 0.008482421</td><td> 0.032131432</td><td> 0.019438941</td><td> 0.00238975</td><td> 0.009314969</td><td>-0.015259546</td><td>⋯</td><td>-0.013129918</td><td>0.007182440</td><td> 0.0007084990</td><td> 0.0004616102</td><td>-0.022940806</td><td>-0.1669717</td><td> 0.0001026175</td><td>-0.01991626</td><td> 0.08425170</td><td>Progressor</td></tr>\n",
       "</tbody>\n",
       "</table>\n"
      ],
      "text/latex": [
       "A data.frame: 5 × 989\n",
       "\\begin{tabular}{r|lllllllllllllllllllll}\n",
       "  & ID & LV1 & LV2 & LV3 & LV4 & LV5 & LV6 & LV7 & LV8 & LV9 & ⋯ & LV979 & LV980 & LV981 & LV982 & LV983 & LV984 & LV985 & LV986 & LV987 & Group\\\\\n",
       "  & <chr> & <dbl> & <dbl> & <dbl> & <dbl> & <dbl> & <dbl> & <dbl> & <dbl> & <dbl> & ⋯ & <dbl> & <dbl> & <dbl> & <dbl> & <dbl> & <dbl> & <dbl> & <dbl> & <dbl> & <ord>\\\\\n",
       "\\hline\n",
       "\t1 & 00041-0 & -0.0656540021 &  0.12612659 &  0.019228724 & -0.011399020 & -0.001128021 &  0.026634379 &  0.05514967 &  0.010203424 & -0.006378183 & ⋯ & -0.022305010 & 0.005917726 &  0.0004019891 &  0.0033375310 & -0.050667339 & -0.1629861 &  0.0584161215 & -0.01853552 & -0.03576809 & Maintainer\\\\\n",
       "\t2 & 00110-0 & -0.0119912530 &  0.05809774 & -0.019702831 &  0.039376590 &  0.005785657 &  0.021931900 & -0.13931604 & -0.015773584 & -0.099178794 & ⋯ & -0.007911956 & 0.034845859 & -0.0034088006 & -0.0060667331 & -0.012428251 & -0.2021776 &  0.1333178029 & -0.01727092 & -0.02393074 & Reverter  \\\\\n",
       "\t3 & 00139-0 & -0.0079418188 &  0.01116893 & -0.012215432 & -0.053492638 &  0.054724185 & -0.024917800 & -0.02806763 & -0.014142454 & -0.017852051 & ⋯ &  0.038738802 & 0.017524122 &  0.0310289279 & -0.0032984364 &  0.057692616 &  0.1181355 & -0.0508902746 &  0.01250523 & -0.04489453 & Reverter  \\\\\n",
       "\t4 & 00159-0 & -0.0004729541 & -0.13085315 &  0.037406037 & -0.045024488 & -0.005107791 &  0.005637558 & -0.05076628 & -0.022546650 &  0.036315845 & ⋯ & -0.022820960 & 0.012538255 & -0.0180196478 & -0.0202040898 &  0.008723508 &  0.1119591 & -0.1393104869 &  0.03684806 &  0.07024293 & Maintainer\\\\\n",
       "\t5 & 00174-0 &  0.0863844084 & -0.01433765 & -0.006672154 &  0.008482421 &  0.032131432 &  0.019438941 &  0.00238975 &  0.009314969 & -0.015259546 & ⋯ & -0.013129918 & 0.007182440 &  0.0007084990 &  0.0004616102 & -0.022940806 & -0.1669717 &  0.0001026175 & -0.01991626 &  0.08425170 & Progressor\\\\\n",
       "\\end{tabular}\n"
      ],
      "text/markdown": [
       "\n",
       "A data.frame: 5 × 989\n",
       "\n",
       "| <!--/--> | ID &lt;chr&gt; | LV1 &lt;dbl&gt; | LV2 &lt;dbl&gt; | LV3 &lt;dbl&gt; | LV4 &lt;dbl&gt; | LV5 &lt;dbl&gt; | LV6 &lt;dbl&gt; | LV7 &lt;dbl&gt; | LV8 &lt;dbl&gt; | LV9 &lt;dbl&gt; | ⋯ ⋯ | LV979 &lt;dbl&gt; | LV980 &lt;dbl&gt; | LV981 &lt;dbl&gt; | LV982 &lt;dbl&gt; | LV983 &lt;dbl&gt; | LV984 &lt;dbl&gt; | LV985 &lt;dbl&gt; | LV986 &lt;dbl&gt; | LV987 &lt;dbl&gt; | Group &lt;ord&gt; |\n",
       "|---|---|---|---|---|---|---|---|---|---|---|---|---|---|---|---|---|---|---|---|---|---|\n",
       "| 1 | 00041-0 | -0.0656540021 |  0.12612659 |  0.019228724 | -0.011399020 | -0.001128021 |  0.026634379 |  0.05514967 |  0.010203424 | -0.006378183 | ⋯ | -0.022305010 | 0.005917726 |  0.0004019891 |  0.0033375310 | -0.050667339 | -0.1629861 |  0.0584161215 | -0.01853552 | -0.03576809 | Maintainer |\n",
       "| 2 | 00110-0 | -0.0119912530 |  0.05809774 | -0.019702831 |  0.039376590 |  0.005785657 |  0.021931900 | -0.13931604 | -0.015773584 | -0.099178794 | ⋯ | -0.007911956 | 0.034845859 | -0.0034088006 | -0.0060667331 | -0.012428251 | -0.2021776 |  0.1333178029 | -0.01727092 | -0.02393074 | Reverter   |\n",
       "| 3 | 00139-0 | -0.0079418188 |  0.01116893 | -0.012215432 | -0.053492638 |  0.054724185 | -0.024917800 | -0.02806763 | -0.014142454 | -0.017852051 | ⋯ |  0.038738802 | 0.017524122 |  0.0310289279 | -0.0032984364 |  0.057692616 |  0.1181355 | -0.0508902746 |  0.01250523 | -0.04489453 | Reverter   |\n",
       "| 4 | 00159-0 | -0.0004729541 | -0.13085315 |  0.037406037 | -0.045024488 | -0.005107791 |  0.005637558 | -0.05076628 | -0.022546650 |  0.036315845 | ⋯ | -0.022820960 | 0.012538255 | -0.0180196478 | -0.0202040898 |  0.008723508 |  0.1119591 | -0.1393104869 |  0.03684806 |  0.07024293 | Maintainer |\n",
       "| 5 | 00174-0 |  0.0863844084 | -0.01433765 | -0.006672154 |  0.008482421 |  0.032131432 |  0.019438941 |  0.00238975 |  0.009314969 | -0.015259546 | ⋯ | -0.013129918 | 0.007182440 |  0.0007084990 |  0.0004616102 | -0.022940806 | -0.1669717 |  0.0001026175 | -0.01991626 |  0.08425170 | Progressor |\n",
       "\n"
      ],
      "text/plain": [
       "  ID      LV1           LV2         LV3          LV4          LV5         \n",
       "1 00041-0 -0.0656540021  0.12612659  0.019228724 -0.011399020 -0.001128021\n",
       "2 00110-0 -0.0119912530  0.05809774 -0.019702831  0.039376590  0.005785657\n",
       "3 00139-0 -0.0079418188  0.01116893 -0.012215432 -0.053492638  0.054724185\n",
       "4 00159-0 -0.0004729541 -0.13085315  0.037406037 -0.045024488 -0.005107791\n",
       "5 00174-0  0.0863844084 -0.01433765 -0.006672154  0.008482421  0.032131432\n",
       "  LV6          LV7         LV8          LV9          ⋯ LV979        LV980      \n",
       "1  0.026634379  0.05514967  0.010203424 -0.006378183 ⋯ -0.022305010 0.005917726\n",
       "2  0.021931900 -0.13931604 -0.015773584 -0.099178794 ⋯ -0.007911956 0.034845859\n",
       "3 -0.024917800 -0.02806763 -0.014142454 -0.017852051 ⋯  0.038738802 0.017524122\n",
       "4  0.005637558 -0.05076628 -0.022546650  0.036315845 ⋯ -0.022820960 0.012538255\n",
       "5  0.019438941  0.00238975  0.009314969 -0.015259546 ⋯ -0.013129918 0.007182440\n",
       "  LV981         LV982         LV983        LV984      LV985         LV986      \n",
       "1  0.0004019891  0.0033375310 -0.050667339 -0.1629861  0.0584161215 -0.01853552\n",
       "2 -0.0034088006 -0.0060667331 -0.012428251 -0.2021776  0.1333178029 -0.01727092\n",
       "3  0.0310289279 -0.0032984364  0.057692616  0.1181355 -0.0508902746  0.01250523\n",
       "4 -0.0180196478 -0.0202040898  0.008723508  0.1119591 -0.1393104869  0.03684806\n",
       "5  0.0007084990  0.0004616102 -0.022940806 -0.1669717  0.0001026175 -0.01991626\n",
       "  LV987       Group     \n",
       "1 -0.03576809 Maintainer\n",
       "2 -0.02393074 Reverter  \n",
       "3 -0.04489453 Reverter  \n",
       "4  0.07024293 Maintainer\n",
       "5  0.08425170 Progressor"
      ]
     },
     "metadata": {},
     "output_type": "display_data"
    },
    {
     "data": {
      "text/html": [
       "<table class=\"dataframe\">\n",
       "<caption>A tibble: 5 × 3</caption>\n",
       "<thead>\n",
       "\t<tr><th scope=col>LV</th><th scope=col>p_val</th><th scope=col>fdr</th></tr>\n",
       "\t<tr><th scope=col>&lt;chr&gt;</th><th scope=col>&lt;dbl&gt;</th><th scope=col>&lt;dbl&gt;</th></tr>\n",
       "</thead>\n",
       "<tbody>\n",
       "\t<tr><td>LV1</td><td>0.99057594</td><td>0.9987431</td></tr>\n",
       "\t<tr><td>LV2</td><td>0.01358021</td><td>0.4718064</td></tr>\n",
       "\t<tr><td>LV3</td><td>0.72056582</td><td>0.9401473</td></tr>\n",
       "\t<tr><td>LV4</td><td>0.37394706</td><td>0.8786550</td></tr>\n",
       "\t<tr><td>LV5</td><td>0.72618248</td><td>0.9401473</td></tr>\n",
       "</tbody>\n",
       "</table>\n"
      ],
      "text/latex": [
       "A tibble: 5 × 3\n",
       "\\begin{tabular}{lll}\n",
       " LV & p\\_val & fdr\\\\\n",
       " <chr> & <dbl> & <dbl>\\\\\n",
       "\\hline\n",
       "\t LV1 & 0.99057594 & 0.9987431\\\\\n",
       "\t LV2 & 0.01358021 & 0.4718064\\\\\n",
       "\t LV3 & 0.72056582 & 0.9401473\\\\\n",
       "\t LV4 & 0.37394706 & 0.8786550\\\\\n",
       "\t LV5 & 0.72618248 & 0.9401473\\\\\n",
       "\\end{tabular}\n"
      ],
      "text/markdown": [
       "\n",
       "A tibble: 5 × 3\n",
       "\n",
       "| LV &lt;chr&gt; | p_val &lt;dbl&gt; | fdr &lt;dbl&gt; |\n",
       "|---|---|---|\n",
       "| LV1 | 0.99057594 | 0.9987431 |\n",
       "| LV2 | 0.01358021 | 0.4718064 |\n",
       "| LV3 | 0.72056582 | 0.9401473 |\n",
       "| LV4 | 0.37394706 | 0.8786550 |\n",
       "| LV5 | 0.72618248 | 0.9401473 |\n",
       "\n"
      ],
      "text/plain": [
       "  LV  p_val      fdr      \n",
       "1 LV1 0.99057594 0.9987431\n",
       "2 LV2 0.01358021 0.4718064\n",
       "3 LV3 0.72056582 0.9401473\n",
       "4 LV4 0.37394706 0.8786550\n",
       "5 LV5 0.72618248 0.9401473"
      ]
     },
     "metadata": {},
     "output_type": "display_data"
    },
    {
     "data": {
      "image/png": "[encoded data removed]",
      "text/plain": [
       "plot without title"
      ]
     },
     "metadata": {
      "image/png": {
       "height": 420,
       "width": 420
      }
     },
     "output_type": "display_data"
    }
   ],
   "source": [
    "# importing results from projection og DAISY RNAseq visit 1 into Phenoplier latent space\n",
    "#RNA_proj <- readRDS(\"output/projection_1.rds\")\n",
    "RNA_proj <- readRDS(paste0(\"output/projection_\",tp,\".rds\"))\n",
    "dim(RNA_proj)\n",
    "head(RNA_proj,1)\n",
    "\n",
    "\n",
    "# transposing projection output data to get LV names, check we have 987 LV\n",
    "RNA_proj_t <- data.frame(t(RNA_proj))\n",
    "LV_names <- colnames(RNA_proj_t)\n",
    "length(LV_names)\n",
    "head(RNA_proj_t,1)\n",
    "\n",
    "# convert matrix to dataframe with gene as rownames\n",
    "RNA_proj_t <- cbind(ID = colnames(RNA_proj), t(RNA_proj))\n",
    "# merge transposed RNA projection output with each individual's T1D groupping\n",
    "RNA_proj_group <- merge(RNA_proj_t, RNA_pheno[,1:2], by = \"ID\")\n",
    "\n",
    "head(RNA_proj_group,1)\n",
    "#set rownames of new dataframe to ensembleID\n",
    "#rownames(EnsID_df) <- EnsID_df$EnsemblID\n",
    "#remove gene and ensembleID column\n",
    "#z_matrix <- as.matrix(EnsID_df[, !(colnames(EnsID_df) %in% c(\"gene\", \"EnsemblID\"))])\n",
    "\n",
    "colnames(RNA_proj_group)[2:988] <- LV_names\n",
    "#this <- RNA_proj_group[,LV_col]\n",
    "#convert all LV col into numeric\n",
    "RNA_proj_group[,LV_names] <- sapply(RNA_proj_group[,LV_names], function(x) as.numeric(as.character(x)))\n",
    "head(RNA_proj_group,1) \n",
    "\n",
    "                                    # order groupping factor\n",
    "RNA_proj_group$Group <- ordered(RNA_proj_group$Group,\n",
    "                         levels = c(\"Maintainer\", \"Reverter\", \"Progressor\"))\n",
    "\n",
    "# correct column name \n",
    "#LV_names<- colnames(RNA_proj_group)[2:988]\n",
    "\n",
    "remove_dot <- which(str_detect(LV_names, \"LV.\"))\n",
    "remove_pathway <- which(!str_detect(LV_names, \"LV.\"))\n",
    "LV_names[remove_pathway] <- gsub(\"\\\\..*\",\"\",LV_names[remove_pathway])\n",
    "LV_names[remove_pathway] <- gsub(\"X\",\"LV\",LV_names[remove_pathway])\n",
    "LV_names[remove_dot] <- gsub(\"\\\\.\",\"\",LV_names[remove_dot])\n",
    "\n",
    "colnames(RNA_proj_group)[2:988]<- LV_names\n",
    "head(RNA_proj_group,5)\n",
    "\n",
    "saveRDS(RNA_proj_group,paste0(\"output/gp_RNA_proj_\",tp,\".rds\"))\n",
    "\n",
    "# boxplot one LV by group, and compute anova p-value\n",
    "ggboxplot(RNA_proj_group, x = \"Group\", y = \"LV986\", color = \"Group\", \n",
    "          add = \"jitter\", legend = \"none\") +\n",
    "  rotate_x_text(angle = 45)+\n",
    "  geom_hline(yintercept = mean(RNA_proj_group$LV986), linetype = 2)+ # Add horizontal line at base mean\n",
    "  stat_compare_means(method = \"anova\", label.y = 0.08)+        # Add global annova p-value\n",
    "  stat_compare_means(method = \"t.test\",\n",
    "                     ref.group = \".all.\",label.y = c(0.10,0.10,0.10))\n",
    "\n",
    "\n",
    "# compute anova for each LV\n",
    "\n",
    "res <- data.frame(matrix(nrow = 0, ncol = 6))\n",
    "\n",
    "# compare each group to the mean expression accross all three groups\n",
    "for (i in 1:length(LV_names)){\n",
    "    comp_i <- compare_means(as.formula(paste0(LV_names[i],\" ~ Group\")),  data = RNA_proj_group,\n",
    "                            method = \"anova\")\n",
    "    res <- rbind(res, comp_i)\n",
    "    }\n",
    "res_formated <- res[,c(1,2)]\n",
    "colnames(res_formated) <- c(\"LV\",\"p_val\")\n",
    "res_formated$fdr <- p.adjust(res_formated$p_val, method = \"BH\")\n",
    "head(res_formated,5)\n",
    "\n",
    "saveRDS(res_formated,paste0(\"output/anova_\",tp,\".rds\"))"
   ]
  },
  {
   "cell_type": "code",
   "execution_count": null,
   "metadata": {},
   "outputs": [],
   "source": []
  },
  {
   "cell_type": "code",
   "execution_count": null,
   "metadata": {},
   "outputs": [],
   "source": []
  },
  {
   "cell_type": "code",
   "execution_count": null,
   "metadata": {},
   "outputs": [],
   "source": []
  },
  {
   "cell_type": "code",
   "execution_count": null,
   "metadata": {},
   "outputs": [],
   "source": []
  }
 ],
 "metadata": {
  "kernelspec": {
   "display_name": "R [conda env:T1D_Pheno] *",
   "language": "R",
   "name": "conda-env-T1D_Pheno-r"
  },
  "language_info": {
   "codemirror_mode": "r",
   "file_extension": ".r",
   "mimetype": "text/x-r-source",
   "name": "R",
   "pygments_lexer": "r",
   "version": "4.4.2"
  }
 },
 "nbformat": 4,
 "nbformat_minor": 4
}
