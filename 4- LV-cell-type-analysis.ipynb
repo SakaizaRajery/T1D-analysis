{
 "cells": [
  {
   "cell_type": "markdown",
   "id": "b51f3e1c-bbbb-4a62-bf48-1ff51e89843e",
   "metadata": {},
   "source": [
    "# Analysis 1\n",
    "\n",
    "- *Isolate 17 LVs associate to T1D related traits*\n",
    "- What are these LVs telling us\n",
    "- *Look at 17 LVs are expressed in RNAseq from Whole blood* \n",
    "- Compute 17 daisy anova using LVs from UKbiobank and emerge\n",
    "- What are these LVs telling us in three group \n",
    "- Look at signatures from the three groups within LVs of interest \n",
    "- look at the boxplot for top 17 LVs (UK biobank)"
   ]
  },
  {
   "cell_type": "markdown",
   "id": "dd597d15-0182-497b-8eaa-b4dcd3ef9a1d",
   "metadata": {},
   "source": [
    "## load packages "
   ]
  },
  {
   "cell_type": "code",
   "execution_count": 2,
   "id": "924549cf-a0dd-4459-8435-bf0e2e9dab7d",
   "metadata": {},
   "outputs": [
    {
     "name": "stderr",
     "output_type": "stream",
     "text": [
      "── \u001b[1mAttaching core tidyverse packages\u001b[22m ────────────────────────── tidyverse 2.0.0 ──\n",
      "\u001b[32m✔\u001b[39m \u001b[34mdplyr    \u001b[39m 1.1.4     \u001b[32m✔\u001b[39m \u001b[34mreadr    \u001b[39m 2.1.5\n",
      "\u001b[32m✔\u001b[39m \u001b[34mforcats  \u001b[39m 1.0.0     \u001b[32m✔\u001b[39m \u001b[34mstringr  \u001b[39m 1.5.1\n",
      "\u001b[32m✔\u001b[39m \u001b[34mggplot2  \u001b[39m 3.5.1     \u001b[32m✔\u001b[39m \u001b[34mtibble   \u001b[39m 3.2.1\n",
      "\u001b[32m✔\u001b[39m \u001b[34mlubridate\u001b[39m 1.9.4     \u001b[32m✔\u001b[39m \u001b[34mtidyr    \u001b[39m 1.3.1\n",
      "\u001b[32m✔\u001b[39m \u001b[34mpurrr    \u001b[39m 1.0.2     \n",
      "── \u001b[1mConflicts\u001b[22m ──────────────────────────────────────────── tidyverse_conflicts() ──\n",
      "\u001b[31m✖\u001b[39m \u001b[34mdplyr\u001b[39m::\u001b[32mfilter()\u001b[39m masks \u001b[34mstats\u001b[39m::filter()\n",
      "\u001b[31m✖\u001b[39m \u001b[34mdplyr\u001b[39m::\u001b[32mlag()\u001b[39m    masks \u001b[34mstats\u001b[39m::lag()\n",
      "\u001b[36mℹ\u001b[39m Use the conflicted package (\u001b[3m\u001b[34m<http://conflicted.r-lib.org/>\u001b[39m\u001b[23m) to force all conflicts to become errors\n"
     ]
    }
   ],
   "source": [
    "library(tidyverse, warn.conflicts=FALSE)\n",
    "#library(\"ggpubr\")\n",
    "library(reticulate)\n",
    "pd <- import(\"pandas\")\n",
    "#library(jsonlite)"
   ]
  },
  {
   "cell_type": "code",
   "execution_count": 3,
   "id": "90c54ce1-e32f-416e-87cd-90072b283331",
   "metadata": {},
   "outputs": [],
   "source": [
    "lv_cell_data <-  pd$read_pickle(\"data/input/lv109-cell-plot-data.pkl\")\n"
   ]
  },
  {
   "cell_type": "code",
   "execution_count": 7,
   "id": "52272ed4-591a-4c4b-8c25-0687c9f52097",
   "metadata": {},
   "outputs": [],
   "source": [
    "lv_cell_data$LV <- colnames(lv_cell_data)[2]"
   ]
  },
  {
   "cell_type": "code",
   "execution_count": 9,
   "id": "e95a2d71-4016-4b0c-b706-98a4e37a8561",
   "metadata": {},
   "outputs": [],
   "source": [
    "colnames(lv_cell_data)[2] <- \"LV_weight\""
   ]
  },
  {
   "cell_type": "code",
   "execution_count": 9,
   "id": "b92af74e-2f74-4726-9730-a42d49674bb9",
   "metadata": {},
   "outputs": [
    {
     "data": {
      "text/html": [
       "'/Users/rasolofs/git_repos/T1D-analysis/data/input/LV_data'"
      ],
      "text/latex": [
       "'/Users/rasolofs/git\\_repos/T1D-analysis/data/input/LV\\_data'"
      ],
      "text/markdown": [
       "'/Users/rasolofs/git_repos/T1D-analysis/data/input/LV_data'"
      ],
      "text/plain": [
       "[1] \"/Users/rasolofs/git_repos/T1D-analysis/data/input/LV_data\""
      ]
     },
     "metadata": {},
     "output_type": "display_data"
    }
   ],
   "source": [
    "files <- list.files(pattern = \"*.pkl\") # Adjust the pattern to match your file types\n",
    "ldf <- list()\n",
    "for (k in 1:length(files)) {\n",
    "    ldf[[k]] <- pd$read_pickle(files[k])\n",
    "    ldf[[k]]$LV <- colnames(ldf[[k]])[2]\n",
    "    colnames(ldf[[k]])[2] <- \"LV_weight\"\n",
    "}\n",
    "getwd()"
   ]
  },
  {
   "cell_type": "code",
   "execution_count": 12,
   "id": "b93eb9e0-cd43-464a-b60f-a348694974fd",
   "metadata": {},
   "outputs": [],
   "source": [
    "LV_cell_T1D <- bind_rows(ldf)"
   ]
  },
  {
   "cell_type": "code",
   "execution_count": 14,
   "id": "5025d5b4-49d6-45b2-8ac3-936b60a711be",
   "metadata": {},
   "outputs": [
    {
     "name": "stdout",
     "output_type": "stream",
     "text": [
      "'data.frame':\t36115 obs. of  3 variables:\n",
      " $ cell type: chr  \"Human Skeletal Muscle Myoblasts (HSMM)\" \"Glioblastoma\" \"Human Skeletal Muscle Myoblasts (HSMM)\" \"Human tonsil\" ...\n",
      " $ LV_weight: num  14.12 0.732 0.352 0.285 0.279 ...\n",
      " $ LV       : chr  \"LV109\" \"LV109\" \"LV109\" \"LV109\" ...\n",
      " - attr(*, \"pandas.index\")=MultiIndex([('SRP033135', 'SRR1033016'),\n",
      "            ('SRP042161', 'SRR1294622'),\n",
      "            ('SRP033135', 'SRR1033059'),\n",
      "            ('SRP043339', 'SRR1747967'),\n",
      "            ('SRP055569', 'SRR1821576'),\n",
      "            ('SRP060416', 'SRR2088280'),\n",
      "            ('SRP055569', 'SRR1821395'),\n",
      "            ('SRP043339', 'SRR1747966'),\n",
      "            ('SRP033135', 'SRR1033053'),\n",
      "            ('SRP057196', 'SRR1974976'),\n",
      "            ...\n",
      "            ('SRP055569', 'SRR2019204'),\n",
      "            ('SRP055569', 'SRR1821607'),\n",
      "            ('SRP033135', 'SRR1032999'),\n",
      "            ('SRP060416', 'SRR2088097'),\n",
      "            ('SRP060416', 'SRR2088118'),\n",
      "            ('SRP055569', 'SRR1821628'),\n",
      "            ('SRP060416', 'SRR2088191'),\n",
      "            ('SRP033135', 'SRR1032937'),\n",
      "            ('SRP060416', 'SRR2088165'),\n",
      "            ('SRP055569', 'SRR1821671')],\n",
      "           names=['project', 'run'], length=7755)\n"
     ]
    }
   ],
   "source": [
    "str(LV_cell_T1D)"
   ]
  },
  {
   "cell_type": "code",
   "execution_count": 22,
   "id": "80e371d5-19d0-43fd-85d1-c0fda493208c",
   "metadata": {},
   "outputs": [],
   "source": [
    "top_cell <- LV_cell_T1D%>%\n",
    "group_by(LV)%>%\n",
    "mutate(max_value = max(LV_weight)) %>%\n",
    "  ungroup()"
   ]
  },
  {
   "cell_type": "code",
   "execution_count": 26,
   "id": "777f0ca2-a675-4a1c-815a-3d8cebcc2a75",
   "metadata": {},
   "outputs": [
    {
     "data": {
      "text/html": [
       "<table class=\"dataframe\">\n",
       "<caption>A data.frame: 5 × 3</caption>\n",
       "<thead>\n",
       "\t<tr><th scope=col>cell type</th><th scope=col>LV_weight</th><th scope=col>LV</th></tr>\n",
       "\t<tr><th scope=col>&lt;chr&gt;</th><th scope=col>&lt;dbl&gt;</th><th scope=col>&lt;chr&gt;</th></tr>\n",
       "</thead>\n",
       "<tbody>\n",
       "\t<tr><td>Human Skeletal Muscle Myoblasts (HSMM)                                 </td><td>14.1202422</td><td>LV109</td></tr>\n",
       "\t<tr><td>MCF10a human breast cancer cells                                       </td><td> 0.4732574</td><td>LV187</td></tr>\n",
       "\t<tr><td>WI-38 human lung fibroblast cells                                      </td><td> 9.6138111</td><td>LV205</td></tr>\n",
       "\t<tr><td>mixture of U87 human glioma cells and WI-38 human lung fibroblast cells</td><td>10.6865596</td><td>LV293</td></tr>\n",
       "\t<tr><td>MCF10a human breast cancer cells                                       </td><td> 6.3658259</td><td>LV342</td></tr>\n",
       "</tbody>\n",
       "</table>\n"
      ],
      "text/latex": [
       "A data.frame: 5 × 3\n",
       "\\begin{tabular}{lll}\n",
       " cell type & LV\\_weight & LV\\\\\n",
       " <chr> & <dbl> & <chr>\\\\\n",
       "\\hline\n",
       "\t Human Skeletal Muscle Myoblasts (HSMM)                                  & 14.1202422 & LV109\\\\\n",
       "\t MCF10a human breast cancer cells                                        &  0.4732574 & LV187\\\\\n",
       "\t WI-38 human lung fibroblast cells                                       &  9.6138111 & LV205\\\\\n",
       "\t mixture of U87 human glioma cells and WI-38 human lung fibroblast cells & 10.6865596 & LV293\\\\\n",
       "\t MCF10a human breast cancer cells                                        &  6.3658259 & LV342\\\\\n",
       "\\end{tabular}\n"
      ],
      "text/markdown": [
       "\n",
       "A data.frame: 5 × 3\n",
       "\n",
       "| cell type &lt;chr&gt; | LV_weight &lt;dbl&gt; | LV &lt;chr&gt; |\n",
       "|---|---|---|\n",
       "| Human Skeletal Muscle Myoblasts (HSMM)                                  | 14.1202422 | LV109 |\n",
       "| MCF10a human breast cancer cells                                        |  0.4732574 | LV187 |\n",
       "| WI-38 human lung fibroblast cells                                       |  9.6138111 | LV205 |\n",
       "| mixture of U87 human glioma cells and WI-38 human lung fibroblast cells | 10.6865596 | LV293 |\n",
       "| MCF10a human breast cancer cells                                        |  6.3658259 | LV342 |\n",
       "\n"
      ],
      "text/plain": [
       "  cell type                                                              \n",
       "1 Human Skeletal Muscle Myoblasts (HSMM)                                 \n",
       "2 MCF10a human breast cancer cells                                       \n",
       "3 WI-38 human lung fibroblast cells                                      \n",
       "4 mixture of U87 human glioma cells and WI-38 human lung fibroblast cells\n",
       "5 MCF10a human breast cancer cells                                       \n",
       "  LV_weight  LV   \n",
       "1 14.1202422 LV109\n",
       "2  0.4732574 LV187\n",
       "3  9.6138111 LV205\n",
       "4 10.6865596 LV293\n",
       "5  6.3658259 LV342"
      ]
     },
     "metadata": {},
     "output_type": "display_data"
    }
   ],
   "source": [
    "LV_cell_T1D %>% \n",
    "  filter(LV_weight == max(LV_weight), .by = LV)"
   ]
  },
  {
   "cell_type": "code",
   "execution_count": null,
   "id": "333c86c1-d42d-480a-ae4b-1ca20e8571fc",
   "metadata": {},
   "outputs": [],
   "source": []
  }
 ],
 "metadata": {
  "kernelspec": {
   "display_name": "R [conda env:T1D_Pheno] *",
   "language": "R",
   "name": "conda-env-T1D_Pheno-r"
  },
  "language_info": {
   "codemirror_mode": "r",
   "file_extension": ".r",
   "mimetype": "text/x-r-source",
   "name": "R",
   "pygments_lexer": "r",
   "version": "4.4.2"
  }
 },
 "nbformat": 4,
 "nbformat_minor": 5
}
