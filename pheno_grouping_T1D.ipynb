{
 "cells": [
  {
   "cell_type": "markdown",
   "metadata": {},
   "source": [
    "# Grouping modules by T1D progression categories (P, M, R)\n",
    "\n",
    "This notebook extract top LV from differentially expressed genes in P, M, R groups\n",
    "\n",
    "Sakaiza Rasolofomanana Rajery\n",
    "\n",
    "12/19/2024"
   ]
  },
  {
   "cell_type": "markdown",
   "metadata": {},
   "source": [
    "## load packages"
   ]
  },
  {
   "cell_type": "code",
   "execution_count": 16,
   "metadata": {},
   "outputs": [],
   "source": [
    "library(tidyverse,warn.conflicts=FALSE)\n",
    "library(reticulate)"
   ]
  },
  {
   "cell_type": "markdown",
   "metadata": {},
   "source": [
    "## load data: RNA_seq_projection, RNA_pheno_file,"
   ]
  },
  {
   "cell_type": "markdown",
   "metadata": {},
   "source": [
    "### RNA_pheno_file"
   ]
  },
  {
   "cell_type": "code",
   "execution_count": 33,
   "metadata": {},
   "outputs": [
    {
     "data": {
      "text/html": [
       "<style>\n",
       ".list-inline {list-style: none; margin:0; padding: 0}\n",
       ".list-inline>li {display: inline-block}\n",
       ".list-inline>li:not(:last-child)::after {content: \"\\00b7\"; padding: 0 .5ex}\n",
       "</style>\n",
       "<ol class=list-inline><li>136</li><li>22</li></ol>\n"
      ],
      "text/latex": [
       "\\begin{enumerate*}\n",
       "\\item 136\n",
       "\\item 22\n",
       "\\end{enumerate*}\n"
      ],
      "text/markdown": [
       "1. 136\n",
       "2. 22\n",
       "\n",
       "\n"
      ],
      "text/plain": [
       "[1] 136  22"
      ]
     },
     "metadata": {},
     "output_type": "display_data"
    },
    {
     "data": {
      "text/html": [
       "<table class=\"dataframe\">\n",
       "<caption>A tibble: 5 × 22</caption>\n",
       "<thead>\n",
       "\t<tr><th scope=col>ID</th><th scope=col>Group</th><th scope=col>Freezer_Time</th><th scope=col>Female_YN</th><th scope=col>Multiple_DAISY_Baseline</th><th scope=col>S_W</th><th scope=col>NHW_YN</th><th scope=col>dr34_YN</th><th scope=col>FDR_YN</th><th scope=col>Age</th><th scope=col>⋯</th><th scope=col>PC1</th><th scope=col>PC2</th><th scope=col>PC3</th><th scope=col>PC4</th><th scope=col>PC5</th><th scope=col>PC6</th><th scope=col>PC7</th><th scope=col>PC8</th><th scope=col>PC9</th><th scope=col>PC10</th></tr>\n",
       "\t<tr><th scope=col>&lt;chr&gt;</th><th scope=col>&lt;chr&gt;</th><th scope=col>&lt;dbl&gt;</th><th scope=col>&lt;dbl&gt;</th><th scope=col>&lt;dbl&gt;</th><th scope=col>&lt;dbl&gt;</th><th scope=col>&lt;dbl&gt;</th><th scope=col>&lt;dbl&gt;</th><th scope=col>&lt;dbl&gt;</th><th scope=col>&lt;dbl&gt;</th><th scope=col>⋯</th><th scope=col>&lt;dbl&gt;</th><th scope=col>&lt;dbl&gt;</th><th scope=col>&lt;dbl&gt;</th><th scope=col>&lt;dbl&gt;</th><th scope=col>&lt;dbl&gt;</th><th scope=col>&lt;dbl&gt;</th><th scope=col>&lt;dbl&gt;</th><th scope=col>&lt;dbl&gt;</th><th scope=col>&lt;dbl&gt;</th><th scope=col>&lt;dbl&gt;</th></tr>\n",
       "</thead>\n",
       "<tbody>\n",
       "\t<tr><td>00041-0</td><td>Maintainer</td><td>11.6797</td><td>0</td><td>0</td><td>0.7595215</td><td>1</td><td>1</td><td>1</td><td>17.1307</td><td>⋯</td><td>-0.0067</td><td>-0.0068</td><td>0.0137</td><td>-0.0646</td><td> 0.0774</td><td>-0.0040</td><td>-0.0006</td><td>-0.1208</td><td>-0.0602</td><td> 0.0387</td></tr>\n",
       "\t<tr><td>00110-0</td><td>Reverter  </td><td>10.2533</td><td>0</td><td>0</td><td>0.8285043</td><td>1</td><td>0</td><td>1</td><td>16.5147</td><td>⋯</td><td>-0.0241</td><td> 0.0202</td><td>0.0288</td><td>-0.0130</td><td>-0.0043</td><td>-0.0021</td><td> 0.0049</td><td>-0.0195</td><td> 0.0382</td><td>-0.0268</td></tr>\n",
       "\t<tr><td>00139-0</td><td>Reverter  </td><td> 8.0958</td><td>1</td><td>0</td><td>1.2423768</td><td>1</td><td>0</td><td>1</td><td>20.2026</td><td>⋯</td><td>-0.0266</td><td> 0.0165</td><td>0.0110</td><td>-0.0258</td><td>-0.0262</td><td>-0.0255</td><td> 0.0011</td><td>-0.0085</td><td> 0.0179</td><td>-0.0127</td></tr>\n",
       "\t<tr><td>00159-0</td><td>Maintainer</td><td>10.2587</td><td>1</td><td>0</td><td>0.7426269</td><td>1</td><td>0</td><td>1</td><td>15.0664</td><td>⋯</td><td>-0.0212</td><td> 0.0141</td><td>0.0175</td><td> 0.0184</td><td>-0.0315</td><td> 0.0144</td><td>-0.0265</td><td> 0.0290</td><td> 0.0285</td><td>-0.0546</td></tr>\n",
       "\t<tr><td>00174-0</td><td>Progressor</td><td> 4.7420</td><td>0</td><td>0</td><td>1.2078117</td><td>1</td><td>0</td><td>1</td><td>15.7782</td><td>⋯</td><td> 0.0049</td><td> 0.0110</td><td>0.0058</td><td> 0.0759</td><td> 0.0029</td><td>-0.0036</td><td> 0.0014</td><td>-0.0046</td><td>-0.0043</td><td>-0.0068</td></tr>\n",
       "</tbody>\n",
       "</table>\n"
      ],
      "text/latex": [
       "A tibble: 5 × 22\n",
       "\\begin{tabular}{lllllllllllllllllllll}\n",
       " ID & Group & Freezer\\_Time & Female\\_YN & Multiple\\_DAISY\\_Baseline & S\\_W & NHW\\_YN & dr34\\_YN & FDR\\_YN & Age & ⋯ & PC1 & PC2 & PC3 & PC4 & PC5 & PC6 & PC7 & PC8 & PC9 & PC10\\\\\n",
       " <chr> & <chr> & <dbl> & <dbl> & <dbl> & <dbl> & <dbl> & <dbl> & <dbl> & <dbl> & ⋯ & <dbl> & <dbl> & <dbl> & <dbl> & <dbl> & <dbl> & <dbl> & <dbl> & <dbl> & <dbl>\\\\\n",
       "\\hline\n",
       "\t 00041-0 & Maintainer & 11.6797 & 0 & 0 & 0.7595215 & 1 & 1 & 1 & 17.1307 & ⋯ & -0.0067 & -0.0068 & 0.0137 & -0.0646 &  0.0774 & -0.0040 & -0.0006 & -0.1208 & -0.0602 &  0.0387\\\\\n",
       "\t 00110-0 & Reverter   & 10.2533 & 0 & 0 & 0.8285043 & 1 & 0 & 1 & 16.5147 & ⋯ & -0.0241 &  0.0202 & 0.0288 & -0.0130 & -0.0043 & -0.0021 &  0.0049 & -0.0195 &  0.0382 & -0.0268\\\\\n",
       "\t 00139-0 & Reverter   &  8.0958 & 1 & 0 & 1.2423768 & 1 & 0 & 1 & 20.2026 & ⋯ & -0.0266 &  0.0165 & 0.0110 & -0.0258 & -0.0262 & -0.0255 &  0.0011 & -0.0085 &  0.0179 & -0.0127\\\\\n",
       "\t 00159-0 & Maintainer & 10.2587 & 1 & 0 & 0.7426269 & 1 & 0 & 1 & 15.0664 & ⋯ & -0.0212 &  0.0141 & 0.0175 &  0.0184 & -0.0315 &  0.0144 & -0.0265 &  0.0290 &  0.0285 & -0.0546\\\\\n",
       "\t 00174-0 & Progressor &  4.7420 & 0 & 0 & 1.2078117 & 1 & 0 & 1 & 15.7782 & ⋯ &  0.0049 &  0.0110 & 0.0058 &  0.0759 &  0.0029 & -0.0036 &  0.0014 & -0.0046 & -0.0043 & -0.0068\\\\\n",
       "\\end{tabular}\n"
      ],
      "text/markdown": [
       "\n",
       "A tibble: 5 × 22\n",
       "\n",
       "| ID &lt;chr&gt; | Group &lt;chr&gt; | Freezer_Time &lt;dbl&gt; | Female_YN &lt;dbl&gt; | Multiple_DAISY_Baseline &lt;dbl&gt; | S_W &lt;dbl&gt; | NHW_YN &lt;dbl&gt; | dr34_YN &lt;dbl&gt; | FDR_YN &lt;dbl&gt; | Age &lt;dbl&gt; | ⋯ ⋯ | PC1 &lt;dbl&gt; | PC2 &lt;dbl&gt; | PC3 &lt;dbl&gt; | PC4 &lt;dbl&gt; | PC5 &lt;dbl&gt; | PC6 &lt;dbl&gt; | PC7 &lt;dbl&gt; | PC8 &lt;dbl&gt; | PC9 &lt;dbl&gt; | PC10 &lt;dbl&gt; |\n",
       "|---|---|---|---|---|---|---|---|---|---|---|---|---|---|---|---|---|---|---|---|---|\n",
       "| 00041-0 | Maintainer | 11.6797 | 0 | 0 | 0.7595215 | 1 | 1 | 1 | 17.1307 | ⋯ | -0.0067 | -0.0068 | 0.0137 | -0.0646 |  0.0774 | -0.0040 | -0.0006 | -0.1208 | -0.0602 |  0.0387 |\n",
       "| 00110-0 | Reverter   | 10.2533 | 0 | 0 | 0.8285043 | 1 | 0 | 1 | 16.5147 | ⋯ | -0.0241 |  0.0202 | 0.0288 | -0.0130 | -0.0043 | -0.0021 |  0.0049 | -0.0195 |  0.0382 | -0.0268 |\n",
       "| 00139-0 | Reverter   |  8.0958 | 1 | 0 | 1.2423768 | 1 | 0 | 1 | 20.2026 | ⋯ | -0.0266 |  0.0165 | 0.0110 | -0.0258 | -0.0262 | -0.0255 |  0.0011 | -0.0085 |  0.0179 | -0.0127 |\n",
       "| 00159-0 | Maintainer | 10.2587 | 1 | 0 | 0.7426269 | 1 | 0 | 1 | 15.0664 | ⋯ | -0.0212 |  0.0141 | 0.0175 |  0.0184 | -0.0315 |  0.0144 | -0.0265 |  0.0290 |  0.0285 | -0.0546 |\n",
       "| 00174-0 | Progressor |  4.7420 | 0 | 0 | 1.2078117 | 1 | 0 | 1 | 15.7782 | ⋯ |  0.0049 |  0.0110 | 0.0058 |  0.0759 |  0.0029 | -0.0036 |  0.0014 | -0.0046 | -0.0043 | -0.0068 |\n",
       "\n"
      ],
      "text/plain": [
       "  ID      Group      Freezer_Time Female_YN Multiple_DAISY_Baseline S_W      \n",
       "1 00041-0 Maintainer 11.6797      0         0                       0.7595215\n",
       "2 00110-0 Reverter   10.2533      0         0                       0.8285043\n",
       "3 00139-0 Reverter    8.0958      1         0                       1.2423768\n",
       "4 00159-0 Maintainer 10.2587      1         0                       0.7426269\n",
       "5 00174-0 Progressor  4.7420      0         0                       1.2078117\n",
       "  NHW_YN dr34_YN FDR_YN Age     ⋯ PC1     PC2     PC3    PC4     PC5    \n",
       "1 1      1       1      17.1307 ⋯ -0.0067 -0.0068 0.0137 -0.0646  0.0774\n",
       "2 1      0       1      16.5147 ⋯ -0.0241  0.0202 0.0288 -0.0130 -0.0043\n",
       "3 1      0       1      20.2026 ⋯ -0.0266  0.0165 0.0110 -0.0258 -0.0262\n",
       "4 1      0       1      15.0664 ⋯ -0.0212  0.0141 0.0175  0.0184 -0.0315\n",
       "5 1      0       1      15.7782 ⋯  0.0049  0.0110 0.0058  0.0759  0.0029\n",
       "  PC6     PC7     PC8     PC9     PC10   \n",
       "1 -0.0040 -0.0006 -0.1208 -0.0602  0.0387\n",
       "2 -0.0021  0.0049 -0.0195  0.0382 -0.0268\n",
       "3 -0.0255  0.0011 -0.0085  0.0179 -0.0127\n",
       "4  0.0144 -0.0265  0.0290  0.0285 -0.0546\n",
       "5 -0.0036  0.0014 -0.0046 -0.0043 -0.0068"
      ]
     },
     "metadata": {},
     "output_type": "display_data"
    }
   ],
   "source": [
    "# path to rna dataset\n",
    "path_to_rna <- \"/Users/rasolofs/Library/CloudStorage/OneDrive-TheUniversityofColoradoDenver/DAISY RNA Phenoplier\"\n",
    "RNA_pheno <- read_csv(paste0(path_to_rna,\"/DAISY_RNASeq_Phenotype_Deidentified.csv\"), col_types = cols())\n",
    "dim(RNA_pheno)\n",
    "head(RNA_pheno,5)"
   ]
  }
 ],
 "metadata": {
  "kernelspec": {
   "display_name": "R [conda env:T1D_Pheno] *",
   "language": "R",
   "name": "conda-env-T1D_Pheno-r"
  },
  "language_info": {
   "codemirror_mode": "r",
   "file_extension": ".r",
   "mimetype": "text/x-r-source",
   "name": "R",
   "pygments_lexer": "r",
   "version": "4.4.2"
  }
 },
 "nbformat": 4,
 "nbformat_minor": 4
}
